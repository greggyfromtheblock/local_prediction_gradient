{
 "cells": [
  {
   "cell_type": "code",
   "execution_count": 1,
   "metadata": {
    "collapsed": true
   },
   "outputs": [],
   "source": [
    "%load_ext autoreload\n",
    "%autoreload 2"
   ]
  },
  {
   "cell_type": "code",
   "execution_count": 2,
   "outputs": [],
   "source": [
    "import sys\n",
    "sys.path.append('/home/ruyogagp/medical_interpretability')\n",
    "\n",
    "import numpy as np\n",
    "import networkx as nx\n",
    "import matplotlib.pyplot as plt\n",
    "from cga import cga\n",
    "import pandas as pd\n",
    "import neptune.new as neptune\n",
    "import wandb\n",
    "import pytorch_lightning as pl\n",
    "import torch.nn as nn\n",
    "import torch\n",
    "from sklearn.preprocessing import StandardScaler, MinMaxScaler\n",
    "\n",
    "from captum.attr import *\n",
    "from captum.metrics import *\n",
    "from captum._utils.models.linear_model import SkLearnLinearRegression\n",
    "import shap_fork as shap\n",
    "from source.tasks import DeepSurv\n",
    "from source.wrappers import ForwardWrapper"
   ],
   "metadata": {
    "collapsed": false,
    "pycharm": {
     "name": "#%%\n"
    }
   }
  },
  {
   "cell_type": "code",
   "execution_count": 3,
   "outputs": [],
   "source": [
    "results_directory = '/data/analysis/ag-reils/ag-reils-shared/cardioRS/results/interpretability/correlation_case'\n",
    "data_directory = '/data/analysis/ag-reils/ag-reils-shared/cardioRS/data/interpretability/correlation'"
   ],
   "metadata": {
    "collapsed": false,
    "pycharm": {
     "name": "#%%\n"
    }
   }
  },
  {
   "cell_type": "markdown",
   "source": [
    "## Helper Functions"
   ],
   "metadata": {
    "collapsed": false,
    "pycharm": {
     "name": "#%% md\n"
    }
   }
  },
  {
   "cell_type": "code",
   "execution_count": 4,
   "outputs": [],
   "source": [
    "def load_details(name, project='simpsons'):\n",
    "    dirpath = '/data/analysis/ag-reils/ag-reils-shared/cardioRS/data/interpretability/simpson' if project=='simpsons' else '/data/analysis/ag-reils/ag-reils-shared/cardioRS/data/interpretability/correlation'\n",
    "    train = pd.read_csv(f'{dirpath}/{name}_train_details.csv')\n",
    "    valid = pd.read_csv(f'{dirpath}/{name}_valid_details.csv')\n",
    "    return train, valid\n",
    "\n",
    "def df2csv(\n",
    "        df: pd.DataFrame,\n",
    "        name: str,\n",
    "        output_dir: str,\n",
    "):\n",
    "    \"\"\"\n",
    "    Writes csv given a dataframe + name\n",
    "    \"\"\"\n",
    "    train, valid = train_test_split(df, test_size=0.3)\n",
    "    train.to_csv(\n",
    "        f\"{output_dir}/{name}_train_details.csv\",\n",
    "        index=False,\n",
    "    )\n",
    "    valid.to_csv(\n",
    "        f\"{output_dir}/{name}_valid_details.csv\",\n",
    "        index=False,\n",
    "    )\n",
    "\n",
    "    train_df = train.loc[:, ['x_orig', 'y_orig', 'time', 'event']]\n",
    "    valid_df = valid.loc[:, ['x_orig', 'y_orig', 'time', 'event']]\n",
    "    train_df.to_csv(\n",
    "        f\"{output_dir}/{name}_train.csv\",\n",
    "        index=False,\n",
    "    )\n",
    "    valid_df.to_csv(\n",
    "        f\"{output_dir}/{name}_valid.csv\",\n",
    "        index=False,\n",
    "    )"
   ],
   "metadata": {
    "collapsed": false,
    "pycharm": {
     "name": "#%%\n"
    }
   }
  },
  {
   "cell_type": "markdown",
   "source": [
    "## Load from wandb"
   ],
   "metadata": {
    "collapsed": false,
    "pycharm": {
     "name": "#%% md\n"
    }
   }
  },
  {
   "cell_type": "code",
   "execution_count": 14,
   "outputs": [],
   "source": [
    "experiment_id = 'p-0.73'\n",
    "attribute_details = pd.read_csv(f'{data_directory}/{experiment_id}_attribute_details.csv')\n",
    "attribution_names = [\"FeaturePermutation\",\n",
    "                     \"FeatureAblation\",\n",
    "                     \"KernelExplainer\",\n",
    "                     \"DeepExplainer\",\n",
    "                     \"ShapleyValueSampling\",\n",
    "                     \"IntegratedGradients\",\n",
    "                     \"InputxGradient\",\n",
    "                     \"Lime\",\n",
    "                     \"Saliency\"]\n",
    "\n",
    "# get valid runs\n",
    "api = wandb.Api()\n",
    "runs =  api.runs('cardiors/interpretability',\n",
    "                 filters={\"$and\": [{'tags': f'{experiment_id}'}, {'state': 'finished'}]})"
   ],
   "metadata": {
    "collapsed": false,
    "pycharm": {
     "name": "#%%\n"
    }
   }
  },
  {
   "cell_type": "code",
   "execution_count": 12,
   "outputs": [],
   "source": [
    "fa_paths = []\n",
    "#TODO: this is hardcoded\n",
    "for run in runs:\n",
    "    try:\n",
    "        # TODO: this is hardcoded\n",
    "        fa_paths.append(run.config['FeatureAblation_path'])\n",
    "    except:\n",
    "        print(run.experiment_id)"
   ],
   "metadata": {
    "collapsed": false,
    "pycharm": {
     "name": "#%%\n"
    }
   }
  },
  {
   "cell_type": "code",
   "execution_count": 13,
   "outputs": [],
   "source": [
    "fa_path = fa_paths[0]\n",
    "attribution = np.genfromtxt(fa_path, delimiter=',')"
   ],
   "metadata": {
    "collapsed": false,
    "pycharm": {
     "name": "#%%\n"
    }
   }
  },
  {
   "cell_type": "markdown",
   "source": [
    "## Load details"
   ],
   "metadata": {
    "collapsed": false,
    "pycharm": {
     "name": "#%% md\n"
    }
   }
  },
  {
   "cell_type": "code",
   "execution_count": 15,
   "outputs": [],
   "source": [
    "details_df = attribute_details"
   ],
   "metadata": {
    "collapsed": false,
    "pycharm": {
     "name": "#%%\n"
    }
   }
  },
  {
   "cell_type": "code",
   "execution_count": null,
   "outputs": [],
   "source": [],
   "metadata": {
    "collapsed": false,
    "pycharm": {
     "name": "#%%\n"
    }
   }
  },
  {
   "cell_type": "code",
   "execution_count": null,
   "outputs": [],
   "source": [
    "def change_slope(details_df)"
   ],
   "metadata": {
    "collapsed": false,
    "pycharm": {
     "name": "#%%\n"
    }
   }
  }
 ],
 "metadata": {
  "kernelspec": {
   "display_name": "Python 3",
   "language": "python",
   "name": "python3"
  },
  "language_info": {
   "codemirror_mode": {
    "name": "ipython",
    "version": 2
   },
   "file_extension": ".py",
   "mimetype": "text/x-python",
   "name": "python",
   "nbconvert_exporter": "python",
   "pygments_lexer": "ipython2",
   "version": "2.7.6"
  }
 },
 "nbformat": 4,
 "nbformat_minor": 0
}