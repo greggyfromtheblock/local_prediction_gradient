{
 "cells": [
  {
   "cell_type": "code",
   "execution_count": 2,
   "outputs": [],
   "source": [
    "%load_ext autoreload\n",
    "%autoreload 2"
   ],
   "metadata": {
    "collapsed": false,
    "pycharm": {
     "name": "#%%\n"
    }
   }
  },
  {
   "cell_type": "code",
   "execution_count": 6,
   "outputs": [
    {
     "ename": "ModuleNotFoundError",
     "evalue": "No module named 'tasks'",
     "output_type": "error",
     "traceback": [
      "\u001B[0;31m---------------------------------------------------------------------------\u001B[0m",
      "\u001B[0;31mModuleNotFoundError\u001B[0m                       Traceback (most recent call last)",
      "\u001B[0;32m<ipython-input-6-d281945e6434>\u001B[0m in \u001B[0;36m<module>\u001B[0;34m\u001B[0m\n\u001B[0;32m----> 1\u001B[0;31m \u001B[0;32mfrom\u001B[0m \u001B[0mtasks\u001B[0m \u001B[0;32mimport\u001B[0m \u001B[0mDeepSurv\u001B[0m\u001B[0;34m\u001B[0m\u001B[0;34m\u001B[0m\u001B[0m\n\u001B[0m",
      "\u001B[0;31mModuleNotFoundError\u001B[0m: No module named 'tasks'"
     ]
    }
   ],
   "source": [
    "from tasks import DeepSurv"
   ],
   "metadata": {
    "collapsed": false,
    "pycharm": {
     "name": "#%%\n"
    }
   }
  },
  {
   "cell_type": "code",
   "execution_count": 3,
   "metadata": {
    "collapsed": true,
    "pycharm": {
     "name": "#%%\n"
    }
   },
   "outputs": [
    {
     "ename": "ImportError",
     "evalue": "cannot import name '_centered' from 'scipy.signal.signaltools' (/data/analysis/ag-reils/ruyogagp/envs/greg/lib/python3.9/site-packages/scipy/signal/signaltools.py)",
     "output_type": "error",
     "traceback": [
      "\u001B[0;31m---------------------------------------------------------------------------\u001B[0m",
      "\u001B[0;31mImportError\u001B[0m                               Traceback (most recent call last)",
      "\u001B[0;32m<ipython-input-3-71da50cd441b>\u001B[0m in \u001B[0;36m<module>\u001B[0;34m\u001B[0m\n\u001B[1;32m     21\u001B[0m \u001B[0;32mfrom\u001B[0m \u001B[0mtyping\u001B[0m \u001B[0;32mimport\u001B[0m \u001B[0mOptional\u001B[0m\u001B[0;34m,\u001B[0m \u001B[0mCallable\u001B[0m\u001B[0;34m,\u001B[0m \u001B[0mTypeVar\u001B[0m\u001B[0;34m\u001B[0m\u001B[0;34m\u001B[0m\u001B[0m\n\u001B[1;32m     22\u001B[0m \u001B[0;32mfrom\u001B[0m \u001B[0msklearn\u001B[0m\u001B[0;34m.\u001B[0m\u001B[0mpreprocessing\u001B[0m \u001B[0;32mimport\u001B[0m \u001B[0mscale\u001B[0m\u001B[0;34m\u001B[0m\u001B[0;34m\u001B[0m\u001B[0m\n\u001B[0;32m---> 23\u001B[0;31m \u001B[0;32mimport\u001B[0m \u001B[0mstatsmodels\u001B[0m\u001B[0;34m.\u001B[0m\u001B[0mapi\u001B[0m \u001B[0;32mas\u001B[0m \u001B[0mstats\u001B[0m\u001B[0;34m\u001B[0m\u001B[0;34m\u001B[0m\u001B[0m\n\u001B[0m",
      "\u001B[0;32m/data/analysis/ag-reils/ruyogagp/envs/greg/lib/python3.9/site-packages/statsmodels/api.py\u001B[0m in \u001B[0;36m<module>\u001B[0;34m\u001B[0m\n\u001B[1;32m     25\u001B[0m                                    \u001B[0mZeroInflatedGeneralizedPoisson\u001B[0m\u001B[0;34m,\u001B[0m\u001B[0;34m\u001B[0m\u001B[0;34m\u001B[0m\u001B[0m\n\u001B[1;32m     26\u001B[0m                                    ZeroInflatedNegativeBinomialP)\n\u001B[0;32m---> 27\u001B[0;31m \u001B[0;32mfrom\u001B[0m \u001B[0;34m.\u001B[0m\u001B[0mtsa\u001B[0m \u001B[0;32mimport\u001B[0m \u001B[0mapi\u001B[0m \u001B[0;32mas\u001B[0m \u001B[0mtsa\u001B[0m\u001B[0;34m\u001B[0m\u001B[0;34m\u001B[0m\u001B[0m\n\u001B[0m\u001B[1;32m     28\u001B[0m \u001B[0;32mfrom\u001B[0m \u001B[0;34m.\u001B[0m\u001B[0mduration\u001B[0m\u001B[0;34m.\u001B[0m\u001B[0msurvfunc\u001B[0m \u001B[0;32mimport\u001B[0m \u001B[0mSurvfuncRight\u001B[0m\u001B[0;34m\u001B[0m\u001B[0;34m\u001B[0m\u001B[0m\n\u001B[1;32m     29\u001B[0m \u001B[0;32mfrom\u001B[0m \u001B[0;34m.\u001B[0m\u001B[0mduration\u001B[0m\u001B[0;34m.\u001B[0m\u001B[0mhazard_regression\u001B[0m \u001B[0;32mimport\u001B[0m \u001B[0mPHReg\u001B[0m\u001B[0;34m\u001B[0m\u001B[0;34m\u001B[0m\u001B[0m\n",
      "\u001B[0;32m/data/analysis/ag-reils/ruyogagp/envs/greg/lib/python3.9/site-packages/statsmodels/tsa/api.py\u001B[0m in \u001B[0;36m<module>\u001B[0;34m\u001B[0m\n\u001B[1;32m     29\u001B[0m \u001B[0;32mfrom\u001B[0m \u001B[0;34m.\u001B[0m\u001B[0mvector_ar\u001B[0m\u001B[0;34m.\u001B[0m\u001B[0mvecm\u001B[0m \u001B[0;32mimport\u001B[0m \u001B[0mVECM\u001B[0m\u001B[0;34m\u001B[0m\u001B[0;34m\u001B[0m\u001B[0m\n\u001B[1;32m     30\u001B[0m \u001B[0;32mfrom\u001B[0m \u001B[0;34m.\u001B[0m\u001B[0mvector_ar\u001B[0m\u001B[0;34m.\u001B[0m\u001B[0msvar_model\u001B[0m \u001B[0;32mimport\u001B[0m \u001B[0mSVAR\u001B[0m\u001B[0;34m\u001B[0m\u001B[0;34m\u001B[0m\u001B[0m\n\u001B[0;32m---> 31\u001B[0;31m \u001B[0;32mfrom\u001B[0m \u001B[0;34m.\u001B[0m\u001B[0mfilters\u001B[0m \u001B[0;32mimport\u001B[0m \u001B[0mapi\u001B[0m \u001B[0;32mas\u001B[0m \u001B[0mfilters\u001B[0m\u001B[0;34m\u001B[0m\u001B[0;34m\u001B[0m\u001B[0m\n\u001B[0m\u001B[1;32m     32\u001B[0m \u001B[0;32mfrom\u001B[0m \u001B[0;34m.\u001B[0m \u001B[0;32mimport\u001B[0m \u001B[0mtsatools\u001B[0m\u001B[0;34m\u001B[0m\u001B[0;34m\u001B[0m\u001B[0m\n\u001B[1;32m     33\u001B[0m \u001B[0;32mfrom\u001B[0m \u001B[0;34m.\u001B[0m\u001B[0mtsatools\u001B[0m \u001B[0;32mimport\u001B[0m \u001B[0;34m(\u001B[0m\u001B[0madd_trend\u001B[0m\u001B[0;34m,\u001B[0m \u001B[0mdetrend\u001B[0m\u001B[0;34m,\u001B[0m \u001B[0mlagmat\u001B[0m\u001B[0;34m,\u001B[0m \u001B[0mlagmat2ds\u001B[0m\u001B[0;34m,\u001B[0m \u001B[0madd_lag\u001B[0m\u001B[0;34m)\u001B[0m\u001B[0;34m\u001B[0m\u001B[0;34m\u001B[0m\u001B[0m\n",
      "\u001B[0;32m/data/analysis/ag-reils/ruyogagp/envs/greg/lib/python3.9/site-packages/statsmodels/tsa/filters/api.py\u001B[0m in \u001B[0;36m<module>\u001B[0;34m\u001B[0m\n\u001B[1;32m      4\u001B[0m \u001B[0;32mfrom\u001B[0m \u001B[0;34m.\u001B[0m\u001B[0mhp_filter\u001B[0m \u001B[0;32mimport\u001B[0m \u001B[0mhpfilter\u001B[0m\u001B[0;34m\u001B[0m\u001B[0;34m\u001B[0m\u001B[0m\n\u001B[1;32m      5\u001B[0m \u001B[0;32mfrom\u001B[0m \u001B[0;34m.\u001B[0m\u001B[0mcf_filter\u001B[0m \u001B[0;32mimport\u001B[0m \u001B[0mcffilter\u001B[0m\u001B[0;34m\u001B[0m\u001B[0;34m\u001B[0m\u001B[0m\n\u001B[0;32m----> 6\u001B[0;31m \u001B[0;32mfrom\u001B[0m \u001B[0;34m.\u001B[0m\u001B[0mfiltertools\u001B[0m \u001B[0;32mimport\u001B[0m \u001B[0mmiso_lfilter\u001B[0m\u001B[0;34m,\u001B[0m \u001B[0mconvolution_filter\u001B[0m\u001B[0;34m,\u001B[0m \u001B[0mrecursive_filter\u001B[0m\u001B[0;34m\u001B[0m\u001B[0;34m\u001B[0m\u001B[0m\n\u001B[0m",
      "\u001B[0;32m/data/analysis/ag-reils/ruyogagp/envs/greg/lib/python3.9/site-packages/statsmodels/tsa/filters/filtertools.py\u001B[0m in \u001B[0;36m<module>\u001B[0;34m\u001B[0m\n\u001B[1;32m     16\u001B[0m \u001B[0;32mimport\u001B[0m \u001B[0mscipy\u001B[0m\u001B[0;34m.\u001B[0m\u001B[0mfftpack\u001B[0m \u001B[0;32mas\u001B[0m \u001B[0mfft\u001B[0m\u001B[0;34m\u001B[0m\u001B[0;34m\u001B[0m\u001B[0m\n\u001B[1;32m     17\u001B[0m \u001B[0;32mfrom\u001B[0m \u001B[0mscipy\u001B[0m \u001B[0;32mimport\u001B[0m \u001B[0msignal\u001B[0m\u001B[0;34m\u001B[0m\u001B[0;34m\u001B[0m\u001B[0m\n\u001B[0;32m---> 18\u001B[0;31m \u001B[0;32mfrom\u001B[0m \u001B[0mscipy\u001B[0m\u001B[0;34m.\u001B[0m\u001B[0msignal\u001B[0m\u001B[0;34m.\u001B[0m\u001B[0msignaltools\u001B[0m \u001B[0;32mimport\u001B[0m \u001B[0m_centered\u001B[0m \u001B[0;32mas\u001B[0m \u001B[0mtrim_centered\u001B[0m\u001B[0;34m\u001B[0m\u001B[0;34m\u001B[0m\u001B[0m\n\u001B[0m\u001B[1;32m     19\u001B[0m \u001B[0;34m\u001B[0m\u001B[0m\n\u001B[1;32m     20\u001B[0m \u001B[0;32mfrom\u001B[0m \u001B[0mstatsmodels\u001B[0m\u001B[0;34m.\u001B[0m\u001B[0mtools\u001B[0m\u001B[0;34m.\u001B[0m\u001B[0mvalidation\u001B[0m \u001B[0;32mimport\u001B[0m \u001B[0marray_like\u001B[0m\u001B[0;34m,\u001B[0m \u001B[0mPandasWrapper\u001B[0m\u001B[0;34m\u001B[0m\u001B[0;34m\u001B[0m\u001B[0m\n",
      "\u001B[0;31mImportError\u001B[0m: cannot import name '_centered' from 'scipy.signal.signaltools' (/data/analysis/ag-reils/ruyogagp/envs/greg/lib/python3.9/site-packages/scipy/signal/signaltools.py)"
     ]
    }
   ],
   "source": [
    "import sys\n",
    "sys.path.append('/home/ruyogagp/medical_interpretability')\n",
    "import numpy as np\n",
    "from pysurvival.models import BaseModel\n",
    "from pysurvival import utils\n",
    "import scipy\n",
    "import pandas as pandas\n",
    "import copy\n",
    "import random\n",
    "from sklearn.preprocessing import StandardScaler\n",
    "from pysurvival.models.simulations import SimulationModel\n",
    "from lifelines import CoxPHFitter\n",
    "import pandas as pd\n",
    "from sklearn.model_selection import train_test_split\n",
    "import networkx as nx\n",
    "from cga import cga\n",
    "from itertools import cycle\n",
    "import tqdm as tqdm\n",
    "import matplotlib.pyplot as plt\n",
    "import seaborn as sns\n",
    "from typing import Optional, Callable, TypeVar\n",
    "from sklearn.preprocessing import scale\n",
    "import statsmodels.api as stats"
   ]
  },
  {
   "cell_type": "code",
   "execution_count": 4,
   "outputs": [],
   "source": [
    "# Distributions\n",
    "N = 5000\n",
    "\n",
    "distributions = {\n",
    "    'binomial_a': np.random.binomial(n = 20, p = 0.6, size = N ),\n",
    "    'binomial_b': np.random.binomial(n = 200, p = 0.6, size = N ),\n",
    "    'chisquare': np.random.chisquare(df = 10, size = N ),\n",
    "    'exponential_a': np.random.exponential(scale=0.1, size = N ),\n",
    "    'exponential_b': np.random.exponential(scale=0.01, size = N ),\n",
    "    'gamma': np.random.gamma(shape=2., scale=2., size = N ),\n",
    "    'normal_a': np.random.normal(loc=-1.0, scale=5.0, size=N ),\n",
    "    'normal_b': np.random.normal(loc=10.0, scale=10.0, size=N ),\n",
    "    'uniform_a': np.random.uniform(low=-2.0, high=10.0, size=N ),\n",
    "    'uniform_b': np.random.uniform(low=-20.0, high=100.0, size=N ),\n",
    "    'laplace': np.random.laplace(loc=0.0, scale=1.0, size=N )\n",
    "}"
   ],
   "metadata": {
    "collapsed": false,
    "pycharm": {
     "name": "#%%\n"
    }
   }
  },
  {
   "cell_type": "code",
   "execution_count": 5,
   "outputs": [],
   "source": [
    "DATA_DIRECTORY = '/data/analysis/ag-reils/ag-reils-shared/cardioRS/data/interpretability/resample_multiplicities'"
   ],
   "metadata": {
    "collapsed": false,
    "pycharm": {
     "name": "#%%\n"
    }
   }
  },
  {
   "cell_type": "markdown",
   "source": [
    "## Helper Functions"
   ],
   "metadata": {
    "collapsed": false,
    "pycharm": {
     "name": "#%% md\n"
    }
   }
  },
  {
   "cell_type": "code",
   "execution_count": 6,
   "outputs": [],
   "source": [
    "def fit_coxph(df):\n",
    "    cph = CoxPHFitter()\n",
    "    cph.fit(df, 'time', 'event')\n",
    "    print(f'concordance = {cph.concordance_index_}')\n",
    "    return cph\n",
    "\n",
    "def fit_coxph_norm(df):\n",
    "    standard_scaler = StandardScaler()\n",
    "    for col in df.columns:\n",
    "        if col == 'time' or col == 'event':\n",
    "            pass\n",
    "        df[col] = standard_scaler.fit_transform(df[[col]])\n",
    "    cph = CoxPHFitter()\n",
    "    cph.fit(df, 'time', 'event')\n",
    "    cph.print_summary()\n",
    "\n",
    "\n",
    "def save_orig(df, name, output_dir):\n",
    "    train, valid = train_test_split(df, test_size=0.3)\n",
    "    train.to_csv(\n",
    "        f\"{output_dir}/{name}_train.csv\",\n",
    "        index=False,\n",
    "    )\n",
    "    valid.to_csv(\n",
    "        f\"{output_dir}/{name}_valid.csv\",\n",
    "        index=False,\n",
    "    )\n",
    "    print(f\"Saved {output_dir}/{name}_train.csv\")\n",
    "    print(f\"Saved {output_dir}/{name}_valid.csv\")\n",
    "\n",
    "def df2csv(\n",
    "        df: pd.DataFrame,\n",
    "        name: str,\n",
    "        output_dir: str,\n",
    "):\n",
    "    \"\"\"\n",
    "    Writes csv given a dataframe + name\n",
    "    \"\"\"\n",
    "    train, valid = train_test_split(df, test_size=0.3)\n",
    "    train.to_csv(\n",
    "        f\"{output_dir}/{name}_train_details.csv\",\n",
    "        index=False,\n",
    "    )\n",
    "    valid.to_csv(\n",
    "        f\"{output_dir}/{name}_valid_details.csv\",\n",
    "        index=False,\n",
    "    )\n",
    "\n",
    "    train_df = train.loc[:, ['x_orig', 'y_orig', 'time_orig', 'event_orig']]\n",
    "    valid_df = valid.loc[:, ['x_orig', 'y_orig', 'time_orig', 'event_orig']]\n",
    "    train_df.rename(columns=dict(x_orig='x',\n",
    "                                 y_orig='y',\n",
    "                                 time_orig='time',\n",
    "                                 event_orig='event'), inplace=True)\n",
    "\n",
    "    valid_df.rename(columns=dict(x_orig='x',\n",
    "                                 y_orig='y',\n",
    "                                 time_orig='time',\n",
    "                                 event_orig='event'), inplace=True)\n",
    "    train_df.to_csv(\n",
    "        f\"{output_dir}/{name}_train.csv\",\n",
    "        index=False,\n",
    "    )\n",
    "    valid_df.to_csv(\n",
    "        f\"{output_dir}/{name}_valid.csv\",\n",
    "        index=False,\n",
    "    )"
   ],
   "metadata": {
    "collapsed": false,
    "pycharm": {
     "name": "#%%\n"
    }
   }
  },
  {
   "cell_type": "markdown",
   "source": [
    "## Simulation Model with correlations"
   ],
   "metadata": {
    "collapsed": false,
    "pycharm": {
     "name": "#%% md\n"
    }
   }
  },
  {
   "cell_type": "code",
   "execution_count": 7,
   "outputs": [],
   "source": [
    "class SimulationModelWithCorrelations(SimulationModel):\n",
    "    \"\"\"\n",
    "    Subclasses `SimulationModel` to generated data from an predefined\n",
    "    risk factor.\n",
    "    \"\"\"\n",
    "\n",
    "    def generate_data(self,\n",
    "                      df: pd.DataFrame,\n",
    "                      feature_weights: list,\n",
    "                      feature_names: list,\n",
    "                      include_hazard: bool = False\n",
    "                      ):\n",
    "\n",
    "        def risk_function(x_std, feature_weights):\n",
    "            \"\"\" Calculating the risk function based on the given risk type \"\"\"\n",
    "\n",
    "            # Dot product\n",
    "            risk = np.dot(x_std, feature_weights)\n",
    "\n",
    "            # Choosing the type of risk\n",
    "            if self.risk_type.lower() == 'linear' :\n",
    "                return risk.reshape(-1, 1)\n",
    "\n",
    "            elif self.risk_type.lower() == 'square' :\n",
    "                risk = np.square(risk*self.risk_parameter)\n",
    "\n",
    "\n",
    "            elif self.risk_type.lower() == 'gaussian' :\n",
    "                risk = np.square(risk)\n",
    "                risk = np.exp( - risk*self.risk_parameter)\n",
    "\n",
    "            return risk.reshape(-1, 1)\n",
    "\n",
    "        input_data = df.loc[:, feature_names].to_numpy()\n",
    "        self.dataset = copy.deepcopy(df)\n",
    "        num_samples = input_data.shape[0]\n",
    "        X_std = self.scaler.fit_transform(input_data)\n",
    "        print(f'scaled x shape: {X_std.shape}')\n",
    "        BX = risk_function(X_std, feature_weights)\n",
    "\n",
    "        # modify the hazard to have square risk at the 0.2 tail of the distribution\n",
    "        # percentile = np.percentile(BX, [80.0])\n",
    "        # BX = np.where(percentile<BX, np.square(BX), BX)\n",
    "\n",
    "        # Building the survival times\n",
    "        T = self.time_function(BX)\n",
    "        C = np.random.normal(loc=self.censored_parameter, scale=5, size=num_samples)\n",
    "        C = np.maximum(C, 0.0)\n",
    "        time = np.minimum(T, C)\n",
    "        E = 1.0 * (T == time)\n",
    "\n",
    "        # Building dataset\n",
    "        self.dataset = copy.deepcopy(df)\n",
    "        self.dataset['time'] = time\n",
    "        self.dataset['event'] = E\n",
    "        if include_hazard:\n",
    "            self.dataset['hazard'] = BX\n",
    "\n",
    "        # Building the time axis and time buckets\n",
    "        self.times = np.linspace(0.0, max(self.dataset[\"time\"]), self.bins)\n",
    "        self.get_time_buckets()\n",
    "\n",
    "        # Building baseline functions\n",
    "        self.baseline_hazard = self.hazard_function(self.times, 0)\n",
    "        self.baseline_survival = self.survival_function(self.times, 0)\n",
    "\n",
    "        # Printing summary message\n",
    "        message_to_print = \"Number of data-points: {} - Number of events: {}\"\n",
    "        print(message_to_print.format(num_samples, sum(E)))\n",
    "        return self.dataset"
   ],
   "metadata": {
    "collapsed": false,
    "pycharm": {
     "name": "#%%\n"
    }
   }
  },
  {
   "cell_type": "code",
   "execution_count": 8,
   "outputs": [],
   "source": [
    "def rnorm_pre(x: np.ndarray,\n",
    "                          mu: float = 0.0,\n",
    "                          sd: float = 1.0,\n",
    "                          r: float = 0.9,\n",
    "                          empirical: bool = False,\n",
    "                          type: str = 'linear'):\n",
    "    \"\"\"\n",
    "    Creates a random normally distributed array with the specified correlation\n",
    "    :param x: existing array to correlate to\n",
    "    :param rnorm_vector: random normal vector to transform the result to\n",
    "    :param mu: desired mean of the returned array\n",
    "    :param sd: desired stdev of the returned vector\n",
    "    :param r: desired correlation between existing and returned vectors\n",
    "    :param empirical: if true, mu, sd, and r specify the empirical not the population mean\n",
    "    \"\"\"\n",
    "    n = len(x)\n",
    "    # rnorm_vector = x + np.random.normal(loc=0.1, size=n) if type=='linear' else np.square(x)\n",
    "    rnorm_vector = x + np.random.normal(loc=0.1, size=n)\n",
    "    # put this as a node?\n",
    "    if not empirical:\n",
    "        sample_params=sample_from_population(n, mu, sd, r)\n",
    "        mu = sample_params['mu']\n",
    "        sd = sample_params['sd']\n",
    "        r = sample_params['r']\n",
    "\n",
    "    x = scale(x)\n",
    "    e = stats.OLS(rnorm_vector, x).fit().resid\n",
    "    z = r * scale(x) + np.sqrt(1-r**2) * scale(e)\n",
    "    return mu + sd * z"
   ],
   "metadata": {
    "collapsed": false,
    "pycharm": {
     "name": "#%%\n"
    }
   }
  },
  {
   "cell_type": "markdown",
   "source": [
    "### Correlation Case - Distribution nodes"
   ],
   "metadata": {
    "collapsed": false,
    "pycharm": {
     "name": "#%% md\n"
    }
   }
  },
  {
   "cell_type": "code",
   "execution_count": 9,
   "outputs": [],
   "source": [
    "@cga.node\n",
    "def sample_normal_a(noise:float)->float:\n",
    "    \"\"\"\n",
    "    :param n: sample size\n",
    "    :param noise: noise variable\n",
    "    :return: random normal variable\n",
    "    \"\"\"\n",
    "    return np.random.normal(loc=1.0, scale=5.0, size=SIZE) + noise\n",
    "\n",
    "@cga.node\n",
    "def sample_normal_b(noise:float)->float:\n",
    "    \"\"\"\n",
    "    :param n: sample size\n",
    "    :param noise: noise variable\n",
    "    :return: random normal variable\n",
    "    \"\"\"\n",
    "    return np.random.normal(loc=10.0, scale=10.0, size=SIZE) + noise\n",
    "\n",
    "@cga.node\n",
    "def sample_gamma(noise:float)->float:\n",
    "    \"\"\"\n",
    "    :param n: sample size\n",
    "    :param noise: noise variable\n",
    "    :return: random normal variable\n",
    "    \"\"\"\n",
    "    return np.random.gamma(shape=2.0, scale=2.0, size=SIZE) + noise\n",
    "\n",
    "@cga.node\n",
    "def sample_exp(noise:float)->float:\n",
    "    \"\"\"\n",
    "    :param n: sample size\n",
    "    :param noise: noise variable\n",
    "    :return: random normal variable\n",
    "    \"\"\"\n",
    "    return np.random.gamma(scale=0.1, size=SIZE) + noise\n",
    "\n",
    "@cga.node\n",
    "def sample_chisq(noise:float)->float:\n",
    "    \"\"\"\n",
    "    :param n: sample size\n",
    "    :param noise: noise variable\n",
    "    :return: random normal variable\n",
    "    \"\"\"\n",
    "    return np.random.chisquare(df=10, size=SIZE) + noise\n",
    "\n",
    "@cga.node\n",
    "def sample_lognormal(noise:float)->float:\n",
    "    \"\"\"\n",
    "    :param n: sample size\n",
    "    :param noise: noise variable\n",
    "    :return: random normal variable\n",
    "    \"\"\"\n",
    "    return np.random.lognormal(mean=3.0, sigma=1.0, size=SIZE) + noise"
   ],
   "metadata": {
    "collapsed": false,
    "pycharm": {
     "name": "#%%\n"
    }
   }
  },
  {
   "cell_type": "markdown",
   "source": [
    "### Correlation case -  operator nodes"
   ],
   "metadata": {
    "collapsed": false,
    "pycharm": {
     "name": "#%% md\n"
    }
   }
  },
  {
   "cell_type": "code",
   "execution_count": 10,
   "outputs": [],
   "source": [
    "@cga.node\n",
    "def correlation_000(x: float, noise:float) -> float:\n",
    "    \"\"\"\n",
    "    :param x: exisiting data to correlate\n",
    "    :param coeff: correlation coefficient\n",
    "    :param noise: noise variable\n",
    "    :return: variable correlated by coeff to the exisiting variable x\n",
    "    \"\"\"\n",
    "    correlate = rnorm_pre(x,\n",
    "                          mu=np.mean(x),\n",
    "                          sd=np.std(x),\n",
    "                          empirical=True,\n",
    "                          r=0.000)\n",
    "    return correlate + noise\n",
    "\n",
    "@cga.node\n",
    "def correlation_025(x: float, noise:float) -> float:\n",
    "    \"\"\"\n",
    "    :param x: exisiting data to correlate\n",
    "    :param coeff: correlation coefficient\n",
    "    :param noise: noise variable\n",
    "    :return: variable correlated by coeff to the exisiting variable x\n",
    "    \"\"\"\n",
    "    correlate = rnorm_pre(x,\n",
    "                          mu=np.mean(x),\n",
    "                          sd=np.std(x),\n",
    "                          empirical=True,\n",
    "                          r=0.250)\n",
    "    return correlate + noise\n",
    "\n",
    "@cga.node\n",
    "def correlation_050(x: float, noise:float) -> float:\n",
    "    \"\"\"\n",
    "    :param x: exisiting data to correlate\n",
    "    :param coeff: correlation coefficient\n",
    "    :param noise: noise variable\n",
    "    :return: variable correlated by coeff to the exisiting variable x\n",
    "    \"\"\"\n",
    "    correlate = rnorm_pre(x,\n",
    "                          mu=np.mean(x),\n",
    "                          sd=np.std(x),\n",
    "                          empirical=True,\n",
    "                          r=0.500)\n",
    "    return correlate + noise\n",
    "\n",
    "@cga.node\n",
    "def correlation_070(x: float, noise:float) -> float:\n",
    "    \"\"\"\n",
    "    :param x: exisiting data to correlate\n",
    "    :param coeff: correlation coefficient\n",
    "    :param noise: noise variable\n",
    "    :return: variable correlated by coeff to the exisiting variable x\n",
    "    \"\"\"\n",
    "    correlate = rnorm_pre(x,\n",
    "                          mu=np.mean(x),\n",
    "                          sd=np.std(x),\n",
    "                          empirical=True,\n",
    "                          type='exp',\n",
    "                          r=0.700)\n",
    "    return correlate + noise\n",
    "\n",
    "@cga.node\n",
    "def correlation_090(x: float, noise:float) -> float:\n",
    "    \"\"\"\n",
    "    :param x: exisiting data to correlate\n",
    "    :param coeff: correlation coefficient\n",
    "    :param noise: noise variable\n",
    "    :return: variable correlated by coeff to the exisiting variable x\n",
    "    \"\"\"\n",
    "    correlate = rnorm_pre(x,\n",
    "                          mu=np.mean(x),\n",
    "                          sd=np.std(x),\n",
    "                          empirical=True,\n",
    "                          type='exp',\n",
    "                          r=0.900)\n",
    "    return correlate + noise\n",
    "\n",
    "@cga.node\n",
    "def correlation_080(x: float, noise:float) -> float:\n",
    "    \"\"\"\n",
    "    :param x: exisiting data to correlate\n",
    "    :param coeff: correlation coefficient\n",
    "    :param noise: noise variable\n",
    "    :return: variable correlated by coeff to the exisiting variable x\n",
    "    \"\"\"\n",
    "    correlate = rnorm_pre(x,\n",
    "                          mu=np.mean(x),\n",
    "                          sd=np.std(x),\n",
    "                          empirical=True,\n",
    "                          type='exp',\n",
    "                          r=0.800)\n",
    "    return correlate + noise\n",
    "\n",
    "@cga.node\n",
    "def noise(loc: float, scale: float) -> float:\n",
    "    return np.random.normal(loc=loc, scale=scale, size=SIZE)"
   ],
   "metadata": {
    "collapsed": false,
    "pycharm": {
     "name": "#%%\n"
    }
   }
  },
  {
   "cell_type": "markdown",
   "source": [
    "## Generate Data"
   ],
   "metadata": {
    "collapsed": false,
    "pycharm": {
     "name": "#%% md\n"
    }
   }
  },
  {
   "cell_type": "code",
   "source": [
    "class SimulationModelWithCorrelations(SimulationModel):\n",
    "    \"\"\"\n",
    "    Subclasses `SimulationModel` to generated data from an predefined\n",
    "    risk factor.\n",
    "    \"\"\"\n",
    "\n",
    "    def generate_data(self,\n",
    "                      df: pd.DataFrame,\n",
    "                      feature_weights: list,\n",
    "                      feature_names: list,\n",
    "                      include_hazard: bool = False\n",
    "                      ):\n",
    "\n",
    "        def risk_function(x_std, feature_weights):\n",
    "            \"\"\" Calculating the risk function based on the given risk type \"\"\"\n",
    "\n",
    "            # Dot product\n",
    "            risk = np.dot(x_std, feature_weights)\n",
    "\n",
    "            # Choosing the type of risk\n",
    "            if self.risk_type.lower() == 'linear' :\n",
    "                return risk.reshape(-1, 1)\n",
    "\n",
    "            elif self.risk_type.lower() == 'square' :\n",
    "                risk = np.square(risk*self.risk_parameter)\n",
    "\n",
    "            elif self.risk_type.lower() == 'gaussian' :\n",
    "                risk = np.square(risk)\n",
    "                risk = np.exp( - risk*self.risk_parameter)\n",
    "\n",
    "            elif self.risk_type.lower() == 'lognormal':\n",
    "                risk = np.exp(risk)\n",
    "\n",
    "            return risk.reshape(-1, 1)\n",
    "\n",
    "        input_data = df.loc[:, feature_names].to_numpy()\n",
    "        self.dataset = copy.deepcopy(df)\n",
    "        num_samples = input_data.shape[0]\n",
    "        X_std = self.scaler.fit_transform(input_data)\n",
    "        print(f'scaled x shape: {X_std.shape}')\n",
    "        BX = risk_function(X_std, feature_weights)\n",
    "        # BX = np.exp(BX * 0.55)\n",
    "        # modify the hazard to have square risk at the 0.2 tail of the distribution\n",
    "        # percentile = np.percentile(BX, [80.0])\n",
    "        # BX = np.where(percentile<BX, np.square(BX), BX)\n",
    "\n",
    "        # Building the survival times\n",
    "        T = self.time_function(BX)\n",
    "        C = np.random.normal(loc=self.censored_parameter, scale=5, size=num_samples)\n",
    "\n",
    "        C = np.maximum(C, 0.0)\n",
    "        time = np.minimum(T, C)\n",
    "        E = 1.0 * (T == time)\n",
    "\n",
    "        # Building dataset\n",
    "        self.dataset = copy.deepcopy(df)\n",
    "        self.dataset['time'] = time\n",
    "        self.dataset['event'] = E\n",
    "        if include_hazard:\n",
    "            self.dataset['hazard'] = BX\n",
    "\n",
    "        # Building the time axis and time buckets\n",
    "        self.times = np.linspace(0.0, max(self.dataset[\"time\"]), self.bins)\n",
    "        self.get_time_buckets()\n",
    "\n",
    "        # Building baseline functions\n",
    "        self.baseline_hazard = self.hazard_function(self.times, 0)\n",
    "        self.baseline_survival = self.survival_function(self.times, 0)\n",
    "\n",
    "        # Printing summary message\n",
    "        message_to_print = \"Number of data-points: {} - Number of events: {}\"\n",
    "        print(message_to_print.format(num_samples, sum(E)))\n",
    "        return self.dataset, self.baseline_hazard, self.baseline_survival"
   ],
   "metadata": {
    "collapsed": false,
    "pycharm": {
     "name": "#%%\n"
    }
   },
   "execution_count": 18,
   "outputs": []
  },
  {
   "cell_type": "markdown",
   "source": [
    "## Correlation case graph"
   ],
   "metadata": {
    "collapsed": false,
    "pycharm": {
     "name": "#%% md\n"
    }
   }
  },
  {
   "cell_type": "code",
   "execution_count": 19,
   "outputs": [],
   "source": [
    "class CorrelationCaseGraph(cga.Graph):\n",
    "    def __init__(self):\n",
    "        \"\"\"œ\n",
    "        causal graph for correlation case\n",
    "        :param n: number of data points\n",
    "        :param coeff: desired correlation coefficient between the two variables\n",
    "        \"\"\"\n",
    "        # Noise\n",
    "        hidden_noise = cga.node(lambda: np.random.normal(loc=0.01, scale=0.001, size=SIZE))\n",
    "        noise0 = cga.node(lambda: np.random.normal(loc=0.1, scale=0.001, size=SIZE))\n",
    "        noise1 = cga.node(lambda: np.random.normal(loc=0.04, scale=0.001, size=SIZE))\n",
    "        noise2 = cga.node(lambda: np.random.normal(loc=0.33, scale=0.001, size=SIZE))\n",
    "        noise3 = cga.node(lambda: np.random.normal(loc=0.01, scale=0.001, size=SIZE))\n",
    "        noise4 = cga.node(lambda: np.random.normal(loc=0.01, scale=0.001, size=SIZE))\n",
    "        noise5  = cga.node(lambda: np.random.normal(loc=0.01, scale=0.001, size=SIZE))\n",
    "\n",
    "        self.hidden_noise = hidden_noise(name='hidden_noise')\n",
    "        self.noise0 = noise0(name=\"noise0\")\n",
    "        self.noise1 = noise1(name=\"noise1\")\n",
    "        self.noise2 = noise2(name=\"noise2\")\n",
    "        self.noise3 = noise3(name=\"noise3\")\n",
    "        self.noise4 = noise4(name=\"noise4\")\n",
    "        self.noise5 = noise5(name='noise5')\n",
    "\n",
    "        # Features\n",
    "        self.hidden_variable = sample_normal_b(self.hidden_noise, name='hidden_variable')\n",
    "        self.feature0 = sample_normal_a(self.noise0, name='feature0')\n",
    "        self.feature1 = sample_gamma(self.noise1, name='feature1')\n",
    "        self.feature2 = sample_lognormal(self.noise2, name='feature2')\n",
    "        self.feature3 = correlation_090(self.hidden_variable, self.noise3, name='feature3')\n",
    "        self.feature4 = correlation_080(self.hidden_variable, self.noise4, name='feature4')\n",
    "        self.feature5 = correlation_070(self.hidden_variable, self.noise5, name='feature5')\n",
    "        super().__init__([self.hidden_variable, self.feature0, self.feature1, self.feature2, self.feature3, self.feature4, self.feature5])\n",
    "\n",
    "    def get_interventions(self,\n",
    "                          sim: SimulationModelWithCorrelations,\n",
    "                          n_iterations: int,\n",
    "                          feature_weights: list,\n",
    "                          ) -> pd.DataFrame:\n",
    "        data = None\n",
    "        for node in [self.noise0, self.noise1, self.noise2, self.noise3, self.noise4, self.noise5]:\n",
    "            for _ in tqdm.trange(n_iterations, desc=f\"Intervention {node.name}\"):\n",
    "                # resample noise\n",
    "                orig, interventions, *_ = self.sample_do(action=cga.Resample(node), n_samples=100)\n",
    "                row = {'modified_attribute': [node.name] * SIZE}\n",
    "                # add orig + do to the dictionary\n",
    "                row.update({\n",
    "                    n.name + \"_orig\": v\n",
    "                    for n, v in orig.items()\n",
    "                })\n",
    "                for idx, intervention in enumerate(interventions):\n",
    "                    row.update({\n",
    "                        n.name + f\"_intervention{idx}\": v\n",
    "                        for n, v in intervention.items()})\n",
    "\n",
    "                data = row if data == None else data\n",
    "                for key in row.keys():\n",
    "                    row[key] = row[key].tolist() if isinstance(row[key], np.ndarray) else row[key]\n",
    "                    data[key].extend(row[key])\n",
    "        intervention_df = pd.DataFrame(data)\n",
    "\n",
    "        orig_cols = ['feature0_orig', 'feature1_orig', 'feature2_orig', 'feature3_orig', 'feature4_orig', 'feature5_orig']\n",
    "        modified_attributes = [f'noise{i}' for i in range(len(orig_cols))]\n",
    "        orig_df, baseline_hazard, baseline_survival = sim.generate_data(intervention_df, feature_names=orig_cols,\n",
    "                                                                        feature_weights=feature_weights,\n",
    "                                                                        include_hazard=True)\n",
    "\n",
    "        # split by modified attribute, to get the input data for attribution\n",
    "        attribution_dfs = self.slice_dataframe(orig_df, modified_attributes)\n",
    "\n",
    "        intervention_df['hazard_orig'] = orig_df.hazard\n",
    "        intervention_df['event_orig'] = orig_df.event\n",
    "        intervention_df['time_orig'] = orig_df.time\n",
    "\n",
    "        return attribution_dfs, intervention_df\n",
    "\n",
    "    def slice_dataframe(self, orig_df, modified_attributes):\n",
    "        df_list = []\n",
    "        for modified_attribute in modified_attributes:\n",
    "            df = orig_df.loc[orig_df.modified_attribute==modified_attribute]\\\n",
    "                      .loc[:, ['feature0_orig', 'feature1_orig', 'feature2_orig', 'feature3_orig', 'feature4_orig', 'feature5_orig', 'time', 'event']]\\\n",
    "                      .rename(columns=dict(feature0_orig='feature0',\n",
    "                                           feature1_orig='feature1',\n",
    "                                           feature2_orig='feature2',\n",
    "                                           feature3_orig='feature3',\n",
    "                                           feature4_orig='feature4',\n",
    "                                           feature5_orig='feature5'))\n",
    "            df_list.append(df)\n",
    "        return df_list"
   ],
   "metadata": {
    "collapsed": false,
    "pycharm": {
     "name": "#%%\n"
    }
   }
  },
  {
   "cell_type": "markdown",
   "source": [
    "## Sample from Graph"
   ],
   "metadata": {
    "collapsed": false,
    "pycharm": {
     "name": "#%% md\n"
    }
   }
  },
  {
   "cell_type": "code",
   "execution_count": 11,
   "outputs": [],
   "source": [
    "SIZE  = 100"
   ],
   "metadata": {
    "collapsed": false,
    "pycharm": {
     "name": "#%%\n"
    }
   }
  },
  {
   "cell_type": "code",
   "execution_count": 29,
   "outputs": [
    {
     "name": "stderr",
     "output_type": "stream",
     "text": [
      "sampling: 100%|██████████| 1000/1000 [00:04<00:00, 240.22it/s]\n"
     ]
    },
    {
     "name": "stdout",
     "output_type": "stream",
     "text": [
      "scaled x shape: (100100, 5)\n",
      "Number of data-points: 100100 - Number of events: 50518.0\n"
     ]
    },
    {
     "data": {
      "text/plain": "                 hidden_variable  feature0  feature1  feature2  feature3  \\\nhidden_variable         1.000000  0.006207  0.007192  0.002608  0.900959   \nfeature0                0.006207  1.000000  0.002392 -0.000523  0.007784   \nfeature1                0.007192  0.002392  1.000000 -0.001762  0.003208   \nfeature2                0.002608 -0.000523 -0.001762  1.000000  0.003547   \nfeature3                0.900959  0.007784  0.003208  0.003547  1.000000   \nfeature4                0.801918  0.002195  0.007196  0.001199  0.721774   \nfeature5                0.702876  0.002377  0.003612  0.005205  0.633476   \ntime                   -0.171854 -0.045197  0.046337 -0.012908 -0.158372   \nevent                   0.022152  0.002839 -0.010960 -0.001529  0.018686   \nhazard                  0.931780  0.228174 -0.273938  0.055285  0.850834   \n\n                 feature4  feature5      time     event    hazard  \nhidden_variable  0.801918  0.702876 -0.171854  0.022152  0.931780  \nfeature0         0.002195  0.002377 -0.045197  0.002839  0.228174  \nfeature1         0.007196  0.003612  0.046337 -0.010960 -0.273938  \nfeature2         0.001199  0.005205 -0.012908 -0.001529  0.055285  \nfeature3         0.721774  0.633476 -0.158372  0.018686  0.850834  \nfeature4         1.000000  0.563587 -0.138109  0.017886  0.746105  \nfeature5         0.563587  1.000000 -0.121683  0.013926  0.655076  \ntime            -0.138109 -0.121683  1.000000  0.896641 -0.184172  \nevent            0.017886  0.013926  0.896641  1.000000  0.024217  \nhazard           0.746105  0.655076 -0.184172  0.024217  1.000000  ",
      "text/html": "<div>\n<style scoped>\n    .dataframe tbody tr th:only-of-type {\n        vertical-align: middle;\n    }\n\n    .dataframe tbody tr th {\n        vertical-align: top;\n    }\n\n    .dataframe thead th {\n        text-align: right;\n    }\n</style>\n<table border=\"1\" class=\"dataframe\">\n  <thead>\n    <tr style=\"text-align: right;\">\n      <th></th>\n      <th>hidden_variable</th>\n      <th>feature0</th>\n      <th>feature1</th>\n      <th>feature2</th>\n      <th>feature3</th>\n      <th>feature4</th>\n      <th>feature5</th>\n      <th>time</th>\n      <th>event</th>\n      <th>hazard</th>\n    </tr>\n  </thead>\n  <tbody>\n    <tr>\n      <th>hidden_variable</th>\n      <td>1.000000</td>\n      <td>0.006207</td>\n      <td>0.007192</td>\n      <td>0.002608</td>\n      <td>0.900959</td>\n      <td>0.801918</td>\n      <td>0.702876</td>\n      <td>-0.171854</td>\n      <td>0.022152</td>\n      <td>0.931780</td>\n    </tr>\n    <tr>\n      <th>feature0</th>\n      <td>0.006207</td>\n      <td>1.000000</td>\n      <td>0.002392</td>\n      <td>-0.000523</td>\n      <td>0.007784</td>\n      <td>0.002195</td>\n      <td>0.002377</td>\n      <td>-0.045197</td>\n      <td>0.002839</td>\n      <td>0.228174</td>\n    </tr>\n    <tr>\n      <th>feature1</th>\n      <td>0.007192</td>\n      <td>0.002392</td>\n      <td>1.000000</td>\n      <td>-0.001762</td>\n      <td>0.003208</td>\n      <td>0.007196</td>\n      <td>0.003612</td>\n      <td>0.046337</td>\n      <td>-0.010960</td>\n      <td>-0.273938</td>\n    </tr>\n    <tr>\n      <th>feature2</th>\n      <td>0.002608</td>\n      <td>-0.000523</td>\n      <td>-0.001762</td>\n      <td>1.000000</td>\n      <td>0.003547</td>\n      <td>0.001199</td>\n      <td>0.005205</td>\n      <td>-0.012908</td>\n      <td>-0.001529</td>\n      <td>0.055285</td>\n    </tr>\n    <tr>\n      <th>feature3</th>\n      <td>0.900959</td>\n      <td>0.007784</td>\n      <td>0.003208</td>\n      <td>0.003547</td>\n      <td>1.000000</td>\n      <td>0.721774</td>\n      <td>0.633476</td>\n      <td>-0.158372</td>\n      <td>0.018686</td>\n      <td>0.850834</td>\n    </tr>\n    <tr>\n      <th>feature4</th>\n      <td>0.801918</td>\n      <td>0.002195</td>\n      <td>0.007196</td>\n      <td>0.001199</td>\n      <td>0.721774</td>\n      <td>1.000000</td>\n      <td>0.563587</td>\n      <td>-0.138109</td>\n      <td>0.017886</td>\n      <td>0.746105</td>\n    </tr>\n    <tr>\n      <th>feature5</th>\n      <td>0.702876</td>\n      <td>0.002377</td>\n      <td>0.003612</td>\n      <td>0.005205</td>\n      <td>0.633476</td>\n      <td>0.563587</td>\n      <td>1.000000</td>\n      <td>-0.121683</td>\n      <td>0.013926</td>\n      <td>0.655076</td>\n    </tr>\n    <tr>\n      <th>time</th>\n      <td>-0.171854</td>\n      <td>-0.045197</td>\n      <td>0.046337</td>\n      <td>-0.012908</td>\n      <td>-0.158372</td>\n      <td>-0.138109</td>\n      <td>-0.121683</td>\n      <td>1.000000</td>\n      <td>0.896641</td>\n      <td>-0.184172</td>\n    </tr>\n    <tr>\n      <th>event</th>\n      <td>0.022152</td>\n      <td>0.002839</td>\n      <td>-0.010960</td>\n      <td>-0.001529</td>\n      <td>0.018686</td>\n      <td>0.017886</td>\n      <td>0.013926</td>\n      <td>0.896641</td>\n      <td>1.000000</td>\n      <td>0.024217</td>\n    </tr>\n    <tr>\n      <th>hazard</th>\n      <td>0.931780</td>\n      <td>0.228174</td>\n      <td>-0.273938</td>\n      <td>0.055285</td>\n      <td>0.850834</td>\n      <td>0.746105</td>\n      <td>0.655076</td>\n      <td>-0.184172</td>\n      <td>0.024217</td>\n      <td>1.000000</td>\n    </tr>\n  </tbody>\n</table>\n</div>"
     },
     "execution_count": 29,
     "metadata": {},
     "output_type": "execute_result"
    }
   ],
   "source": [
    "# Sample features\n",
    "data = None\n",
    "correlation_graph = CorrelationCaseGraph()\n",
    "for _ in tqdm.trange(1000, desc='sampling'):\n",
    "    result = correlation_graph.sample()\n",
    "    data = result if data is None else data\n",
    "    for key in result.keys():\n",
    "        result[key] = result[key].tolist() if isinstance(result[key], np.ndarray) else result[key]\n",
    "        data[key].extend(result[key])\n",
    "del data[correlation_graph.noise0]\n",
    "del data[correlation_graph.noise1]\n",
    "del data[correlation_graph.noise2]\n",
    "del data[correlation_graph.noise3]\n",
    "del data[correlation_graph.noise4]\n",
    "del data[correlation_graph.noise5]\n",
    "del data[correlation_graph.hidden_noise]\n",
    "\n",
    "# Generate data\n",
    "training_features = pd.DataFrame(data)\n",
    "sim = SimulationModelWithCorrelations(risk_type='linear', alpha=1.0, beta=10.0,\n",
    "                                      censored_parameter=1.0, survival_distribution='weibull',\n",
    "                                      risk_parameter=1.4)\n",
    "feature_weights = [np.log(5), np.log(1.5), np.log(0.6), np.log(1.1), np.log(1.1)]\n",
    "feature_names = [correlation_graph.hidden_variable, correlation_graph.feature0, correlation_graph.feature1, correlation_graph.feature2, correlation_graph.feature3]\n",
    "training_df, hazard, survival = sim.generate_data(training_features, feature_weights=feature_weights, feature_names=feature_names, include_hazard=True)\n",
    "\n",
    "# Check correlations\n",
    "training_df.corr()"
   ],
   "metadata": {
    "collapsed": false,
    "pycharm": {
     "name": "#%%\n"
    }
   }
  },
  {
   "cell_type": "markdown",
   "source": [
    "## Create train/valid splits"
   ],
   "metadata": {
    "collapsed": false,
    "pycharm": {
     "name": "#%% md\n"
    }
   }
  },
  {
   "cell_type": "code",
   "execution_count": 30,
   "outputs": [
    {
     "name": "stdout",
     "output_type": "stream",
     "text": [
      "Saved /data/analysis/ag-reils/ag-reils-shared/cardioRS/data/interpretability/resample_multiplicities/linear_revised_master_train.csv\n",
      "Saved /data/analysis/ag-reils/ag-reils-shared/cardioRS/data/interpretability/resample_multiplicities/linear_revised_master_valid.csv\n",
      "Saved /data/analysis/ag-reils/ag-reils-shared/cardioRS/data/interpretability/resample_multiplicities/linear_revised_3_train.csv\n",
      "Saved /data/analysis/ag-reils/ag-reils-shared/cardioRS/data/interpretability/resample_multiplicities/linear_revised_3_valid.csv\n",
      "Saved /data/analysis/ag-reils/ag-reils-shared/cardioRS/data/interpretability/resample_multiplicities/linear_revised_2_train.csv\n",
      "Saved /data/analysis/ag-reils/ag-reils-shared/cardioRS/data/interpretability/resample_multiplicities/linear_revised_2_valid.csv\n",
      "Saved /data/analysis/ag-reils/ag-reils-shared/cardioRS/data/interpretability/resample_multiplicities/linear_revised_1_train.csv\n",
      "Saved /data/analysis/ag-reils/ag-reils-shared/cardioRS/data/interpretability/resample_multiplicities/linear_revised_1_valid.csv\n"
     ]
    }
   ],
   "source": [
    "name = 'linear_revised'\n",
    "directory = '/data/analysis/ag-reils/ag-reils-shared/cardioRS/data/interpretability/resample_multiplicities'\n",
    "save_orig(training_df, name=f'{name}_master', output_dir=directory)\n",
    "del training_df['hazard']\n",
    "del training_df[correlation_graph.hidden_variable]\n",
    "save_orig(training_df, name=f'{name}_3', output_dir=directory)\n",
    "del training_df[correlation_graph.feature5]\n",
    "save_orig(training_df, name=f'{name}_2', output_dir=directory)\n",
    "del training_df[correlation_graph.feature4]\n",
    "save_orig(training_df, name=f'{name}_1', output_dir=directory)"
   ],
   "metadata": {
    "collapsed": false,
    "pycharm": {
     "name": "#%%\n"
    }
   }
  },
  {
   "cell_type": "code",
   "execution_count": 16,
   "outputs": [
    {
     "data": {
      "text/plain": "'\\n1. Simulate 4 independent features (min 2) -> Including one hidden variable\\n2. Get hazards for the time function\\n3. Correlate to the hidden variable, create as many as i want\\n4. Add this\\n'"
     },
     "execution_count": 16,
     "metadata": {},
     "output_type": "execute_result"
    }
   ],
   "source": [
    "\"\"\"\n",
    "1. Simulate 4 independent features (min 2) -> Including one hidden variable\n",
    "2. Get hazards for the time function\n",
    "3. Correlate to the hidden variable, create as many as i want\n",
    "4. Add this\n",
    "\"\"\""
   ],
   "metadata": {
    "collapsed": false,
    "pycharm": {
     "name": "#%%\n"
    }
   }
  },
  {
   "cell_type": "markdown",
   "source": [
    "## Resample Features"
   ],
   "metadata": {
    "collapsed": false,
    "pycharm": {
     "name": "#%% md\n"
    }
   }
  },
  {
   "cell_type": "code",
   "execution_count": 37,
   "outputs": [
    {
     "name": "stderr",
     "output_type": "stream",
     "text": [
      "Intervention noise0: 100%|██████████| 50/50 [00:01<00:00, 44.71it/s]\n",
      "Intervention noise1: 100%|██████████| 50/50 [00:01<00:00, 49.67it/s]\n",
      "Intervention noise2: 100%|██████████| 50/50 [00:00<00:00, 56.93it/s]\n",
      "Intervention noise3: 100%|██████████| 50/50 [00:07<00:00,  6.53it/s]\n",
      "Intervention noise4: 100%|██████████| 50/50 [00:07<00:00,  6.76it/s]\n",
      "Intervention noise5: 100%|██████████| 50/50 [00:07<00:00,  7.07it/s]\n"
     ]
    },
    {
     "name": "stdout",
     "output_type": "stream",
     "text": [
      "scaled x shape: (30100, 6)\n",
      "Number of data-points: 30100 - Number of events: 15080.0\n"
     ]
    }
   ],
   "source": [
    "attribution_dfs, intervention_details = correlation_graph.get_interventions(sim=sim, n_iterations=50, feature_weights=feature_weights + [2])"
   ],
   "metadata": {
    "collapsed": false,
    "pycharm": {
     "name": "#%%\n"
    }
   }
  },
  {
   "cell_type": "code",
   "execution_count": 38,
   "outputs": [],
   "source": [
    "experiment_id = f'{name}_3'\n",
    "for idx, df in enumerate(attribution_dfs):\n",
    "    df.to_csv(f'{directory}/{experiment_id}_attribute_feature{idx}.csv', index=False)\n",
    "intervention_details.to_csv(f'{directory}/{experiment_id}_attribute_details.csv', index=False)"
   ],
   "metadata": {
    "collapsed": false,
    "pycharm": {
     "name": "#%%\n"
    }
   }
  },
  {
   "cell_type": "code",
   "execution_count": 39,
   "outputs": [],
   "source": [
    "experiment_id = f'{name}_2'\n",
    "for idx, df in enumerate(attribution_dfs):\n",
    "    del df['feature5']\n",
    "    df.to_csv(f'{directory}/{experiment_id}_attribute_feature{idx}.csv', index=False)"
   ],
   "metadata": {
    "collapsed": false,
    "pycharm": {
     "name": "#%%\n"
    }
   }
  },
  {
   "cell_type": "code",
   "execution_count": 40,
   "outputs": [],
   "source": [
    "experiment_id = f'{name}_1'\n",
    "for idx, df in enumerate(attribution_dfs):\n",
    "    del df['feature4']\n",
    "    df.to_csv(f'{directory}/{experiment_id}_attribute_feature{idx}.csv', index=False)"
   ],
   "metadata": {
    "collapsed": false,
    "pycharm": {
     "name": "#%%\n"
    }
   }
  },
  {
   "cell_type": "code",
   "execution_count": 76,
   "outputs": [
    {
     "data": {
      "text/plain": "'/data/analysis/ag-reils/ag-reils-shared/cardioRS/data/interpretability/resample_multiplicities/simpsons_cc_attribute_feature5.csv'"
     },
     "execution_count": 76,
     "metadata": {},
     "output_type": "execute_result"
    }
   ],
   "source": [
    "f'{directory}/{experiment_id}_attribute_feature{idx}.csv'"
   ],
   "metadata": {
    "collapsed": false,
    "pycharm": {
     "name": "#%%\n"
    }
   }
  },
  {
   "cell_type": "code",
   "execution_count": 24,
   "outputs": [
    {
     "data": {
      "text/plain": "      modified_attribute  hidden_noise_orig  hidden_variable_orig  \\\n0                 noise0           0.017653             15.170813   \n1                 noise0           0.003746             33.160414   \n2                 noise0           0.011308             -0.482314   \n3                 noise0           0.004596             10.186954   \n4                 noise0          -0.018512             19.295038   \n...                  ...                ...                   ...   \n30095             noise5          -0.007962             19.542572   \n30096             noise5           0.012465             20.421069   \n30097             noise5          -0.000863              3.068828   \n30098             noise5          -0.008722             18.197236   \n30099             noise5           0.001352             12.531398   \n\n       noise0_orig  feature0_orig  noise1_orig  feature1_orig  noise2_orig  \\\n0         0.011412      -5.754580     0.007154       2.783774    -0.003790   \n1        -0.010304      -0.704998    -0.002038      13.115363     0.007668   \n2         0.015938      -3.644598     0.000776       7.047436     0.003100   \n3        -0.001307      -0.089773     0.002534      14.878691     0.002229   \n4        -0.003135      -0.001321    -0.001156       1.862547     0.012500   \n...            ...            ...          ...            ...          ...   \n30095     0.008811       7.215381     0.000364       4.742604     0.009107   \n30096    -0.001468      -9.168749     0.011004       5.229583    -0.009520   \n30097     0.009862      -2.223355    -0.011269       2.869682    -0.000093   \n30098     0.018369       7.297602    -0.004952       1.461313     0.002524   \n30099    -0.012916      -8.412938     0.008139       1.207905     0.003157   \n\n       feature2_orig  noise3_orig  ...  feature2_intervention99  \\\n0          28.125882     0.005072  ...                28.125882   \n1          19.196534    -0.009310  ...                19.196534   \n2          28.492065     0.009895  ...                28.492065   \n3          65.577781    -0.000330  ...                65.577781   \n4          11.059373     0.002759  ...                11.059373   \n...              ...          ...  ...                      ...   \n30095      20.812874    -0.009933  ...                20.812874   \n30096      22.611479    -0.013790  ...                22.611479   \n30097      62.228436    -0.007349  ...                62.228436   \n30098       8.249011    -0.001455  ...                 8.249011   \n30099      10.287545     0.025200  ...                10.287545   \n\n       noise3_intervention99  feature3_intervention99  noise4_intervention99  \\\n0                   0.005072                10.572549               0.006910   \n1                  -0.009310                39.078987              -0.000049   \n2                   0.009895                 4.519744               0.007404   \n3                  -0.000330                 7.504822              -0.006591   \n4                   0.002759                16.062726               0.001777   \n...                      ...                      ...                    ...   \n30095              -0.009933                18.853302              -0.006773   \n30096              -0.013790                17.161507               0.011066   \n30097              -0.007349                 4.285997               0.005296   \n30098              -0.001455                16.865053               0.008268   \n30099               0.025200                 6.557108               0.012283   \n\n       feature4_intervention99  noise5_intervention99  \\\n0                    11.401268               0.008446   \n1                    30.452957              -0.004090   \n2                    15.645039               0.001762   \n3                     5.436543               0.000304   \n4                    27.328293              -0.001029   \n...                        ...                    ...   \n30095                 8.585719              -0.013457   \n30096                12.387845               0.000368   \n30097                -5.023684               0.000035   \n30098                21.020876              -0.011333   \n30099                14.451487              -0.005571   \n\n       feature5_intervention99  hazard_orig  event_orig  time_orig  \n0                    21.563360    -1.300986         1.0   1.089189  \n1                    40.251068     2.325772         1.0   0.720420  \n2                    -3.974598    -0.366263         1.0   1.006227  \n3                     8.672189     1.356092         0.0   0.000000  \n4                    22.382198     0.578517         1.0   0.907931  \n...                        ...          ...         ...        ...  \n30095                10.977047     2.693682         0.0   0.000000  \n30096                22.085092    -1.764510         0.0   0.000000  \n30097                10.863646    -1.058377         0.0   0.902313  \n30098                17.230074     2.520339         0.0   0.000000  \n30099                19.307343    -2.118122         0.0   0.000000  \n\n[30100 rows x 1418 columns]",
      "text/html": "<div>\n<style scoped>\n    .dataframe tbody tr th:only-of-type {\n        vertical-align: middle;\n    }\n\n    .dataframe tbody tr th {\n        vertical-align: top;\n    }\n\n    .dataframe thead th {\n        text-align: right;\n    }\n</style>\n<table border=\"1\" class=\"dataframe\">\n  <thead>\n    <tr style=\"text-align: right;\">\n      <th></th>\n      <th>modified_attribute</th>\n      <th>hidden_noise_orig</th>\n      <th>hidden_variable_orig</th>\n      <th>noise0_orig</th>\n      <th>feature0_orig</th>\n      <th>noise1_orig</th>\n      <th>feature1_orig</th>\n      <th>noise2_orig</th>\n      <th>feature2_orig</th>\n      <th>noise3_orig</th>\n      <th>...</th>\n      <th>feature2_intervention99</th>\n      <th>noise3_intervention99</th>\n      <th>feature3_intervention99</th>\n      <th>noise4_intervention99</th>\n      <th>feature4_intervention99</th>\n      <th>noise5_intervention99</th>\n      <th>feature5_intervention99</th>\n      <th>hazard_orig</th>\n      <th>event_orig</th>\n      <th>time_orig</th>\n    </tr>\n  </thead>\n  <tbody>\n    <tr>\n      <th>0</th>\n      <td>noise0</td>\n      <td>0.017653</td>\n      <td>15.170813</td>\n      <td>0.011412</td>\n      <td>-5.754580</td>\n      <td>0.007154</td>\n      <td>2.783774</td>\n      <td>-0.003790</td>\n      <td>28.125882</td>\n      <td>0.005072</td>\n      <td>...</td>\n      <td>28.125882</td>\n      <td>0.005072</td>\n      <td>10.572549</td>\n      <td>0.006910</td>\n      <td>11.401268</td>\n      <td>0.008446</td>\n      <td>21.563360</td>\n      <td>-1.300986</td>\n      <td>1.0</td>\n      <td>1.089189</td>\n    </tr>\n    <tr>\n      <th>1</th>\n      <td>noise0</td>\n      <td>0.003746</td>\n      <td>33.160414</td>\n      <td>-0.010304</td>\n      <td>-0.704998</td>\n      <td>-0.002038</td>\n      <td>13.115363</td>\n      <td>0.007668</td>\n      <td>19.196534</td>\n      <td>-0.009310</td>\n      <td>...</td>\n      <td>19.196534</td>\n      <td>-0.009310</td>\n      <td>39.078987</td>\n      <td>-0.000049</td>\n      <td>30.452957</td>\n      <td>-0.004090</td>\n      <td>40.251068</td>\n      <td>2.325772</td>\n      <td>1.0</td>\n      <td>0.720420</td>\n    </tr>\n    <tr>\n      <th>2</th>\n      <td>noise0</td>\n      <td>0.011308</td>\n      <td>-0.482314</td>\n      <td>0.015938</td>\n      <td>-3.644598</td>\n      <td>0.000776</td>\n      <td>7.047436</td>\n      <td>0.003100</td>\n      <td>28.492065</td>\n      <td>0.009895</td>\n      <td>...</td>\n      <td>28.492065</td>\n      <td>0.009895</td>\n      <td>4.519744</td>\n      <td>0.007404</td>\n      <td>15.645039</td>\n      <td>0.001762</td>\n      <td>-3.974598</td>\n      <td>-0.366263</td>\n      <td>1.0</td>\n      <td>1.006227</td>\n    </tr>\n    <tr>\n      <th>3</th>\n      <td>noise0</td>\n      <td>0.004596</td>\n      <td>10.186954</td>\n      <td>-0.001307</td>\n      <td>-0.089773</td>\n      <td>0.002534</td>\n      <td>14.878691</td>\n      <td>0.002229</td>\n      <td>65.577781</td>\n      <td>-0.000330</td>\n      <td>...</td>\n      <td>65.577781</td>\n      <td>-0.000330</td>\n      <td>7.504822</td>\n      <td>-0.006591</td>\n      <td>5.436543</td>\n      <td>0.000304</td>\n      <td>8.672189</td>\n      <td>1.356092</td>\n      <td>0.0</td>\n      <td>0.000000</td>\n    </tr>\n    <tr>\n      <th>4</th>\n      <td>noise0</td>\n      <td>-0.018512</td>\n      <td>19.295038</td>\n      <td>-0.003135</td>\n      <td>-0.001321</td>\n      <td>-0.001156</td>\n      <td>1.862547</td>\n      <td>0.012500</td>\n      <td>11.059373</td>\n      <td>0.002759</td>\n      <td>...</td>\n      <td>11.059373</td>\n      <td>0.002759</td>\n      <td>16.062726</td>\n      <td>0.001777</td>\n      <td>27.328293</td>\n      <td>-0.001029</td>\n      <td>22.382198</td>\n      <td>0.578517</td>\n      <td>1.0</td>\n      <td>0.907931</td>\n    </tr>\n    <tr>\n      <th>...</th>\n      <td>...</td>\n      <td>...</td>\n      <td>...</td>\n      <td>...</td>\n      <td>...</td>\n      <td>...</td>\n      <td>...</td>\n      <td>...</td>\n      <td>...</td>\n      <td>...</td>\n      <td>...</td>\n      <td>...</td>\n      <td>...</td>\n      <td>...</td>\n      <td>...</td>\n      <td>...</td>\n      <td>...</td>\n      <td>...</td>\n      <td>...</td>\n      <td>...</td>\n      <td>...</td>\n    </tr>\n    <tr>\n      <th>30095</th>\n      <td>noise5</td>\n      <td>-0.007962</td>\n      <td>19.542572</td>\n      <td>0.008811</td>\n      <td>7.215381</td>\n      <td>0.000364</td>\n      <td>4.742604</td>\n      <td>0.009107</td>\n      <td>20.812874</td>\n      <td>-0.009933</td>\n      <td>...</td>\n      <td>20.812874</td>\n      <td>-0.009933</td>\n      <td>18.853302</td>\n      <td>-0.006773</td>\n      <td>8.585719</td>\n      <td>-0.013457</td>\n      <td>10.977047</td>\n      <td>2.693682</td>\n      <td>0.0</td>\n      <td>0.000000</td>\n    </tr>\n    <tr>\n      <th>30096</th>\n      <td>noise5</td>\n      <td>0.012465</td>\n      <td>20.421069</td>\n      <td>-0.001468</td>\n      <td>-9.168749</td>\n      <td>0.011004</td>\n      <td>5.229583</td>\n      <td>-0.009520</td>\n      <td>22.611479</td>\n      <td>-0.013790</td>\n      <td>...</td>\n      <td>22.611479</td>\n      <td>-0.013790</td>\n      <td>17.161507</td>\n      <td>0.011066</td>\n      <td>12.387845</td>\n      <td>0.000368</td>\n      <td>22.085092</td>\n      <td>-1.764510</td>\n      <td>0.0</td>\n      <td>0.000000</td>\n    </tr>\n    <tr>\n      <th>30097</th>\n      <td>noise5</td>\n      <td>-0.000863</td>\n      <td>3.068828</td>\n      <td>0.009862</td>\n      <td>-2.223355</td>\n      <td>-0.011269</td>\n      <td>2.869682</td>\n      <td>-0.000093</td>\n      <td>62.228436</td>\n      <td>-0.007349</td>\n      <td>...</td>\n      <td>62.228436</td>\n      <td>-0.007349</td>\n      <td>4.285997</td>\n      <td>0.005296</td>\n      <td>-5.023684</td>\n      <td>0.000035</td>\n      <td>10.863646</td>\n      <td>-1.058377</td>\n      <td>0.0</td>\n      <td>0.902313</td>\n    </tr>\n    <tr>\n      <th>30098</th>\n      <td>noise5</td>\n      <td>-0.008722</td>\n      <td>18.197236</td>\n      <td>0.018369</td>\n      <td>7.297602</td>\n      <td>-0.004952</td>\n      <td>1.461313</td>\n      <td>0.002524</td>\n      <td>8.249011</td>\n      <td>-0.001455</td>\n      <td>...</td>\n      <td>8.249011</td>\n      <td>-0.001455</td>\n      <td>16.865053</td>\n      <td>0.008268</td>\n      <td>21.020876</td>\n      <td>-0.011333</td>\n      <td>17.230074</td>\n      <td>2.520339</td>\n      <td>0.0</td>\n      <td>0.000000</td>\n    </tr>\n    <tr>\n      <th>30099</th>\n      <td>noise5</td>\n      <td>0.001352</td>\n      <td>12.531398</td>\n      <td>-0.012916</td>\n      <td>-8.412938</td>\n      <td>0.008139</td>\n      <td>1.207905</td>\n      <td>0.003157</td>\n      <td>10.287545</td>\n      <td>0.025200</td>\n      <td>...</td>\n      <td>10.287545</td>\n      <td>0.025200</td>\n      <td>6.557108</td>\n      <td>0.012283</td>\n      <td>14.451487</td>\n      <td>-0.005571</td>\n      <td>19.307343</td>\n      <td>-2.118122</td>\n      <td>0.0</td>\n      <td>0.000000</td>\n    </tr>\n  </tbody>\n</table>\n<p>30100 rows × 1418 columns</p>\n</div>"
     },
     "execution_count": 23,
     "metadata": {},
     "output_type": "execute_result"
    }
   ],
   "source": [
    "directory = '/data/analysis/ag-reils/ag-reils-shared/cardioRS/data/interpretability/resample_multiplicities'\n",
    "experiment_id = 'linear_cc_3'\n",
    "df = pd.read_csv(f'{directory}/{experiment_id}_attribute_details.csv')"
   ],
   "metadata": {
    "collapsed": false,
    "pycharm": {
     "name": "#%%\n"
    }
   }
  },
  {
   "cell_type": "code",
   "execution_count": 26,
   "outputs": [
    {
     "data": {
      "text/plain": "      modified_attribute  hidden_noise_orig  hidden_variable_orig  \\\n0                 noise0          -0.000219             -4.018845   \n1                 noise0          -0.000437             13.183602   \n2                 noise0          -0.000535              8.438535   \n3                 noise0          -0.001206              0.966526   \n4                 noise0           0.000698              0.737595   \n...                  ...                ...                   ...   \n45095             noise5          -0.000336             13.373477   \n45096             noise5          -0.000176             20.360259   \n45097             noise5           0.001384              8.740631   \n45098             noise5          -0.001746             13.917737   \n45099             noise5          -0.000836              3.464635   \n\n       noise0_orig  feature0_orig  noise1_orig  feature1_orig  noise2_orig  \\\n0        -0.000925       0.459769     0.000375       2.054263     0.003606   \n1         0.000989      -2.590031    -0.000759       1.786070    -0.000976   \n2         0.000303       3.815417     0.001004       3.314821     0.000437   \n3        -0.001330      -0.943972    -0.000638       8.209676     0.000907   \n4        -0.000514       7.110782    -0.000124       8.750213     0.000147   \n...            ...            ...          ...            ...          ...   \n45095    -0.000086      -7.227700     0.000242       1.672485     0.000285   \n45096    -0.000621       0.072992    -0.000172       4.230753     0.000590   \n45097     0.001081       1.579198     0.000072       2.607460    -0.000243   \n45098     0.000302       4.645683    -0.000082       3.522157     0.001566   \n45099     0.001362      -4.155636     0.000322       4.520724    -0.000608   \n\n       feature2_orig  noise3_orig  ...  feature2_intervention99  \\\n0          21.707499    -0.001552  ...                21.707499   \n1           5.666156    -0.000554  ...                 5.666156   \n2          15.254534    -0.001409  ...                15.254534   \n3          15.595776    -0.001476  ...                15.595776   \n4          53.600089    -0.002628  ...                53.600089   \n...              ...          ...  ...                      ...   \n45095       7.455531     0.002157  ...                 7.455531   \n45096      14.575677     0.000971  ...                14.575677   \n45097      11.265121    -0.002064  ...                11.265121   \n45098      47.619676    -0.000359  ...                47.619676   \n45099      17.688396    -0.001631  ...                17.688396   \n\n       noise3_intervention99  feature3_intervention99  noise4_intervention99  \\\n0                  -0.001552                -2.582836              -0.000640   \n1                  -0.000554                 0.982396              -0.000282   \n2                  -0.001409                 9.005955               0.000670   \n3                  -0.001476                -3.042351               0.000415   \n4                  -0.002628                 2.566127               0.002250   \n...                      ...                      ...                    ...   \n45095               0.002157                24.168466              -0.000116   \n45096               0.000971                20.452487               0.002019   \n45097              -0.002064                 5.345933               0.000113   \n45098              -0.000359                10.531926               0.001835   \n45099              -0.001631                 3.282931              -0.000141   \n\n       feature4_intervention99  noise5_intervention99  \\\n0                     8.397453              -0.001252   \n1                    14.980055               0.000573   \n2                    12.623948               0.001412   \n3                     0.122180               0.001654   \n4                    17.255977               0.000094   \n...                        ...                    ...   \n45095                 8.363154               0.001297   \n45096                22.322994               0.001077   \n45097                 6.884318               0.000786   \n45098                 7.777520              -0.001806   \n45099                -1.595458              -0.000156   \n\n       feature5_intervention99  hazard_orig  event_orig  time_orig  \n0                    -2.895591    -0.639830         0.0   0.355173  \n1                     7.978426     0.550207         0.0   0.000000  \n2                     9.216486     1.229885         1.0   0.979983  \n3                     1.836313    -2.022290         0.0   0.000000  \n4                    -2.641394    -0.842763         0.0   0.000000  \n...                        ...          ...         ...        ...  \n45095                18.686510     0.569217         0.0   0.000000  \n45096                19.235188     2.255328         1.0   0.661737  \n45097                 1.109229     0.307098         1.0   0.878507  \n45098                19.985320     0.729415         0.0   0.000000  \n45099                 7.757648    -1.412867         1.0   1.039691  \n\n[45100 rows x 1418 columns]",
      "text/html": "<div>\n<style scoped>\n    .dataframe tbody tr th:only-of-type {\n        vertical-align: middle;\n    }\n\n    .dataframe tbody tr th {\n        vertical-align: top;\n    }\n\n    .dataframe thead th {\n        text-align: right;\n    }\n</style>\n<table border=\"1\" class=\"dataframe\">\n  <thead>\n    <tr style=\"text-align: right;\">\n      <th></th>\n      <th>modified_attribute</th>\n      <th>hidden_noise_orig</th>\n      <th>hidden_variable_orig</th>\n      <th>noise0_orig</th>\n      <th>feature0_orig</th>\n      <th>noise1_orig</th>\n      <th>feature1_orig</th>\n      <th>noise2_orig</th>\n      <th>feature2_orig</th>\n      <th>noise3_orig</th>\n      <th>...</th>\n      <th>feature2_intervention99</th>\n      <th>noise3_intervention99</th>\n      <th>feature3_intervention99</th>\n      <th>noise4_intervention99</th>\n      <th>feature4_intervention99</th>\n      <th>noise5_intervention99</th>\n      <th>feature5_intervention99</th>\n      <th>hazard_orig</th>\n      <th>event_orig</th>\n      <th>time_orig</th>\n    </tr>\n  </thead>\n  <tbody>\n    <tr>\n      <th>0</th>\n      <td>noise0</td>\n      <td>-0.000219</td>\n      <td>-4.018845</td>\n      <td>-0.000925</td>\n      <td>0.459769</td>\n      <td>0.000375</td>\n      <td>2.054263</td>\n      <td>0.003606</td>\n      <td>21.707499</td>\n      <td>-0.001552</td>\n      <td>...</td>\n      <td>21.707499</td>\n      <td>-0.001552</td>\n      <td>-2.582836</td>\n      <td>-0.000640</td>\n      <td>8.397453</td>\n      <td>-0.001252</td>\n      <td>-2.895591</td>\n      <td>-0.639830</td>\n      <td>0.0</td>\n      <td>0.355173</td>\n    </tr>\n    <tr>\n      <th>1</th>\n      <td>noise0</td>\n      <td>-0.000437</td>\n      <td>13.183602</td>\n      <td>0.000989</td>\n      <td>-2.590031</td>\n      <td>-0.000759</td>\n      <td>1.786070</td>\n      <td>-0.000976</td>\n      <td>5.666156</td>\n      <td>-0.000554</td>\n      <td>...</td>\n      <td>5.666156</td>\n      <td>-0.000554</td>\n      <td>0.982396</td>\n      <td>-0.000282</td>\n      <td>14.980055</td>\n      <td>0.000573</td>\n      <td>7.978426</td>\n      <td>0.550207</td>\n      <td>0.0</td>\n      <td>0.000000</td>\n    </tr>\n    <tr>\n      <th>2</th>\n      <td>noise0</td>\n      <td>-0.000535</td>\n      <td>8.438535</td>\n      <td>0.000303</td>\n      <td>3.815417</td>\n      <td>0.001004</td>\n      <td>3.314821</td>\n      <td>0.000437</td>\n      <td>15.254534</td>\n      <td>-0.001409</td>\n      <td>...</td>\n      <td>15.254534</td>\n      <td>-0.001409</td>\n      <td>9.005955</td>\n      <td>0.000670</td>\n      <td>12.623948</td>\n      <td>0.001412</td>\n      <td>9.216486</td>\n      <td>1.229885</td>\n      <td>1.0</td>\n      <td>0.979983</td>\n    </tr>\n    <tr>\n      <th>3</th>\n      <td>noise0</td>\n      <td>-0.001206</td>\n      <td>0.966526</td>\n      <td>-0.001330</td>\n      <td>-0.943972</td>\n      <td>-0.000638</td>\n      <td>8.209676</td>\n      <td>0.000907</td>\n      <td>15.595776</td>\n      <td>-0.001476</td>\n      <td>...</td>\n      <td>15.595776</td>\n      <td>-0.001476</td>\n      <td>-3.042351</td>\n      <td>0.000415</td>\n      <td>0.122180</td>\n      <td>0.001654</td>\n      <td>1.836313</td>\n      <td>-2.022290</td>\n      <td>0.0</td>\n      <td>0.000000</td>\n    </tr>\n    <tr>\n      <th>4</th>\n      <td>noise0</td>\n      <td>0.000698</td>\n      <td>0.737595</td>\n      <td>-0.000514</td>\n      <td>7.110782</td>\n      <td>-0.000124</td>\n      <td>8.750213</td>\n      <td>0.000147</td>\n      <td>53.600089</td>\n      <td>-0.002628</td>\n      <td>...</td>\n      <td>53.600089</td>\n      <td>-0.002628</td>\n      <td>2.566127</td>\n      <td>0.002250</td>\n      <td>17.255977</td>\n      <td>0.000094</td>\n      <td>-2.641394</td>\n      <td>-0.842763</td>\n      <td>0.0</td>\n      <td>0.000000</td>\n    </tr>\n    <tr>\n      <th>...</th>\n      <td>...</td>\n      <td>...</td>\n      <td>...</td>\n      <td>...</td>\n      <td>...</td>\n      <td>...</td>\n      <td>...</td>\n      <td>...</td>\n      <td>...</td>\n      <td>...</td>\n      <td>...</td>\n      <td>...</td>\n      <td>...</td>\n      <td>...</td>\n      <td>...</td>\n      <td>...</td>\n      <td>...</td>\n      <td>...</td>\n      <td>...</td>\n      <td>...</td>\n      <td>...</td>\n    </tr>\n    <tr>\n      <th>45095</th>\n      <td>noise5</td>\n      <td>-0.000336</td>\n      <td>13.373477</td>\n      <td>-0.000086</td>\n      <td>-7.227700</td>\n      <td>0.000242</td>\n      <td>1.672485</td>\n      <td>0.000285</td>\n      <td>7.455531</td>\n      <td>0.002157</td>\n      <td>...</td>\n      <td>7.455531</td>\n      <td>0.002157</td>\n      <td>24.168466</td>\n      <td>-0.000116</td>\n      <td>8.363154</td>\n      <td>0.001297</td>\n      <td>18.686510</td>\n      <td>0.569217</td>\n      <td>0.0</td>\n      <td>0.000000</td>\n    </tr>\n    <tr>\n      <th>45096</th>\n      <td>noise5</td>\n      <td>-0.000176</td>\n      <td>20.360259</td>\n      <td>-0.000621</td>\n      <td>0.072992</td>\n      <td>-0.000172</td>\n      <td>4.230753</td>\n      <td>0.000590</td>\n      <td>14.575677</td>\n      <td>0.000971</td>\n      <td>...</td>\n      <td>14.575677</td>\n      <td>0.000971</td>\n      <td>20.452487</td>\n      <td>0.002019</td>\n      <td>22.322994</td>\n      <td>0.001077</td>\n      <td>19.235188</td>\n      <td>2.255328</td>\n      <td>1.0</td>\n      <td>0.661737</td>\n    </tr>\n    <tr>\n      <th>45097</th>\n      <td>noise5</td>\n      <td>0.001384</td>\n      <td>8.740631</td>\n      <td>0.001081</td>\n      <td>1.579198</td>\n      <td>0.000072</td>\n      <td>2.607460</td>\n      <td>-0.000243</td>\n      <td>11.265121</td>\n      <td>-0.002064</td>\n      <td>...</td>\n      <td>11.265121</td>\n      <td>-0.002064</td>\n      <td>5.345933</td>\n      <td>0.000113</td>\n      <td>6.884318</td>\n      <td>0.000786</td>\n      <td>1.109229</td>\n      <td>0.307098</td>\n      <td>1.0</td>\n      <td>0.878507</td>\n    </tr>\n    <tr>\n      <th>45098</th>\n      <td>noise5</td>\n      <td>-0.001746</td>\n      <td>13.917737</td>\n      <td>0.000302</td>\n      <td>4.645683</td>\n      <td>-0.000082</td>\n      <td>3.522157</td>\n      <td>0.001566</td>\n      <td>47.619676</td>\n      <td>-0.000359</td>\n      <td>...</td>\n      <td>47.619676</td>\n      <td>-0.000359</td>\n      <td>10.531926</td>\n      <td>0.001835</td>\n      <td>7.777520</td>\n      <td>-0.001806</td>\n      <td>19.985320</td>\n      <td>0.729415</td>\n      <td>0.0</td>\n      <td>0.000000</td>\n    </tr>\n    <tr>\n      <th>45099</th>\n      <td>noise5</td>\n      <td>-0.000836</td>\n      <td>3.464635</td>\n      <td>0.001362</td>\n      <td>-4.155636</td>\n      <td>0.000322</td>\n      <td>4.520724</td>\n      <td>-0.000608</td>\n      <td>17.688396</td>\n      <td>-0.001631</td>\n      <td>...</td>\n      <td>17.688396</td>\n      <td>-0.001631</td>\n      <td>3.282931</td>\n      <td>-0.000141</td>\n      <td>-1.595458</td>\n      <td>-0.000156</td>\n      <td>7.757648</td>\n      <td>-1.412867</td>\n      <td>1.0</td>\n      <td>1.039691</td>\n    </tr>\n  </tbody>\n</table>\n<p>45100 rows × 1418 columns</p>\n</div>"
     },
     "execution_count": 25,
     "metadata": {},
     "output_type": "execute_result"
    }
   ],
   "source": [
    "experiment_id = 'linear_decreasing_1'\n",
    "lindec1 = pd.read_csv(f'{directory}/{experiment_id}_attribute_details.csv')"
   ],
   "metadata": {
    "collapsed": false,
    "pycharm": {
     "name": "#%%\n"
    }
   }
  },
  {
   "cell_type": "code",
   "execution_count": 37,
   "outputs": [],
   "source": [
    "experiment_id = 'lognormal_cc_3'\n",
    "lincc3 = pd.read_csv(f'{directory}/{experiment_id}_attribute_details.csv')"
   ],
   "metadata": {
    "collapsed": false,
    "pycharm": {
     "name": "#%%\n"
    }
   }
  },
  {
   "cell_type": "code",
   "execution_count": 38,
   "outputs": [],
   "source": [
    "lincc3.to_csv(f'{directory}/lognormal_cc_2_attribute_details.csv')\n",
    "lincc3.to_csv(f'{directory}/lognormal_cc_1_attribute_details.csv')"
   ],
   "metadata": {
    "collapsed": false,
    "pycharm": {
     "name": "#%%\n"
    }
   }
  },
  {
   "cell_type": "code",
   "execution_count": 35,
   "outputs": [
    {
     "data": {
      "text/plain": "(30100, 1418)"
     },
     "execution_count": 35,
     "metadata": {},
     "output_type": "execute_result"
    }
   ],
   "source": [
    "lincc3.shape"
   ],
   "metadata": {
    "collapsed": false,
    "pycharm": {
     "name": "#%%\n"
    }
   }
  },
  {
   "cell_type": "markdown",
   "source": [
    "# Simpsons Paradox Graph"
   ],
   "metadata": {
    "collapsed": false,
    "pycharm": {
     "name": "#%% md\n"
    }
   }
  },
  {
   "cell_type": "code",
   "execution_count": 22,
   "outputs": [],
   "source": [
    "def get_simpsons_paradox(\n",
    "        p: float = 2,\n",
    "        q: float = 1,\n",
    "        n: float = 500,\n",
    "        n_groups: int = 5,\n",
    "):\n",
    "\n",
    "    k = np.random.choice(5, size=n)\n",
    "    scaling = np.random.normal(size=n)\n",
    "\n",
    "    noise_x = np.random.normal(scale=0.25, size=n)\n",
    "    noise_y = np.random.normal(scale=0.25, size=n)\n",
    "    y = scaling * np.sin(p / q) + k + noise_y\n",
    "    x = scaling * np.cos(p / q) + k + noise_x\n",
    "    return x, y\n",
    "\n",
    "\n",
    "T = TypeVar(\"T\")\n",
    "\n",
    "\n",
    "def ifnone(maybe: Optional[T], default: T) -> T:\n",
    "    if maybe is None:\n",
    "        return default\n",
    "    else:\n",
    "        return maybe\n",
    "\n",
    "\n",
    "@cga.node\n",
    "def simpson_x(\n",
    "        scaling: float,\n",
    "        group: float,\n",
    "        base_noise: float,\n",
    "        noise\n",
    ") -> float:\n",
    "    return scaling * np.cos(2 / 1) + group + base_noise + noise\n",
    "\n",
    "\n",
    "@cga.node\n",
    "def simpson_y(\n",
    "        scaling: float,\n",
    "        group: float,\n",
    "        base_noise: float,\n",
    "        noise: float,\n",
    ") -> float:\n",
    "    return scaling * np.sin(2 / 1) + group + base_noise + noise\n",
    "\n",
    "\n",
    "@cga.node\n",
    "def simpson_hazzard(\n",
    "        scaling: float,\n",
    "        group: float,\n",
    ") -> float:\n",
    "    return np.where((group == 2), scaling, -scaling).item()\n",
    "\n",
    "\n",
    "class SimpsonsParadoxGraph(cga.Graph):\n",
    "    def __init__(self):\n",
    "        # define functions\n",
    "        base_noise = cga.node(lambda: np.random.normal(scale=0.27))\n",
    "        intervention_noise = cga.node(lambda: np.random.normal(loc=0.019, scale=0.01))\n",
    "        get_group = cga.node(lambda: np.random.choice(5))\n",
    "        get_scaling = cga.node(lambda: np.random.normal())\n",
    "\n",
    "        self.base_noise0 = base_noise(name='base_noise0')\n",
    "        self.base_noise1 = base_noise(name='base_noise1')\n",
    "        self.noise0 = intervention_noise(name='noise0')\n",
    "        self.noise1 = intervention_noise(name='noise1')\n",
    "        self.group = get_group(name=\"group\")\n",
    "\n",
    "        self.scaling = get_scaling(name=\"scaling\")\n",
    "\n",
    "        self.feature0 = simpson_x(self.scaling, self.group, self.base_noise0, self.noise0, name=\"feature0\")\n",
    "        self.feature1 = simpson_y(self.scaling, self.group, self.base_noise1, self.noise1, name=\"feature1\")\n",
    "\n",
    "        self.hazard = simpson_hazzard(self.scaling, self.group, name=\"hazard\")\n",
    "        super().__init__([self.feature0, self.feature1, self.hazard])\n",
    "\n",
    "    def get_interventions(self, g, sim, n_samples):\n",
    "        data = []\n",
    "        for node in [g.noise0, g.noise1]:\n",
    "            for _ in tqdm.auto.trange(n_samples,\n",
    "                                      desc=f\"Intervention {node.name}\"):\n",
    "                orig, interventions = g.sample_do(\n",
    "                    action=cga.Resample(node),\n",
    "                    n_samples=100,\n",
    "                )\n",
    "                row = {'modified_attribute': node.name}\n",
    "                row.update({\n",
    "                    n.name + \"_orig\": v\n",
    "                    for n, v in orig.items()\n",
    "                })\n",
    "                for idx, intervention in enumerate(interventions):\n",
    "                    row.update({\n",
    "                        n.name + f\"_intervention{idx}\": v\n",
    "                        for n, v in intervention.items()})\n",
    "                data.append(row)\n",
    "            df = pd.DataFrame(data)\n",
    "        sim_df = sim.generate_data(df, hazzard_column='hazard_orig')\n",
    "        df['event_orig'] = sim_df.event\n",
    "        df['time_orig'] = sim_df.time\n",
    "\n",
    "        # separate x and y to build attribute dataframe\n",
    "        xdf = df.loc[df.modified_attribute=='noise0']\\\n",
    "                  .loc[:, ['feature0_orig', 'feature1_orig', 'time_orig', 'event_orig']]\\\n",
    "            .rename(columns=dict(x_orig='x', y_orig='y', time_orig='time', event_orig='event'))\n",
    "        ydf = df.loc[df.modified_attribute=='noise1']\\\n",
    "                  .loc[:, ['feature0_orig', 'feature1_orig', 'time_orig', 'event_orig']]\\\n",
    "            .rename(columns=dict(x_orig='x', y_orig='y', time_orig='time', event_orig='event'))\n",
    "\n",
    "        return xdf, ydf, df\n",
    "\n",
    "\n",
    "    def transform(\n",
    "            self,\n",
    "            dataset_row: pd.Series,\n",
    "            set_values: dict = {},\n",
    "            replace_nodes: dict = {},\n",
    "    ) -> pd.Series:\n",
    "        # print(dataset_row.keys())\n",
    "        result = self.sample(\n",
    "            set_values={\n",
    "                self.scaling: dataset_row[\"predictive0\"],\n",
    "                self.group: np.digitize(\n",
    "                    dataset_row[\"nonpredictive0\"], [-1.5, -1, 0, 1, 1.5]\n",
    "                ),\n",
    "            },\n",
    "            replace=replace_nodes,\n",
    "        )\n",
    "        return pd.Series(\n",
    "            index=[\"feature0\", \"feature1\", \"event\", \"time\"],\n",
    "            data=[\n",
    "                result[self.feature0],\n",
    "                result[self.feature1],\n",
    "                dataset_row[\"event\"],\n",
    "                dataset_row[\"time\"],\n",
    "            ],\n",
    "        )"
   ],
   "metadata": {
    "collapsed": false,
    "pycharm": {
     "name": "#%%\n"
    }
   }
  },
  {
   "cell_type": "markdown",
   "source": [
    "## Simulation Model with Risk"
   ],
   "metadata": {
    "collapsed": false,
    "pycharm": {
     "name": "#%% md\n"
    }
   }
  },
  {
   "cell_type": "code",
   "execution_count": 23,
   "outputs": [],
   "source": [
    "class SimulationModelWithRisk(SimulationModel):\n",
    "    \"\"\"\n",
    "    Subclasses `SimulationModel` to generated data from an predefined\n",
    "    risk factor.\n",
    "    \"\"\"\n",
    "\n",
    "    def generate_data(\n",
    "            self,\n",
    "            dataframe: pd.DataFrame,\n",
    "            hazzard_column=\"hazard\",\n",
    "    ):\n",
    "        \"\"\"\n",
    "        Generating a dataset of simulated survival times from a given\n",
    "        distribution through the hazard function using the Cox model\n",
    "\n",
    "        Parameters:\n",
    "        -----------\n",
    "\n",
    "        * `dataframe`: **pd.Dataframe** --\n",
    "            A pandas dataframe with a risk column.\n",
    "\n",
    "        * `hazzard_column`: **str** *(default=\"risk\")* --\n",
    "            Name of the risk column.\n",
    "\n",
    "        Returns:\n",
    "        --------\n",
    "        * dataset: pandas.DataFrame\n",
    "            dataset of simulated survival times, event status and features\n",
    "\n",
    "\n",
    "        Example:\n",
    "        --------\n",
    "        from pysurvival.models.simulations import SimulationModel\n",
    "\n",
    "        # Initializing the simulation model\n",
    "        sim = SimulationModel( survival_distribution = 'gompertz',\n",
    "                               risk_type = 'linear',\n",
    "                               censored_parameter = 5.0,\n",
    "                               alpha = 0.01,\n",
    "                               beta = 5., )\n",
    "\n",
    "        # Generating N Random samples\n",
    "        N = 1000\n",
    "        dataset = sim.generate_data(num_samples = N, num_features=5)\n",
    "\n",
    "        # Showing a few data-points\n",
    "        dataset.head()\n",
    "        \"\"\"\n",
    "\n",
    "        def risk_function(risk: np.ndarray) -> np.ndarray:\n",
    "            # Choosing the type of risk\n",
    "            if self.risk_type.lower() == \"linear\":\n",
    "                return risk.reshape(-1, 1)\n",
    "\n",
    "            elif self.risk_type.lower() == \"square\":\n",
    "                risk = np.square(risk * self.risk_parameter)\n",
    "\n",
    "            elif self.risk_type.lower() == \"gaussian\":\n",
    "                risk = np.square(risk)\n",
    "                risk = np.exp(-risk * self.risk_parameter)\n",
    "\n",
    "            return risk.reshape(-1, 1)\n",
    "\n",
    "        num_samples = len(dataframe)\n",
    "\n",
    "        BX = risk_function(np.array(dataframe[hazzard_column]))\n",
    "        BX = np.multiply(BX, 9.0)\n",
    "\n",
    "        # Building the survival times\n",
    "        T = self.time_function(BX)\n",
    "        C = np.random.normal(loc=self.censored_parameter, scale=5, size=num_samples)\n",
    "        C = np.maximum(C, 0.0)\n",
    "        time = np.minimum(T, C)\n",
    "        E = 1.0 * (T == time)\n",
    "\n",
    "        # Building dataset\n",
    "        self.dataset = copy.deepcopy(dataframe)\n",
    "        self.dataset[\"time\"] = time\n",
    "        self.dataset[\"event\"] = E\n",
    "        self.dataset['hazard'] = BX\n",
    "\n",
    "        # Building the time axis and time buckets\n",
    "        self.times = np.linspace(0.0, max(self.dataset[\"time\"]), self.bins)\n",
    "        self.get_time_buckets()\n",
    "\n",
    "        # Building baseline functions\n",
    "        self.baseline_hazard = self.hazard_function(self.times, 0)\n",
    "        self.baseline_survival = self.survival_function(self.times, 0)\n",
    "\n",
    "        # Printing summary message\n",
    "        message_to_print = \"Number of data-points: {} - Number of events: {}\"\n",
    "        print(message_to_print.format(num_samples, sum(E)))\n",
    "        return self.dataset"
   ],
   "metadata": {
    "collapsed": false,
    "pycharm": {
     "name": "#%%\n"
    }
   }
  },
  {
   "cell_type": "code",
   "execution_count": 24,
   "outputs": [
    {
     "data": {
      "text/plain": "<Figure size 432x288 with 1 Axes>",
      "image/png": "[encoded data removed]"
     },
     "metadata": {},
     "output_type": "display_data"
    }
   ],
   "source": [
    "simpson_graph = SimpsonsParadoxGraph()\n",
    "gnx = simpson_graph.to_networkx()\n",
    "nx.draw_networkx(\n",
    "    gnx,\n",
    "    labels={n: n.name for n in gnx.nodes},\n",
    "    pos=nx.layout.spring_layout(gnx, k=3),\n",
    "    node_size=2_000,\n",
    ")"
   ],
   "metadata": {
    "collapsed": false,
    "pycharm": {
     "name": "#%%\n"
    }
   }
  },
  {
   "cell_type": "code",
   "execution_count": 25,
   "outputs": [
    {
     "data": {
      "text/plain": "  0%|          | 0/100000 [00:00<?, ?it/s]",
      "application/vnd.jupyter.widget-view+json": {
       "version_major": 2,
       "version_minor": 0,
       "model_id": "deaa7a2314e0426ca3bdd3bfbc33cbfe"
      }
     },
     "metadata": {},
     "output_type": "display_data"
    },
    {
     "name": "stdout",
     "output_type": "stream",
     "text": [
      "Number of data-points: 100000 - Number of events: 50998.0\n"
     ]
    }
   ],
   "source": [
    "n_samples = 100_000\n",
    "data = []\n",
    "for _ in tqdm.auto.trange(n_samples):\n",
    "    result = simpson_graph.sample()\n",
    "    data.append(\n",
    "        {\n",
    "            \"feature0\": result[simpson_graph.feature0],\n",
    "            \"feature1\": result[simpson_graph.feature1],\n",
    "            \"hazard\": float(result[simpson_graph.hazard]),\n",
    "            \"group\": result[simpson_graph.group],\n",
    "            \"scaling\": result[simpson_graph.scaling],\n",
    "        }\n",
    "    )\n",
    "df = pd.DataFrame(data)\n",
    "sim = SimulationModelWithRisk(risk_type='linear',\n",
    "                                      alpha=1.0,\n",
    "                                      beta=10.0,\n",
    "                                      censored_parameter=1.5,\n",
    "                                      survival_distribution='weibull')\n",
    "df = sim.generate_data(df)"
   ],
   "metadata": {
    "collapsed": false,
    "pycharm": {
     "name": "#%%\n"
    }
   }
  },
  {
   "cell_type": "code",
   "execution_count": 78,
   "outputs": [],
   "source": [
    "train = pd.read_csv('/data/analysis/ag-reils/ag-reils-shared/cardioRS/data/interpretability/resample_multiplicities/simpsons_revised_master_train.csv')"
   ],
   "metadata": {
    "collapsed": false,
    "pycharm": {
     "name": "#%%\n"
    }
   }
  },
  {
   "cell_type": "code",
   "execution_count": 85,
   "outputs": [
    {
     "data": {
      "text/plain": "<AxesSubplot:xlabel='feature0', ylabel='feature1'>"
     },
     "execution_count": 85,
     "metadata": {},
     "output_type": "execute_result"
    },
    {
     "data": {
      "text/plain": "<Figure size 864x720 with 2 Axes>",
      "image/png": "[encoded data removed]"
     },
     "metadata": {
      "needs_background": "light"
     },
     "output_type": "display_data"
    }
   ],
   "source": [
    "train.plot.scatter('feature0', 'feature1', c='hazard', cmap='seismic', figsize=(12, 10))"
   ],
   "metadata": {
    "collapsed": false,
    "pycharm": {
     "name": "#%%\n"
    }
   }
  },
  {
   "cell_type": "code",
   "execution_count": 61,
   "outputs": [
    {
     "name": "stdout",
     "output_type": "stream",
     "text": [
      "Saved /data/analysis/ag-reils/ag-reils-shared/cardioRS/data/interpretability/resample_multiplicities/simpsons_revised_master_train.csv\n",
      "Saved /data/analysis/ag-reils/ag-reils-shared/cardioRS/data/interpretability/resample_multiplicities/simpsons_revised_master_valid.csv\n",
      "Saved /data/analysis/ag-reils/ag-reils-shared/cardioRS/data/interpretability/resample_multiplicities/simpsons_revised_train.csv\n",
      "Saved /data/analysis/ag-reils/ag-reils-shared/cardioRS/data/interpretability/resample_multiplicities/simpsons_revised_valid.csv\n"
     ]
    }
   ],
   "source": [
    "experiment_id = 'simpsons_revised'\n",
    "directory = '/data/analysis/ag-reils/ag-reils-shared/cardioRS/data/interpretability/resample_multiplicities'\n",
    "save_orig(df, name=experiment_id + '_master', output_dir=directory)\n",
    "training_df = df.loc[:, ['feature0', 'feature1', 'time', 'event']]\n",
    "save_orig(training_df, name=experiment_id, output_dir=directory)"
   ],
   "metadata": {
    "collapsed": false,
    "pycharm": {
     "name": "#%%\n"
    }
   }
  },
  {
   "cell_type": "code",
   "execution_count": 63,
   "outputs": [
    {
     "data": {
      "text/plain": "Intervention noise0:   0%|          | 0/5000 [00:00<?, ?it/s]",
      "application/vnd.jupyter.widget-view+json": {
       "version_major": 2,
       "version_minor": 0,
       "model_id": "34e5fc64b0144cf4bcb0189f608400eb"
      }
     },
     "metadata": {},
     "output_type": "display_data"
    },
    {
     "data": {
      "text/plain": "Intervention noise1:   0%|          | 0/5000 [00:00<?, ?it/s]",
      "application/vnd.jupyter.widget-view+json": {
       "version_major": 2,
       "version_minor": 0,
       "model_id": "5d257843ee5c45af8d7ad6025f5ef52a"
      }
     },
     "metadata": {},
     "output_type": "display_data"
    },
    {
     "name": "stdout",
     "output_type": "stream",
     "text": [
      "Number of data-points: 10000 - Number of events: 5132.0\n"
     ]
    }
   ],
   "source": [
    "feature0_df, feature1_df, intervention_df = simpson_graph.get_interventions(simpson_graph, sim, 5000)"
   ],
   "metadata": {
    "collapsed": false,
    "pycharm": {
     "name": "#%%\n"
    }
   }
  },
  {
   "cell_type": "code",
   "execution_count": 64,
   "outputs": [],
   "source": [
    "feature0_df.to_csv(f'{DATA_DIRECTORY}/{experiment_id}_attribute_feature0.csv', index=False)\n",
    "feature1_df.to_csv(f'{DATA_DIRECTORY}/{experiment_id}_attribute_feature1.csv', index=False)\n",
    "intervention_df.to_csv(f'{DATA_DIRECTORY}/{experiment_id}_attribute_details.csv', index=False)"
   ],
   "metadata": {
    "collapsed": false,
    "pycharm": {
     "name": "#%%\n"
    }
   }
  },
  {
   "cell_type": "code",
   "execution_count": 12,
   "outputs": [],
   "source": [
    "@cga.node\n",
    "def relu(x: float, noise:float) -> float:\n",
    "    \"\"\"\n",
    "    Rectified Linear unit `mul`\n",
    "    \"\"\"\n",
    "    out = x * (x > 0)\n",
    "    return out + noise\n",
    "\n",
    "@cga.node\n",
    "def tanh(x: float, noise:float) -> float:\n",
    "    \"\"\"\n",
    "    Hyperbolic Tangent\n",
    "    \"\"\"\n",
    "    out = np.tanh(x)\n",
    "    return out + noise\n",
    "\n",
    "@cga.node\n",
    "def sigmoid(x: float, noise:float) -> float:\n",
    "    \"\"\"\n",
    "    Sigmoid function\n",
    "    \"\"\"\n",
    "    out = 1 / (1 + np.exp(-x))\n",
    "    return out + noise\n",
    "\n",
    "@cga.node\n",
    "def square(x: float, noise:float) -> float:\n",
    "    \"\"\"\n",
    "    Squared\n",
    "    \"\"\"\n",
    "    out = np.square(x)\n",
    "    return out + noise\n",
    "\n",
    "@cga.node\n",
    "def sample_random_normal(noise:float)->float:\n",
    "    \"\"\"\n",
    "    :param n: sample size\n",
    "    :param noise: noise variable\n",
    "    :return: random normal variable\n",
    "    \"\"\"\n",
    "    return np.random.normal() + noise\n",
    "\n",
    "\n",
    "class NonLinearCaseGraph(cga.Graph):\n",
    "    def __init__(self):\n",
    "        \"\"\"\n",
    "        causal graph for correlation case\n",
    "        :param n: number of data points\n",
    "        :param coeff: desired correlation coefficient between the two variables\n",
    "        \"\"\"\n",
    "        noise = cga.node(lambda: np.random.normal(scale=0.25))\n",
    "        self.noise0 = noise(name=\"noise0\")\n",
    "        self.noise1 = noise(name=\"noise1\")\n",
    "        self.noise2 = noise(name=\"noise2\")\n",
    "        self.noise3 = noise(name=\"noise3\")\n",
    "        self.noise4 = noise(name=\"noise4\")\n",
    "        self.feature0 = sample_random_normal(self.noise0, name='feature0')\n",
    "        self.feature1 = relu(self.feature0, self.noise1, name='feature1')\n",
    "        self.feature2 = tanh(self.feature0, self.noise2, name='feature2')\n",
    "        self.feature3 = sigmoid(self.feature0, self.noise3, name='feature3')\n",
    "        self.feature4 = square(self.feature0, self.noise4, name='feature4')\n",
    "        super().__init__([self.feature0, self.feature1, self.feature2, self.feature3, self.feature4])\n",
    "\n",
    "    def get_interventions(self,\n",
    "                          graph: any,\n",
    "                          sim: SimulationModelWithCorrelations,\n",
    "                          n_samples: int,\n",
    "                          feature_weights: list,\n",
    "                          ) -> pd.DataFrame:\n",
    "        data = []\n",
    "        for node in [graph.noise0, graph.noise1, graph.noise2, graph.noise3, graph.noise4]:\n",
    "            for _ in tqdm.auto.trange(n_samples,\n",
    "                                      desc=f\"Intervention {node.name}\"):\n",
    "                orig, interventions = graph.sample_do(\n",
    "                    action=cga.Resample(node),\n",
    "                    n_samples=100,\n",
    "                )\n",
    "                row = {'modified_attribute': node.name}\n",
    "                row.update({\n",
    "                    n.name + \"_orig\": v\n",
    "                    for n, v in orig.items()\n",
    "                })\n",
    "                for idx, intervention in enumerate(interventions):\n",
    "                    row.update({\n",
    "                        n.name + f\"_intervention{idx}\": v\n",
    "                        for n, v in intervention.items()})\n",
    "                data.append(row)\n",
    "        intervention_df = pd.DataFrame(data)\n",
    "\n",
    "        orig_cols = ['feature0_orig', 'feature1_orig', 'feature2_orig', 'feature3_orig', 'feature4_orig']\n",
    "        modified_attributes = [f'noise{i}' for i in range(len(orig_cols))]\n",
    "        orig_df = sim.generate_data(intervention_df, feature_names=orig_cols,\n",
    "                                    feature_weights=feature_weights,\n",
    "                                    include_hazard=True)\n",
    "\n",
    "        # split by modified attribute, to get the input data for attribution\n",
    "        attribution_dfs = self.slice_dataframe(orig_df, modified_attributes)\n",
    "\n",
    "        intervention_df['hazard_orig'] = orig_df.hazard\n",
    "        intervention_df['event_orig'] = orig_df.event\n",
    "        intervention_df['time_orig'] = orig_df.time\n",
    "\n",
    "        return attribution_dfs, intervention_df\n",
    "\n",
    "    def slice_dataframe(self, orig_df, modified_attributes):\n",
    "        df_list = []\n",
    "        for modified_attribute in modified_attributes:\n",
    "            df = orig_df.loc[orig_df.modified_attribute==modified_attribute]\\\n",
    "                     .loc[:, ['feature0_orig', 'feature1_orig', 'feature2_orig', 'feature3_orig', 'feature4_orig', 'time', 'event']]\\\n",
    "                .rename(columns=dict(feature0_orig='feature0',\n",
    "                                     feature1_orig='feature1',\n",
    "                                     feature2_orig='feature2',\n",
    "                                     feature3_orig='feature3',\n",
    "                                     feature4_orig='feature4'))\n",
    "            df_list.append(df)\n",
    "        return df_list\n",
    "\n",
    "    def test_intervention(self, n_iterations):\n",
    "        for node in [self.noise_x]:\n",
    "            for _ in tqdm.trange(n_iterations, desc=f\"Intervention {node.name}\"):\n",
    "                # resample noise\n",
    "                orig, intervention0, intervention1 = self.sample_do(action=cga.Resample(node))\n",
    "        return orig, intervention0, intervention1"
   ],
   "metadata": {
    "collapsed": false,
    "pycharm": {
     "name": "#%%\n"
    }
   }
  },
  {
   "cell_type": "code",
   "execution_count": 27,
   "outputs": [
    {
     "ename": "NameError",
     "evalue": "name 'complete_ds' is not defined",
     "output_type": "error",
     "traceback": [
      "\u001B[0;31m---------------------------------------------------------------------------\u001B[0m",
      "\u001B[0;31mNameError\u001B[0m                                 Traceback (most recent call last)",
      "\u001B[0;32m<ipython-input-27-b966b8b234c8>\u001B[0m in \u001B[0;36m<module>\u001B[0;34m\u001B[0m\n\u001B[0;32m----> 1\u001B[0;31m \u001B[0mcomplete_ds\u001B[0m\u001B[0;34m\u001B[0m\u001B[0;34m\u001B[0m\u001B[0m\n\u001B[0m",
      "\u001B[0;31mNameError\u001B[0m: name 'complete_ds' is not defined"
     ]
    }
   ],
   "source": [
    "complete_ds"
   ],
   "metadata": {
    "collapsed": false,
    "pycharm": {
     "name": "#%%\n"
    }
   }
  },
  {
   "cell_type": "code",
   "execution_count": null,
   "outputs": [],
   "source": [
    "# Sample features for training data\n",
    "nonlinear_graph = NonLinearCaseGraph()\n",
    "data = []\n",
    "for _ in tqdm.trange(30000, desc='sampling'):\n",
    "    result = nonlinear_graph.sample()\n",
    "    data.append({'feature0': result[nonlinear_graph.feature0],\n",
    "                 'feature1': result[nonlinear_graph.feature1],\n",
    "                 'feature2': result[nonlinear_graph.feature2],\n",
    "                 'feature3': result[nonlinear_graph.feature3],\n",
    "                 'feature4': result[nonlinear_graph.feature4]})\n",
    "\n",
    "# Generate data\n",
    "training_features = pd.DataFrame(data)\n",
    "sim = SimulationModelWithCorrelations(risk_type='linear', alpha=1.0, beta=10.0, censored_parameter=5.0, survival_distribution='weibull')\n",
    "feature_weights = [np.log(2), np.log(1.4), np.log(1.3), np.log(1.2), np.log(1.1)]\n",
    "feature_names = [f'feature{i}' for i in range(5)]\n",
    "training_df = sim.generate_data(training_features, feature_weights=feature_weights, feature_names=feature_names, include_hazard=False)"
   ],
   "metadata": {
    "collapsed": false,
    "pycharm": {
     "name": "#%%\n"
    }
   }
  },
  {
   "cell_type": "code",
   "execution_count": null,
   "outputs": [],
   "source": [
    "experiment_id = 'lr_nonlinear'\n",
    "save_orig(training_df, experiment_id, output_dir=DATA_DIRECTORY)"
   ],
   "metadata": {
    "collapsed": false,
    "pycharm": {
     "name": "#%%\n"
    }
   }
  },
  {
   "cell_type": "code",
   "execution_count": null,
   "outputs": [],
   "source": [
    "# Resample from graph\n",
    "attribution_dfs, intervention_details = nonlinear_graph.get_interventions(graph=nonlinear_graph, sim=sim, n_samples=7500, feature_weights=feature_weights)"
   ],
   "metadata": {
    "collapsed": false,
    "pycharm": {
     "name": "#%%\n"
    }
   }
  },
  {
   "cell_type": "code",
   "execution_count": null,
   "outputs": [],
   "source": [
    "experiment_id = 'lr_nonlinear'\n",
    "for idx, df in enumerate(attribution_dfs):\n",
    "    df.to_csv(f'{DATA_DIRECTORY}/{experiment_id}_attribute_feature{idx}.csv', index=False)\n",
    "intervention_details.to_csv(f'{DATA_DIRECTORY}/{experiment_id}_attribute_details.csv', index=False)"
   ],
   "metadata": {
    "collapsed": false,
    "pycharm": {
     "name": "#%%\n"
    }
   }
  },
  {
   "cell_type": "code",
   "execution_count": null,
   "outputs": [],
   "source": [
    "df = pd.read_csv('/data/analysis/ag-reils/ag-reils-shared/cardioRS/data/interpretability/resample_multiplicities/simpsons_attribute_details.csv')\n",
    "df = pd.read_csv('/data/analysis')"
   ],
   "metadata": {
    "collapsed": false,
    "pycharm": {
     "name": "#%%\n"
    }
   }
  },
  {
   "cell_type": "code",
   "execution_count": null,
   "outputs": [],
   "source": [
    "df.plot.scatter('x_orig', 'y_orig', c='hazzard_orig')"
   ],
   "metadata": {
    "collapsed": false,
    "pycharm": {
     "name": "#%%\n"
    }
   }
  },
  {
   "cell_type": "code",
   "execution_count": 13,
   "outputs": [],
   "source": [
    "@cga.node\n",
    "def correlation_075(x: float, noise:float) -> float:\n",
    "    \"\"\"\n",
    "    :param x: exisiting data to correlate\n",
    "    :param coeff: correlation coefficient\n",
    "    :param noise: noise variable\n",
    "    :return: variable correlated by coeff to the exisiting variable x\n",
    "    \"\"\"\n",
    "    correlate = create_correlated_var(x,\n",
    "                                      mu=np.mean(x),\n",
    "                                      sd=np.std(x),\n",
    "                                      empirical=True,\n",
    "                                      r=0.750)\n",
    "    return correlate + noise\n",
    "\n",
    "class CorrelationCaseGraph2(cga.Graph):\n",
    "    def __init__(self):\n",
    "        \"\"\"\n",
    "        causal graph for correlation case\n",
    "        :param n: number of data points\n",
    "        :param coeff: desired correlation coefficient between the two variables\n",
    "        \"\"\"\n",
    "        noise = cga.node(lambda: np.random.normal(scale=0.01, size=100))\n",
    "        self.noise0 = noise(name=\"noise0\")\n",
    "        self.noise1 = noise(name=\"noise1\")\n",
    "        self.feature0 = sample_random_normal(self.noise0, name='feature0')\n",
    "        self.feature1 = correlation_075(self.feature0, self.noise1, name='feature1')\n",
    "        super().__init__([self.feature0, self.feature1])\n",
    "\n",
    "    def get_interventions(self,\n",
    "                          sim: SimulationModelWithCorrelations,\n",
    "                          n_iterations: int,\n",
    "                          feature_weights: list,\n",
    "                          ) -> pd.DataFrame:\n",
    "        data = None\n",
    "        for node in [self.noise0, self.noise1]:\n",
    "            for _ in tqdm.trange(n_iterations, desc=f\"Intervention {node.name}\"):\n",
    "                # resample noise\n",
    "                orig, interventions, *_ = self.sample_do(action=cga.Resample(node), n_samples=100)\n",
    "                row = {'modified_attribute': [node.name] * 100}\n",
    "                # add orig + do to the dictionary\n",
    "                row.update({\n",
    "                    n.name + \"_orig\": v\n",
    "                    for n, v in orig.items()\n",
    "                })\n",
    "                for idx, intervention in enumerate(interventions):\n",
    "                    row.update({\n",
    "                        n.name + f\"_intervention{idx}\": v\n",
    "                        for n, v in intervention.items()})\n",
    "\n",
    "                data = row if data == None else data\n",
    "                for key in row.keys():\n",
    "                    row[key] = row[key].tolist() if isinstance(row[key], np.ndarray) else row[key]\n",
    "                    data[key].extend(row[key])\n",
    "        intervention_df = pd.DataFrame(data)\n",
    "\n",
    "        orig_cols = ['feature0_orig', 'feature1_orig']\n",
    "        modified_attributes = [f'noise{i}' for i in range(len(orig_cols))]\n",
    "        orig_df = sim.generate_data(intervention_df, feature_names=orig_cols,\n",
    "                                    feature_weights=feature_weights,\n",
    "                                    include_hazard=True)\n",
    "\n",
    "        # split by modified attribute, to get the input data for attribution\n",
    "        attribution_dfs = self.slice_dataframe(orig_df, modified_attributes)\n",
    "\n",
    "        intervention_df['hazard_orig'] = orig_df.hazard\n",
    "        intervention_df['event_orig'] = orig_df.event\n",
    "        intervention_df['time_orig'] = orig_df.time\n",
    "\n",
    "        return attribution_dfs, intervention_df\n",
    "\n",
    "    def slice_dataframe(self, orig_df, modified_attributes):\n",
    "        df_list = []\n",
    "        for modified_attribute in modified_attributes:\n",
    "            df = orig_df.loc[orig_df.modified_attribute==modified_attribute]\\\n",
    "                     .loc[:, ['feature0_orig', 'feature1_orig', 'time', 'event']]\\\n",
    "                .rename(columns=dict(feature0_orig='feature0',\n",
    "                                     feature1_orig='feature1'))\n",
    "            df_list.append(df)\n",
    "        return df_list"
   ],
   "metadata": {
    "collapsed": false,
    "pycharm": {
     "name": "#%%\n"
    }
   }
  },
  {
   "cell_type": "code",
   "execution_count": 14,
   "outputs": [],
   "source": [
    "class SimulationModelWithCorrelations(SimulationModel):\n",
    "    \"\"\"\n",
    "    Subclasses `SimulationModel` to generated data from an predefined\n",
    "    risk factor.\n",
    "    \"\"\"\n",
    "\n",
    "    def generate_data(self,\n",
    "                      df: pd.DataFrame,\n",
    "                      feature_weights: list,\n",
    "                      feature_names: list,\n",
    "                      include_hazard: bool = False\n",
    "                      ):\n",
    "\n",
    "        def risk_function(x_std, feature_weights):\n",
    "            \"\"\" Calculating the risk function based on the given risk type \"\"\"\n",
    "\n",
    "            # Dot product\n",
    "            risk = np.dot(x_std, feature_weights )\n",
    "\n",
    "            # Choosing the type of risk\n",
    "            if self.risk_type.lower() == 'linear' :\n",
    "                return risk.reshape(-1, 1)\n",
    "\n",
    "            elif self.risk_type.lower() == 'square' :\n",
    "                risk = np.square(risk*self.risk_parameter)\n",
    "\n",
    "\n",
    "            elif self.risk_type.lower() == 'gaussian' :\n",
    "                risk = np.square(risk)\n",
    "                risk = np.exp( - risk*self.risk_parameter)\n",
    "\n",
    "            return risk.reshape(-1, 1)\n",
    "\n",
    "        input_data = df.loc[:, feature_names].to_numpy()\n",
    "        self.dataset = copy.deepcopy(df)\n",
    "        num_samples = input_data.shape[0]\n",
    "        X_std = self.scaler.fit_transform(input_data)\n",
    "        BX = risk_function(X_std, feature_weights)\n",
    "\n",
    "        # modify the hazard to have square risk at the 0.2 tail of the distribution\n",
    "        # percentile = np.percentile(BX, [80.0])\n",
    "        # BX = np.where(percentile<BX, np.square(BX), BX)\n",
    "\n",
    "        # Building the survival times\n",
    "        T = self.time_function(BX)\n",
    "        C = np.random.normal(loc=self.censored_parameter, scale=5, size=num_samples)\n",
    "        C = np.maximum(C, 0.0)\n",
    "        time = np.minimum(T, C)\n",
    "        E = 1.0 * (T == time)\n",
    "\n",
    "        # Building dataset\n",
    "        self.dataset = copy.deepcopy(df)\n",
    "        self.dataset['time'] = time\n",
    "        self.dataset['event'] = E\n",
    "        if include_hazard:\n",
    "            self.dataset['hazard'] = BX\n",
    "\n",
    "        # Building the time axis and time buckets\n",
    "        self.times = np.linspace(0.0, max(self.dataset[\"time\"]), self.bins)\n",
    "        self.get_time_buckets()\n",
    "\n",
    "        # Building baseline functions\n",
    "        self.baseline_hazard = self.hazard_function(self.times, 0)\n",
    "        self.baseline_survival = self.survival_function(self.times, 0)\n",
    "\n",
    "        # Printing summary message\n",
    "        message_to_print = \"Number of data-points: {} - Number of events: {}\"\n",
    "        print(message_to_print.format(num_samples, sum(E)))\n",
    "        return self.dataset"
   ],
   "metadata": {
    "collapsed": false,
    "pycharm": {
     "name": "#%%\n"
    }
   }
  },
  {
   "cell_type": "code",
   "execution_count": null,
   "outputs": [],
   "source": [
    "# Sample features\n",
    "data = None\n",
    "correlation_graph = CorrelationCaseGraph2()\n",
    "for _ in tqdm.trange(1000, desc='sampling'):\n",
    "    result = correlation_graph.sample()\n",
    "    data = result if data is None else data\n",
    "    for key in result.keys():\n",
    "        result[key] = result[key].tolist() if isinstance(result[key], np.ndarray) else result[key]\n",
    "        data[key].extend(result[key])\n",
    "del data[correlation_graph.noise0]\n",
    "del data[correlation_graph.noise1]\n",
    "\n",
    "# Generate data\n",
    "training_features = pd.DataFrame(data)\n",
    "sim = SimulationModelWithCorrelations(risk_type='square', alpha=1.0, beta=10.0,\n",
    "                                      censored_parameter=5.0, survival_distribution='weibull',\n",
    "                                      risk_parameter=2.5)\n",
    "feature_weights = [np.log(2), np.log(1.2)]\n",
    "feature_names = [correlation_graph.feature0, correlation_graph.feature1]\n",
    "training_df = sim.generate_data(training_features, feature_weights=feature_weights, feature_names=feature_names, include_hazard=False)"
   ],
   "metadata": {
    "collapsed": false,
    "pycharm": {
     "name": "#%%\n"
    }
   }
  },
  {
   "cell_type": "code",
   "execution_count": null,
   "outputs": [],
   "source": [
    "# Resample from graph\n",
    "attribution_dfs, intervention_details = correlation_graph.get_interventions(sim=sim, n_iterations=10, feature_weights=feature_weights)"
   ],
   "metadata": {
    "collapsed": false,
    "pycharm": {
     "name": "#%%\n"
    }
   }
  },
  {
   "cell_type": "code",
   "execution_count": null,
   "outputs": [],
   "source": [
    "experiment_id = 'sqr_correlation'\n",
    "save_orig(training_df, experiment_id, output_dir=DATA_DIRECTORY)\n",
    "for idx, df in enumerate(attribution_dfs):\n",
    "    df.to_csv(f'{directory}/{experiment_id}_attribute_feature{idx}.csv', index=False)\n",
    "intervention_details.to_csv(f'{directory}/{experiment_id}_attribute_details.csv', index=False)"
   ],
   "metadata": {
    "collapsed": false,
    "pycharm": {
     "name": "#%%\n"
    }
   }
  },
  {
   "cell_type": "markdown",
   "source": [
    "## Error calculation"
   ],
   "metadata": {
    "collapsed": false,
    "pycharm": {
     "name": "#%% md\n"
    }
   }
  },
  {
   "cell_type": "code",
   "execution_count": 15,
   "outputs": [
    {
     "ename": "ModuleNotFoundError",
     "evalue": "No module named 'riskiano.losses'",
     "output_type": "error",
     "traceback": [
      "\u001B[0;31m---------------------------------------------------------------------------\u001B[0m",
      "\u001B[0;31mModuleNotFoundError\u001B[0m                       Traceback (most recent call last)",
      "\u001B[0;32m<ipython-input-15-aa6d7fb2c10f>\u001B[0m in \u001B[0;36m<module>\u001B[0;34m\u001B[0m\n\u001B[1;32m     12\u001B[0m \u001B[0;32mimport\u001B[0m \u001B[0mtorch\u001B[0m\u001B[0;34m\u001B[0m\u001B[0;34m\u001B[0m\u001B[0m\n\u001B[1;32m     13\u001B[0m \u001B[0;32mfrom\u001B[0m \u001B[0msklearn\u001B[0m\u001B[0;34m.\u001B[0m\u001B[0mpreprocessing\u001B[0m \u001B[0;32mimport\u001B[0m \u001B[0mStandardScaler\u001B[0m\u001B[0;34m,\u001B[0m \u001B[0mMinMaxScaler\u001B[0m\u001B[0;34m\u001B[0m\u001B[0;34m\u001B[0m\u001B[0m\n\u001B[0;32m---> 14\u001B[0;31m \u001B[0;32mfrom\u001B[0m \u001B[0msource\u001B[0m\u001B[0;34m.\u001B[0m\u001B[0mtasks\u001B[0m \u001B[0;32mimport\u001B[0m \u001B[0mDeepSurv\u001B[0m\u001B[0;34m\u001B[0m\u001B[0;34m\u001B[0m\u001B[0m\n\u001B[0m\u001B[1;32m     15\u001B[0m \u001B[0;34m\u001B[0m\u001B[0m\n\u001B[1;32m     16\u001B[0m \u001B[0;32mfrom\u001B[0m \u001B[0mcaptum\u001B[0m\u001B[0;34m.\u001B[0m\u001B[0mattr\u001B[0m \u001B[0;32mimport\u001B[0m \u001B[0;34m*\u001B[0m\u001B[0;34m\u001B[0m\u001B[0;34m\u001B[0m\u001B[0m\n",
      "\u001B[0;32m~/medical_interpretability/source/tasks.py\u001B[0m in \u001B[0;36m<module>\u001B[0;34m\u001B[0m\n\u001B[1;32m      7\u001B[0m \u001B[0;32mimport\u001B[0m \u001B[0mnumpy\u001B[0m \u001B[0;32mas\u001B[0m \u001B[0mnp\u001B[0m\u001B[0;34m\u001B[0m\u001B[0;34m\u001B[0m\u001B[0m\n\u001B[1;32m      8\u001B[0m \u001B[0;34m\u001B[0m\u001B[0m\n\u001B[0;32m----> 9\u001B[0;31m \u001B[0;32mfrom\u001B[0m \u001B[0mriskiano\u001B[0m\u001B[0;34m.\u001B[0m\u001B[0mlosses\u001B[0m\u001B[0;34m.\u001B[0m\u001B[0msurvival\u001B[0m \u001B[0;32mimport\u001B[0m \u001B[0mcox_ph_loss\u001B[0m\u001B[0;34m\u001B[0m\u001B[0;34m\u001B[0m\u001B[0m\n\u001B[0m\u001B[1;32m     10\u001B[0m \u001B[0;32mfrom\u001B[0m \u001B[0mriskiano\u001B[0m\u001B[0;34m.\u001B[0m\u001B[0mdatamodules\u001B[0m\u001B[0;34m.\u001B[0m\u001B[0mdatasets\u001B[0m \u001B[0;32mimport\u001B[0m \u001B[0mBatchedDS\u001B[0m\u001B[0;34m,\u001B[0m \u001B[0mDeepHitBatchedDS\u001B[0m\u001B[0;34m\u001B[0m\u001B[0;34m\u001B[0m\u001B[0m\n\u001B[1;32m     11\u001B[0m \u001B[0;34m\u001B[0m\u001B[0m\n",
      "\u001B[0;31mModuleNotFoundError\u001B[0m: No module named 'riskiano.losses'"
     ]
    }
   ],
   "source": [
    "import sys\n",
    "sys.path.append('/home/ruyogagp/medical_interpretability')\n",
    "import numpy as np\n",
    "import networkx as nx\n",
    "import matplotlib.pyplot as plt\n",
    "from cga import cga\n",
    "import pandas as pd\n",
    "import neptune.new as neptune\n",
    "import wandb\n",
    "import pytorch_lightning as pl\n",
    "import torch.nn as nn\n",
    "import torch\n",
    "from sklearn.preprocessing import StandardScaler, MinMaxScaler\n",
    "from source.tasks import DeepSurv\n",
    "\n",
    "from captum.attr import *\n",
    "from captum.metrics import *\n",
    "from captum._utils.models.linear_model import SkLearnLinearRegression\n",
    "from source.wrappers import ForwardWrapper\n",
    "import os\n",
    "import seaborn as sns"
   ],
   "metadata": {
    "collapsed": false,
    "pycharm": {
     "name": "#%%\n"
    }
   }
  },
  {
   "cell_type": "code",
   "execution_count": 16,
   "outputs": [],
   "source": [
    "def load_attribute_details(experiment_id):\n",
    "    dir = '/data/analysis/ag-reils/ag-reils-shared/cardioRS/data/interpretability/resample_multiplicities'\n",
    "    path = f'{dir}/{experiment_id}_attribute_details.csv'\n",
    "    details_df = pd.read_csv(path)\n",
    "    return details_df, path\n",
    "\n",
    "# TODO: this works if the second tag is the experiment identifier\n",
    "def load_details(run):\n",
    "    dir = '/data/analysis/ag-reils/ag-reils-shared/cardioRS/data/interpretability/resample_multiplicities'\n",
    "    try:\n",
    "        path = f'{dir}/{run.tags[0]}_attribute_details.csv'\n",
    "        details_df = pd.read_csv(path)\n",
    "    except:\n",
    "        path = f'{dir}/{run.tags[1]}_attribute_details.csv'\n",
    "        details_df = pd.read_csv(path)\n",
    "    print(f'reading {path}')\n",
    "    return details_df, path\n",
    "\n",
    "def output_diff(model, orig_features, resampled_features):\n",
    "    orig_output, *_ = model(orig_features)\n",
    "    resampled_output, *_ = model(resampled_features)\n",
    "    with torch.no_grad():\n",
    "        diff = torch.sub(orig_output, resampled_output)\n",
    "    return diff.detach().numpy()\n",
    "\n",
    "# CREATE TUPLES FOR MODEL DIFF\n",
    "\n",
    "def col2numpy(df, colname):\n",
    "    \"\"\"\n",
    "    convert a dataframe column to a numpy array\n",
    "    :param df: dataframe\n",
    "    :param colname: column name to convert to numpy array\n",
    "    :return:\n",
    "    \"\"\"\n",
    "    vals = df.loc[:, colname].values.tolist()\n",
    "    vals_numpy = np.array([np.array(eval(row)) for row in vals])\n",
    "    return vals_numpy\n",
    "\n",
    "def clip_norm2d(array, tail):\n",
    "    \"\"\"\n",
    "    clips and normalizes the array to the range of [-1, 1]\n",
    "    :param array: array to be normalized\n",
    "    :return: normalized array\n",
    "    \"\"\"\n",
    "    array_norm = np.zeros((array.shape))\n",
    "    c_array = np.zeros((array.shape))\n",
    "    for i in range(array.shape[0]):\n",
    "        column = array[i, :]\n",
    "        outliers = np.percentile(column, [tail, 100-tail])\n",
    "        clipped_array = np.clip(column, *outliers)\n",
    "        col_norm = clipped_array / abs(clipped_array).max()\n",
    "        #TODO: !!!!!FIX THIS!!!!\n",
    "        array_norm[i, :] = col_norm\n",
    "        c_array[i, :] = clipped_array\n",
    "    return  array_norm, c_array\n",
    "\n",
    "def clip_norm1d(array, tail):\n",
    "    \"\"\"\n",
    "    clips and normalizes the array to the range of [-1, 1]\n",
    "    :param array:  array to be normalized\n",
    "    :return: normalized array\n",
    "    \"\"\"\n",
    "    outliers = np.percentile(array, [tail, 100-tail])\n",
    "    clipped_array = np.clip(array, *outliers)\n",
    "    array_norm = clipped_array / abs(clipped_array).max()\n",
    "    return array_norm, clipped_array\n",
    "\n",
    "def load_attributions(run, method, n_features=5):\n",
    "    attribution_list = [np.genfromtxt(run.config[f'{method}_feature{idx}_path'], delimiter=',') for idx in range(n_features)]\n",
    "    return attribution_list\n",
    "\n",
    "def reject_outliers(data, m = 150.0):\n",
    "    d = np.abs(data - np.median(data))\n",
    "    mdev = np.median(d)\n",
    "    s = d/mdev if mdev else 0.\n",
    "    max = data[s<m].max()\n",
    "    min = data[s<m].min()\n",
    "    out = np.where(s<m, data, np.where(data>0, max, min))\n",
    "    return out\n",
    "\n",
    "def clip2d(array):\n",
    "    clipped_array = np.zeros((array.shape))\n",
    "    for i in range(array.shape[0]):\n",
    "        clipped_array[i, :] = reject_outliers(array[i, :])\n",
    "    return clipped_array"
   ],
   "metadata": {
    "collapsed": false,
    "pycharm": {
     "name": "#%%\n"
    }
   }
  },
  {
   "cell_type": "code",
   "execution_count": 17,
   "outputs": [],
   "source": [
    "def create_resampling_df(experiment_id, n_resampling=100, n_features=6):\n",
    "    \"\"\"\n",
    "    Modify the original resampling dataframe to create per-feature resampling df with resampling differences\n",
    "    :param experiment_id: experiment identifier\n",
    "    :return: None -> saves resampling dataframe\n",
    "    \"\"\"\n",
    "    api = wandb.Api()\n",
    "    runs =  api.runs('cardiors/interpretability',\n",
    "                     filters={\"$and\": [{'tags': f'{experiment_id}'}, {'tags': 'resample_multiplicities'}, {'state': 'finished'}]})\n",
    "    run = runs[0]\n",
    "    details_df, path = load_attribute_details(experiment_id)\n",
    "\n",
    "    modified_attributes = [f'noise{idx}' for idx in range(n_features)]\n",
    "    for idx in range(n_features):\n",
    "        df = details_df[details_df.modified_attribute == f'noise{idx}']\n",
    "        colnames = [f'feature{idx}_intervention{n}' for n in range(n_resampling)]\n",
    "\n",
    "        # TODO\n",
    "        rcolnames = [f'feature1_intervention{n}' for n in range(n_resampling)]\n",
    "        rintervention_df = df.loc[:, rcolnames]\n",
    "        rintervention_df['intervention'] = rintervention_df.values.tolist()\n",
    "\n",
    "        intervention_df = df.loc[:, colnames]\n",
    "        intervention_df['intervention'] = intervention_df.values.tolist()\n",
    "        resampling_df = pd.DataFrame({f'feature{idx}_resampling': intervention_df.intervention,\n",
    "                                      'feature1_rresampling': rintervention_df.intervention,\n",
    "                                      f'feature{idx}_orig': df[f'feature{idx}_orig'],\n",
    "                                      'time_orig': df.time_orig,\n",
    "                                      'event_orig': df.event_orig})\n",
    "        # return resampling_df, df\n",
    "        for n in range(n_features):\n",
    "            resampling_df[f'feature{n}_orig'] = df[f'feature{n}_orig']\n",
    "\n",
    "        orig_vals = resampling_df.loc[:, f'feature{idx}_orig'].values\n",
    "        resamp_vals = resampling_df.loc[:, f'feature{idx}_resampling'].values.tolist()\n",
    "        resamp_vals_numpy=np.array([np.array(row) for row in resamp_vals])\n",
    "        orig_vals_array = np.array([[val] * n_resampling for val in orig_vals])\n",
    "        resampling_df.loc[:, 'resampling_diff'] = np.subtract(orig_vals_array, resamp_vals_numpy).tolist()\n",
    "\n",
    "        # exp_id_trunc = experiment_id[:-2]\n",
    "        resampling_df.to_csv(f'/data/analysis/ag-reils/ag-reils-shared/cardioRS/data/interpretability/resample_multiplicities/{experiment_id}_resampling_feature{idx}.csv')\n",
    "        print(f' wrote /data/analysis/ag-reils/ag-reils-shared/cardioRS/data/interpretability/resample_multiplicities/{experiment_id}_resampling_feature{idx}.csv')"
   ],
   "metadata": {
    "collapsed": false,
    "pycharm": {
     "name": "#%%\n"
    }
   }
  },
  {
   "cell_type": "code",
   "execution_count": 72,
   "outputs": [
    {
     "name": "stdout",
     "output_type": "stream",
     "text": [
      " wrote /data/analysis/ag-reils/ag-reils-shared/cardioRS/data/interpretability/resample_multiplicities/simpsons_revised_resampling_feature0.csv\n",
      " wrote /data/analysis/ag-reils/ag-reils-shared/cardioRS/data/interpretability/resample_multiplicities/simpsons_revised_resampling_feature1.csv\n"
     ]
    }
   ],
   "source": [
    "create_resampling_df(experiment_id='simpsons_revised', n_resampling=100, n_features=2)"
   ],
   "metadata": {
    "collapsed": false,
    "pycharm": {
     "name": "#%%\n"
    }
   }
  },
  {
   "cell_type": "code",
   "execution_count": 19,
   "outputs": [
    {
     "name": "stdout",
     "output_type": "stream",
     "text": [
      " wrote /data/analysis/ag-reils/ag-reils-shared/cardioRS/data/interpretability/resample_multiplicities/linear_revised_1_resampling_feature0.csv\n",
      " wrote /data/analysis/ag-reils/ag-reils-shared/cardioRS/data/interpretability/resample_multiplicities/linear_revised_1_resampling_feature1.csv\n",
      " wrote /data/analysis/ag-reils/ag-reils-shared/cardioRS/data/interpretability/resample_multiplicities/linear_revised_1_resampling_feature2.csv\n",
      " wrote /data/analysis/ag-reils/ag-reils-shared/cardioRS/data/interpretability/resample_multiplicities/linear_revised_1_resampling_feature3.csv\n"
     ]
    }
   ],
   "source": [
    "create_resampling_df(experiment_id='linear_revised_1', n_resampling=100, n_features=4)"
   ],
   "metadata": {
    "collapsed": false,
    "pycharm": {
     "name": "#%%\n"
    }
   }
  },
  {
   "cell_type": "code",
   "execution_count": 43,
   "outputs": [
    {
     "name": "stdout",
     "output_type": "stream",
     "text": [
      " wrote /data/analysis/ag-reils/ag-reils-shared/cardioRS/data/interpretability/resample_multiplicities/lognormal_cc_2_resampling_feature0.csv\n",
      " wrote /data/analysis/ag-reils/ag-reils-shared/cardioRS/data/interpretability/resample_multiplicities/lognormal_cc_2_resampling_feature1.csv\n",
      " wrote /data/analysis/ag-reils/ag-reils-shared/cardioRS/data/interpretability/resample_multiplicities/lognormal_cc_2_resampling_feature2.csv\n",
      " wrote /data/analysis/ag-reils/ag-reils-shared/cardioRS/data/interpretability/resample_multiplicities/lognormal_cc_2_resampling_feature3.csv\n",
      " wrote /data/analysis/ag-reils/ag-reils-shared/cardioRS/data/interpretability/resample_multiplicities/lognormal_cc_2_resampling_feature4.csv\n"
     ]
    }
   ],
   "source": [
    "create_resampling_df(experiment_id='lognormal_cc_2', n_resampling=100, n_features=5)"
   ],
   "metadata": {
    "collapsed": false,
    "pycharm": {
     "name": "#%%\n"
    }
   }
  },
  {
   "cell_type": "code",
   "execution_count": 44,
   "outputs": [
    {
     "name": "stdout",
     "output_type": "stream",
     "text": [
      " wrote /data/analysis/ag-reils/ag-reils-shared/cardioRS/data/interpretability/resample_multiplicities/lognormal_cc_3_resampling_feature0.csv\n",
      " wrote /data/analysis/ag-reils/ag-reils-shared/cardioRS/data/interpretability/resample_multiplicities/lognormal_cc_3_resampling_feature1.csv\n",
      " wrote /data/analysis/ag-reils/ag-reils-shared/cardioRS/data/interpretability/resample_multiplicities/lognormal_cc_3_resampling_feature2.csv\n",
      " wrote /data/analysis/ag-reils/ag-reils-shared/cardioRS/data/interpretability/resample_multiplicities/lognormal_cc_3_resampling_feature3.csv\n",
      " wrote /data/analysis/ag-reils/ag-reils-shared/cardioRS/data/interpretability/resample_multiplicities/lognormal_cc_3_resampling_feature4.csv\n",
      " wrote /data/analysis/ag-reils/ag-reils-shared/cardioRS/data/interpretability/resample_multiplicities/lognormal_cc_3_resampling_feature5.csv\n"
     ]
    }
   ],
   "source": [
    "create_resampling_df(experiment_id='lognormal_cc_3', n_resampling=100, n_features=6)"
   ],
   "metadata": {
    "collapsed": false,
    "pycharm": {
     "name": "#%%\n"
    }
   }
  },
  {
   "cell_type": "code",
   "execution_count": 10,
   "outputs": [],
   "source": [
    "experiment_id = 'lognormal_cc_1'\n",
    "api = wandb.Api()\n",
    "runs =  api.runs('cardiors/interpretability',\n",
    "                 filters={\"$and\": [{'tags': f'{experiment_id}'}, {'tags': 'resample_multiplicities'}, {'state': 'finished'}]})"
   ],
   "metadata": {
    "collapsed": false,
    "pycharm": {
     "name": "#%%\n"
    }
   }
  },
  {
   "cell_type": "code",
   "execution_count": 11,
   "outputs": [],
   "source": [
    "run=runs[0]"
   ],
   "metadata": {
    "collapsed": false,
    "pycharm": {
     "name": "#%%\n"
    }
   }
  },
  {
   "cell_type": "code",
   "execution_count": 12,
   "outputs": [
    {
     "data": {
      "text/plain": "'1dg0lx0q'"
     },
     "execution_count": 12,
     "metadata": {},
     "output_type": "execute_result"
    }
   ],
   "source": [
    "run.id"
   ],
   "metadata": {
    "collapsed": false,
    "pycharm": {
     "name": "#%%\n"
    }
   }
  },
  {
   "cell_type": "code",
   "execution_count": 10,
   "outputs": [],
   "source": [
    "def calculate_change_slope(experiment_id, n_features=5):\n",
    "    \"\"\"\n",
    "    Calculates change slope for each run\n",
    "    :param experiment_id: experiment identifier\n",
    "    :return: None -> saves the change slope per run\n",
    "    \"\"\"\n",
    "    api = wandb.Api()\n",
    "    runs =  api.runs('cardiors/interpretability',\n",
    "                     filters={\"$and\": [{'tags': f'{experiment_id}'}, {'tags': 'resample_multiplicities'}, {'state': 'finished'}]})\n",
    "    print(len(runs))\n",
    "    for run in runs:\n",
    "        for idx in range(n_features):\n",
    "            resampling_df = pd.read_csv(f'/data/analysis/ag-reils/ag-reils-shared/cardioRS/data/interpretability/resample_multiplicities/{experiment_id}_resampling_feature{idx}.csv', index_col=0)\n",
    "            print(f'read /data/analysis/ag-reils/ag-reils-shared/cardioRS/data/interpretability/resample_multiplicities/{experiment_id}_resampling_feature{idx}.csv')\n",
    "            intervention_df = pd.read_csv(f'/data/analysis/ag-reils/ag-reils-shared/cardioRS/data/interpretability/resample_multiplicities/{experiment_id}_attribute_details.csv')\n",
    "            intervention_df = intervention_df[intervention_df['modified_attribute']==f'noise{idx}']\n",
    "            try:\n",
    "                model = DeepSurv.load_from_checkpoint(run.config['checkpoint_path'])\n",
    "            except:\n",
    "                print(run.id)\n",
    "                continue\n",
    "\n",
    "            # create orig and resampling tensors\n",
    "            orig_features = [f'feature{idx}_orig' for idx in range(n_features)]\n",
    "            orig_tensor = torch.Tensor(resampling_df[orig_features].to_numpy(dtype='float64'))\n",
    "            resamp_tensors = []\n",
    "            resamp_vals = col2numpy(resampling_df, f'feature{idx}_resampling')\n",
    "            for i_intervention in range(100):\n",
    "                resamp_features = [f'feature{n}_intervention{i_intervention}' for n in range(n_features)]\n",
    "                resamp_tensors.append(torch.Tensor(intervention_df.loc[:, resamp_features].to_numpy(dtype='float64')))\n",
    "\n",
    "            # calculate model outputs\n",
    "            orig_output = model(orig_tensor)[0].detach().numpy()\n",
    "            resamp_outputs = None\n",
    "            for i in range(resamp_vals.shape[1]):\n",
    "                resamp_output = model(resamp_tensors[i])[0].detach().numpy()\n",
    "                resamp_outputs = resamp_output if resamp_outputs is None else np.concatenate((resamp_outputs, resamp_output), axis=1)\n",
    "\n",
    "            # calculate change_slope\n",
    "            model_diff = np.subtract(orig_output, resamp_outputs)\n",
    "            resampling_diff = col2numpy(resampling_df, 'resampling_diff')\n",
    "            change_slope = np.true_divide(model_diff, resampling_diff)\n",
    "            clipped_mean_cs = np.mean(clip2d(change_slope), axis=1)\n",
    "            mean_cs = np.mean(change_slope, axis=1)\n",
    "            median_cs = np.median(change_slope, axis=1)\n",
    "\n",
    "            # save values in dataframe\n",
    "            resampling_df.loc[:, 'orig_output'] = orig_output\n",
    "            resampling_df.loc[:, 'resamp_output'] = resamp_outputs.tolist()\n",
    "            resampling_df.loc[:, 'model_diff'] = model_diff.tolist()\n",
    "            resampling_df.loc[:, 'change_slope'] = change_slope.tolist()\n",
    "            resampling_df.loc[:, 'mean_cs'] = mean_cs\n",
    "            resampling_df.loc[:, 'clipped_mean_cs'] = clipped_mean_cs\n",
    "            resampling_df.loc[:, 'median_cs'] = median_cs\n",
    "            methods = ['FeaturePermutation',\n",
    "                       'IntegratedGradients',\n",
    "                       'InputxGradient',\n",
    "                       'Lime',\n",
    "                       'KernelExplainer',\n",
    "                       'DeepExplainer']\n",
    "\n",
    "            try:\n",
    "                for method in methods:\n",
    "                    attribution_list = load_attributions(run, method, n_features=n_features)\n",
    "                    resampling_df.loc[:, f'{method}_feature{idx}'] = attribution_list[idx].tolist()\n",
    "            except KeyError:\n",
    "                print(run.id)\n",
    "                continue\n",
    "\n",
    "            # Save dataframes\n",
    "            EVALUATION_DIR = '/data/analysis/ag-reils/ag-reils-shared/cardioRS/results/interpretability/resample_multiplicities/evaluation'\n",
    "            if not os.path.exists(f'{EVALUATION_DIR}/{experiment_id}'):\n",
    "                os.mkdir(f'{EVALUATION_DIR}/{experiment_id}')\n",
    "\n",
    "            if not os.path.exists(f'{EVALUATION_DIR}/{experiment_id}/change_slope'):\n",
    "                os.mkdir(f'{EVALUATION_DIR}/{experiment_id}/change_slope')\n",
    "\n",
    "            # very whack\n",
    "            seed = int(run.config['Lime_feature0_path'].split('_')[-1][:-4])\n",
    "\n",
    "            resampling_df.to_csv(f'{EVALUATION_DIR}/{experiment_id}/change_slope/feature{idx}_{seed}.csv')\n",
    "            print(f'Wrote {EVALUATION_DIR}/{experiment_id}/change_slope/feature{idx}_{seed}.csv')"
   ],
   "metadata": {
    "collapsed": false,
    "pycharm": {
     "name": "#%%\n"
    }
   }
  },
  {
   "cell_type": "code",
   "execution_count": null,
   "outputs": [],
   "source": [
    "calculate_change_slope('lognormal_cc_1', n_features=4)"
   ],
   "metadata": {
    "collapsed": false,
    "pycharm": {
     "name": "#%%\n"
    }
   }
  },
  {
   "cell_type": "code",
   "execution_count": 8,
   "outputs": [
    {
     "name": "stdout",
     "output_type": "stream",
     "text": [
      "44\n",
      "read /data/analysis/ag-reils/ag-reils-shared/cardioRS/data/interpretability/resample_multiplicities/lognormal_cc_2_resampling_feature0.csv\n",
      "Wrote /data/analysis/ag-reils/ag-reils-shared/cardioRS/results/interpretability/resample_multiplicities/evaluation/lognormal_cc_2/change_slope/feature0_520.csv\n",
      "read /data/analysis/ag-reils/ag-reils-shared/cardioRS/data/interpretability/resample_multiplicities/lognormal_cc_2_resampling_feature1.csv\n",
      "Wrote /data/analysis/ag-reils/ag-reils-shared/cardioRS/results/interpretability/resample_multiplicities/evaluation/lognormal_cc_2/change_slope/feature1_520.csv\n",
      "read /data/analysis/ag-reils/ag-reils-shared/cardioRS/data/interpretability/resample_multiplicities/lognormal_cc_2_resampling_feature2.csv\n",
      "Wrote /data/analysis/ag-reils/ag-reils-shared/cardioRS/results/interpretability/resample_multiplicities/evaluation/lognormal_cc_2/change_slope/feature2_520.csv\n",
      "read /data/analysis/ag-reils/ag-reils-shared/cardioRS/data/interpretability/resample_multiplicities/lognormal_cc_2_resampling_feature3.csv\n",
      "Wrote /data/analysis/ag-reils/ag-reils-shared/cardioRS/results/interpretability/resample_multiplicities/evaluation/lognormal_cc_2/change_slope/feature3_520.csv\n",
      "read /data/analysis/ag-reils/ag-reils-shared/cardioRS/data/interpretability/resample_multiplicities/lognormal_cc_2_resampling_feature4.csv\n",
      "Wrote /data/analysis/ag-reils/ag-reils-shared/cardioRS/results/interpretability/resample_multiplicities/evaluation/lognormal_cc_2/change_slope/feature4_520.csv\n",
      "read /data/analysis/ag-reils/ag-reils-shared/cardioRS/data/interpretability/resample_multiplicities/lognormal_cc_2_resampling_feature0.csv\n",
      "Wrote /data/analysis/ag-reils/ag-reils-shared/cardioRS/results/interpretability/resample_multiplicities/evaluation/lognormal_cc_2/change_slope/feature0_519.csv\n",
      "read /data/analysis/ag-reils/ag-reils-shared/cardioRS/data/interpretability/resample_multiplicities/lognormal_cc_2_resampling_feature1.csv\n",
      "Wrote /data/analysis/ag-reils/ag-reils-shared/cardioRS/results/interpretability/resample_multiplicities/evaluation/lognormal_cc_2/change_slope/feature1_519.csv\n",
      "read /data/analysis/ag-reils/ag-reils-shared/cardioRS/data/interpretability/resample_multiplicities/lognormal_cc_2_resampling_feature2.csv\n",
      "Wrote /data/analysis/ag-reils/ag-reils-shared/cardioRS/results/interpretability/resample_multiplicities/evaluation/lognormal_cc_2/change_slope/feature2_519.csv\n",
      "read /data/analysis/ag-reils/ag-reils-shared/cardioRS/data/interpretability/resample_multiplicities/lognormal_cc_2_resampling_feature3.csv\n",
      "Wrote /data/analysis/ag-reils/ag-reils-shared/cardioRS/results/interpretability/resample_multiplicities/evaluation/lognormal_cc_2/change_slope/feature3_519.csv\n",
      "read /data/analysis/ag-reils/ag-reils-shared/cardioRS/data/interpretability/resample_multiplicities/lognormal_cc_2_resampling_feature4.csv\n",
      "Wrote /data/analysis/ag-reils/ag-reils-shared/cardioRS/results/interpretability/resample_multiplicities/evaluation/lognormal_cc_2/change_slope/feature4_519.csv\n",
      "read /data/analysis/ag-reils/ag-reils-shared/cardioRS/data/interpretability/resample_multiplicities/lognormal_cc_2_resampling_feature0.csv\n",
      "Wrote /data/analysis/ag-reils/ag-reils-shared/cardioRS/results/interpretability/resample_multiplicities/evaluation/lognormal_cc_2/change_slope/feature0_518.csv\n",
      "read /data/analysis/ag-reils/ag-reils-shared/cardioRS/data/interpretability/resample_multiplicities/lognormal_cc_2_resampling_feature1.csv\n",
      "Wrote /data/analysis/ag-reils/ag-reils-shared/cardioRS/results/interpretability/resample_multiplicities/evaluation/lognormal_cc_2/change_slope/feature1_518.csv\n",
      "read /data/analysis/ag-reils/ag-reils-shared/cardioRS/data/interpretability/resample_multiplicities/lognormal_cc_2_resampling_feature2.csv\n",
      "Wrote /data/analysis/ag-reils/ag-reils-shared/cardioRS/results/interpretability/resample_multiplicities/evaluation/lognormal_cc_2/change_slope/feature2_518.csv\n",
      "read /data/analysis/ag-reils/ag-reils-shared/cardioRS/data/interpretability/resample_multiplicities/lognormal_cc_2_resampling_feature3.csv\n",
      "Wrote /data/analysis/ag-reils/ag-reils-shared/cardioRS/results/interpretability/resample_multiplicities/evaluation/lognormal_cc_2/change_slope/feature3_518.csv\n",
      "read /data/analysis/ag-reils/ag-reils-shared/cardioRS/data/interpretability/resample_multiplicities/lognormal_cc_2_resampling_feature4.csv\n",
      "Wrote /data/analysis/ag-reils/ag-reils-shared/cardioRS/results/interpretability/resample_multiplicities/evaluation/lognormal_cc_2/change_slope/feature4_518.csv\n",
      "read /data/analysis/ag-reils/ag-reils-shared/cardioRS/data/interpretability/resample_multiplicities/lognormal_cc_2_resampling_feature0.csv\n",
      "Wrote /data/analysis/ag-reils/ag-reils-shared/cardioRS/results/interpretability/resample_multiplicities/evaluation/lognormal_cc_2/change_slope/feature0_517.csv\n",
      "read /data/analysis/ag-reils/ag-reils-shared/cardioRS/data/interpretability/resample_multiplicities/lognormal_cc_2_resampling_feature1.csv\n",
      "Wrote /data/analysis/ag-reils/ag-reils-shared/cardioRS/results/interpretability/resample_multiplicities/evaluation/lognormal_cc_2/change_slope/feature1_517.csv\n",
      "read /data/analysis/ag-reils/ag-reils-shared/cardioRS/data/interpretability/resample_multiplicities/lognormal_cc_2_resampling_feature2.csv\n",
      "Wrote /data/analysis/ag-reils/ag-reils-shared/cardioRS/results/interpretability/resample_multiplicities/evaluation/lognormal_cc_2/change_slope/feature2_517.csv\n",
      "read /data/analysis/ag-reils/ag-reils-shared/cardioRS/data/interpretability/resample_multiplicities/lognormal_cc_2_resampling_feature3.csv\n",
      "Wrote /data/analysis/ag-reils/ag-reils-shared/cardioRS/results/interpretability/resample_multiplicities/evaluation/lognormal_cc_2/change_slope/feature3_517.csv\n",
      "read /data/analysis/ag-reils/ag-reils-shared/cardioRS/data/interpretability/resample_multiplicities/lognormal_cc_2_resampling_feature4.csv\n",
      "Wrote /data/analysis/ag-reils/ag-reils-shared/cardioRS/results/interpretability/resample_multiplicities/evaluation/lognormal_cc_2/change_slope/feature4_517.csv\n",
      "read /data/analysis/ag-reils/ag-reils-shared/cardioRS/data/interpretability/resample_multiplicities/lognormal_cc_2_resampling_feature0.csv\n",
      "Wrote /data/analysis/ag-reils/ag-reils-shared/cardioRS/results/interpretability/resample_multiplicities/evaluation/lognormal_cc_2/change_slope/feature0_516.csv\n",
      "read /data/analysis/ag-reils/ag-reils-shared/cardioRS/data/interpretability/resample_multiplicities/lognormal_cc_2_resampling_feature1.csv\n",
      "Wrote /data/analysis/ag-reils/ag-reils-shared/cardioRS/results/interpretability/resample_multiplicities/evaluation/lognormal_cc_2/change_slope/feature1_516.csv\n",
      "read /data/analysis/ag-reils/ag-reils-shared/cardioRS/data/interpretability/resample_multiplicities/lognormal_cc_2_resampling_feature2.csv\n",
      "Wrote /data/analysis/ag-reils/ag-reils-shared/cardioRS/results/interpretability/resample_multiplicities/evaluation/lognormal_cc_2/change_slope/feature2_516.csv\n",
      "read /data/analysis/ag-reils/ag-reils-shared/cardioRS/data/interpretability/resample_multiplicities/lognormal_cc_2_resampling_feature3.csv\n",
      "Wrote /data/analysis/ag-reils/ag-reils-shared/cardioRS/results/interpretability/resample_multiplicities/evaluation/lognormal_cc_2/change_slope/feature3_516.csv\n",
      "read /data/analysis/ag-reils/ag-reils-shared/cardioRS/data/interpretability/resample_multiplicities/lognormal_cc_2_resampling_feature4.csv\n",
      "Wrote /data/analysis/ag-reils/ag-reils-shared/cardioRS/results/interpretability/resample_multiplicities/evaluation/lognormal_cc_2/change_slope/feature4_516.csv\n",
      "read /data/analysis/ag-reils/ag-reils-shared/cardioRS/data/interpretability/resample_multiplicities/lognormal_cc_2_resampling_feature0.csv\n",
      "Wrote /data/analysis/ag-reils/ag-reils-shared/cardioRS/results/interpretability/resample_multiplicities/evaluation/lognormal_cc_2/change_slope/feature0_515.csv\n",
      "read /data/analysis/ag-reils/ag-reils-shared/cardioRS/data/interpretability/resample_multiplicities/lognormal_cc_2_resampling_feature1.csv\n",
      "Wrote /data/analysis/ag-reils/ag-reils-shared/cardioRS/results/interpretability/resample_multiplicities/evaluation/lognormal_cc_2/change_slope/feature1_515.csv\n",
      "read /data/analysis/ag-reils/ag-reils-shared/cardioRS/data/interpretability/resample_multiplicities/lognormal_cc_2_resampling_feature2.csv\n",
      "Wrote /data/analysis/ag-reils/ag-reils-shared/cardioRS/results/interpretability/resample_multiplicities/evaluation/lognormal_cc_2/change_slope/feature2_515.csv\n",
      "read /data/analysis/ag-reils/ag-reils-shared/cardioRS/data/interpretability/resample_multiplicities/lognormal_cc_2_resampling_feature3.csv\n",
      "Wrote /data/analysis/ag-reils/ag-reils-shared/cardioRS/results/interpretability/resample_multiplicities/evaluation/lognormal_cc_2/change_slope/feature3_515.csv\n",
      "read /data/analysis/ag-reils/ag-reils-shared/cardioRS/data/interpretability/resample_multiplicities/lognormal_cc_2_resampling_feature4.csv\n",
      "Wrote /data/analysis/ag-reils/ag-reils-shared/cardioRS/results/interpretability/resample_multiplicities/evaluation/lognormal_cc_2/change_slope/feature4_515.csv\n",
      "read /data/analysis/ag-reils/ag-reils-shared/cardioRS/data/interpretability/resample_multiplicities/lognormal_cc_2_resampling_feature0.csv\n",
      "Wrote /data/analysis/ag-reils/ag-reils-shared/cardioRS/results/interpretability/resample_multiplicities/evaluation/lognormal_cc_2/change_slope/feature0_514.csv\n",
      "read /data/analysis/ag-reils/ag-reils-shared/cardioRS/data/interpretability/resample_multiplicities/lognormal_cc_2_resampling_feature1.csv\n",
      "Wrote /data/analysis/ag-reils/ag-reils-shared/cardioRS/results/interpretability/resample_multiplicities/evaluation/lognormal_cc_2/change_slope/feature1_514.csv\n",
      "read /data/analysis/ag-reils/ag-reils-shared/cardioRS/data/interpretability/resample_multiplicities/lognormal_cc_2_resampling_feature2.csv\n",
      "Wrote /data/analysis/ag-reils/ag-reils-shared/cardioRS/results/interpretability/resample_multiplicities/evaluation/lognormal_cc_2/change_slope/feature2_514.csv\n",
      "read /data/analysis/ag-reils/ag-reils-shared/cardioRS/data/interpretability/resample_multiplicities/lognormal_cc_2_resampling_feature3.csv\n",
      "Wrote /data/analysis/ag-reils/ag-reils-shared/cardioRS/results/interpretability/resample_multiplicities/evaluation/lognormal_cc_2/change_slope/feature3_514.csv\n",
      "read /data/analysis/ag-reils/ag-reils-shared/cardioRS/data/interpretability/resample_multiplicities/lognormal_cc_2_resampling_feature4.csv\n",
      "Wrote /data/analysis/ag-reils/ag-reils-shared/cardioRS/results/interpretability/resample_multiplicities/evaluation/lognormal_cc_2/change_slope/feature4_514.csv\n",
      "read /data/analysis/ag-reils/ag-reils-shared/cardioRS/data/interpretability/resample_multiplicities/lognormal_cc_2_resampling_feature0.csv\n",
      "Wrote /data/analysis/ag-reils/ag-reils-shared/cardioRS/results/interpretability/resample_multiplicities/evaluation/lognormal_cc_2/change_slope/feature0_513.csv\n",
      "read /data/analysis/ag-reils/ag-reils-shared/cardioRS/data/interpretability/resample_multiplicities/lognormal_cc_2_resampling_feature1.csv\n",
      "Wrote /data/analysis/ag-reils/ag-reils-shared/cardioRS/results/interpretability/resample_multiplicities/evaluation/lognormal_cc_2/change_slope/feature1_513.csv\n",
      "read /data/analysis/ag-reils/ag-reils-shared/cardioRS/data/interpretability/resample_multiplicities/lognormal_cc_2_resampling_feature2.csv\n",
      "Wrote /data/analysis/ag-reils/ag-reils-shared/cardioRS/results/interpretability/resample_multiplicities/evaluation/lognormal_cc_2/change_slope/feature2_513.csv\n",
      "read /data/analysis/ag-reils/ag-reils-shared/cardioRS/data/interpretability/resample_multiplicities/lognormal_cc_2_resampling_feature3.csv\n",
      "Wrote /data/analysis/ag-reils/ag-reils-shared/cardioRS/results/interpretability/resample_multiplicities/evaluation/lognormal_cc_2/change_slope/feature3_513.csv\n",
      "read /data/analysis/ag-reils/ag-reils-shared/cardioRS/data/interpretability/resample_multiplicities/lognormal_cc_2_resampling_feature4.csv\n",
      "Wrote /data/analysis/ag-reils/ag-reils-shared/cardioRS/results/interpretability/resample_multiplicities/evaluation/lognormal_cc_2/change_slope/feature4_513.csv\n",
      "read /data/analysis/ag-reils/ag-reils-shared/cardioRS/data/interpretability/resample_multiplicities/lognormal_cc_2_resampling_feature0.csv\n",
      "Wrote /data/analysis/ag-reils/ag-reils-shared/cardioRS/results/interpretability/resample_multiplicities/evaluation/lognormal_cc_2/change_slope/feature0_512.csv\n",
      "read /data/analysis/ag-reils/ag-reils-shared/cardioRS/data/interpretability/resample_multiplicities/lognormal_cc_2_resampling_feature1.csv\n",
      "Wrote /data/analysis/ag-reils/ag-reils-shared/cardioRS/results/interpretability/resample_multiplicities/evaluation/lognormal_cc_2/change_slope/feature1_512.csv\n",
      "read /data/analysis/ag-reils/ag-reils-shared/cardioRS/data/interpretability/resample_multiplicities/lognormal_cc_2_resampling_feature2.csv\n",
      "Wrote /data/analysis/ag-reils/ag-reils-shared/cardioRS/results/interpretability/resample_multiplicities/evaluation/lognormal_cc_2/change_slope/feature2_512.csv\n",
      "read /data/analysis/ag-reils/ag-reils-shared/cardioRS/data/interpretability/resample_multiplicities/lognormal_cc_2_resampling_feature3.csv\n",
      "Wrote /data/analysis/ag-reils/ag-reils-shared/cardioRS/results/interpretability/resample_multiplicities/evaluation/lognormal_cc_2/change_slope/feature3_512.csv\n",
      "read /data/analysis/ag-reils/ag-reils-shared/cardioRS/data/interpretability/resample_multiplicities/lognormal_cc_2_resampling_feature4.csv\n",
      "Wrote /data/analysis/ag-reils/ag-reils-shared/cardioRS/results/interpretability/resample_multiplicities/evaluation/lognormal_cc_2/change_slope/feature4_512.csv\n",
      "read /data/analysis/ag-reils/ag-reils-shared/cardioRS/data/interpretability/resample_multiplicities/lognormal_cc_2_resampling_feature0.csv\n",
      "Wrote /data/analysis/ag-reils/ag-reils-shared/cardioRS/results/interpretability/resample_multiplicities/evaluation/lognormal_cc_2/change_slope/feature0_511.csv\n",
      "read /data/analysis/ag-reils/ag-reils-shared/cardioRS/data/interpretability/resample_multiplicities/lognormal_cc_2_resampling_feature1.csv\n",
      "Wrote /data/analysis/ag-reils/ag-reils-shared/cardioRS/results/interpretability/resample_multiplicities/evaluation/lognormal_cc_2/change_slope/feature1_511.csv\n",
      "read /data/analysis/ag-reils/ag-reils-shared/cardioRS/data/interpretability/resample_multiplicities/lognormal_cc_2_resampling_feature2.csv\n",
      "Wrote /data/analysis/ag-reils/ag-reils-shared/cardioRS/results/interpretability/resample_multiplicities/evaluation/lognormal_cc_2/change_slope/feature2_511.csv\n",
      "read /data/analysis/ag-reils/ag-reils-shared/cardioRS/data/interpretability/resample_multiplicities/lognormal_cc_2_resampling_feature3.csv\n",
      "Wrote /data/analysis/ag-reils/ag-reils-shared/cardioRS/results/interpretability/resample_multiplicities/evaluation/lognormal_cc_2/change_slope/feature3_511.csv\n",
      "read /data/analysis/ag-reils/ag-reils-shared/cardioRS/data/interpretability/resample_multiplicities/lognormal_cc_2_resampling_feature4.csv\n",
      "Wrote /data/analysis/ag-reils/ag-reils-shared/cardioRS/results/interpretability/resample_multiplicities/evaluation/lognormal_cc_2/change_slope/feature4_511.csv\n",
      "read /data/analysis/ag-reils/ag-reils-shared/cardioRS/data/interpretability/resample_multiplicities/lognormal_cc_2_resampling_feature0.csv\n",
      "Wrote /data/analysis/ag-reils/ag-reils-shared/cardioRS/results/interpretability/resample_multiplicities/evaluation/lognormal_cc_2/change_slope/feature0_510.csv\n",
      "read /data/analysis/ag-reils/ag-reils-shared/cardioRS/data/interpretability/resample_multiplicities/lognormal_cc_2_resampling_feature1.csv\n",
      "Wrote /data/analysis/ag-reils/ag-reils-shared/cardioRS/results/interpretability/resample_multiplicities/evaluation/lognormal_cc_2/change_slope/feature1_510.csv\n",
      "read /data/analysis/ag-reils/ag-reils-shared/cardioRS/data/interpretability/resample_multiplicities/lognormal_cc_2_resampling_feature2.csv\n",
      "Wrote /data/analysis/ag-reils/ag-reils-shared/cardioRS/results/interpretability/resample_multiplicities/evaluation/lognormal_cc_2/change_slope/feature2_510.csv\n",
      "read /data/analysis/ag-reils/ag-reils-shared/cardioRS/data/interpretability/resample_multiplicities/lognormal_cc_2_resampling_feature3.csv\n",
      "Wrote /data/analysis/ag-reils/ag-reils-shared/cardioRS/results/interpretability/resample_multiplicities/evaluation/lognormal_cc_2/change_slope/feature3_510.csv\n",
      "read /data/analysis/ag-reils/ag-reils-shared/cardioRS/data/interpretability/resample_multiplicities/lognormal_cc_2_resampling_feature4.csv\n",
      "Wrote /data/analysis/ag-reils/ag-reils-shared/cardioRS/results/interpretability/resample_multiplicities/evaluation/lognormal_cc_2/change_slope/feature4_510.csv\n",
      "read /data/analysis/ag-reils/ag-reils-shared/cardioRS/data/interpretability/resample_multiplicities/lognormal_cc_2_resampling_feature0.csv\n",
      "Wrote /data/analysis/ag-reils/ag-reils-shared/cardioRS/results/interpretability/resample_multiplicities/evaluation/lognormal_cc_2/change_slope/feature0_509.csv\n",
      "read /data/analysis/ag-reils/ag-reils-shared/cardioRS/data/interpretability/resample_multiplicities/lognormal_cc_2_resampling_feature1.csv\n",
      "Wrote /data/analysis/ag-reils/ag-reils-shared/cardioRS/results/interpretability/resample_multiplicities/evaluation/lognormal_cc_2/change_slope/feature1_509.csv\n",
      "read /data/analysis/ag-reils/ag-reils-shared/cardioRS/data/interpretability/resample_multiplicities/lognormal_cc_2_resampling_feature2.csv\n",
      "Wrote /data/analysis/ag-reils/ag-reils-shared/cardioRS/results/interpretability/resample_multiplicities/evaluation/lognormal_cc_2/change_slope/feature2_509.csv\n",
      "read /data/analysis/ag-reils/ag-reils-shared/cardioRS/data/interpretability/resample_multiplicities/lognormal_cc_2_resampling_feature3.csv\n",
      "Wrote /data/analysis/ag-reils/ag-reils-shared/cardioRS/results/interpretability/resample_multiplicities/evaluation/lognormal_cc_2/change_slope/feature3_509.csv\n",
      "read /data/analysis/ag-reils/ag-reils-shared/cardioRS/data/interpretability/resample_multiplicities/lognormal_cc_2_resampling_feature4.csv\n",
      "Wrote /data/analysis/ag-reils/ag-reils-shared/cardioRS/results/interpretability/resample_multiplicities/evaluation/lognormal_cc_2/change_slope/feature4_509.csv\n",
      "read /data/analysis/ag-reils/ag-reils-shared/cardioRS/data/interpretability/resample_multiplicities/lognormal_cc_2_resampling_feature0.csv\n",
      "Wrote /data/analysis/ag-reils/ag-reils-shared/cardioRS/results/interpretability/resample_multiplicities/evaluation/lognormal_cc_2/change_slope/feature0_508.csv\n",
      "read /data/analysis/ag-reils/ag-reils-shared/cardioRS/data/interpretability/resample_multiplicities/lognormal_cc_2_resampling_feature1.csv\n",
      "Wrote /data/analysis/ag-reils/ag-reils-shared/cardioRS/results/interpretability/resample_multiplicities/evaluation/lognormal_cc_2/change_slope/feature1_508.csv\n",
      "read /data/analysis/ag-reils/ag-reils-shared/cardioRS/data/interpretability/resample_multiplicities/lognormal_cc_2_resampling_feature2.csv\n",
      "Wrote /data/analysis/ag-reils/ag-reils-shared/cardioRS/results/interpretability/resample_multiplicities/evaluation/lognormal_cc_2/change_slope/feature2_508.csv\n",
      "read /data/analysis/ag-reils/ag-reils-shared/cardioRS/data/interpretability/resample_multiplicities/lognormal_cc_2_resampling_feature3.csv\n",
      "Wrote /data/analysis/ag-reils/ag-reils-shared/cardioRS/results/interpretability/resample_multiplicities/evaluation/lognormal_cc_2/change_slope/feature3_508.csv\n",
      "read /data/analysis/ag-reils/ag-reils-shared/cardioRS/data/interpretability/resample_multiplicities/lognormal_cc_2_resampling_feature4.csv\n",
      "Wrote /data/analysis/ag-reils/ag-reils-shared/cardioRS/results/interpretability/resample_multiplicities/evaluation/lognormal_cc_2/change_slope/feature4_508.csv\n",
      "read /data/analysis/ag-reils/ag-reils-shared/cardioRS/data/interpretability/resample_multiplicities/lognormal_cc_2_resampling_feature0.csv\n",
      "Wrote /data/analysis/ag-reils/ag-reils-shared/cardioRS/results/interpretability/resample_multiplicities/evaluation/lognormal_cc_2/change_slope/feature0_507.csv\n",
      "read /data/analysis/ag-reils/ag-reils-shared/cardioRS/data/interpretability/resample_multiplicities/lognormal_cc_2_resampling_feature1.csv\n",
      "Wrote /data/analysis/ag-reils/ag-reils-shared/cardioRS/results/interpretability/resample_multiplicities/evaluation/lognormal_cc_2/change_slope/feature1_507.csv\n",
      "read /data/analysis/ag-reils/ag-reils-shared/cardioRS/data/interpretability/resample_multiplicities/lognormal_cc_2_resampling_feature2.csv\n",
      "Wrote /data/analysis/ag-reils/ag-reils-shared/cardioRS/results/interpretability/resample_multiplicities/evaluation/lognormal_cc_2/change_slope/feature2_507.csv\n",
      "read /data/analysis/ag-reils/ag-reils-shared/cardioRS/data/interpretability/resample_multiplicities/lognormal_cc_2_resampling_feature3.csv\n",
      "Wrote /data/analysis/ag-reils/ag-reils-shared/cardioRS/results/interpretability/resample_multiplicities/evaluation/lognormal_cc_2/change_slope/feature3_507.csv\n",
      "read /data/analysis/ag-reils/ag-reils-shared/cardioRS/data/interpretability/resample_multiplicities/lognormal_cc_2_resampling_feature4.csv\n",
      "Wrote /data/analysis/ag-reils/ag-reils-shared/cardioRS/results/interpretability/resample_multiplicities/evaluation/lognormal_cc_2/change_slope/feature4_507.csv\n",
      "read /data/analysis/ag-reils/ag-reils-shared/cardioRS/data/interpretability/resample_multiplicities/lognormal_cc_2_resampling_feature0.csv\n",
      "Wrote /data/analysis/ag-reils/ag-reils-shared/cardioRS/results/interpretability/resample_multiplicities/evaluation/lognormal_cc_2/change_slope/feature0_506.csv\n",
      "read /data/analysis/ag-reils/ag-reils-shared/cardioRS/data/interpretability/resample_multiplicities/lognormal_cc_2_resampling_feature1.csv\n",
      "Wrote /data/analysis/ag-reils/ag-reils-shared/cardioRS/results/interpretability/resample_multiplicities/evaluation/lognormal_cc_2/change_slope/feature1_506.csv\n",
      "read /data/analysis/ag-reils/ag-reils-shared/cardioRS/data/interpretability/resample_multiplicities/lognormal_cc_2_resampling_feature2.csv\n",
      "Wrote /data/analysis/ag-reils/ag-reils-shared/cardioRS/results/interpretability/resample_multiplicities/evaluation/lognormal_cc_2/change_slope/feature2_506.csv\n",
      "read /data/analysis/ag-reils/ag-reils-shared/cardioRS/data/interpretability/resample_multiplicities/lognormal_cc_2_resampling_feature3.csv\n",
      "Wrote /data/analysis/ag-reils/ag-reils-shared/cardioRS/results/interpretability/resample_multiplicities/evaluation/lognormal_cc_2/change_slope/feature3_506.csv\n",
      "read /data/analysis/ag-reils/ag-reils-shared/cardioRS/data/interpretability/resample_multiplicities/lognormal_cc_2_resampling_feature4.csv\n",
      "Wrote /data/analysis/ag-reils/ag-reils-shared/cardioRS/results/interpretability/resample_multiplicities/evaluation/lognormal_cc_2/change_slope/feature4_506.csv\n",
      "read /data/analysis/ag-reils/ag-reils-shared/cardioRS/data/interpretability/resample_multiplicities/lognormal_cc_2_resampling_feature0.csv\n",
      "Wrote /data/analysis/ag-reils/ag-reils-shared/cardioRS/results/interpretability/resample_multiplicities/evaluation/lognormal_cc_2/change_slope/feature0_505.csv\n",
      "read /data/analysis/ag-reils/ag-reils-shared/cardioRS/data/interpretability/resample_multiplicities/lognormal_cc_2_resampling_feature1.csv\n",
      "Wrote /data/analysis/ag-reils/ag-reils-shared/cardioRS/results/interpretability/resample_multiplicities/evaluation/lognormal_cc_2/change_slope/feature1_505.csv\n",
      "read /data/analysis/ag-reils/ag-reils-shared/cardioRS/data/interpretability/resample_multiplicities/lognormal_cc_2_resampling_feature2.csv\n",
      "Wrote /data/analysis/ag-reils/ag-reils-shared/cardioRS/results/interpretability/resample_multiplicities/evaluation/lognormal_cc_2/change_slope/feature2_505.csv\n",
      "read /data/analysis/ag-reils/ag-reils-shared/cardioRS/data/interpretability/resample_multiplicities/lognormal_cc_2_resampling_feature3.csv\n",
      "Wrote /data/analysis/ag-reils/ag-reils-shared/cardioRS/results/interpretability/resample_multiplicities/evaluation/lognormal_cc_2/change_slope/feature3_505.csv\n",
      "read /data/analysis/ag-reils/ag-reils-shared/cardioRS/data/interpretability/resample_multiplicities/lognormal_cc_2_resampling_feature4.csv\n",
      "Wrote /data/analysis/ag-reils/ag-reils-shared/cardioRS/results/interpretability/resample_multiplicities/evaluation/lognormal_cc_2/change_slope/feature4_505.csv\n",
      "read /data/analysis/ag-reils/ag-reils-shared/cardioRS/data/interpretability/resample_multiplicities/lognormal_cc_2_resampling_feature0.csv\n",
      "Wrote /data/analysis/ag-reils/ag-reils-shared/cardioRS/results/interpretability/resample_multiplicities/evaluation/lognormal_cc_2/change_slope/feature0_504.csv\n",
      "read /data/analysis/ag-reils/ag-reils-shared/cardioRS/data/interpretability/resample_multiplicities/lognormal_cc_2_resampling_feature1.csv\n",
      "Wrote /data/analysis/ag-reils/ag-reils-shared/cardioRS/results/interpretability/resample_multiplicities/evaluation/lognormal_cc_2/change_slope/feature1_504.csv\n",
      "read /data/analysis/ag-reils/ag-reils-shared/cardioRS/data/interpretability/resample_multiplicities/lognormal_cc_2_resampling_feature2.csv\n",
      "Wrote /data/analysis/ag-reils/ag-reils-shared/cardioRS/results/interpretability/resample_multiplicities/evaluation/lognormal_cc_2/change_slope/feature2_504.csv\n",
      "read /data/analysis/ag-reils/ag-reils-shared/cardioRS/data/interpretability/resample_multiplicities/lognormal_cc_2_resampling_feature3.csv\n",
      "Wrote /data/analysis/ag-reils/ag-reils-shared/cardioRS/results/interpretability/resample_multiplicities/evaluation/lognormal_cc_2/change_slope/feature3_504.csv\n",
      "read /data/analysis/ag-reils/ag-reils-shared/cardioRS/data/interpretability/resample_multiplicities/lognormal_cc_2_resampling_feature4.csv\n",
      "Wrote /data/analysis/ag-reils/ag-reils-shared/cardioRS/results/interpretability/resample_multiplicities/evaluation/lognormal_cc_2/change_slope/feature4_504.csv\n",
      "read /data/analysis/ag-reils/ag-reils-shared/cardioRS/data/interpretability/resample_multiplicities/lognormal_cc_2_resampling_feature0.csv\n",
      "Wrote /data/analysis/ag-reils/ag-reils-shared/cardioRS/results/interpretability/resample_multiplicities/evaluation/lognormal_cc_2/change_slope/feature0_503.csv\n",
      "read /data/analysis/ag-reils/ag-reils-shared/cardioRS/data/interpretability/resample_multiplicities/lognormal_cc_2_resampling_feature1.csv\n",
      "Wrote /data/analysis/ag-reils/ag-reils-shared/cardioRS/results/interpretability/resample_multiplicities/evaluation/lognormal_cc_2/change_slope/feature1_503.csv\n",
      "read /data/analysis/ag-reils/ag-reils-shared/cardioRS/data/interpretability/resample_multiplicities/lognormal_cc_2_resampling_feature2.csv\n",
      "Wrote /data/analysis/ag-reils/ag-reils-shared/cardioRS/results/interpretability/resample_multiplicities/evaluation/lognormal_cc_2/change_slope/feature2_503.csv\n",
      "read /data/analysis/ag-reils/ag-reils-shared/cardioRS/data/interpretability/resample_multiplicities/lognormal_cc_2_resampling_feature3.csv\n",
      "Wrote /data/analysis/ag-reils/ag-reils-shared/cardioRS/results/interpretability/resample_multiplicities/evaluation/lognormal_cc_2/change_slope/feature3_503.csv\n",
      "read /data/analysis/ag-reils/ag-reils-shared/cardioRS/data/interpretability/resample_multiplicities/lognormal_cc_2_resampling_feature4.csv\n",
      "Wrote /data/analysis/ag-reils/ag-reils-shared/cardioRS/results/interpretability/resample_multiplicities/evaluation/lognormal_cc_2/change_slope/feature4_503.csv\n",
      "read /data/analysis/ag-reils/ag-reils-shared/cardioRS/data/interpretability/resample_multiplicities/lognormal_cc_2_resampling_feature0.csv\n",
      "Wrote /data/analysis/ag-reils/ag-reils-shared/cardioRS/results/interpretability/resample_multiplicities/evaluation/lognormal_cc_2/change_slope/feature0_502.csv\n",
      "read /data/analysis/ag-reils/ag-reils-shared/cardioRS/data/interpretability/resample_multiplicities/lognormal_cc_2_resampling_feature1.csv\n",
      "Wrote /data/analysis/ag-reils/ag-reils-shared/cardioRS/results/interpretability/resample_multiplicities/evaluation/lognormal_cc_2/change_slope/feature1_502.csv\n",
      "read /data/analysis/ag-reils/ag-reils-shared/cardioRS/data/interpretability/resample_multiplicities/lognormal_cc_2_resampling_feature2.csv\n",
      "Wrote /data/analysis/ag-reils/ag-reils-shared/cardioRS/results/interpretability/resample_multiplicities/evaluation/lognormal_cc_2/change_slope/feature2_502.csv\n",
      "read /data/analysis/ag-reils/ag-reils-shared/cardioRS/data/interpretability/resample_multiplicities/lognormal_cc_2_resampling_feature3.csv\n",
      "Wrote /data/analysis/ag-reils/ag-reils-shared/cardioRS/results/interpretability/resample_multiplicities/evaluation/lognormal_cc_2/change_slope/feature3_502.csv\n",
      "read /data/analysis/ag-reils/ag-reils-shared/cardioRS/data/interpretability/resample_multiplicities/lognormal_cc_2_resampling_feature4.csv\n",
      "Wrote /data/analysis/ag-reils/ag-reils-shared/cardioRS/results/interpretability/resample_multiplicities/evaluation/lognormal_cc_2/change_slope/feature4_502.csv\n",
      "read /data/analysis/ag-reils/ag-reils-shared/cardioRS/data/interpretability/resample_multiplicities/lognormal_cc_2_resampling_feature0.csv\n",
      "Wrote /data/analysis/ag-reils/ag-reils-shared/cardioRS/results/interpretability/resample_multiplicities/evaluation/lognormal_cc_2/change_slope/feature0_501.csv\n",
      "read /data/analysis/ag-reils/ag-reils-shared/cardioRS/data/interpretability/resample_multiplicities/lognormal_cc_2_resampling_feature1.csv\n",
      "Wrote /data/analysis/ag-reils/ag-reils-shared/cardioRS/results/interpretability/resample_multiplicities/evaluation/lognormal_cc_2/change_slope/feature1_501.csv\n",
      "read /data/analysis/ag-reils/ag-reils-shared/cardioRS/data/interpretability/resample_multiplicities/lognormal_cc_2_resampling_feature2.csv\n",
      "Wrote /data/analysis/ag-reils/ag-reils-shared/cardioRS/results/interpretability/resample_multiplicities/evaluation/lognormal_cc_2/change_slope/feature2_501.csv\n",
      "read /data/analysis/ag-reils/ag-reils-shared/cardioRS/data/interpretability/resample_multiplicities/lognormal_cc_2_resampling_feature3.csv\n",
      "Wrote /data/analysis/ag-reils/ag-reils-shared/cardioRS/results/interpretability/resample_multiplicities/evaluation/lognormal_cc_2/change_slope/feature3_501.csv\n",
      "read /data/analysis/ag-reils/ag-reils-shared/cardioRS/data/interpretability/resample_multiplicities/lognormal_cc_2_resampling_feature4.csv\n",
      "Wrote /data/analysis/ag-reils/ag-reils-shared/cardioRS/results/interpretability/resample_multiplicities/evaluation/lognormal_cc_2/change_slope/feature4_501.csv\n",
      "read /data/analysis/ag-reils/ag-reils-shared/cardioRS/data/interpretability/resample_multiplicities/lognormal_cc_2_resampling_feature0.csv\n",
      "Wrote /data/analysis/ag-reils/ag-reils-shared/cardioRS/results/interpretability/resample_multiplicities/evaluation/lognormal_cc_2/change_slope/feature0_500.csv\n",
      "read /data/analysis/ag-reils/ag-reils-shared/cardioRS/data/interpretability/resample_multiplicities/lognormal_cc_2_resampling_feature1.csv\n",
      "Wrote /data/analysis/ag-reils/ag-reils-shared/cardioRS/results/interpretability/resample_multiplicities/evaluation/lognormal_cc_2/change_slope/feature1_500.csv\n",
      "read /data/analysis/ag-reils/ag-reils-shared/cardioRS/data/interpretability/resample_multiplicities/lognormal_cc_2_resampling_feature2.csv\n",
      "Wrote /data/analysis/ag-reils/ag-reils-shared/cardioRS/results/interpretability/resample_multiplicities/evaluation/lognormal_cc_2/change_slope/feature2_500.csv\n",
      "read /data/analysis/ag-reils/ag-reils-shared/cardioRS/data/interpretability/resample_multiplicities/lognormal_cc_2_resampling_feature3.csv\n",
      "Wrote /data/analysis/ag-reils/ag-reils-shared/cardioRS/results/interpretability/resample_multiplicities/evaluation/lognormal_cc_2/change_slope/feature3_500.csv\n",
      "read /data/analysis/ag-reils/ag-reils-shared/cardioRS/data/interpretability/resample_multiplicities/lognormal_cc_2_resampling_feature4.csv\n",
      "Wrote /data/analysis/ag-reils/ag-reils-shared/cardioRS/results/interpretability/resample_multiplicities/evaluation/lognormal_cc_2/change_slope/feature4_500.csv\n",
      "read /data/analysis/ag-reils/ag-reils-shared/cardioRS/data/interpretability/resample_multiplicities/lognormal_cc_2_resampling_feature0.csv\n",
      "Wrote /data/analysis/ag-reils/ag-reils-shared/cardioRS/results/interpretability/resample_multiplicities/evaluation/lognormal_cc_2/change_slope/feature0_415.csv\n",
      "read /data/analysis/ag-reils/ag-reils-shared/cardioRS/data/interpretability/resample_multiplicities/lognormal_cc_2_resampling_feature1.csv\n",
      "Wrote /data/analysis/ag-reils/ag-reils-shared/cardioRS/results/interpretability/resample_multiplicities/evaluation/lognormal_cc_2/change_slope/feature1_415.csv\n",
      "read /data/analysis/ag-reils/ag-reils-shared/cardioRS/data/interpretability/resample_multiplicities/lognormal_cc_2_resampling_feature2.csv\n",
      "Wrote /data/analysis/ag-reils/ag-reils-shared/cardioRS/results/interpretability/resample_multiplicities/evaluation/lognormal_cc_2/change_slope/feature2_415.csv\n",
      "read /data/analysis/ag-reils/ag-reils-shared/cardioRS/data/interpretability/resample_multiplicities/lognormal_cc_2_resampling_feature3.csv\n",
      "Wrote /data/analysis/ag-reils/ag-reils-shared/cardioRS/results/interpretability/resample_multiplicities/evaluation/lognormal_cc_2/change_slope/feature3_415.csv\n",
      "read /data/analysis/ag-reils/ag-reils-shared/cardioRS/data/interpretability/resample_multiplicities/lognormal_cc_2_resampling_feature4.csv\n",
      "Wrote /data/analysis/ag-reils/ag-reils-shared/cardioRS/results/interpretability/resample_multiplicities/evaluation/lognormal_cc_2/change_slope/feature4_415.csv\n",
      "read /data/analysis/ag-reils/ag-reils-shared/cardioRS/data/interpretability/resample_multiplicities/lognormal_cc_2_resampling_feature0.csv\n",
      "Wrote /data/analysis/ag-reils/ag-reils-shared/cardioRS/results/interpretability/resample_multiplicities/evaluation/lognormal_cc_2/change_slope/feature0_410.csv\n",
      "read /data/analysis/ag-reils/ag-reils-shared/cardioRS/data/interpretability/resample_multiplicities/lognormal_cc_2_resampling_feature1.csv\n",
      "Wrote /data/analysis/ag-reils/ag-reils-shared/cardioRS/results/interpretability/resample_multiplicities/evaluation/lognormal_cc_2/change_slope/feature1_410.csv\n",
      "read /data/analysis/ag-reils/ag-reils-shared/cardioRS/data/interpretability/resample_multiplicities/lognormal_cc_2_resampling_feature2.csv\n",
      "Wrote /data/analysis/ag-reils/ag-reils-shared/cardioRS/results/interpretability/resample_multiplicities/evaluation/lognormal_cc_2/change_slope/feature2_410.csv\n",
      "read /data/analysis/ag-reils/ag-reils-shared/cardioRS/data/interpretability/resample_multiplicities/lognormal_cc_2_resampling_feature3.csv\n",
      "Wrote /data/analysis/ag-reils/ag-reils-shared/cardioRS/results/interpretability/resample_multiplicities/evaluation/lognormal_cc_2/change_slope/feature3_410.csv\n",
      "read /data/analysis/ag-reils/ag-reils-shared/cardioRS/data/interpretability/resample_multiplicities/lognormal_cc_2_resampling_feature4.csv\n",
      "Wrote /data/analysis/ag-reils/ag-reils-shared/cardioRS/results/interpretability/resample_multiplicities/evaluation/lognormal_cc_2/change_slope/feature4_410.csv\n",
      "read /data/analysis/ag-reils/ag-reils-shared/cardioRS/data/interpretability/resample_multiplicities/lognormal_cc_2_resampling_feature0.csv\n",
      "Wrote /data/analysis/ag-reils/ag-reils-shared/cardioRS/results/interpretability/resample_multiplicities/evaluation/lognormal_cc_2/change_slope/feature0_406.csv\n",
      "read /data/analysis/ag-reils/ag-reils-shared/cardioRS/data/interpretability/resample_multiplicities/lognormal_cc_2_resampling_feature1.csv\n",
      "Wrote /data/analysis/ag-reils/ag-reils-shared/cardioRS/results/interpretability/resample_multiplicities/evaluation/lognormal_cc_2/change_slope/feature1_406.csv\n",
      "read /data/analysis/ag-reils/ag-reils-shared/cardioRS/data/interpretability/resample_multiplicities/lognormal_cc_2_resampling_feature2.csv\n",
      "Wrote /data/analysis/ag-reils/ag-reils-shared/cardioRS/results/interpretability/resample_multiplicities/evaluation/lognormal_cc_2/change_slope/feature2_406.csv\n",
      "read /data/analysis/ag-reils/ag-reils-shared/cardioRS/data/interpretability/resample_multiplicities/lognormal_cc_2_resampling_feature3.csv\n",
      "Wrote /data/analysis/ag-reils/ag-reils-shared/cardioRS/results/interpretability/resample_multiplicities/evaluation/lognormal_cc_2/change_slope/feature3_406.csv\n",
      "read /data/analysis/ag-reils/ag-reils-shared/cardioRS/data/interpretability/resample_multiplicities/lognormal_cc_2_resampling_feature4.csv\n",
      "Wrote /data/analysis/ag-reils/ag-reils-shared/cardioRS/results/interpretability/resample_multiplicities/evaluation/lognormal_cc_2/change_slope/feature4_406.csv\n",
      "read /data/analysis/ag-reils/ag-reils-shared/cardioRS/data/interpretability/resample_multiplicities/lognormal_cc_2_resampling_feature0.csv\n",
      "Wrote /data/analysis/ag-reils/ag-reils-shared/cardioRS/results/interpretability/resample_multiplicities/evaluation/lognormal_cc_2/change_slope/feature0_403.csv\n",
      "read /data/analysis/ag-reils/ag-reils-shared/cardioRS/data/interpretability/resample_multiplicities/lognormal_cc_2_resampling_feature1.csv\n",
      "Wrote /data/analysis/ag-reils/ag-reils-shared/cardioRS/results/interpretability/resample_multiplicities/evaluation/lognormal_cc_2/change_slope/feature1_403.csv\n",
      "read /data/analysis/ag-reils/ag-reils-shared/cardioRS/data/interpretability/resample_multiplicities/lognormal_cc_2_resampling_feature2.csv\n",
      "Wrote /data/analysis/ag-reils/ag-reils-shared/cardioRS/results/interpretability/resample_multiplicities/evaluation/lognormal_cc_2/change_slope/feature2_403.csv\n",
      "read /data/analysis/ag-reils/ag-reils-shared/cardioRS/data/interpretability/resample_multiplicities/lognormal_cc_2_resampling_feature3.csv\n",
      "Wrote /data/analysis/ag-reils/ag-reils-shared/cardioRS/results/interpretability/resample_multiplicities/evaluation/lognormal_cc_2/change_slope/feature3_403.csv\n",
      "read /data/analysis/ag-reils/ag-reils-shared/cardioRS/data/interpretability/resample_multiplicities/lognormal_cc_2_resampling_feature4.csv\n",
      "Wrote /data/analysis/ag-reils/ag-reils-shared/cardioRS/results/interpretability/resample_multiplicities/evaluation/lognormal_cc_2/change_slope/feature4_403.csv\n",
      "read /data/analysis/ag-reils/ag-reils-shared/cardioRS/data/interpretability/resample_multiplicities/lognormal_cc_2_resampling_feature0.csv\n",
      "Wrote /data/analysis/ag-reils/ag-reils-shared/cardioRS/results/interpretability/resample_multiplicities/evaluation/lognormal_cc_2/change_slope/feature0_401.csv\n",
      "read /data/analysis/ag-reils/ag-reils-shared/cardioRS/data/interpretability/resample_multiplicities/lognormal_cc_2_resampling_feature1.csv\n",
      "Wrote /data/analysis/ag-reils/ag-reils-shared/cardioRS/results/interpretability/resample_multiplicities/evaluation/lognormal_cc_2/change_slope/feature1_401.csv\n",
      "read /data/analysis/ag-reils/ag-reils-shared/cardioRS/data/interpretability/resample_multiplicities/lognormal_cc_2_resampling_feature2.csv\n",
      "Wrote /data/analysis/ag-reils/ag-reils-shared/cardioRS/results/interpretability/resample_multiplicities/evaluation/lognormal_cc_2/change_slope/feature2_401.csv\n",
      "read /data/analysis/ag-reils/ag-reils-shared/cardioRS/data/interpretability/resample_multiplicities/lognormal_cc_2_resampling_feature3.csv\n",
      "Wrote /data/analysis/ag-reils/ag-reils-shared/cardioRS/results/interpretability/resample_multiplicities/evaluation/lognormal_cc_2/change_slope/feature3_401.csv\n",
      "read /data/analysis/ag-reils/ag-reils-shared/cardioRS/data/interpretability/resample_multiplicities/lognormal_cc_2_resampling_feature4.csv\n",
      "Wrote /data/analysis/ag-reils/ag-reils-shared/cardioRS/results/interpretability/resample_multiplicities/evaluation/lognormal_cc_2/change_slope/feature4_401.csv\n",
      "read /data/analysis/ag-reils/ag-reils-shared/cardioRS/data/interpretability/resample_multiplicities/lognormal_cc_2_resampling_feature0.csv\n",
      "Wrote /data/analysis/ag-reils/ag-reils-shared/cardioRS/results/interpretability/resample_multiplicities/evaluation/lognormal_cc_2/change_slope/feature0_400.csv\n",
      "read /data/analysis/ag-reils/ag-reils-shared/cardioRS/data/interpretability/resample_multiplicities/lognormal_cc_2_resampling_feature1.csv\n",
      "Wrote /data/analysis/ag-reils/ag-reils-shared/cardioRS/results/interpretability/resample_multiplicities/evaluation/lognormal_cc_2/change_slope/feature1_400.csv\n",
      "read /data/analysis/ag-reils/ag-reils-shared/cardioRS/data/interpretability/resample_multiplicities/lognormal_cc_2_resampling_feature2.csv\n",
      "Wrote /data/analysis/ag-reils/ag-reils-shared/cardioRS/results/interpretability/resample_multiplicities/evaluation/lognormal_cc_2/change_slope/feature2_400.csv\n",
      "read /data/analysis/ag-reils/ag-reils-shared/cardioRS/data/interpretability/resample_multiplicities/lognormal_cc_2_resampling_feature3.csv\n",
      "Wrote /data/analysis/ag-reils/ag-reils-shared/cardioRS/results/interpretability/resample_multiplicities/evaluation/lognormal_cc_2/change_slope/feature3_400.csv\n",
      "read /data/analysis/ag-reils/ag-reils-shared/cardioRS/data/interpretability/resample_multiplicities/lognormal_cc_2_resampling_feature4.csv\n",
      "Wrote /data/analysis/ag-reils/ag-reils-shared/cardioRS/results/interpretability/resample_multiplicities/evaluation/lognormal_cc_2/change_slope/feature4_400.csv\n",
      "read /data/analysis/ag-reils/ag-reils-shared/cardioRS/data/interpretability/resample_multiplicities/lognormal_cc_2_resampling_feature0.csv\n",
      "Wrote /data/analysis/ag-reils/ag-reils-shared/cardioRS/results/interpretability/resample_multiplicities/evaluation/lognormal_cc_2/change_slope/feature0_300.csv\n",
      "read /data/analysis/ag-reils/ag-reils-shared/cardioRS/data/interpretability/resample_multiplicities/lognormal_cc_2_resampling_feature1.csv\n",
      "Wrote /data/analysis/ag-reils/ag-reils-shared/cardioRS/results/interpretability/resample_multiplicities/evaluation/lognormal_cc_2/change_slope/feature1_300.csv\n",
      "read /data/analysis/ag-reils/ag-reils-shared/cardioRS/data/interpretability/resample_multiplicities/lognormal_cc_2_resampling_feature2.csv\n",
      "Wrote /data/analysis/ag-reils/ag-reils-shared/cardioRS/results/interpretability/resample_multiplicities/evaluation/lognormal_cc_2/change_slope/feature2_300.csv\n",
      "read /data/analysis/ag-reils/ag-reils-shared/cardioRS/data/interpretability/resample_multiplicities/lognormal_cc_2_resampling_feature3.csv\n",
      "Wrote /data/analysis/ag-reils/ag-reils-shared/cardioRS/results/interpretability/resample_multiplicities/evaluation/lognormal_cc_2/change_slope/feature3_300.csv\n",
      "read /data/analysis/ag-reils/ag-reils-shared/cardioRS/data/interpretability/resample_multiplicities/lognormal_cc_2_resampling_feature4.csv\n",
      "Wrote /data/analysis/ag-reils/ag-reils-shared/cardioRS/results/interpretability/resample_multiplicities/evaluation/lognormal_cc_2/change_slope/feature4_300.csv\n",
      "read /data/analysis/ag-reils/ag-reils-shared/cardioRS/data/interpretability/resample_multiplicities/lognormal_cc_2_resampling_feature0.csv\n",
      "130zfhjr\n",
      "read /data/analysis/ag-reils/ag-reils-shared/cardioRS/data/interpretability/resample_multiplicities/lognormal_cc_2_resampling_feature1.csv\n",
      "130zfhjr\n",
      "read /data/analysis/ag-reils/ag-reils-shared/cardioRS/data/interpretability/resample_multiplicities/lognormal_cc_2_resampling_feature2.csv\n",
      "130zfhjr\n",
      "read /data/analysis/ag-reils/ag-reils-shared/cardioRS/data/interpretability/resample_multiplicities/lognormal_cc_2_resampling_feature3.csv\n",
      "130zfhjr\n",
      "read /data/analysis/ag-reils/ag-reils-shared/cardioRS/data/interpretability/resample_multiplicities/lognormal_cc_2_resampling_feature4.csv\n",
      "130zfhjr\n",
      "read /data/analysis/ag-reils/ag-reils-shared/cardioRS/data/interpretability/resample_multiplicities/lognormal_cc_2_resampling_feature0.csv\n",
      "Wrote /data/analysis/ag-reils/ag-reils-shared/cardioRS/results/interpretability/resample_multiplicities/evaluation/lognormal_cc_2/change_slope/feature0_305.csv\n",
      "read /data/analysis/ag-reils/ag-reils-shared/cardioRS/data/interpretability/resample_multiplicities/lognormal_cc_2_resampling_feature1.csv\n",
      "Wrote /data/analysis/ag-reils/ag-reils-shared/cardioRS/results/interpretability/resample_multiplicities/evaluation/lognormal_cc_2/change_slope/feature1_305.csv\n",
      "read /data/analysis/ag-reils/ag-reils-shared/cardioRS/data/interpretability/resample_multiplicities/lognormal_cc_2_resampling_feature2.csv\n",
      "Wrote /data/analysis/ag-reils/ag-reils-shared/cardioRS/results/interpretability/resample_multiplicities/evaluation/lognormal_cc_2/change_slope/feature2_305.csv\n",
      "read /data/analysis/ag-reils/ag-reils-shared/cardioRS/data/interpretability/resample_multiplicities/lognormal_cc_2_resampling_feature3.csv\n",
      "Wrote /data/analysis/ag-reils/ag-reils-shared/cardioRS/results/interpretability/resample_multiplicities/evaluation/lognormal_cc_2/change_slope/feature3_305.csv\n",
      "read /data/analysis/ag-reils/ag-reils-shared/cardioRS/data/interpretability/resample_multiplicities/lognormal_cc_2_resampling_feature4.csv\n",
      "Wrote /data/analysis/ag-reils/ag-reils-shared/cardioRS/results/interpretability/resample_multiplicities/evaluation/lognormal_cc_2/change_slope/feature4_305.csv\n",
      "read /data/analysis/ag-reils/ag-reils-shared/cardioRS/data/interpretability/resample_multiplicities/lognormal_cc_2_resampling_feature0.csv\n",
      "Wrote /data/analysis/ag-reils/ag-reils-shared/cardioRS/results/interpretability/resample_multiplicities/evaluation/lognormal_cc_2/change_slope/feature0_291.csv\n",
      "read /data/analysis/ag-reils/ag-reils-shared/cardioRS/data/interpretability/resample_multiplicities/lognormal_cc_2_resampling_feature1.csv\n",
      "Wrote /data/analysis/ag-reils/ag-reils-shared/cardioRS/results/interpretability/resample_multiplicities/evaluation/lognormal_cc_2/change_slope/feature1_291.csv\n",
      "read /data/analysis/ag-reils/ag-reils-shared/cardioRS/data/interpretability/resample_multiplicities/lognormal_cc_2_resampling_feature2.csv\n",
      "Wrote /data/analysis/ag-reils/ag-reils-shared/cardioRS/results/interpretability/resample_multiplicities/evaluation/lognormal_cc_2/change_slope/feature2_291.csv\n",
      "read /data/analysis/ag-reils/ag-reils-shared/cardioRS/data/interpretability/resample_multiplicities/lognormal_cc_2_resampling_feature3.csv\n",
      "Wrote /data/analysis/ag-reils/ag-reils-shared/cardioRS/results/interpretability/resample_multiplicities/evaluation/lognormal_cc_2/change_slope/feature3_291.csv\n",
      "read /data/analysis/ag-reils/ag-reils-shared/cardioRS/data/interpretability/resample_multiplicities/lognormal_cc_2_resampling_feature4.csv\n",
      "Wrote /data/analysis/ag-reils/ag-reils-shared/cardioRS/results/interpretability/resample_multiplicities/evaluation/lognormal_cc_2/change_slope/feature4_291.csv\n",
      "read /data/analysis/ag-reils/ag-reils-shared/cardioRS/data/interpretability/resample_multiplicities/lognormal_cc_2_resampling_feature0.csv\n",
      "Wrote /data/analysis/ag-reils/ag-reils-shared/cardioRS/results/interpretability/resample_multiplicities/evaluation/lognormal_cc_2/change_slope/feature0_278.csv\n",
      "read /data/analysis/ag-reils/ag-reils-shared/cardioRS/data/interpretability/resample_multiplicities/lognormal_cc_2_resampling_feature1.csv\n",
      "Wrote /data/analysis/ag-reils/ag-reils-shared/cardioRS/results/interpretability/resample_multiplicities/evaluation/lognormal_cc_2/change_slope/feature1_278.csv\n",
      "read /data/analysis/ag-reils/ag-reils-shared/cardioRS/data/interpretability/resample_multiplicities/lognormal_cc_2_resampling_feature2.csv\n",
      "Wrote /data/analysis/ag-reils/ag-reils-shared/cardioRS/results/interpretability/resample_multiplicities/evaluation/lognormal_cc_2/change_slope/feature2_278.csv\n",
      "read /data/analysis/ag-reils/ag-reils-shared/cardioRS/data/interpretability/resample_multiplicities/lognormal_cc_2_resampling_feature3.csv\n",
      "Wrote /data/analysis/ag-reils/ag-reils-shared/cardioRS/results/interpretability/resample_multiplicities/evaluation/lognormal_cc_2/change_slope/feature3_278.csv\n",
      "read /data/analysis/ag-reils/ag-reils-shared/cardioRS/data/interpretability/resample_multiplicities/lognormal_cc_2_resampling_feature4.csv\n",
      "Wrote /data/analysis/ag-reils/ag-reils-shared/cardioRS/results/interpretability/resample_multiplicities/evaluation/lognormal_cc_2/change_slope/feature4_278.csv\n",
      "read /data/analysis/ag-reils/ag-reils-shared/cardioRS/data/interpretability/resample_multiplicities/lognormal_cc_2_resampling_feature0.csv\n",
      "Wrote /data/analysis/ag-reils/ag-reils-shared/cardioRS/results/interpretability/resample_multiplicities/evaluation/lognormal_cc_2/change_slope/feature0_266.csv\n",
      "read /data/analysis/ag-reils/ag-reils-shared/cardioRS/data/interpretability/resample_multiplicities/lognormal_cc_2_resampling_feature1.csv\n",
      "Wrote /data/analysis/ag-reils/ag-reils-shared/cardioRS/results/interpretability/resample_multiplicities/evaluation/lognormal_cc_2/change_slope/feature1_266.csv\n",
      "read /data/analysis/ag-reils/ag-reils-shared/cardioRS/data/interpretability/resample_multiplicities/lognormal_cc_2_resampling_feature2.csv\n",
      "Wrote /data/analysis/ag-reils/ag-reils-shared/cardioRS/results/interpretability/resample_multiplicities/evaluation/lognormal_cc_2/change_slope/feature2_266.csv\n",
      "read /data/analysis/ag-reils/ag-reils-shared/cardioRS/data/interpretability/resample_multiplicities/lognormal_cc_2_resampling_feature3.csv\n",
      "Wrote /data/analysis/ag-reils/ag-reils-shared/cardioRS/results/interpretability/resample_multiplicities/evaluation/lognormal_cc_2/change_slope/feature3_266.csv\n",
      "read /data/analysis/ag-reils/ag-reils-shared/cardioRS/data/interpretability/resample_multiplicities/lognormal_cc_2_resampling_feature4.csv\n",
      "Wrote /data/analysis/ag-reils/ag-reils-shared/cardioRS/results/interpretability/resample_multiplicities/evaluation/lognormal_cc_2/change_slope/feature4_266.csv\n",
      "read /data/analysis/ag-reils/ag-reils-shared/cardioRS/data/interpretability/resample_multiplicities/lognormal_cc_2_resampling_feature0.csv\n",
      "Wrote /data/analysis/ag-reils/ag-reils-shared/cardioRS/results/interpretability/resample_multiplicities/evaluation/lognormal_cc_2/change_slope/feature0_255.csv\n",
      "read /data/analysis/ag-reils/ag-reils-shared/cardioRS/data/interpretability/resample_multiplicities/lognormal_cc_2_resampling_feature1.csv\n",
      "Wrote /data/analysis/ag-reils/ag-reils-shared/cardioRS/results/interpretability/resample_multiplicities/evaluation/lognormal_cc_2/change_slope/feature1_255.csv\n",
      "read /data/analysis/ag-reils/ag-reils-shared/cardioRS/data/interpretability/resample_multiplicities/lognormal_cc_2_resampling_feature2.csv\n",
      "Wrote /data/analysis/ag-reils/ag-reils-shared/cardioRS/results/interpretability/resample_multiplicities/evaluation/lognormal_cc_2/change_slope/feature2_255.csv\n",
      "read /data/analysis/ag-reils/ag-reils-shared/cardioRS/data/interpretability/resample_multiplicities/lognormal_cc_2_resampling_feature3.csv\n",
      "Wrote /data/analysis/ag-reils/ag-reils-shared/cardioRS/results/interpretability/resample_multiplicities/evaluation/lognormal_cc_2/change_slope/feature3_255.csv\n",
      "read /data/analysis/ag-reils/ag-reils-shared/cardioRS/data/interpretability/resample_multiplicities/lognormal_cc_2_resampling_feature4.csv\n",
      "Wrote /data/analysis/ag-reils/ag-reils-shared/cardioRS/results/interpretability/resample_multiplicities/evaluation/lognormal_cc_2/change_slope/feature4_255.csv\n",
      "read /data/analysis/ag-reils/ag-reils-shared/cardioRS/data/interpretability/resample_multiplicities/lognormal_cc_2_resampling_feature0.csv\n",
      "Wrote /data/analysis/ag-reils/ag-reils-shared/cardioRS/results/interpretability/resample_multiplicities/evaluation/lognormal_cc_2/change_slope/feature0_245.csv\n",
      "read /data/analysis/ag-reils/ag-reils-shared/cardioRS/data/interpretability/resample_multiplicities/lognormal_cc_2_resampling_feature1.csv\n",
      "Wrote /data/analysis/ag-reils/ag-reils-shared/cardioRS/results/interpretability/resample_multiplicities/evaluation/lognormal_cc_2/change_slope/feature1_245.csv\n",
      "read /data/analysis/ag-reils/ag-reils-shared/cardioRS/data/interpretability/resample_multiplicities/lognormal_cc_2_resampling_feature2.csv\n",
      "Wrote /data/analysis/ag-reils/ag-reils-shared/cardioRS/results/interpretability/resample_multiplicities/evaluation/lognormal_cc_2/change_slope/feature2_245.csv\n",
      "read /data/analysis/ag-reils/ag-reils-shared/cardioRS/data/interpretability/resample_multiplicities/lognormal_cc_2_resampling_feature3.csv\n",
      "Wrote /data/analysis/ag-reils/ag-reils-shared/cardioRS/results/interpretability/resample_multiplicities/evaluation/lognormal_cc_2/change_slope/feature3_245.csv\n",
      "read /data/analysis/ag-reils/ag-reils-shared/cardioRS/data/interpretability/resample_multiplicities/lognormal_cc_2_resampling_feature4.csv\n",
      "Wrote /data/analysis/ag-reils/ag-reils-shared/cardioRS/results/interpretability/resample_multiplicities/evaluation/lognormal_cc_2/change_slope/feature4_245.csv\n",
      "read /data/analysis/ag-reils/ag-reils-shared/cardioRS/data/interpretability/resample_multiplicities/lognormal_cc_2_resampling_feature0.csv\n",
      "Wrote /data/analysis/ag-reils/ag-reils-shared/cardioRS/results/interpretability/resample_multiplicities/evaluation/lognormal_cc_2/change_slope/feature0_236.csv\n",
      "read /data/analysis/ag-reils/ag-reils-shared/cardioRS/data/interpretability/resample_multiplicities/lognormal_cc_2_resampling_feature1.csv\n",
      "Wrote /data/analysis/ag-reils/ag-reils-shared/cardioRS/results/interpretability/resample_multiplicities/evaluation/lognormal_cc_2/change_slope/feature1_236.csv\n",
      "read /data/analysis/ag-reils/ag-reils-shared/cardioRS/data/interpretability/resample_multiplicities/lognormal_cc_2_resampling_feature2.csv\n",
      "Wrote /data/analysis/ag-reils/ag-reils-shared/cardioRS/results/interpretability/resample_multiplicities/evaluation/lognormal_cc_2/change_slope/feature2_236.csv\n",
      "read /data/analysis/ag-reils/ag-reils-shared/cardioRS/data/interpretability/resample_multiplicities/lognormal_cc_2_resampling_feature3.csv\n",
      "Wrote /data/analysis/ag-reils/ag-reils-shared/cardioRS/results/interpretability/resample_multiplicities/evaluation/lognormal_cc_2/change_slope/feature3_236.csv\n",
      "read /data/analysis/ag-reils/ag-reils-shared/cardioRS/data/interpretability/resample_multiplicities/lognormal_cc_2_resampling_feature4.csv\n",
      "Wrote /data/analysis/ag-reils/ag-reils-shared/cardioRS/results/interpretability/resample_multiplicities/evaluation/lognormal_cc_2/change_slope/feature4_236.csv\n",
      "read /data/analysis/ag-reils/ag-reils-shared/cardioRS/data/interpretability/resample_multiplicities/lognormal_cc_2_resampling_feature0.csv\n",
      "Wrote /data/analysis/ag-reils/ag-reils-shared/cardioRS/results/interpretability/resample_multiplicities/evaluation/lognormal_cc_2/change_slope/feature0_228.csv\n",
      "read /data/analysis/ag-reils/ag-reils-shared/cardioRS/data/interpretability/resample_multiplicities/lognormal_cc_2_resampling_feature1.csv\n",
      "Wrote /data/analysis/ag-reils/ag-reils-shared/cardioRS/results/interpretability/resample_multiplicities/evaluation/lognormal_cc_2/change_slope/feature1_228.csv\n",
      "read /data/analysis/ag-reils/ag-reils-shared/cardioRS/data/interpretability/resample_multiplicities/lognormal_cc_2_resampling_feature2.csv\n",
      "Wrote /data/analysis/ag-reils/ag-reils-shared/cardioRS/results/interpretability/resample_multiplicities/evaluation/lognormal_cc_2/change_slope/feature2_228.csv\n",
      "read /data/analysis/ag-reils/ag-reils-shared/cardioRS/data/interpretability/resample_multiplicities/lognormal_cc_2_resampling_feature3.csv\n",
      "Wrote /data/analysis/ag-reils/ag-reils-shared/cardioRS/results/interpretability/resample_multiplicities/evaluation/lognormal_cc_2/change_slope/feature3_228.csv\n",
      "read /data/analysis/ag-reils/ag-reils-shared/cardioRS/data/interpretability/resample_multiplicities/lognormal_cc_2_resampling_feature4.csv\n",
      "Wrote /data/analysis/ag-reils/ag-reils-shared/cardioRS/results/interpretability/resample_multiplicities/evaluation/lognormal_cc_2/change_slope/feature4_228.csv\n",
      "read /data/analysis/ag-reils/ag-reils-shared/cardioRS/data/interpretability/resample_multiplicities/lognormal_cc_2_resampling_feature0.csv\n",
      "Wrote /data/analysis/ag-reils/ag-reils-shared/cardioRS/results/interpretability/resample_multiplicities/evaluation/lognormal_cc_2/change_slope/feature0_221.csv\n",
      "read /data/analysis/ag-reils/ag-reils-shared/cardioRS/data/interpretability/resample_multiplicities/lognormal_cc_2_resampling_feature1.csv\n",
      "Wrote /data/analysis/ag-reils/ag-reils-shared/cardioRS/results/interpretability/resample_multiplicities/evaluation/lognormal_cc_2/change_slope/feature1_221.csv\n",
      "read /data/analysis/ag-reils/ag-reils-shared/cardioRS/data/interpretability/resample_multiplicities/lognormal_cc_2_resampling_feature2.csv\n",
      "Wrote /data/analysis/ag-reils/ag-reils-shared/cardioRS/results/interpretability/resample_multiplicities/evaluation/lognormal_cc_2/change_slope/feature2_221.csv\n",
      "read /data/analysis/ag-reils/ag-reils-shared/cardioRS/data/interpretability/resample_multiplicities/lognormal_cc_2_resampling_feature3.csv\n",
      "Wrote /data/analysis/ag-reils/ag-reils-shared/cardioRS/results/interpretability/resample_multiplicities/evaluation/lognormal_cc_2/change_slope/feature3_221.csv\n",
      "read /data/analysis/ag-reils/ag-reils-shared/cardioRS/data/interpretability/resample_multiplicities/lognormal_cc_2_resampling_feature4.csv\n",
      "Wrote /data/analysis/ag-reils/ag-reils-shared/cardioRS/results/interpretability/resample_multiplicities/evaluation/lognormal_cc_2/change_slope/feature4_221.csv\n",
      "read /data/analysis/ag-reils/ag-reils-shared/cardioRS/data/interpretability/resample_multiplicities/lognormal_cc_2_resampling_feature0.csv\n",
      "Wrote /data/analysis/ag-reils/ag-reils-shared/cardioRS/results/interpretability/resample_multiplicities/evaluation/lognormal_cc_2/change_slope/feature0_215.csv\n",
      "read /data/analysis/ag-reils/ag-reils-shared/cardioRS/data/interpretability/resample_multiplicities/lognormal_cc_2_resampling_feature1.csv\n",
      "Wrote /data/analysis/ag-reils/ag-reils-shared/cardioRS/results/interpretability/resample_multiplicities/evaluation/lognormal_cc_2/change_slope/feature1_215.csv\n",
      "read /data/analysis/ag-reils/ag-reils-shared/cardioRS/data/interpretability/resample_multiplicities/lognormal_cc_2_resampling_feature2.csv\n",
      "Wrote /data/analysis/ag-reils/ag-reils-shared/cardioRS/results/interpretability/resample_multiplicities/evaluation/lognormal_cc_2/change_slope/feature2_215.csv\n",
      "read /data/analysis/ag-reils/ag-reils-shared/cardioRS/data/interpretability/resample_multiplicities/lognormal_cc_2_resampling_feature3.csv\n",
      "Wrote /data/analysis/ag-reils/ag-reils-shared/cardioRS/results/interpretability/resample_multiplicities/evaluation/lognormal_cc_2/change_slope/feature3_215.csv\n",
      "read /data/analysis/ag-reils/ag-reils-shared/cardioRS/data/interpretability/resample_multiplicities/lognormal_cc_2_resampling_feature4.csv\n",
      "Wrote /data/analysis/ag-reils/ag-reils-shared/cardioRS/results/interpretability/resample_multiplicities/evaluation/lognormal_cc_2/change_slope/feature4_215.csv\n",
      "read /data/analysis/ag-reils/ag-reils-shared/cardioRS/data/interpretability/resample_multiplicities/lognormal_cc_2_resampling_feature0.csv\n",
      "Wrote /data/analysis/ag-reils/ag-reils-shared/cardioRS/results/interpretability/resample_multiplicities/evaluation/lognormal_cc_2/change_slope/feature0_210.csv\n",
      "read /data/analysis/ag-reils/ag-reils-shared/cardioRS/data/interpretability/resample_multiplicities/lognormal_cc_2_resampling_feature1.csv\n",
      "Wrote /data/analysis/ag-reils/ag-reils-shared/cardioRS/results/interpretability/resample_multiplicities/evaluation/lognormal_cc_2/change_slope/feature1_210.csv\n",
      "read /data/analysis/ag-reils/ag-reils-shared/cardioRS/data/interpretability/resample_multiplicities/lognormal_cc_2_resampling_feature2.csv\n",
      "Wrote /data/analysis/ag-reils/ag-reils-shared/cardioRS/results/interpretability/resample_multiplicities/evaluation/lognormal_cc_2/change_slope/feature2_210.csv\n",
      "read /data/analysis/ag-reils/ag-reils-shared/cardioRS/data/interpretability/resample_multiplicities/lognormal_cc_2_resampling_feature3.csv\n",
      "Wrote /data/analysis/ag-reils/ag-reils-shared/cardioRS/results/interpretability/resample_multiplicities/evaluation/lognormal_cc_2/change_slope/feature3_210.csv\n",
      "read /data/analysis/ag-reils/ag-reils-shared/cardioRS/data/interpretability/resample_multiplicities/lognormal_cc_2_resampling_feature4.csv\n",
      "Wrote /data/analysis/ag-reils/ag-reils-shared/cardioRS/results/interpretability/resample_multiplicities/evaluation/lognormal_cc_2/change_slope/feature4_210.csv\n",
      "read /data/analysis/ag-reils/ag-reils-shared/cardioRS/data/interpretability/resample_multiplicities/lognormal_cc_2_resampling_feature0.csv\n",
      "Wrote /data/analysis/ag-reils/ag-reils-shared/cardioRS/results/interpretability/resample_multiplicities/evaluation/lognormal_cc_2/change_slope/feature0_206.csv\n",
      "read /data/analysis/ag-reils/ag-reils-shared/cardioRS/data/interpretability/resample_multiplicities/lognormal_cc_2_resampling_feature1.csv\n",
      "Wrote /data/analysis/ag-reils/ag-reils-shared/cardioRS/results/interpretability/resample_multiplicities/evaluation/lognormal_cc_2/change_slope/feature1_206.csv\n",
      "read /data/analysis/ag-reils/ag-reils-shared/cardioRS/data/interpretability/resample_multiplicities/lognormal_cc_2_resampling_feature2.csv\n",
      "Wrote /data/analysis/ag-reils/ag-reils-shared/cardioRS/results/interpretability/resample_multiplicities/evaluation/lognormal_cc_2/change_slope/feature2_206.csv\n",
      "read /data/analysis/ag-reils/ag-reils-shared/cardioRS/data/interpretability/resample_multiplicities/lognormal_cc_2_resampling_feature3.csv\n",
      "Wrote /data/analysis/ag-reils/ag-reils-shared/cardioRS/results/interpretability/resample_multiplicities/evaluation/lognormal_cc_2/change_slope/feature3_206.csv\n",
      "read /data/analysis/ag-reils/ag-reils-shared/cardioRS/data/interpretability/resample_multiplicities/lognormal_cc_2_resampling_feature4.csv\n",
      "Wrote /data/analysis/ag-reils/ag-reils-shared/cardioRS/results/interpretability/resample_multiplicities/evaluation/lognormal_cc_2/change_slope/feature4_206.csv\n",
      "read /data/analysis/ag-reils/ag-reils-shared/cardioRS/data/interpretability/resample_multiplicities/lognormal_cc_2_resampling_feature0.csv\n",
      "Wrote /data/analysis/ag-reils/ag-reils-shared/cardioRS/results/interpretability/resample_multiplicities/evaluation/lognormal_cc_2/change_slope/feature0_203.csv\n",
      "read /data/analysis/ag-reils/ag-reils-shared/cardioRS/data/interpretability/resample_multiplicities/lognormal_cc_2_resampling_feature1.csv\n",
      "Wrote /data/analysis/ag-reils/ag-reils-shared/cardioRS/results/interpretability/resample_multiplicities/evaluation/lognormal_cc_2/change_slope/feature1_203.csv\n",
      "read /data/analysis/ag-reils/ag-reils-shared/cardioRS/data/interpretability/resample_multiplicities/lognormal_cc_2_resampling_feature2.csv\n",
      "Wrote /data/analysis/ag-reils/ag-reils-shared/cardioRS/results/interpretability/resample_multiplicities/evaluation/lognormal_cc_2/change_slope/feature2_203.csv\n",
      "read /data/analysis/ag-reils/ag-reils-shared/cardioRS/data/interpretability/resample_multiplicities/lognormal_cc_2_resampling_feature3.csv\n",
      "Wrote /data/analysis/ag-reils/ag-reils-shared/cardioRS/results/interpretability/resample_multiplicities/evaluation/lognormal_cc_2/change_slope/feature3_203.csv\n",
      "read /data/analysis/ag-reils/ag-reils-shared/cardioRS/data/interpretability/resample_multiplicities/lognormal_cc_2_resampling_feature4.csv\n",
      "Wrote /data/analysis/ag-reils/ag-reils-shared/cardioRS/results/interpretability/resample_multiplicities/evaluation/lognormal_cc_2/change_slope/feature4_203.csv\n",
      "read /data/analysis/ag-reils/ag-reils-shared/cardioRS/data/interpretability/resample_multiplicities/lognormal_cc_2_resampling_feature0.csv\n",
      "Wrote /data/analysis/ag-reils/ag-reils-shared/cardioRS/results/interpretability/resample_multiplicities/evaluation/lognormal_cc_2/change_slope/feature0_201.csv\n",
      "read /data/analysis/ag-reils/ag-reils-shared/cardioRS/data/interpretability/resample_multiplicities/lognormal_cc_2_resampling_feature1.csv\n",
      "Wrote /data/analysis/ag-reils/ag-reils-shared/cardioRS/results/interpretability/resample_multiplicities/evaluation/lognormal_cc_2/change_slope/feature1_201.csv\n",
      "read /data/analysis/ag-reils/ag-reils-shared/cardioRS/data/interpretability/resample_multiplicities/lognormal_cc_2_resampling_feature2.csv\n",
      "Wrote /data/analysis/ag-reils/ag-reils-shared/cardioRS/results/interpretability/resample_multiplicities/evaluation/lognormal_cc_2/change_slope/feature2_201.csv\n",
      "read /data/analysis/ag-reils/ag-reils-shared/cardioRS/data/interpretability/resample_multiplicities/lognormal_cc_2_resampling_feature3.csv\n",
      "Wrote /data/analysis/ag-reils/ag-reils-shared/cardioRS/results/interpretability/resample_multiplicities/evaluation/lognormal_cc_2/change_slope/feature3_201.csv\n",
      "read /data/analysis/ag-reils/ag-reils-shared/cardioRS/data/interpretability/resample_multiplicities/lognormal_cc_2_resampling_feature4.csv\n",
      "Wrote /data/analysis/ag-reils/ag-reils-shared/cardioRS/results/interpretability/resample_multiplicities/evaluation/lognormal_cc_2/change_slope/feature4_201.csv\n",
      "read /data/analysis/ag-reils/ag-reils-shared/cardioRS/data/interpretability/resample_multiplicities/lognormal_cc_2_resampling_feature0.csv\n",
      "Wrote /data/analysis/ag-reils/ag-reils-shared/cardioRS/results/interpretability/resample_multiplicities/evaluation/lognormal_cc_2/change_slope/feature0_200.csv\n",
      "read /data/analysis/ag-reils/ag-reils-shared/cardioRS/data/interpretability/resample_multiplicities/lognormal_cc_2_resampling_feature1.csv\n",
      "Wrote /data/analysis/ag-reils/ag-reils-shared/cardioRS/results/interpretability/resample_multiplicities/evaluation/lognormal_cc_2/change_slope/feature1_200.csv\n",
      "read /data/analysis/ag-reils/ag-reils-shared/cardioRS/data/interpretability/resample_multiplicities/lognormal_cc_2_resampling_feature2.csv\n",
      "Wrote /data/analysis/ag-reils/ag-reils-shared/cardioRS/results/interpretability/resample_multiplicities/evaluation/lognormal_cc_2/change_slope/feature2_200.csv\n",
      "read /data/analysis/ag-reils/ag-reils-shared/cardioRS/data/interpretability/resample_multiplicities/lognormal_cc_2_resampling_feature3.csv\n",
      "Wrote /data/analysis/ag-reils/ag-reils-shared/cardioRS/results/interpretability/resample_multiplicities/evaluation/lognormal_cc_2/change_slope/feature3_200.csv\n",
      "read /data/analysis/ag-reils/ag-reils-shared/cardioRS/data/interpretability/resample_multiplicities/lognormal_cc_2_resampling_feature4.csv\n",
      "Wrote /data/analysis/ag-reils/ag-reils-shared/cardioRS/results/interpretability/resample_multiplicities/evaluation/lognormal_cc_2/change_slope/feature4_200.csv\n"
     ]
    }
   ],
   "source": [
    "calculate_change_slope('lognormal_cc_2', n_features=5)"
   ],
   "metadata": {
    "collapsed": false,
    "pycharm": {
     "name": "#%%\n"
    }
   }
  },
  {
   "cell_type": "code",
   "execution_count": null,
   "outputs": [
    {
     "name": "stdout",
     "output_type": "stream",
     "text": [
      "50\n",
      "read /data/analysis/ag-reils/ag-reils-shared/cardioRS/data/interpretability/resample_multiplicities/lognormal_cc_3_resampling_feature0.csv\n",
      "Wrote /data/analysis/ag-reils/ag-reils-shared/cardioRS/results/interpretability/resample_multiplicities/evaluation/lognormal_cc_3/change_slope/feature0_526.csv\n",
      "read /data/analysis/ag-reils/ag-reils-shared/cardioRS/data/interpretability/resample_multiplicities/lognormal_cc_3_resampling_feature1.csv\n",
      "Wrote /data/analysis/ag-reils/ag-reils-shared/cardioRS/results/interpretability/resample_multiplicities/evaluation/lognormal_cc_3/change_slope/feature1_526.csv\n",
      "read /data/analysis/ag-reils/ag-reils-shared/cardioRS/data/interpretability/resample_multiplicities/lognormal_cc_3_resampling_feature2.csv\n",
      "Wrote /data/analysis/ag-reils/ag-reils-shared/cardioRS/results/interpretability/resample_multiplicities/evaluation/lognormal_cc_3/change_slope/feature2_526.csv\n",
      "read /data/analysis/ag-reils/ag-reils-shared/cardioRS/data/interpretability/resample_multiplicities/lognormal_cc_3_resampling_feature3.csv\n",
      "Wrote /data/analysis/ag-reils/ag-reils-shared/cardioRS/results/interpretability/resample_multiplicities/evaluation/lognormal_cc_3/change_slope/feature3_526.csv\n",
      "read /data/analysis/ag-reils/ag-reils-shared/cardioRS/data/interpretability/resample_multiplicities/lognormal_cc_3_resampling_feature4.csv\n",
      "Wrote /data/analysis/ag-reils/ag-reils-shared/cardioRS/results/interpretability/resample_multiplicities/evaluation/lognormal_cc_3/change_slope/feature4_526.csv\n",
      "read /data/analysis/ag-reils/ag-reils-shared/cardioRS/data/interpretability/resample_multiplicities/lognormal_cc_3_resampling_feature5.csv\n",
      "Wrote /data/analysis/ag-reils/ag-reils-shared/cardioRS/results/interpretability/resample_multiplicities/evaluation/lognormal_cc_3/change_slope/feature5_526.csv\n",
      "read /data/analysis/ag-reils/ag-reils-shared/cardioRS/data/interpretability/resample_multiplicities/lognormal_cc_3_resampling_feature0.csv\n",
      "Wrote /data/analysis/ag-reils/ag-reils-shared/cardioRS/results/interpretability/resample_multiplicities/evaluation/lognormal_cc_3/change_slope/feature0_525.csv\n",
      "read /data/analysis/ag-reils/ag-reils-shared/cardioRS/data/interpretability/resample_multiplicities/lognormal_cc_3_resampling_feature1.csv\n",
      "Wrote /data/analysis/ag-reils/ag-reils-shared/cardioRS/results/interpretability/resample_multiplicities/evaluation/lognormal_cc_3/change_slope/feature1_525.csv\n",
      "read /data/analysis/ag-reils/ag-reils-shared/cardioRS/data/interpretability/resample_multiplicities/lognormal_cc_3_resampling_feature2.csv\n"
     ]
    }
   ],
   "source": [
    "calculate_change_slope('lognormal_cc_3', n_features=6)"
   ],
   "metadata": {
    "collapsed": false,
    "pycharm": {
     "name": "#%%\n"
    }
   }
  }
 ],
 "metadata": {
  "kernelspec": {
   "display_name": "Python 3",
   "language": "python",
   "name": "python3"
  },
  "language_info": {
   "codemirror_mode": {
    "name": "ipython",
    "version": 2
   },
   "file_extension": ".py",
   "mimetype": "text/x-python",
   "name": "python",
   "nbconvert_exporter": "python",
   "pygments_lexer": "ipython2",
   "version": "2.7.6"
  }
 },
 "nbformat": 4,
 "nbformat_minor": 0
}