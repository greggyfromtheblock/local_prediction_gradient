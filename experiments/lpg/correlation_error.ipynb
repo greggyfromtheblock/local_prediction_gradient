{
 "cells": [
  {
   "cell_type": "code",
   "execution_count": 11,
   "outputs": [],
   "source": [
    "import sys\n",
    "sys.path.append('/home/ruyogagp/medical_interpretability')\n",
    "import numpy as np\n",
    "import networkx as nx\n",
    "import matplotlib.pyplot as plt\n",
    "from cga import cga\n",
    "import pandas as pd\n",
    "import neptune.new as neptune\n",
    "import wandb\n",
    "import pytorch_lightning as pl\n",
    "import torch.nn as nn\n",
    "import torch\n",
    "from sklearn.preprocessing import StandardScaler, MinMaxScaler\n",
    "\n",
    "from captum.attr import *\n",
    "from captum.metrics import *\n",
    "from captum._utils.models.linear_model import SkLearnLinearRegression\n",
    "from source.wrappers import ForwardWrapper\n",
    "import os\n",
    "import seaborn as sns"
   ],
   "metadata": {
    "collapsed": false,
    "pycharm": {
     "name": "#%%\n"
    }
   }
  },
  {
   "cell_type": "code",
   "execution_count": 14,
   "outputs": [],
   "source": [
    "from source.tasks import DeepSurv"
   ],
   "metadata": {
    "collapsed": false,
    "pycharm": {
     "name": "#%%\n"
    }
   }
  },
  {
   "cell_type": "code",
   "execution_count": 21,
   "outputs": [],
   "source": [
    "RESULTS_DIR = '/data/analysis/ag-reils/ag-reils-shared/cardioRS/results/interpretability/resample_multiplicities'\n",
    "DATA_DIR = '/data/analysis/ag-reils/ag-reils-shared/cardioRS/data/interpretability/resample_multiplicities'\n",
    "EVALUATION_DIR = '/data/analysis/ag-reils/ag-reils-shared/cardioRS/results/interpretability/resample_multiplicities/evaluation'"
   ],
   "metadata": {
    "collapsed": false,
    "pycharm": {
     "name": "#%%\n"
    }
   }
  },
  {
   "cell_type": "code",
   "execution_count": 6,
   "outputs": [],
   "source": [
    "import wandb"
   ],
   "metadata": {
    "collapsed": false,
    "pycharm": {
     "name": "#%%\n"
    }
   }
  },
  {
   "cell_type": "markdown",
   "source": [
    "## Helpful functions"
   ],
   "metadata": {
    "collapsed": false,
    "pycharm": {
     "name": "#%% md\n"
    }
   }
  },
  {
   "cell_type": "code",
   "execution_count": 128,
   "outputs": [],
   "source": [
    "def load_attribute_details(experiment_id):\n",
    "    dir = '/data/analysis/ag-reils/ag-reils-shared/cardioRS/data/interpretability/resample_multiplicities'\n",
    "    path = f'{dir}/{experiment_id}_attribute_details.csv'\n",
    "    details_df = pd.read_csv(path)\n",
    "    return details_df, path\n",
    "\n",
    "# TODO: this works if the second tag is the experiment identifier\n",
    "def load_details(run):\n",
    "    dir = '/data/analysis/ag-reils/ag-reils-shared/cardioRS/data/interpretability/resample_multiplicities'\n",
    "    try:\n",
    "        path = f'{dir}/{run.tags[0]}_attribute_details.csv'\n",
    "        details_df = pd.read_csv(path)\n",
    "    except:\n",
    "        path = f'{dir}/{run.tags[1]}_attribute_details.csv'\n",
    "        details_df = pd.read_csv(path)\n",
    "    print(f'reading {path}')\n",
    "    return details_df, path\n",
    "\n",
    "def output_diff(model, orig_features, resampled_features):\n",
    "    orig_output, *_ = model(orig_features)\n",
    "    resampled_output, *_ = model(resampled_features)\n",
    "    with torch.no_grad():\n",
    "        diff = torch.sub(orig_output, resampled_output)\n",
    "    return diff.detach().numpy()\n",
    "\n",
    "# CREATE TUPLES FOR MODEL DIFF\n",
    "\n",
    "def col2numpy(df, colname):\n",
    "    \"\"\"\n",
    "    convert a dataframe column to a numpy array\n",
    "    :param df: dataframe\n",
    "    :param colname: column name to convert to numpy array\n",
    "    :return:\n",
    "    \"\"\"\n",
    "    vals = df.loc[:, colname].values.tolist()\n",
    "    vals_numpy = np.array([np.array(eval(row)) for row in vals])\n",
    "    return vals_numpy\n",
    "\n",
    "def clip_norm2d(array, tail):\n",
    "    \"\"\"\n",
    "    clips and normalizes the array to the range of [-1, 1]\n",
    "    :param array: array to be normalized\n",
    "    :return: normalized array\n",
    "    \"\"\"\n",
    "    array_norm = np.zeros((array.shape))\n",
    "    c_array = np.zeros((array.shape))\n",
    "    for i in range(array.shape[0]):\n",
    "        column = array[i, :]\n",
    "        outliers = np.percentile(column, [tail, 100-tail])\n",
    "        clipped_array = np.clip(column, *outliers)\n",
    "        col_norm = clipped_array / abs(clipped_array).max()\n",
    "        #TODO: !!!!!FIX THIS!!!!\n",
    "        array_norm[i, :] = col_norm\n",
    "        c_array[i, :] = clipped_array\n",
    "    return  array_norm, c_array\n",
    "\n",
    "def clip_norm1d(array, tail):\n",
    "    \"\"\"\n",
    "    clips and normalizes the array to the range of [-1, 1]\n",
    "    :param array:  array to be normalized\n",
    "    :return: normalized array\n",
    "    \"\"\"\n",
    "    outliers = np.percentile(array, [tail, 100-tail])\n",
    "    clipped_array = np.clip(array, *outliers)\n",
    "    array_norm = clipped_array / abs(clipped_array).max()\n",
    "    return array_norm, clipped_array\n",
    "\n",
    "def load_attributions(run, method, n_features=5):\n",
    "    attribution_list = [np.genfromtxt(run.config[f'{method}_feature{idx}_path'], delimiter=',') for idx in range(n_features)]\n",
    "    return attribution_list\n",
    "\n",
    "def reject_outliers(data, m = 150.0):\n",
    "    d = np.abs(data - np.median(data))\n",
    "    mdev = np.median(d)\n",
    "    s = d/mdev if mdev else 0.\n",
    "    max = data[s<m].max()\n",
    "    min = data[s<m].min()\n",
    "    out = np.where(s<m, data, np.where(data>0, max, min))\n",
    "    return out\n",
    "\n",
    "def clip2d(array):\n",
    "    clipped_array = np.zeros((array.shape))\n",
    "    for i in range(array.shape[0]):\n",
    "        clipped_array[i, :] = reject_outliers(array[i, :])\n",
    "    return clipped_array"
   ],
   "metadata": {
    "collapsed": false,
    "pycharm": {
     "name": "#%%\n"
    }
   }
  },
  {
   "cell_type": "markdown",
   "source": [
    "## Create resampling dataframe"
   ],
   "metadata": {
    "collapsed": false,
    "pycharm": {
     "name": "#%% md\n"
    }
   }
  },
  {
   "cell_type": "code",
   "execution_count": 129,
   "outputs": [],
   "source": [
    "def create_resampling_df(experiment_id, n_resampling=100, n_features=6):\n",
    "    \"\"\"\n",
    "    Modify the original resampling dataframe to create per-feature resampling df with resampling differences\n",
    "    :param experiment_id: experiment identifier\n",
    "    :return: None -> saves resampling dataframe\n",
    "    \"\"\"\n",
    "    api = wandb.Api()\n",
    "    runs =  api.runs('cardiors/interpretability',\n",
    "                     filters={\"$and\": [{'tags': f'{experiment_id}'}, {'tags': 'resample_multiplicities'}, {'state': 'finished'}]})\n",
    "    run = runs[0]\n",
    "    details_df, path = load_attribute_details(experiment_id)\n",
    "\n",
    "    modified_attributes = [f'noise{idx}' for idx in range(n_features)]\n",
    "    for idx in range(n_features):\n",
    "        df = details_df[details_df.modified_attribute == f'noise{idx}']\n",
    "        colnames = [f'feature{idx}_intervention{n}' for n in range(n_resampling)]\n",
    "\n",
    "        # TODO\n",
    "        rcolnames = [f'feature1_intervention{n}' for n in range(n_resampling)]\n",
    "        rintervention_df = df.loc[:, rcolnames]\n",
    "        rintervention_df['intervention'] = rintervention_df.values.tolist()\n",
    "\n",
    "        intervention_df = df.loc[:, colnames]\n",
    "        intervention_df['intervention'] = intervention_df.values.tolist()\n",
    "        resampling_df = pd.DataFrame({f'feature{idx}_resampling': intervention_df.intervention,\n",
    "                                      'feature1_rresampling': rintervention_df.intervention,\n",
    "                                      f'feature{idx}_orig': df[f'feature{idx}_orig'],\n",
    "                                      'time_orig': df.time_orig,\n",
    "                                      'event_orig': df.event_orig})\n",
    "        # return resampling_df, df\n",
    "        for n in range(n_features):\n",
    "            resampling_df[f'feature{n}_orig'] = df[f'feature{n}_orig']\n",
    "\n",
    "        orig_vals = resampling_df.loc[:, f'feature{idx}_orig'].values\n",
    "        resamp_vals = resampling_df.loc[:, f'feature{idx}_resampling'].values.tolist()\n",
    "        resamp_vals_numpy=np.array([np.array(row) for row in resamp_vals])\n",
    "        orig_vals_array = np.array([[val] * n_resampling for val in orig_vals])\n",
    "        resampling_df.loc[:, 'resampling_diff'] = np.subtract(orig_vals_array, resamp_vals_numpy).tolist()\n",
    "\n",
    "        # exp_id_trunc = experiment_id[:-2]\n",
    "        resampling_df.to_csv(f'/data/analysis/ag-reils/ag-reils-shared/cardioRS/data/interpretability/resample_multiplicities/{experiment_id}_resampling_feature{idx}.csv')\n",
    "        print(f' wrote /data/analysis/ag-reils/ag-reils-shared/cardioRS/data/interpretability/resample_multiplicities/{experiment_id}_resampling_feature{idx}.csv')"
   ],
   "metadata": {
    "collapsed": false,
    "pycharm": {
     "name": "#%%\n"
    }
   }
  },
  {
   "cell_type": "code",
   "execution_count": 130,
   "outputs": [],
   "source": [
    "import pandas as pd"
   ],
   "metadata": {
    "collapsed": false,
    "pycharm": {
     "name": "#%%\n"
    }
   }
  },
  {
   "cell_type": "code",
   "execution_count": 131,
   "outputs": [
    {
     "ename": "ParserError",
     "evalue": "Error tokenizing data. C error: Calling read(nbytes) on source failed. Try engine='python'.",
     "output_type": "error",
     "traceback": [
      "\u001B[0;31m---------------------------------------------------------------------------\u001B[0m",
      "\u001B[0;31mParserError\u001B[0m                               Traceback (most recent call last)",
      "\u001B[0;32m<ipython-input-131-85fd1cc6463d>\u001B[0m in \u001B[0;36m<module>\u001B[0;34m\u001B[0m\n\u001B[1;32m      2\u001B[0m \u001B[0mdir\u001B[0m \u001B[0;34m=\u001B[0m \u001B[0;34m'/data/analysis/ag-reils/ag-reils-shared/cardioRS/data/interpretability/resample_multiplicities'\u001B[0m\u001B[0;34m\u001B[0m\u001B[0;34m\u001B[0m\u001B[0m\n\u001B[1;32m      3\u001B[0m \u001B[0mpath\u001B[0m \u001B[0;34m=\u001B[0m \u001B[0;34mf'{dir}/{experiment_id}_attribute_details.csv'\u001B[0m\u001B[0;34m\u001B[0m\u001B[0;34m\u001B[0m\u001B[0m\n\u001B[0;32m----> 4\u001B[0;31m \u001B[0mdetails_df\u001B[0m \u001B[0;34m=\u001B[0m \u001B[0mpd\u001B[0m\u001B[0;34m.\u001B[0m\u001B[0mread_csv\u001B[0m\u001B[0;34m(\u001B[0m\u001B[0mpath\u001B[0m\u001B[0;34m)\u001B[0m\u001B[0;34m\u001B[0m\u001B[0;34m\u001B[0m\u001B[0m\n\u001B[0m\u001B[1;32m      5\u001B[0m \u001B[0mdetails_df\u001B[0m\u001B[0;34m\u001B[0m\u001B[0;34m\u001B[0m\u001B[0m\n",
      "\u001B[0;32m/data/analysis/ag-reils/ruyogagp/envs/greg/lib/python3.9/site-packages/pandas/util/_decorators.py\u001B[0m in \u001B[0;36mwrapper\u001B[0;34m(*args, **kwargs)\u001B[0m\n\u001B[1;32m    309\u001B[0m                     \u001B[0mstacklevel\u001B[0m\u001B[0;34m=\u001B[0m\u001B[0mstacklevel\u001B[0m\u001B[0;34m,\u001B[0m\u001B[0;34m\u001B[0m\u001B[0;34m\u001B[0m\u001B[0m\n\u001B[1;32m    310\u001B[0m                 )\n\u001B[0;32m--> 311\u001B[0;31m             \u001B[0;32mreturn\u001B[0m \u001B[0mfunc\u001B[0m\u001B[0;34m(\u001B[0m\u001B[0;34m*\u001B[0m\u001B[0margs\u001B[0m\u001B[0;34m,\u001B[0m \u001B[0;34m**\u001B[0m\u001B[0mkwargs\u001B[0m\u001B[0;34m)\u001B[0m\u001B[0;34m\u001B[0m\u001B[0;34m\u001B[0m\u001B[0m\n\u001B[0m\u001B[1;32m    312\u001B[0m \u001B[0;34m\u001B[0m\u001B[0m\n\u001B[1;32m    313\u001B[0m         \u001B[0;32mreturn\u001B[0m \u001B[0mwrapper\u001B[0m\u001B[0;34m\u001B[0m\u001B[0;34m\u001B[0m\u001B[0m\n",
      "\u001B[0;32m/data/analysis/ag-reils/ruyogagp/envs/greg/lib/python3.9/site-packages/pandas/io/parsers/readers.py\u001B[0m in \u001B[0;36mread_csv\u001B[0;34m(filepath_or_buffer, sep, delimiter, header, names, index_col, usecols, squeeze, prefix, mangle_dupe_cols, dtype, engine, converters, true_values, false_values, skipinitialspace, skiprows, skipfooter, nrows, na_values, keep_default_na, na_filter, verbose, skip_blank_lines, parse_dates, infer_datetime_format, keep_date_col, date_parser, dayfirst, cache_dates, iterator, chunksize, compression, thousands, decimal, lineterminator, quotechar, quoting, doublequote, escapechar, comment, encoding, encoding_errors, dialect, error_bad_lines, warn_bad_lines, on_bad_lines, delim_whitespace, low_memory, memory_map, float_precision, storage_options)\u001B[0m\n\u001B[1;32m    584\u001B[0m     \u001B[0mkwds\u001B[0m\u001B[0;34m.\u001B[0m\u001B[0mupdate\u001B[0m\u001B[0;34m(\u001B[0m\u001B[0mkwds_defaults\u001B[0m\u001B[0;34m)\u001B[0m\u001B[0;34m\u001B[0m\u001B[0;34m\u001B[0m\u001B[0m\n\u001B[1;32m    585\u001B[0m \u001B[0;34m\u001B[0m\u001B[0m\n\u001B[0;32m--> 586\u001B[0;31m     \u001B[0;32mreturn\u001B[0m \u001B[0m_read\u001B[0m\u001B[0;34m(\u001B[0m\u001B[0mfilepath_or_buffer\u001B[0m\u001B[0;34m,\u001B[0m \u001B[0mkwds\u001B[0m\u001B[0;34m)\u001B[0m\u001B[0;34m\u001B[0m\u001B[0;34m\u001B[0m\u001B[0m\n\u001B[0m\u001B[1;32m    587\u001B[0m \u001B[0;34m\u001B[0m\u001B[0m\n\u001B[1;32m    588\u001B[0m \u001B[0;34m\u001B[0m\u001B[0m\n",
      "\u001B[0;32m/data/analysis/ag-reils/ruyogagp/envs/greg/lib/python3.9/site-packages/pandas/io/parsers/readers.py\u001B[0m in \u001B[0;36m_read\u001B[0;34m(filepath_or_buffer, kwds)\u001B[0m\n\u001B[1;32m    486\u001B[0m \u001B[0;34m\u001B[0m\u001B[0m\n\u001B[1;32m    487\u001B[0m     \u001B[0;32mwith\u001B[0m \u001B[0mparser\u001B[0m\u001B[0;34m:\u001B[0m\u001B[0;34m\u001B[0m\u001B[0;34m\u001B[0m\u001B[0m\n\u001B[0;32m--> 488\u001B[0;31m         \u001B[0;32mreturn\u001B[0m \u001B[0mparser\u001B[0m\u001B[0;34m.\u001B[0m\u001B[0mread\u001B[0m\u001B[0;34m(\u001B[0m\u001B[0mnrows\u001B[0m\u001B[0;34m)\u001B[0m\u001B[0;34m\u001B[0m\u001B[0;34m\u001B[0m\u001B[0m\n\u001B[0m\u001B[1;32m    489\u001B[0m \u001B[0;34m\u001B[0m\u001B[0m\n\u001B[1;32m    490\u001B[0m \u001B[0;34m\u001B[0m\u001B[0m\n",
      "\u001B[0;32m/data/analysis/ag-reils/ruyogagp/envs/greg/lib/python3.9/site-packages/pandas/io/parsers/readers.py\u001B[0m in \u001B[0;36mread\u001B[0;34m(self, nrows)\u001B[0m\n\u001B[1;32m   1045\u001B[0m     \u001B[0;32mdef\u001B[0m \u001B[0mread\u001B[0m\u001B[0;34m(\u001B[0m\u001B[0mself\u001B[0m\u001B[0;34m,\u001B[0m \u001B[0mnrows\u001B[0m\u001B[0;34m=\u001B[0m\u001B[0;32mNone\u001B[0m\u001B[0;34m)\u001B[0m\u001B[0;34m:\u001B[0m\u001B[0;34m\u001B[0m\u001B[0;34m\u001B[0m\u001B[0m\n\u001B[1;32m   1046\u001B[0m         \u001B[0mnrows\u001B[0m \u001B[0;34m=\u001B[0m \u001B[0mvalidate_integer\u001B[0m\u001B[0;34m(\u001B[0m\u001B[0;34m\"nrows\"\u001B[0m\u001B[0;34m,\u001B[0m \u001B[0mnrows\u001B[0m\u001B[0;34m)\u001B[0m\u001B[0;34m\u001B[0m\u001B[0;34m\u001B[0m\u001B[0m\n\u001B[0;32m-> 1047\u001B[0;31m         \u001B[0mindex\u001B[0m\u001B[0;34m,\u001B[0m \u001B[0mcolumns\u001B[0m\u001B[0;34m,\u001B[0m \u001B[0mcol_dict\u001B[0m \u001B[0;34m=\u001B[0m \u001B[0mself\u001B[0m\u001B[0;34m.\u001B[0m\u001B[0m_engine\u001B[0m\u001B[0;34m.\u001B[0m\u001B[0mread\u001B[0m\u001B[0;34m(\u001B[0m\u001B[0mnrows\u001B[0m\u001B[0;34m)\u001B[0m\u001B[0;34m\u001B[0m\u001B[0;34m\u001B[0m\u001B[0m\n\u001B[0m\u001B[1;32m   1048\u001B[0m \u001B[0;34m\u001B[0m\u001B[0m\n\u001B[1;32m   1049\u001B[0m         \u001B[0;32mif\u001B[0m \u001B[0mindex\u001B[0m \u001B[0;32mis\u001B[0m \u001B[0;32mNone\u001B[0m\u001B[0;34m:\u001B[0m\u001B[0;34m\u001B[0m\u001B[0;34m\u001B[0m\u001B[0m\n",
      "\u001B[0;32m/data/analysis/ag-reils/ruyogagp/envs/greg/lib/python3.9/site-packages/pandas/io/parsers/c_parser_wrapper.py\u001B[0m in \u001B[0;36mread\u001B[0;34m(self, nrows)\u001B[0m\n\u001B[1;32m    221\u001B[0m         \u001B[0;32mtry\u001B[0m\u001B[0;34m:\u001B[0m\u001B[0;34m\u001B[0m\u001B[0;34m\u001B[0m\u001B[0m\n\u001B[1;32m    222\u001B[0m             \u001B[0;32mif\u001B[0m \u001B[0mself\u001B[0m\u001B[0;34m.\u001B[0m\u001B[0mlow_memory\u001B[0m\u001B[0;34m:\u001B[0m\u001B[0;34m\u001B[0m\u001B[0;34m\u001B[0m\u001B[0m\n\u001B[0;32m--> 223\u001B[0;31m                 \u001B[0mchunks\u001B[0m \u001B[0;34m=\u001B[0m \u001B[0mself\u001B[0m\u001B[0;34m.\u001B[0m\u001B[0m_reader\u001B[0m\u001B[0;34m.\u001B[0m\u001B[0mread_low_memory\u001B[0m\u001B[0;34m(\u001B[0m\u001B[0mnrows\u001B[0m\u001B[0;34m)\u001B[0m\u001B[0;34m\u001B[0m\u001B[0;34m\u001B[0m\u001B[0m\n\u001B[0m\u001B[1;32m    224\u001B[0m                 \u001B[0;31m# destructive to chunks\u001B[0m\u001B[0;34m\u001B[0m\u001B[0;34m\u001B[0m\u001B[0m\n\u001B[1;32m    225\u001B[0m                 \u001B[0mdata\u001B[0m \u001B[0;34m=\u001B[0m \u001B[0m_concatenate_chunks\u001B[0m\u001B[0;34m(\u001B[0m\u001B[0mchunks\u001B[0m\u001B[0;34m)\u001B[0m\u001B[0;34m\u001B[0m\u001B[0;34m\u001B[0m\u001B[0m\n",
      "\u001B[0;32m/data/analysis/ag-reils/ruyogagp/envs/greg/lib/python3.9/site-packages/pandas/_libs/parsers.pyx\u001B[0m in \u001B[0;36mpandas._libs.parsers.TextReader.read_low_memory\u001B[0;34m()\u001B[0m\n",
      "\u001B[0;32m/data/analysis/ag-reils/ruyogagp/envs/greg/lib/python3.9/site-packages/pandas/_libs/parsers.pyx\u001B[0m in \u001B[0;36mpandas._libs.parsers.TextReader._read_rows\u001B[0;34m()\u001B[0m\n",
      "\u001B[0;32m/data/analysis/ag-reils/ruyogagp/envs/greg/lib/python3.9/site-packages/pandas/_libs/parsers.pyx\u001B[0m in \u001B[0;36mpandas._libs.parsers.TextReader._tokenize_rows\u001B[0;34m()\u001B[0m\n",
      "\u001B[0;32m/data/analysis/ag-reils/ruyogagp/envs/greg/lib/python3.9/site-packages/pandas/_libs/parsers.pyx\u001B[0m in \u001B[0;36mpandas._libs.parsers.raise_parser_error\u001B[0;34m()\u001B[0m\n",
      "\u001B[0;31mParserError\u001B[0m: Error tokenizing data. C error: Calling read(nbytes) on source failed. Try engine='python'."
     ]
    }
   ],
   "source": [
    "experiment_id = 'linear_revised_3'\n",
    "dir = '/data/analysis/ag-reils/ag-reils-shared/cardioRS/data/interpretability/resample_multiplicities'\n",
    "path = f'{dir}/{experiment_id}_attribute_details.csv'\n",
    "details_df = pd.read_csv(path)\n",
    "details_df"
   ],
   "metadata": {
    "collapsed": false,
    "pycharm": {
     "name": "#%%\n"
    }
   }
  },
  {
   "cell_type": "code",
   "execution_count": 11,
   "outputs": [],
   "source": [
    "experiment_id = 'linear_revised_2'\n",
    "path = f'{dir}/{experiment_id}_attribute_details.csv'\n",
    "details_df.to_csv(path)"
   ],
   "metadata": {
    "collapsed": false,
    "pycharm": {
     "name": "#%%\n"
    }
   }
  },
  {
   "cell_type": "code",
   "execution_count": 12,
   "outputs": [],
   "source": [
    "experiment_id = 'linear_revised_1'\n",
    "path = f'{dir}/{experiment_id}_attribute_details.csv'\n",
    "details_df.to_csv(path)"
   ],
   "metadata": {
    "collapsed": false,
    "pycharm": {
     "name": "#%%\n"
    }
   }
  },
  {
   "cell_type": "code",
   "execution_count": 8,
   "outputs": [
    {
     "data": {
      "text/plain": "       Unnamed: 0 modified_attribute  hidden_noise_orig  hidden_variable_orig  \\\n0               0             noise0           0.017653             15.170813   \n1               1             noise0           0.003746             33.160414   \n2               2             noise0           0.011308             -0.482314   \n3               3             noise0           0.004596             10.186954   \n4               4             noise0          -0.018512             19.295038   \n...           ...                ...                ...                   ...   \n30095       30095             noise5          -0.007962             19.542572   \n30096       30096             noise5           0.012465             20.421069   \n30097       30097             noise5          -0.000863              3.068828   \n30098       30098             noise5          -0.008722             18.197236   \n30099       30099             noise5           0.001352             12.531398   \n\n       noise0_orig  feature0_orig  noise1_orig  feature1_orig  noise2_orig  \\\n0         0.011412      -5.754580     0.007154       2.783774    -0.003790   \n1        -0.010304      -0.704998    -0.002038      13.115363     0.007668   \n2         0.015938      -3.644598     0.000776       7.047436     0.003100   \n3        -0.001307      -0.089773     0.002534      14.878691     0.002229   \n4        -0.003135      -0.001321    -0.001156       1.862547     0.012500   \n...            ...            ...          ...            ...          ...   \n30095     0.008811       7.215381     0.000364       4.742604     0.009107   \n30096    -0.001468      -9.168749     0.011004       5.229583    -0.009520   \n30097     0.009862      -2.223355    -0.011269       2.869682    -0.000093   \n30098     0.018369       7.297602    -0.004952       1.461313     0.002524   \n30099    -0.012916      -8.412938     0.008139       1.207905     0.003157   \n\n       feature2_orig  ...  feature2_intervention99  noise3_intervention99  \\\n0          28.125882  ...                28.125882               0.005072   \n1          19.196534  ...                19.196534              -0.009310   \n2          28.492065  ...                28.492065               0.009895   \n3          65.577781  ...                65.577781              -0.000330   \n4          11.059373  ...                11.059373               0.002759   \n...              ...  ...                      ...                    ...   \n30095      20.812874  ...                20.812874              -0.009933   \n30096      22.611479  ...                22.611479              -0.013790   \n30097      62.228436  ...                62.228436              -0.007349   \n30098       8.249011  ...                 8.249011              -0.001455   \n30099      10.287545  ...                10.287545               0.025200   \n\n       feature3_intervention99  noise4_intervention99  \\\n0                    10.572549               0.006910   \n1                    39.078987              -0.000049   \n2                     4.519744               0.007404   \n3                     7.504822              -0.006591   \n4                    16.062726               0.001777   \n...                        ...                    ...   \n30095                18.853302              -0.006773   \n30096                17.161507               0.011066   \n30097                 4.285997               0.005296   \n30098                16.865053               0.008268   \n30099                 6.557108               0.012283   \n\n       feature4_intervention99  noise5_intervention99  \\\n0                    11.401268               0.008446   \n1                    30.452957              -0.004090   \n2                    15.645039               0.001762   \n3                     5.436543               0.000304   \n4                    27.328293              -0.001029   \n...                        ...                    ...   \n30095                 8.585719              -0.013457   \n30096                12.387845               0.000368   \n30097                -5.023684               0.000035   \n30098                21.020876              -0.011333   \n30099                14.451487              -0.005571   \n\n       feature5_intervention99  hazard_orig  event_orig  time_orig  \n0                    21.563360    -1.300986         1.0   1.089189  \n1                    40.251068     2.325772         1.0   0.720420  \n2                    -3.974598    -0.366263         1.0   1.006227  \n3                     8.672189     1.356092         0.0   0.000000  \n4                    22.382198     0.578517         1.0   0.907931  \n...                        ...          ...         ...        ...  \n30095                10.977047     2.693682         0.0   0.000000  \n30096                22.085092    -1.764510         0.0   0.000000  \n30097                10.863646    -1.058377         0.0   0.902313  \n30098                17.230074     2.520339         0.0   0.000000  \n30099                19.307343    -2.118122         0.0   0.000000  \n\n[30100 rows x 1419 columns]",
      "text/html": "<div>\n<style scoped>\n    .dataframe tbody tr th:only-of-type {\n        vertical-align: middle;\n    }\n\n    .dataframe tbody tr th {\n        vertical-align: top;\n    }\n\n    .dataframe thead th {\n        text-align: right;\n    }\n</style>\n<table border=\"1\" class=\"dataframe\">\n  <thead>\n    <tr style=\"text-align: right;\">\n      <th></th>\n      <th>Unnamed: 0</th>\n      <th>modified_attribute</th>\n      <th>hidden_noise_orig</th>\n      <th>hidden_variable_orig</th>\n      <th>noise0_orig</th>\n      <th>feature0_orig</th>\n      <th>noise1_orig</th>\n      <th>feature1_orig</th>\n      <th>noise2_orig</th>\n      <th>feature2_orig</th>\n      <th>...</th>\n      <th>feature2_intervention99</th>\n      <th>noise3_intervention99</th>\n      <th>feature3_intervention99</th>\n      <th>noise4_intervention99</th>\n      <th>feature4_intervention99</th>\n      <th>noise5_intervention99</th>\n      <th>feature5_intervention99</th>\n      <th>hazard_orig</th>\n      <th>event_orig</th>\n      <th>time_orig</th>\n    </tr>\n  </thead>\n  <tbody>\n    <tr>\n      <th>0</th>\n      <td>0</td>\n      <td>noise0</td>\n      <td>0.017653</td>\n      <td>15.170813</td>\n      <td>0.011412</td>\n      <td>-5.754580</td>\n      <td>0.007154</td>\n      <td>2.783774</td>\n      <td>-0.003790</td>\n      <td>28.125882</td>\n      <td>...</td>\n      <td>28.125882</td>\n      <td>0.005072</td>\n      <td>10.572549</td>\n      <td>0.006910</td>\n      <td>11.401268</td>\n      <td>0.008446</td>\n      <td>21.563360</td>\n      <td>-1.300986</td>\n      <td>1.0</td>\n      <td>1.089189</td>\n    </tr>\n    <tr>\n      <th>1</th>\n      <td>1</td>\n      <td>noise0</td>\n      <td>0.003746</td>\n      <td>33.160414</td>\n      <td>-0.010304</td>\n      <td>-0.704998</td>\n      <td>-0.002038</td>\n      <td>13.115363</td>\n      <td>0.007668</td>\n      <td>19.196534</td>\n      <td>...</td>\n      <td>19.196534</td>\n      <td>-0.009310</td>\n      <td>39.078987</td>\n      <td>-0.000049</td>\n      <td>30.452957</td>\n      <td>-0.004090</td>\n      <td>40.251068</td>\n      <td>2.325772</td>\n      <td>1.0</td>\n      <td>0.720420</td>\n    </tr>\n    <tr>\n      <th>2</th>\n      <td>2</td>\n      <td>noise0</td>\n      <td>0.011308</td>\n      <td>-0.482314</td>\n      <td>0.015938</td>\n      <td>-3.644598</td>\n      <td>0.000776</td>\n      <td>7.047436</td>\n      <td>0.003100</td>\n      <td>28.492065</td>\n      <td>...</td>\n      <td>28.492065</td>\n      <td>0.009895</td>\n      <td>4.519744</td>\n      <td>0.007404</td>\n      <td>15.645039</td>\n      <td>0.001762</td>\n      <td>-3.974598</td>\n      <td>-0.366263</td>\n      <td>1.0</td>\n      <td>1.006227</td>\n    </tr>\n    <tr>\n      <th>3</th>\n      <td>3</td>\n      <td>noise0</td>\n      <td>0.004596</td>\n      <td>10.186954</td>\n      <td>-0.001307</td>\n      <td>-0.089773</td>\n      <td>0.002534</td>\n      <td>14.878691</td>\n      <td>0.002229</td>\n      <td>65.577781</td>\n      <td>...</td>\n      <td>65.577781</td>\n      <td>-0.000330</td>\n      <td>7.504822</td>\n      <td>-0.006591</td>\n      <td>5.436543</td>\n      <td>0.000304</td>\n      <td>8.672189</td>\n      <td>1.356092</td>\n      <td>0.0</td>\n      <td>0.000000</td>\n    </tr>\n    <tr>\n      <th>4</th>\n      <td>4</td>\n      <td>noise0</td>\n      <td>-0.018512</td>\n      <td>19.295038</td>\n      <td>-0.003135</td>\n      <td>-0.001321</td>\n      <td>-0.001156</td>\n      <td>1.862547</td>\n      <td>0.012500</td>\n      <td>11.059373</td>\n      <td>...</td>\n      <td>11.059373</td>\n      <td>0.002759</td>\n      <td>16.062726</td>\n      <td>0.001777</td>\n      <td>27.328293</td>\n      <td>-0.001029</td>\n      <td>22.382198</td>\n      <td>0.578517</td>\n      <td>1.0</td>\n      <td>0.907931</td>\n    </tr>\n    <tr>\n      <th>...</th>\n      <td>...</td>\n      <td>...</td>\n      <td>...</td>\n      <td>...</td>\n      <td>...</td>\n      <td>...</td>\n      <td>...</td>\n      <td>...</td>\n      <td>...</td>\n      <td>...</td>\n      <td>...</td>\n      <td>...</td>\n      <td>...</td>\n      <td>...</td>\n      <td>...</td>\n      <td>...</td>\n      <td>...</td>\n      <td>...</td>\n      <td>...</td>\n      <td>...</td>\n      <td>...</td>\n    </tr>\n    <tr>\n      <th>30095</th>\n      <td>30095</td>\n      <td>noise5</td>\n      <td>-0.007962</td>\n      <td>19.542572</td>\n      <td>0.008811</td>\n      <td>7.215381</td>\n      <td>0.000364</td>\n      <td>4.742604</td>\n      <td>0.009107</td>\n      <td>20.812874</td>\n      <td>...</td>\n      <td>20.812874</td>\n      <td>-0.009933</td>\n      <td>18.853302</td>\n      <td>-0.006773</td>\n      <td>8.585719</td>\n      <td>-0.013457</td>\n      <td>10.977047</td>\n      <td>2.693682</td>\n      <td>0.0</td>\n      <td>0.000000</td>\n    </tr>\n    <tr>\n      <th>30096</th>\n      <td>30096</td>\n      <td>noise5</td>\n      <td>0.012465</td>\n      <td>20.421069</td>\n      <td>-0.001468</td>\n      <td>-9.168749</td>\n      <td>0.011004</td>\n      <td>5.229583</td>\n      <td>-0.009520</td>\n      <td>22.611479</td>\n      <td>...</td>\n      <td>22.611479</td>\n      <td>-0.013790</td>\n      <td>17.161507</td>\n      <td>0.011066</td>\n      <td>12.387845</td>\n      <td>0.000368</td>\n      <td>22.085092</td>\n      <td>-1.764510</td>\n      <td>0.0</td>\n      <td>0.000000</td>\n    </tr>\n    <tr>\n      <th>30097</th>\n      <td>30097</td>\n      <td>noise5</td>\n      <td>-0.000863</td>\n      <td>3.068828</td>\n      <td>0.009862</td>\n      <td>-2.223355</td>\n      <td>-0.011269</td>\n      <td>2.869682</td>\n      <td>-0.000093</td>\n      <td>62.228436</td>\n      <td>...</td>\n      <td>62.228436</td>\n      <td>-0.007349</td>\n      <td>4.285997</td>\n      <td>0.005296</td>\n      <td>-5.023684</td>\n      <td>0.000035</td>\n      <td>10.863646</td>\n      <td>-1.058377</td>\n      <td>0.0</td>\n      <td>0.902313</td>\n    </tr>\n    <tr>\n      <th>30098</th>\n      <td>30098</td>\n      <td>noise5</td>\n      <td>-0.008722</td>\n      <td>18.197236</td>\n      <td>0.018369</td>\n      <td>7.297602</td>\n      <td>-0.004952</td>\n      <td>1.461313</td>\n      <td>0.002524</td>\n      <td>8.249011</td>\n      <td>...</td>\n      <td>8.249011</td>\n      <td>-0.001455</td>\n      <td>16.865053</td>\n      <td>0.008268</td>\n      <td>21.020876</td>\n      <td>-0.011333</td>\n      <td>17.230074</td>\n      <td>2.520339</td>\n      <td>0.0</td>\n      <td>0.000000</td>\n    </tr>\n    <tr>\n      <th>30099</th>\n      <td>30099</td>\n      <td>noise5</td>\n      <td>0.001352</td>\n      <td>12.531398</td>\n      <td>-0.012916</td>\n      <td>-8.412938</td>\n      <td>0.008139</td>\n      <td>1.207905</td>\n      <td>0.003157</td>\n      <td>10.287545</td>\n      <td>...</td>\n      <td>10.287545</td>\n      <td>0.025200</td>\n      <td>6.557108</td>\n      <td>0.012283</td>\n      <td>14.451487</td>\n      <td>-0.005571</td>\n      <td>19.307343</td>\n      <td>-2.118122</td>\n      <td>0.0</td>\n      <td>0.000000</td>\n    </tr>\n  </tbody>\n</table>\n<p>30100 rows × 1419 columns</p>\n</div>"
     },
     "execution_count": 8,
     "metadata": {},
     "output_type": "execute_result"
    }
   ],
   "source": [
    "experiment_id = 'linear_cc_2'\n",
    "dir = '/data/analysis/ag-reils/ag-reils-shared/cardioRS/data/interpretability/resample_multiplicities'\n",
    "path = f'{dir}/{experiment_id}_attribute_details.csv'\n",
    "details_df = pd.read_csv(path)\n",
    "details_df"
   ],
   "metadata": {
    "collapsed": false,
    "pycharm": {
     "name": "#%%\n"
    }
   }
  },
  {
   "cell_type": "code",
   "execution_count": null,
   "outputs": [],
   "source": [
    "create_resampling_df(experiment_id='linear_cc_1', n_resampling=100, n_features=4)"
   ],
   "metadata": {
    "collapsed": false,
    "pycharm": {
     "name": "#%%\n"
    }
   }
  },
  {
   "cell_type": "markdown",
   "source": [
    "# Change Slope Calculation"
   ],
   "metadata": {
    "collapsed": false,
    "pycharm": {
     "name": "#%% md\n"
    }
   }
  },
  {
   "cell_type": "code",
   "execution_count": 132,
   "outputs": [],
   "source": [
    "def calculate_change_slope(experiment_id, n_features=5):\n",
    "    \"\"\"\n",
    "    Calculates change slope for each run\n",
    "    :param experiment_id: experiment identifier\n",
    "    :return: None -> saves the change slope per run\n",
    "    \"\"\"\n",
    "    api = wandb.Api()\n",
    "    runs =  api.runs('cardiors/interpretability',\n",
    "                     filters={\"$and\": [{'tags': f'{experiment_id}'}, {'tags': 'resample_multiplicities'}, {'state': 'finished'}]})\n",
    "    print(len(runs))\n",
    "    for run in runs:\n",
    "        for idx in range(n_features):\n",
    "            resampling_df = pd.read_csv(f'/data/analysis/ag-reils/ag-reils-shared/cardioRS/data/interpretability/resample_multiplicities/{experiment_id}_resampling_feature{idx}.csv', index_col=0)\n",
    "            print(f'read /data/analysis/ag-reils/ag-reils-shared/cardioRS/data/interpretability/resample_multiplicities/{experiment_id}_resampling_feature{idx}.csv')\n",
    "            intervention_df = pd.read_csv(f'/data/analysis/ag-reils/ag-reils-shared/cardioRS/data/interpretability/resample_multiplicities/{experiment_id}_attribute_details.csv')\n",
    "            intervention_df = intervention_df[intervention_df['modified_attribute']==f'noise{idx}']\n",
    "            model = DeepSurv.load_from_checkpoint(run.config['checkpoint_path'])\n",
    "\n",
    "            # create orig and resampling tensors\n",
    "            orig_features = [f'feature{idx}_orig' for idx in range(n_features)]\n",
    "            orig_tensor = torch.Tensor(resampling_df[orig_features].to_numpy(dtype='float64'))\n",
    "            resamp_tensors = []\n",
    "            resamp_vals = col2numpy(resampling_df, f'feature{idx}_resampling')\n",
    "            for i_intervention in range(100):\n",
    "                resamp_features = [f'feature{n}_intervention{i_intervention}' for n in range(n_features)]\n",
    "                resamp_tensors.append(torch.Tensor(intervention_df.loc[:, resamp_features].to_numpy(dtype='float64')))\n",
    "\n",
    "            # calculate model outputs\n",
    "            orig_output = model(orig_tensor)[0].detach().numpy()\n",
    "            resamp_outputs = None\n",
    "            for i in range(resamp_vals.shape[1]):\n",
    "                resamp_output = model(resamp_tensors[i])[0].detach().numpy()\n",
    "                resamp_outputs = resamp_output if resamp_outputs is None else np.concatenate((resamp_outputs, resamp_output), axis=1)\n",
    "\n",
    "            # calculate change_slope\n",
    "            model_diff = np.subtract(orig_output, resamp_outputs)\n",
    "            resampling_diff = col2numpy(resampling_df, 'resampling_diff')\n",
    "            change_slope = np.true_divide(model_diff, resampling_diff)\n",
    "            clipped_mean_cs = np.mean(clip2d(change_slope), axis=1)\n",
    "            mean_cs = np.mean(change_slope, axis=1)\n",
    "            median_cs = np.median(change_slope, axis=1)\n",
    "\n",
    "            # save values in dataframe\n",
    "            resampling_df.loc[:, 'orig_output'] = orig_output\n",
    "            resampling_df.loc[:, 'resamp_output'] = resamp_outputs.tolist()\n",
    "            resampling_df.loc[:, 'model_diff'] = model_diff.tolist()\n",
    "            resampling_df.loc[:, 'change_slope'] = change_slope.tolist()\n",
    "            resampling_df.loc[:, 'mean_cs'] = mean_cs\n",
    "            resampling_df.loc[:, 'clipped_mean_cs'] = clipped_mean_cs\n",
    "            resampling_df.loc[:, 'median_cs'] = median_cs\n",
    "            methods = ['FeaturePermutation',\n",
    "                       'IntegratedGradients',\n",
    "                       'InputxGradient',\n",
    "                       'Lime',\n",
    "                       'KernelExplainer',\n",
    "                       'DeepExplainer']\n",
    "\n",
    "\n",
    "            for method in methods:\n",
    "                attribution_list = load_attributions(run, method, n_features=n_features)\n",
    "                resampling_df.loc[:, f'{method}_feature{idx}'] = attribution_list[idx].tolist()\n",
    "\n",
    "            # Save dataframes\n",
    "            EVALUATION_DIR = '/data/analysis/ag-reils/ag-reils-shared/cardioRS/results/interpretability/resample_multiplicities/evaluation'\n",
    "            if not os.path.exists(f'{EVALUATION_DIR}/{experiment_id}'):\n",
    "                os.mkdir(f'{EVALUATION_DIR}/{experiment_id}')\n",
    "\n",
    "            if not os.path.exists(f'{EVALUATION_DIR}/{experiment_id}/change_slope'):\n",
    "                os.mkdir(f'{EVALUATION_DIR}/{experiment_id}/change_slope')\n",
    "\n",
    "            # very whack\n",
    "            seed = int(run.config['Lime_feature0_path'].split('_')[-1][:-4])\n",
    "\n",
    "            resampling_df.to_csv(f'{EVALUATION_DIR}/{experiment_id}/change_slope/feature{idx}_{seed}.csv')\n",
    "            print(f'Wrote {EVALUATION_DIR}/{experiment_id}/change_slope/feature{idx}_{seed}.csv')"
   ],
   "metadata": {
    "collapsed": false,
    "pycharm": {
     "name": "#%%\n"
    }
   }
  },
  {
   "cell_type": "code",
   "execution_count": null,
   "outputs": [],
   "source": [
    "calculate_change_slope('linear_cc_1', n_features=4)"
   ],
   "metadata": {
    "collapsed": false,
    "pycharm": {
     "name": "#%%\n"
    }
   }
  },
  {
   "cell_type": "code",
   "execution_count": null,
   "outputs": [],
   "source": [
    "calculate_change_slope('linear_cc_2', n_features=5)"
   ],
   "metadata": {
    "collapsed": false,
    "pycharm": {
     "name": "#%%\n"
    }
   }
  },
  {
   "cell_type": "code",
   "execution_count": null,
   "outputs": [],
   "source": [
    "calculate_change_slope('linear_cc_3', n_features=6)"
   ],
   "metadata": {
    "collapsed": false,
    "pycharm": {
     "name": "#%%\n"
    }
   }
  },
  {
   "cell_type": "code",
   "execution_count": 133,
   "outputs": [],
   "source": [
    "def reject_outliers(data, m = 150.0):\n",
    "    d = np.abs(data - np.median(data))\n",
    "    mdev = np.median(d)\n",
    "    s = d/mdev if mdev else 0.\n",
    "    max = data[s<m].max()\n",
    "    min = data[s<m].min()\n",
    "    out = np.where(s<m, data, np.where(data>0, max, min))\n",
    "    return out"
   ],
   "metadata": {
    "collapsed": false,
    "pycharm": {
     "name": "#%%\n"
    }
   }
  },
  {
   "cell_type": "markdown",
   "source": [
    "## Calculate Change Slope\n",
    "\n",
    "Now that we have the resampling dataframe with resampling_diff, orig points & resampling points we can calculate change_slope for each seed"
   ],
   "metadata": {
    "collapsed": false,
    "pycharm": {
     "name": "#%% md\n"
    }
   }
  },
  {
   "cell_type": "code",
   "execution_count": 134,
   "outputs": [],
   "source": [
    "def calculate_mean_error(experiment_id, n_features=5):\n",
    "    for idx in range(n_features):\n",
    "        feature = f'feature{idx}'\n",
    "        dir = os.listdir(f'{EVALUATION_DIR}/{experiment_id}/change_slope/')\n",
    "        paths = []\n",
    "        for filename in dir:\n",
    "            featurename = filename.split('_')[0]\n",
    "            if featurename == feature:\n",
    "                paths.append(f'{EVALUATION_DIR}/{experiment_id}/change_slope/{filename}')\n",
    "\n",
    "        mean_change_slopes = None\n",
    "        median_change_slopes = None\n",
    "        unclipped_mean_change_slopes = None\n",
    "        for path in paths:\n",
    "            df = pd.read_csv(path, index_col=0)\n",
    "            unclipped_mean_change_slope = df.mean_cs.to_numpy().reshape(-1, 1)\n",
    "            unclipped_mean_change_slopes = unclipped_mean_change_slope if unclipped_mean_change_slopes is None else np.concatenate((unclipped_mean_change_slopes, unclipped_mean_change_slope), axis=1)\n",
    "            # mean change slope\n",
    "            mean_change_slope = df.clipped_mean_cs.to_numpy().reshape(-1, 1)\n",
    "            mean_change_slopes = mean_change_slope if mean_change_slopes is None else np.concatenate((mean_change_slopes, mean_change_slope), axis=1)\n",
    "            # median change slope\n",
    "            median_change_slope = df.median_cs.to_numpy().reshape(-1, 1)\n",
    "            median_change_slopes = median_change_slope if median_change_slopes is None else np.concatenate((median_change_slopes, median_change_slope), axis=1)\n",
    "\n",
    "        unclipped_mean_cs_norm = unclipped_mean_change_slopes / abs(unclipped_mean_change_slopes).max()\n",
    "        mean_cs_norm = mean_change_slopes / abs(mean_change_slopes).max()\n",
    "        median_cs_norm = median_change_slopes / abs(median_change_slopes).max()\n",
    "\n",
    "        methods = ['FeaturePermutation',\n",
    "                   'IntegratedGradients',\n",
    "                   'InputxGradient',\n",
    "                   'Lime',\n",
    "                   'KernelExplainer',\n",
    "                   'DeepExplainer']\n",
    "\n",
    "        for method in methods:\n",
    "            attrs = None\n",
    "            for path in paths:\n",
    "                # normalize per seed & aggregate runs per experiment\n",
    "                df = pd.read_csv(path, index_col=0)\n",
    "                attr = col2numpy(df, f'{method}_feature{idx}')\n",
    "                attr = attr / abs(attr).max()\n",
    "                attr = attr[:, idx].reshape(-1, 1)\n",
    "                attrs = attr if attrs is None else np.concatenate((attrs, attr), axis=1)\n",
    "\n",
    "            unclipped_absolute_error = np.absolute(unclipped_mean_cs_norm - attrs)\n",
    "            absolute_error = np.absolute(mean_cs_norm - attrs)\n",
    "            median_absolute_error = np.absolute(median_cs_norm - attrs)\n",
    "            mae = np.mean(absolute_error, axis=1)\n",
    "            unclipped_mae = np.mean(unclipped_absolute_error, axis=1)\n",
    "            median_mae = np.mean(median_absolute_error, axis=1)\n",
    "            orig_features = [f'feature{i}_orig' for i in range(n_features)]\n",
    "            fulldf = df.loc[:, orig_features]\n",
    "            fulldf.loc[:, 'absolute_error'] = absolute_error.tolist()\n",
    "            fulldf.loc[:, 'unclipped_absolute_error'] = unclipped_absolute_error.tolist()\n",
    "            fulldf.loc[:, 'median_absolute_error'] = median_absolute_error.tolist()\n",
    "            fulldf.loc[:, 'unclipped_MAE'] = unclipped_mae\n",
    "            fulldf.loc[:, 'MAE'] = mae\n",
    "            fulldf.loc[:, 'median_MAE'] = median_mae\n",
    "            fulldf.loc[:, 'method'] = method\n",
    "            fulldf.to_csv(f'{EVALUATION_DIR}/{experiment_id}/MeanError_feature{idx}_{method}.csv')\n",
    "            print(f'wrote {EVALUATION_DIR}/{experiment_id}/MeanError_feature{idx}_{method}.csv')"
   ],
   "metadata": {
    "collapsed": false,
    "pycharm": {
     "name": "#%%\n"
    }
   }
  },
  {
   "cell_type": "code",
   "execution_count": null,
   "outputs": [],
   "source": [
    "calculate_mean_error('linear_cc_1', n_features=4)"
   ],
   "metadata": {
    "collapsed": false,
    "pycharm": {
     "name": "#%%\n"
    }
   }
  },
  {
   "cell_type": "code",
   "execution_count": null,
   "outputs": [],
   "source": [
    "calculate_mean_error('linear_cc_2', n_features=5)"
   ],
   "metadata": {
    "collapsed": false,
    "pycharm": {
     "name": "#%%\n"
    }
   }
  },
  {
   "cell_type": "code",
   "execution_count": null,
   "outputs": [],
   "source": [
    "calculate_mean_error('linear_cc_3', n_features=6)"
   ],
   "metadata": {
    "collapsed": false,
    "pycharm": {
     "name": "#%%\n"
    }
   }
  },
  {
   "cell_type": "code",
   "execution_count": null,
   "outputs": [],
   "source": [
    "calculate_mean_error('lognormal_cc_1', n_features=4)"
   ],
   "metadata": {
    "collapsed": false,
    "pycharm": {
     "name": "#%%\n"
    }
   }
  },
  {
   "cell_type": "code",
   "execution_count": null,
   "outputs": [],
   "source": [
    "calculate_mean_error('lognormal_cc_2', n_features=5)"
   ],
   "metadata": {
    "collapsed": false,
    "pycharm": {
     "name": "#%%\n"
    }
   }
  },
  {
   "cell_type": "code",
   "execution_count": null,
   "outputs": [],
   "source": [
    "calculate_mean_error('lognormal_cc_3', n_features=6)"
   ],
   "metadata": {
    "collapsed": false,
    "pycharm": {
     "name": "#%%\n"
    }
   }
  },
  {
   "cell_type": "code",
   "execution_count": 150,
   "outputs": [],
   "source": [
    "methods = ['FeaturePermutation',\n",
    "           'IntegratedGradients',\n",
    "           'InputxGradient',\n",
    "           'Lime',\n",
    "           'KernelExplainer',\n",
    "           'DeepExplainer']\n",
    "\n",
    "methods_keywords = ['feature_permutation',\n",
    "                    'integrated_gradients',\n",
    "                    'input_x_gradient',\n",
    "                    'lime',\n",
    "                    'kernel_explainer',\n",
    "                    'deep_explainer']\n",
    "\n",
    "def load_mean_errors(experiment_id, idx):\n",
    "    error_dict = dict(feature_permutation = pd.read_csv(f'{EVALUATION_DIR}/{experiment_id}/MeanError_feature{idx}_FeaturePermutation.csv', index_col=0),\n",
    "                      integrated_gradients = pd.read_csv(f'{EVALUATION_DIR}/{experiment_id}/MeanError_feature{idx}_IntegratedGradients.csv', index_col=0),\n",
    "                      input_x_gradient = pd.read_csv(f'{EVALUATION_DIR}/{experiment_id}/MeanError_feature{idx}_InputxGradient.csv', index_col=0),\n",
    "                      lime = pd.read_csv(f'{EVALUATION_DIR}/{experiment_id}/MeanError_feature{idx}_Lime.csv', index_col=0),\n",
    "                      kernel_explainer = pd.read_csv(f'{EVALUATION_DIR}/{experiment_id}/MeanError_feature{idx}_KernelExplainer.csv', index_col=0),\n",
    "                      deep_explainer = pd.read_csv(f'{EVALUATION_DIR}/{experiment_id}/MeanError_feature{idx}_DeepExplainer.csv', index_col=0))\n",
    "    return error_dict\n",
    "\n",
    "def load_flattened_errors(experiment_id, idx):\n",
    "    error_dict = dict(feature_permutation = pd.read_csv(f'{EVALUATION_DIR}/{experiment_id}/FlattenedError_feature{idx}_FeaturePermutation.csv', index_col=0),\n",
    "                      integrated_gradients = pd.read_csv(f'{EVALUATION_DIR}/{experiment_id}/FlattenedError_feature{idx}_IntegratedGradients.csv', index_col=0),\n",
    "                      input_x_gradient = pd.read_csv(f'{EVALUATION_DIR}/{experiment_id}/FlattenedError_feature{idx}_InputxGradient.csv', index_col=0),\n",
    "                      lime = pd.read_csv(f'{EVALUATION_DIR}/{experiment_id}/FlattenedError_feature{idx}_Lime.csv', index_col=0),\n",
    "                      kernel_explainer = pd.read_csv(f'{EVALUATION_DIR}/{experiment_id}/FlattenedError_feature{idx}_KernelExplainer.csv', index_col=0),\n",
    "                      deep_explainer = pd.read_csv(f'{EVALUATION_DIR}/{experiment_id}/FlattenedError_feature{idx}_DeepExplainer.csv', index_col=0))\n",
    "    return error_dict"
   ],
   "metadata": {
    "collapsed": false,
    "pycharm": {
     "name": "#%%\n"
    }
   }
  },
  {
   "cell_type": "code",
   "execution_count": 5,
   "outputs": [],
   "source": [
    "import pandas as pd"
   ],
   "metadata": {
    "collapsed": false,
    "pycharm": {
     "name": "#%%\n"
    }
   }
  },
  {
   "cell_type": "code",
   "execution_count": 136,
   "outputs": [],
   "source": [
    "def concat_dataframe(experiment_id, n_features):\n",
    "    for idx in range(n_features):\n",
    "        simpsons_dict = load_mean_errors(experiment_id, idx=idx)\n",
    "        concat_df = pd.concat(list(simpsons_dict.values()))\n",
    "        concat_df.to_csv(f'/data/analysis/ag-reils/ag-reils-shared/cardioRS/results/interpretability/resample_multiplicities/evaluation/{experiment_id}/ConcatMeanError_feature{idx}.csv')\n",
    "        print(f' wrote /data/analysis/ag-reils/ag-reils-shared/cardioRS/results/interpretability/resample_multiplicities/evaluation/{experiment_id}/ConcatMeanError_feature{idx}.csv')"
   ],
   "metadata": {
    "collapsed": false,
    "pycharm": {
     "name": "#%%\n"
    }
   }
  },
  {
   "cell_type": "code",
   "execution_count": 158,
   "outputs": [],
   "source": [
    "def concat_flattened_dataframe(experiment_id, n_features, idx):\n",
    "    simpsons_dict = load_flattened_errors(experiment_id, idx=idx)\n",
    "    concat_df = pd.concat(list(simpsons_dict.values()))\n",
    "    concat_df.to_csv(f'/data/analysis/ag-reils/ag-reils-shared/cardioRS/results/interpretability/resample_multiplicities/evaluation/{experiment_id}/FlattenedError_feature{idx}.csv')\n",
    "    print(f' wrote /data/analysis/ag-reils/ag-reils-shared/cardioRS/results/interpretability/resample_multiplicities/evaluation/{experiment_id}/FlattenedError_feature{idx}.csv')"
   ],
   "metadata": {
    "collapsed": false,
    "pycharm": {
     "name": "#%%\n"
    }
   }
  },
  {
   "cell_type": "code",
   "execution_count": 273,
   "outputs": [],
   "source": [
    "ds1 = pd.read_csv('/data/analysis/ag-reils/ag-reils-shared/cardioRS/results/interpretability/resample_multiplicities/evaluation/linear_revised_1/ConcatMeanError_feature3.csv')\n",
    "ds1.loc[:, 'n_correlations'] = 0\n",
    "# ds2 = pd.read_csv('/data/analysis/ag-reils/ag-reils-shared/cardioRS/results/interpretability/resample_multiplicities/evaluation/linear_revised_2/ConcatMeanError_feature3.csv')\n",
    "# ds2.loc[:, 'n_correlations'] = 2\n",
    "ds3 = pd.read_csv('/data/analysis/ag-reils/ag-reils-shared/cardioRS/results/interpretability/resample_multiplicities/evaluation/linear_revised_3/ConcatMeanError_feature3.csv')\n",
    "ds3.loc[:, 'n_correlations'] = 3\n",
    "fulldf = pd.concat([ds1, ds3], ignore_index=True)"
   ],
   "metadata": {
    "collapsed": false,
    "pycharm": {
     "name": "#%%\n"
    }
   }
  },
  {
   "cell_type": "code",
   "execution_count": 276,
   "outputs": [
    {
     "data": {
      "text/plain": "Text(0.5, 1.05, 'Delta to LPG With Increasing Number of Correlations')"
     },
     "execution_count": 276,
     "metadata": {},
     "output_type": "execute_result"
    },
    {
     "data": {
      "text/plain": "<Figure size 1080x720 with 6 Axes>",
      "image/png": "[encoded data removed]"
     },
     "metadata": {},
     "output_type": "display_data"
    }
   ],
   "source": [
    "sns.set(rc={'figure.figsize':(20, 9)})\n",
    "ax = sns.catplot(\n",
    "    data=fulldf, x='MAE', y='n_correlations', orient='h',\n",
    "    col='method', kind='box', col_wrap=3, palette='Set2', margin_titles=True,\n",
    ")\n",
    "ax.fig.suptitle('Delta to LPG With Increasing Number of Correlations', y=1.05)"
   ],
   "metadata": {
    "collapsed": false,
    "pycharm": {
     "name": "#%%\n"
    }
   }
  },
  {
   "cell_type": "code",
   "execution_count": 289,
   "outputs": [],
   "source": [
    "for method in methods:\n",
    "    df = fulldf[fulldf['method'] == method]\n",
    "    df.to_csv(f'{EVALUATION_DIR}/n_corr_comparison_{method}.csv')"
   ],
   "metadata": {
    "collapsed": false,
    "pycharm": {
     "name": "#%%\n"
    }
   }
  },
  {
   "cell_type": "code",
   "execution_count": 288,
   "outputs": [
    {
     "data": {
      "text/plain": "       Unnamed: 0  feature0_orig  feature1_orig  feature2_orig  feature3_orig  \\\n0           15100      -1.600297       1.160718      22.934888      -0.532154   \n1           15101       7.267520      12.236927      82.639847      19.382078   \n2           15102      -6.902593       9.960215      40.172565      21.595461   \n3           15103      -5.163549       8.783069      14.445232      31.699918   \n4           15104       0.889039       2.660884      25.257101      -6.974627   \n...           ...            ...            ...            ...            ...   \n59995       20095      -1.246440       2.747808      59.378151       1.937009   \n59996       20096      -2.557968       2.482532       9.491518      12.734129   \n59997       20097       4.844323       5.670923      28.627106      -3.611590   \n59998       20098       8.290194       2.851677      35.575136      -0.618108   \n59999       20099       8.643701       2.707086      22.652999       5.604758   \n\n                                          absolute_error  \\\n0      [0.09172596234327546, 0.015702030811906464, 0....   \n1      [0.24175094703171573, 0.2509529520522138, 0.05...   \n2      [0.3413381406980677, 0.1819063714061115, 0.294...   \n3      [0.24988550581313373, 0.5204892718725371, 0.37...   \n4      [0.3734778635719324, 0.49000195440826105, 0.23...   \n...                                                  ...   \n59995  [0.2563490066186619, 0.26680867337919195, 0.29...   \n59996  [0.005394691377399147, 0.03433623886188102, 0....   \n59997  [0.3499981052663807, 0.390514994823254, 0.5436...   \n59998  [0.3051234282706266, 0.14939594117586485, 0.37...   \n59999  [0.17036759806362867, 0.15047293431350134, 0.1...   \n\n                                unclipped_absolute_error  \\\n0      [0.05543480041362537, 0.023448144450486142, 0....   \n1      [0.20077318926450397, 0.28044570008486946, 0.0...   \n2      [0.3727704347603857, 0.1461731848186255, 0.330...   \n3      [0.27589973338383716, 0.5437309260712745, 0.40...   \n4      [0.34041663276577816, 0.4623623128659904, 0.19...   \n...                                                  ...   \n59995  [0.190964536276522, 0.20676759863794028, 0.220...   \n59996  [0.06682360714717052, 0.07157920890573677, 0.0...   \n59997  [0.31095845996980803, 0.3426574743964197, 0.37...   \n59998  [0.24597460793250486, 0.26676782196760457, 0.2...   \n59999  [0.10537132635280592, 0.11322029744759467, 0.1...   \n\n                                   median_absolute_error  unclipped_MAE  \\\n0      [0.3132644764224376, 0.2567213685464225, 0.568...       0.252804   \n1      [0.35654783735498286, 0.13696595597870156, 0.2...       0.213774   \n2      [0.14216014955604872, 0.4133267121027949, 0.07...       0.253961   \n3      [0.007114949377983015, 0.254557733892465, 0.14...       0.368755   \n4      [0.6648116291537998, 0.7327090803091454, 0.341...       0.266022   \n...                                                  ...            ...   \n59995  [0.3159144505346515, 0.320303809033476, 0.3525...       0.212001   \n59996  [0.07631551942652234, 0.05690581843008677, 0.0...       0.072403   \n59997  [0.44464539391128477, 0.5164017060273502, 0.57...       0.353760   \n59998  [0.40681703458703705, 0.3353817413457488, 0.48...       0.277509   \n59999  [0.22853656687800275, 0.24995922436302023, 0.2...       0.116138   \n\n            MAE  median_MAE              method  n_correlations  \n0      0.282790    0.488999  FeaturePermutation               0  \n1      0.202387    0.195956  FeaturePermutation               0  \n2      0.232958    0.147966  FeaturePermutation               0  \n3      0.335087    0.156861  FeaturePermutation               0  \n4      0.297167    0.517853  FeaturePermutation               0  \n...         ...         ...                 ...             ...  \n59995  0.284960    0.349854       DeepExplainer               3  \n59996  0.025842    0.065748       DeepExplainer               3  \n59997  0.437969    0.500070       DeepExplainer               3  \n59998  0.364477    0.428609       DeepExplainer               3  \n59999  0.183874    0.254571       DeepExplainer               3  \n\n[60000 rows x 13 columns]",
      "text/html": "<div>\n<style scoped>\n    .dataframe tbody tr th:only-of-type {\n        vertical-align: middle;\n    }\n\n    .dataframe tbody tr th {\n        vertical-align: top;\n    }\n\n    .dataframe thead th {\n        text-align: right;\n    }\n</style>\n<table border=\"1\" class=\"dataframe\">\n  <thead>\n    <tr style=\"text-align: right;\">\n      <th></th>\n      <th>Unnamed: 0</th>\n      <th>feature0_orig</th>\n      <th>feature1_orig</th>\n      <th>feature2_orig</th>\n      <th>feature3_orig</th>\n      <th>absolute_error</th>\n      <th>unclipped_absolute_error</th>\n      <th>median_absolute_error</th>\n      <th>unclipped_MAE</th>\n      <th>MAE</th>\n      <th>median_MAE</th>\n      <th>method</th>\n      <th>n_correlations</th>\n    </tr>\n  </thead>\n  <tbody>\n    <tr>\n      <th>0</th>\n      <td>15100</td>\n      <td>-1.600297</td>\n      <td>1.160718</td>\n      <td>22.934888</td>\n      <td>-0.532154</td>\n      <td>[0.09172596234327546, 0.015702030811906464, 0....</td>\n      <td>[0.05543480041362537, 0.023448144450486142, 0....</td>\n      <td>[0.3132644764224376, 0.2567213685464225, 0.568...</td>\n      <td>0.252804</td>\n      <td>0.282790</td>\n      <td>0.488999</td>\n      <td>FeaturePermutation</td>\n      <td>0</td>\n    </tr>\n    <tr>\n      <th>1</th>\n      <td>15101</td>\n      <td>7.267520</td>\n      <td>12.236927</td>\n      <td>82.639847</td>\n      <td>19.382078</td>\n      <td>[0.24175094703171573, 0.2509529520522138, 0.05...</td>\n      <td>[0.20077318926450397, 0.28044570008486946, 0.0...</td>\n      <td>[0.35654783735498286, 0.13696595597870156, 0.2...</td>\n      <td>0.213774</td>\n      <td>0.202387</td>\n      <td>0.195956</td>\n      <td>FeaturePermutation</td>\n      <td>0</td>\n    </tr>\n    <tr>\n      <th>2</th>\n      <td>15102</td>\n      <td>-6.902593</td>\n      <td>9.960215</td>\n      <td>40.172565</td>\n      <td>21.595461</td>\n      <td>[0.3413381406980677, 0.1819063714061115, 0.294...</td>\n      <td>[0.3727704347603857, 0.1461731848186255, 0.330...</td>\n      <td>[0.14216014955604872, 0.4133267121027949, 0.07...</td>\n      <td>0.253961</td>\n      <td>0.232958</td>\n      <td>0.147966</td>\n      <td>FeaturePermutation</td>\n      <td>0</td>\n    </tr>\n    <tr>\n      <th>3</th>\n      <td>15103</td>\n      <td>-5.163549</td>\n      <td>8.783069</td>\n      <td>14.445232</td>\n      <td>31.699918</td>\n      <td>[0.24988550581313373, 0.5204892718725371, 0.37...</td>\n      <td>[0.27589973338383716, 0.5437309260712745, 0.40...</td>\n      <td>[0.007114949377983015, 0.254557733892465, 0.14...</td>\n      <td>0.368755</td>\n      <td>0.335087</td>\n      <td>0.156861</td>\n      <td>FeaturePermutation</td>\n      <td>0</td>\n    </tr>\n    <tr>\n      <th>4</th>\n      <td>15104</td>\n      <td>0.889039</td>\n      <td>2.660884</td>\n      <td>25.257101</td>\n      <td>-6.974627</td>\n      <td>[0.3734778635719324, 0.49000195440826105, 0.23...</td>\n      <td>[0.34041663276577816, 0.4623623128659904, 0.19...</td>\n      <td>[0.6648116291537998, 0.7327090803091454, 0.341...</td>\n      <td>0.266022</td>\n      <td>0.297167</td>\n      <td>0.517853</td>\n      <td>FeaturePermutation</td>\n      <td>0</td>\n    </tr>\n    <tr>\n      <th>...</th>\n      <td>...</td>\n      <td>...</td>\n      <td>...</td>\n      <td>...</td>\n      <td>...</td>\n      <td>...</td>\n      <td>...</td>\n      <td>...</td>\n      <td>...</td>\n      <td>...</td>\n      <td>...</td>\n      <td>...</td>\n      <td>...</td>\n    </tr>\n    <tr>\n      <th>59995</th>\n      <td>20095</td>\n      <td>-1.246440</td>\n      <td>2.747808</td>\n      <td>59.378151</td>\n      <td>1.937009</td>\n      <td>[0.2563490066186619, 0.26680867337919195, 0.29...</td>\n      <td>[0.190964536276522, 0.20676759863794028, 0.220...</td>\n      <td>[0.3159144505346515, 0.320303809033476, 0.3525...</td>\n      <td>0.212001</td>\n      <td>0.284960</td>\n      <td>0.349854</td>\n      <td>DeepExplainer</td>\n      <td>3</td>\n    </tr>\n    <tr>\n      <th>59996</th>\n      <td>20096</td>\n      <td>-2.557968</td>\n      <td>2.482532</td>\n      <td>9.491518</td>\n      <td>12.734129</td>\n      <td>[0.005394691377399147, 0.03433623886188102, 0....</td>\n      <td>[0.06682360714717052, 0.07157920890573677, 0.0...</td>\n      <td>[0.07631551942652234, 0.05690581843008677, 0.0...</td>\n      <td>0.072403</td>\n      <td>0.025842</td>\n      <td>0.065748</td>\n      <td>DeepExplainer</td>\n      <td>3</td>\n    </tr>\n    <tr>\n      <th>59997</th>\n      <td>20097</td>\n      <td>4.844323</td>\n      <td>5.670923</td>\n      <td>28.627106</td>\n      <td>-3.611590</td>\n      <td>[0.3499981052663807, 0.390514994823254, 0.5436...</td>\n      <td>[0.31095845996980803, 0.3426574743964197, 0.37...</td>\n      <td>[0.44464539391128477, 0.5164017060273502, 0.57...</td>\n      <td>0.353760</td>\n      <td>0.437969</td>\n      <td>0.500070</td>\n      <td>DeepExplainer</td>\n      <td>3</td>\n    </tr>\n    <tr>\n      <th>59998</th>\n      <td>20098</td>\n      <td>8.290194</td>\n      <td>2.851677</td>\n      <td>35.575136</td>\n      <td>-0.618108</td>\n      <td>[0.3051234282706266, 0.14939594117586485, 0.37...</td>\n      <td>[0.24597460793250486, 0.26676782196760457, 0.2...</td>\n      <td>[0.40681703458703705, 0.3353817413457488, 0.48...</td>\n      <td>0.277509</td>\n      <td>0.364477</td>\n      <td>0.428609</td>\n      <td>DeepExplainer</td>\n      <td>3</td>\n    </tr>\n    <tr>\n      <th>59999</th>\n      <td>20099</td>\n      <td>8.643701</td>\n      <td>2.707086</td>\n      <td>22.652999</td>\n      <td>5.604758</td>\n      <td>[0.17036759806362867, 0.15047293431350134, 0.1...</td>\n      <td>[0.10537132635280592, 0.11322029744759467, 0.1...</td>\n      <td>[0.22853656687800275, 0.24995922436302023, 0.2...</td>\n      <td>0.116138</td>\n      <td>0.183874</td>\n      <td>0.254571</td>\n      <td>DeepExplainer</td>\n      <td>3</td>\n    </tr>\n  </tbody>\n</table>\n<p>60000 rows × 13 columns</p>\n</div>"
     },
     "execution_count": 288,
     "metadata": {},
     "output_type": "execute_result"
    }
   ],
   "source": [
    "fulldf"
   ],
   "metadata": {
    "collapsed": false,
    "pycharm": {
     "name": "#%%\n"
    }
   }
  },
  {
   "cell_type": "code",
   "execution_count": 283,
   "outputs": [
    {
     "data": {
      "text/plain": "<AxesSubplot:xlabel='MAE', ylabel='Density'>"
     },
     "execution_count": 283,
     "metadata": {},
     "output_type": "execute_result"
    },
    {
     "data": {
      "text/plain": "<Figure size 1440x648 with 1 Axes>",
      "image/png": "[encoded data removed]"
     },
     "metadata": {},
     "output_type": "display_data"
    }
   ],
   "source": [
    "sns.kdeplot(\n",
    "    data=fulldf[fulldf['method'] == 'IntegratedGradients'], x=\"MAE\", hue=\"n_correlations\",\n",
    "    fill=True, common_norm=True, palette=\"Set2\",\n",
    "    alpha=.25,\n",
    ")"
   ],
   "metadata": {
    "collapsed": false,
    "pycharm": {
     "name": "#%%\n"
    }
   }
  },
  {
   "cell_type": "code",
   "execution_count": 262,
   "outputs": [],
   "source": [
    "from scipy.stats import kstest"
   ],
   "metadata": {
    "collapsed": false,
    "pycharm": {
     "name": "#%%\n"
    }
   }
  },
  {
   "cell_type": "code",
   "execution_count": 296,
   "outputs": [
    {
     "name": "stdout",
     "output_type": "stream",
     "text": [
      "FeaturePermutation KstestResult(statistic=0.074, pvalue=1.2569934849318119e-12)\n",
      "IntegratedGradients KstestResult(statistic=0.0288, pvalue=0.015806111106984783)\n",
      "InputxGradient KstestResult(statistic=0.0364, pvalue=0.0013259834965467902)\n",
      "Lime KstestResult(statistic=0.0618, pvalue=5.036970862110796e-09)\n",
      "KernelExplainer KstestResult(statistic=0.0282, pvalue=0.01875435247317721)\n",
      "DeepExplainer KstestResult(statistic=0.0286, pvalue=0.016740093789238155)\n"
     ]
    }
   ],
   "source": [
    "for method in methods:\n",
    "    df1 = fulldf[fulldf['n_correlations'] == 0]\n",
    "    df3 = fulldf[fulldf['n_correlations'] == 3]\n",
    "    mae1 = df1[df1['method'] == method]['MAE'].to_numpy()\n",
    "    mae3 = df3[df3['method'] == method]['MAE'].to_numpy()\n",
    "    print(f'{method} {kstest(mae1, mae3, alternative=\"greater\")}')"
   ],
   "metadata": {
    "collapsed": false,
    "pycharm": {
     "name": "#%%\n"
    }
   }
  },
  {
   "cell_type": "code",
   "execution_count": null,
   "outputs": [],
   "source": [
    "FeaturePermutation KstestResult(statistic=0.074, pvalue=1.2569934849318119e-12)\n",
    "IntegratedGradients KstestResult(statistic=0.0288, pvalue=0.015806111106984783)\n",
    "InputxGradient KstestResult(statistic=0.0364, pvalue=0.0013259834965467902)\n",
    "Lime KstestResult(statistic=0.0618, pvalue=5.036970862110796e-09)\n",
    "KernelExplainer KstestResult(statistic=0.0282, pvalue=0.01875435247317721)\n",
    "DeepExplainer KstestResult(statistic=0.0286, pvalue=0.016740093789238155)"
   ],
   "metadata": {
    "collapsed": false,
    "pycharm": {
     "name": "#%%\n"
    }
   }
  },
  {
   "cell_type": "code",
   "execution_count": 271,
   "outputs": [
    {
     "data": {
      "text/plain": "KstestResult(statistic=0.074, pvalue=2.513986969863627e-12)"
     },
     "execution_count": 271,
     "metadata": {},
     "output_type": "execute_result"
    }
   ],
   "source": [
    "kstest(mae1, mae3)"
   ],
   "metadata": {
    "collapsed": false,
    "pycharm": {
     "name": "#%%\n"
    }
   }
  },
  {
   "cell_type": "code",
   "execution_count": null,
   "outputs": [],
   "source": [
    "boxplot"
   ],
   "metadata": {
    "collapsed": false,
    "pycharm": {
     "name": "#%%\n"
    }
   }
  },
  {
   "cell_type": "code",
   "execution_count": 33,
   "outputs": [
    {
     "name": "stdout",
     "output_type": "stream",
     "text": [
      " wrote /data/analysis/ag-reils/ag-reils-shared/cardioRS/results/interpretability/resample_multiplicities/evaluation/linear_revised_1/ConcatMeanError_feature0.csv\n",
      " wrote /data/analysis/ag-reils/ag-reils-shared/cardioRS/results/interpretability/resample_multiplicities/evaluation/linear_revised_1/ConcatMeanError_feature1.csv\n",
      " wrote /data/analysis/ag-reils/ag-reils-shared/cardioRS/results/interpretability/resample_multiplicities/evaluation/linear_revised_1/ConcatMeanError_feature2.csv\n",
      " wrote /data/analysis/ag-reils/ag-reils-shared/cardioRS/results/interpretability/resample_multiplicities/evaluation/linear_revised_1/ConcatMeanError_feature3.csv\n"
     ]
    }
   ],
   "source": [
    "concat_dataframe('linear_revised_1', n_features=4)"
   ],
   "metadata": {
    "collapsed": false,
    "pycharm": {
     "name": "#%%\n"
    }
   }
  },
  {
   "cell_type": "code",
   "execution_count": 5,
   "outputs": [],
   "source": [
    "import pandas as pd\n",
    "from scipy.stats import kstest"
   ],
   "metadata": {
    "collapsed": false,
    "pycharm": {
     "name": "#%%\n"
    }
   }
  },
  {
   "cell_type": "code",
   "execution_count": 7,
   "outputs": [],
   "source": [
    "methods = ['FeaturePermutation',\n",
    "           'IntegratedGradients',\n",
    "           'InputxGradient',\n",
    "           'Lime',\n",
    "           'KernelExplainer',\n",
    "           'DeepExplainer']"
   ],
   "metadata": {
    "collapsed": false,
    "pycharm": {
     "name": "#%%\n"
    }
   }
  },
  {
   "cell_type": "code",
   "execution_count": 6,
   "outputs": [],
   "source": [
    "experiment_id = 'linear_revised_3'\n",
    "ds3 = pd.read_csv(f'/data/analysis/ag-reils/ag-reils-shared/cardioRS/results/interpretability/resample_multiplicities/evaluation/{experiment_id}/ConcatMeanError_feature0.csv')\n",
    "ds3.loc[:, 'feature'] = 'feature0'\n",
    "ds2 = pd.read_csv(f'/data/analysis/ag-reils/ag-reils-shared/cardioRS/results/interpretability/resample_multiplicities/evaluation/{experiment_id}/ConcatMeanError_feature1.csv')\n",
    "ds2.loc[:, 'feature'] = 'feature1'\n",
    "ds1 = pd.read_csv(f'/data/analysis/ag-reils/ag-reils-shared/cardioRS/results/interpretability/resample_multiplicities/evaluation/{experiment_id}/ConcatMeanError_feature2.csv')\n",
    "ds1.loc[:, 'feature'] = 'feature2'\n",
    "independent_ds = pd.concat([ds1, ds2, ds3], ignore_index=True)\n",
    "independent_ds.loc[:, 'feature_set'] = 'independent'\n",
    "\n",
    "ds3 = pd.read_csv(f'/data/analysis/ag-reils/ag-reils-shared/cardioRS/results/interpretability/resample_multiplicities/evaluation/{experiment_id}/ConcatMeanError_feature3.csv')\n",
    "ds3.loc[:, 'feature'] = 'feature3'\n",
    "ds2 = pd.read_csv(f'/data/analysis/ag-reils/ag-reils-shared/cardioRS/results/interpretability/resample_multiplicities/evaluation/{experiment_id}/ConcatMeanError_feature4.csv')\n",
    "ds2.loc[:, 'feature'] = 'feature4'\n",
    "ds1 = pd.read_csv(f'/data/analysis/ag-reils/ag-reils-shared/cardioRS/results/interpretability/resample_multiplicities/evaluation/{experiment_id}/ConcatMeanError_feature5.csv')\n",
    "ds1.loc[:, 'feature'] = 'feature5'\n",
    "dependent_ds = pd.concat([ds1, ds2, ds3], ignore_index=True)\n",
    "dependent_ds.loc[:, 'feature_set'] = 'dependent'\n",
    "\n",
    "complete_ds = pd.concat([dependent_ds, independent_ds], ignore_index=True)\n",
    "del complete_ds['median_absolute_error']\n",
    "del complete_ds['unclipped_absolute_error']\n",
    "del complete_ds['absolute_error']"
   ],
   "metadata": {
    "collapsed": false,
    "pycharm": {
     "name": "#%%\n"
    }
   }
  },
  {
   "cell_type": "code",
   "execution_count": 9,
   "outputs": [
    {
     "name": "stdout",
     "output_type": "stream",
     "text": [
      "FeaturePermutation KstestResult(statistic=0.2893315673289183, pvalue=0.0)\n",
      "IntegratedGradients KstestResult(statistic=0.16421059602649013, pvalue=4.820888594436918e-177)\n",
      "InputxGradient KstestResult(statistic=0.16598322295805734, pvalue=7.190083874884908e-181)\n",
      "Lime KstestResult(statistic=0.16232671081677708, pvalue=5.065928763324633e-173)\n",
      "KernelExplainer KstestResult(statistic=0.16406710816777048, pvalue=9.796321293635988e-177)\n",
      "DeepExplainer KstestResult(statistic=0.1642114790286976, pvalue=4.799889859829545e-177)\n"
     ]
    }
   ],
   "source": [
    "for method in methods:\n",
    "    df1 = complete_ds[complete_ds['feature_set'] == 'independent']\n",
    "    df3 = complete_ds[complete_ds['feature_set'] == 'dependent']\n",
    "    mae1 = df1[df1['method'] == method]['MAE'].to_numpy()\n",
    "    mae3 = df3[df3['method'] == method]['MAE'].to_numpy()\n",
    "    print(f'{method} {kstest(mae1, mae3, alternative=\"greater\")}')"
   ],
   "metadata": {
    "collapsed": false,
    "pycharm": {
     "name": "#%%\n"
    }
   }
  },
  {
   "cell_type": "code",
   "execution_count": 4,
   "outputs": [
    {
     "data": {
      "text/plain": "        Unnamed: 0  feature0_orig  feature1_orig  feature2_orig  \\\n0            25100      -4.409981       6.583811      15.950713   \n1            25101      -0.614181       0.685218      22.615474   \n2            25102       0.907999       8.471696      22.336496   \n3            25103       7.255474       4.280624      19.575098   \n4            25104      -1.139844       1.667867      26.298472   \n...            ...            ...            ...            ...   \n180595        5095       0.080076       3.913446      82.950071   \n180596        5096     -10.773462       2.764457      16.151260   \n180597        5097       9.321502       2.887395      27.635340   \n180598        5098       0.792005       2.854833       3.280840   \n180599        5099      -5.777491       3.282724       4.415806   \n\n        feature3_orig  feature4_orig  feature5_orig  unclipped_MAE       MAE  \\\n0            8.983177       5.855163       7.527378       0.027768  0.035266   \n1           -0.481572      -0.144852      15.250847       0.042050  0.036445   \n2            8.717135       1.357045       7.301335       0.029997  0.034904   \n3            8.614008      10.585169      13.607165       0.031864  0.034163   \n4           16.561717      23.600216      16.528759       0.055782  0.055172   \n...               ...            ...            ...            ...       ...   \n180595      17.883694      18.939499       9.049063       0.021731  0.053797   \n180596      10.840175      11.191761      19.276817       0.232915  0.258843   \n180597       6.742770       4.984124      15.370397       0.157882  0.132864   \n180598      28.368668      20.042707      40.643834       0.007535  0.036476   \n180599      21.616996      21.466394      17.120214       0.136958  0.165485   \n\n        median_MAE              method   feature  feature_set  \n0         0.117208  FeaturePermutation  feature5    dependent  \n1         0.088245  FeaturePermutation  feature5    dependent  \n2         0.104874  FeaturePermutation  feature5    dependent  \n3         0.086754  FeaturePermutation  feature5    dependent  \n4         0.080911  FeaturePermutation  feature5    dependent  \n...            ...                 ...       ...          ...  \n180595    0.086823       DeepExplainer  feature0  independent  \n180596    0.294446       DeepExplainer  feature0  independent  \n180597    0.096645       DeepExplainer  feature0  independent  \n180598    0.063832       DeepExplainer  feature0  independent  \n180599    0.202651       DeepExplainer  feature0  independent  \n\n[180600 rows x 13 columns]",
      "text/html": "<div>\n<style scoped>\n    .dataframe tbody tr th:only-of-type {\n        vertical-align: middle;\n    }\n\n    .dataframe tbody tr th {\n        vertical-align: top;\n    }\n\n    .dataframe thead th {\n        text-align: right;\n    }\n</style>\n<table border=\"1\" class=\"dataframe\">\n  <thead>\n    <tr style=\"text-align: right;\">\n      <th></th>\n      <th>Unnamed: 0</th>\n      <th>feature0_orig</th>\n      <th>feature1_orig</th>\n      <th>feature2_orig</th>\n      <th>feature3_orig</th>\n      <th>feature4_orig</th>\n      <th>feature5_orig</th>\n      <th>unclipped_MAE</th>\n      <th>MAE</th>\n      <th>median_MAE</th>\n      <th>method</th>\n      <th>feature</th>\n      <th>feature_set</th>\n    </tr>\n  </thead>\n  <tbody>\n    <tr>\n      <th>0</th>\n      <td>25100</td>\n      <td>-4.409981</td>\n      <td>6.583811</td>\n      <td>15.950713</td>\n      <td>8.983177</td>\n      <td>5.855163</td>\n      <td>7.527378</td>\n      <td>0.027768</td>\n      <td>0.035266</td>\n      <td>0.117208</td>\n      <td>FeaturePermutation</td>\n      <td>feature5</td>\n      <td>dependent</td>\n    </tr>\n    <tr>\n      <th>1</th>\n      <td>25101</td>\n      <td>-0.614181</td>\n      <td>0.685218</td>\n      <td>22.615474</td>\n      <td>-0.481572</td>\n      <td>-0.144852</td>\n      <td>15.250847</td>\n      <td>0.042050</td>\n      <td>0.036445</td>\n      <td>0.088245</td>\n      <td>FeaturePermutation</td>\n      <td>feature5</td>\n      <td>dependent</td>\n    </tr>\n    <tr>\n      <th>2</th>\n      <td>25102</td>\n      <td>0.907999</td>\n      <td>8.471696</td>\n      <td>22.336496</td>\n      <td>8.717135</td>\n      <td>1.357045</td>\n      <td>7.301335</td>\n      <td>0.029997</td>\n      <td>0.034904</td>\n      <td>0.104874</td>\n      <td>FeaturePermutation</td>\n      <td>feature5</td>\n      <td>dependent</td>\n    </tr>\n    <tr>\n      <th>3</th>\n      <td>25103</td>\n      <td>7.255474</td>\n      <td>4.280624</td>\n      <td>19.575098</td>\n      <td>8.614008</td>\n      <td>10.585169</td>\n      <td>13.607165</td>\n      <td>0.031864</td>\n      <td>0.034163</td>\n      <td>0.086754</td>\n      <td>FeaturePermutation</td>\n      <td>feature5</td>\n      <td>dependent</td>\n    </tr>\n    <tr>\n      <th>4</th>\n      <td>25104</td>\n      <td>-1.139844</td>\n      <td>1.667867</td>\n      <td>26.298472</td>\n      <td>16.561717</td>\n      <td>23.600216</td>\n      <td>16.528759</td>\n      <td>0.055782</td>\n      <td>0.055172</td>\n      <td>0.080911</td>\n      <td>FeaturePermutation</td>\n      <td>feature5</td>\n      <td>dependent</td>\n    </tr>\n    <tr>\n      <th>...</th>\n      <td>...</td>\n      <td>...</td>\n      <td>...</td>\n      <td>...</td>\n      <td>...</td>\n      <td>...</td>\n      <td>...</td>\n      <td>...</td>\n      <td>...</td>\n      <td>...</td>\n      <td>...</td>\n      <td>...</td>\n      <td>...</td>\n    </tr>\n    <tr>\n      <th>180595</th>\n      <td>5095</td>\n      <td>0.080076</td>\n      <td>3.913446</td>\n      <td>82.950071</td>\n      <td>17.883694</td>\n      <td>18.939499</td>\n      <td>9.049063</td>\n      <td>0.021731</td>\n      <td>0.053797</td>\n      <td>0.086823</td>\n      <td>DeepExplainer</td>\n      <td>feature0</td>\n      <td>independent</td>\n    </tr>\n    <tr>\n      <th>180596</th>\n      <td>5096</td>\n      <td>-10.773462</td>\n      <td>2.764457</td>\n      <td>16.151260</td>\n      <td>10.840175</td>\n      <td>11.191761</td>\n      <td>19.276817</td>\n      <td>0.232915</td>\n      <td>0.258843</td>\n      <td>0.294446</td>\n      <td>DeepExplainer</td>\n      <td>feature0</td>\n      <td>independent</td>\n    </tr>\n    <tr>\n      <th>180597</th>\n      <td>5097</td>\n      <td>9.321502</td>\n      <td>2.887395</td>\n      <td>27.635340</td>\n      <td>6.742770</td>\n      <td>4.984124</td>\n      <td>15.370397</td>\n      <td>0.157882</td>\n      <td>0.132864</td>\n      <td>0.096645</td>\n      <td>DeepExplainer</td>\n      <td>feature0</td>\n      <td>independent</td>\n    </tr>\n    <tr>\n      <th>180598</th>\n      <td>5098</td>\n      <td>0.792005</td>\n      <td>2.854833</td>\n      <td>3.280840</td>\n      <td>28.368668</td>\n      <td>20.042707</td>\n      <td>40.643834</td>\n      <td>0.007535</td>\n      <td>0.036476</td>\n      <td>0.063832</td>\n      <td>DeepExplainer</td>\n      <td>feature0</td>\n      <td>independent</td>\n    </tr>\n    <tr>\n      <th>180599</th>\n      <td>5099</td>\n      <td>-5.777491</td>\n      <td>3.282724</td>\n      <td>4.415806</td>\n      <td>21.616996</td>\n      <td>21.466394</td>\n      <td>17.120214</td>\n      <td>0.136958</td>\n      <td>0.165485</td>\n      <td>0.202651</td>\n      <td>DeepExplainer</td>\n      <td>feature0</td>\n      <td>independent</td>\n    </tr>\n  </tbody>\n</table>\n<p>180600 rows × 13 columns</p>\n</div>"
     },
     "execution_count": 4,
     "metadata": {},
     "output_type": "execute_result"
    }
   ],
   "source": [
    "complete_ds"
   ],
   "metadata": {
    "collapsed": false,
    "pycharm": {
     "name": "#%%\n"
    }
   }
  },
  {
   "cell_type": "code",
   "execution_count": 244,
   "outputs": [],
   "source": [
    "EVALUATION_DIR = '/data/analysis/ag-reils/ag-reils-shared/cardioRS/results/interpretability/resample_multiplicities/evaluation'"
   ],
   "metadata": {
    "collapsed": false,
    "pycharm": {
     "name": "#%%\n"
    }
   }
  },
  {
   "cell_type": "code",
   "execution_count": 227,
   "outputs": [
    {
     "data": {
      "text/plain": "        Unnamed: 0  feature0_orig  feature1_orig  feature2_orig  \\\n25000        15100      -1.600297       1.160718      22.934888   \n25001        15101       7.267520      12.236927      82.639847   \n25002        15102      -6.902593       9.960215      40.172565   \n25003        15103      -5.163549       8.783069      14.445232   \n25004        15104       0.889039       2.660884      25.257101   \n...            ...            ...            ...            ...   \n120595        5095       0.080076       3.913446      82.950071   \n120596        5096     -10.773462       2.764457      16.151260   \n120597        5097       9.321502       2.887395      27.635340   \n120598        5098       0.792005       2.854833       3.280840   \n120599        5099      -5.777491       3.282724       4.415806   \n\n        feature3_orig  feature4_orig  feature5_orig  unclipped_MAE       MAE  \\\n25000       -0.532154       1.731216       4.339722       0.275222  0.346068   \n25001       19.382078      11.431457      18.005017       0.249015  0.176201   \n25002       21.595461      20.844924      29.875542       0.308250  0.234294   \n25003       31.699918      32.447723      37.079771       0.590774  0.492106   \n25004       -6.974627     -10.952289      -3.981330       0.440140  0.513017   \n...               ...            ...            ...            ...       ...   \n120595      17.883694      18.939499       9.049063       0.021731  0.053797   \n120596      10.840175      11.191761      19.276817       0.232915  0.258843   \n120597       6.742770       4.984124      15.370397       0.157882  0.132864   \n120598      28.368668      20.042707      40.643834       0.007535  0.036476   \n120599      21.616996      21.466394      17.120214       0.136958  0.165485   \n\n        median_MAE         method  feature_set   feature  \n25000     0.411179  DeepExplainer    dependent       NaN  \n25001     0.115770  DeepExplainer    dependent       NaN  \n25002     0.164289  DeepExplainer    dependent       NaN  \n25003     0.449756  DeepExplainer    dependent       NaN  \n25004     0.578576  DeepExplainer    dependent       NaN  \n...            ...            ...          ...       ...  \n120595    0.086823  DeepExplainer  independent  feature0  \n120596    0.294446  DeepExplainer  independent  feature0  \n120597    0.096645  DeepExplainer  independent  feature0  \n120598    0.063832  DeepExplainer  independent  feature0  \n120599    0.202651  DeepExplainer  independent  feature0  \n\n[20100 rows x 13 columns]",
      "text/html": "<div>\n<style scoped>\n    .dataframe tbody tr th:only-of-type {\n        vertical-align: middle;\n    }\n\n    .dataframe tbody tr th {\n        vertical-align: top;\n    }\n\n    .dataframe thead th {\n        text-align: right;\n    }\n</style>\n<table border=\"1\" class=\"dataframe\">\n  <thead>\n    <tr style=\"text-align: right;\">\n      <th></th>\n      <th>Unnamed: 0</th>\n      <th>feature0_orig</th>\n      <th>feature1_orig</th>\n      <th>feature2_orig</th>\n      <th>feature3_orig</th>\n      <th>feature4_orig</th>\n      <th>feature5_orig</th>\n      <th>unclipped_MAE</th>\n      <th>MAE</th>\n      <th>median_MAE</th>\n      <th>method</th>\n      <th>feature_set</th>\n      <th>feature</th>\n    </tr>\n  </thead>\n  <tbody>\n    <tr>\n      <th>25000</th>\n      <td>15100</td>\n      <td>-1.600297</td>\n      <td>1.160718</td>\n      <td>22.934888</td>\n      <td>-0.532154</td>\n      <td>1.731216</td>\n      <td>4.339722</td>\n      <td>0.275222</td>\n      <td>0.346068</td>\n      <td>0.411179</td>\n      <td>DeepExplainer</td>\n      <td>dependent</td>\n      <td>NaN</td>\n    </tr>\n    <tr>\n      <th>25001</th>\n      <td>15101</td>\n      <td>7.267520</td>\n      <td>12.236927</td>\n      <td>82.639847</td>\n      <td>19.382078</td>\n      <td>11.431457</td>\n      <td>18.005017</td>\n      <td>0.249015</td>\n      <td>0.176201</td>\n      <td>0.115770</td>\n      <td>DeepExplainer</td>\n      <td>dependent</td>\n      <td>NaN</td>\n    </tr>\n    <tr>\n      <th>25002</th>\n      <td>15102</td>\n      <td>-6.902593</td>\n      <td>9.960215</td>\n      <td>40.172565</td>\n      <td>21.595461</td>\n      <td>20.844924</td>\n      <td>29.875542</td>\n      <td>0.308250</td>\n      <td>0.234294</td>\n      <td>0.164289</td>\n      <td>DeepExplainer</td>\n      <td>dependent</td>\n      <td>NaN</td>\n    </tr>\n    <tr>\n      <th>25003</th>\n      <td>15103</td>\n      <td>-5.163549</td>\n      <td>8.783069</td>\n      <td>14.445232</td>\n      <td>31.699918</td>\n      <td>32.447723</td>\n      <td>37.079771</td>\n      <td>0.590774</td>\n      <td>0.492106</td>\n      <td>0.449756</td>\n      <td>DeepExplainer</td>\n      <td>dependent</td>\n      <td>NaN</td>\n    </tr>\n    <tr>\n      <th>25004</th>\n      <td>15104</td>\n      <td>0.889039</td>\n      <td>2.660884</td>\n      <td>25.257101</td>\n      <td>-6.974627</td>\n      <td>-10.952289</td>\n      <td>-3.981330</td>\n      <td>0.440140</td>\n      <td>0.513017</td>\n      <td>0.578576</td>\n      <td>DeepExplainer</td>\n      <td>dependent</td>\n      <td>NaN</td>\n    </tr>\n    <tr>\n      <th>...</th>\n      <td>...</td>\n      <td>...</td>\n      <td>...</td>\n      <td>...</td>\n      <td>...</td>\n      <td>...</td>\n      <td>...</td>\n      <td>...</td>\n      <td>...</td>\n      <td>...</td>\n      <td>...</td>\n      <td>...</td>\n      <td>...</td>\n    </tr>\n    <tr>\n      <th>120595</th>\n      <td>5095</td>\n      <td>0.080076</td>\n      <td>3.913446</td>\n      <td>82.950071</td>\n      <td>17.883694</td>\n      <td>18.939499</td>\n      <td>9.049063</td>\n      <td>0.021731</td>\n      <td>0.053797</td>\n      <td>0.086823</td>\n      <td>DeepExplainer</td>\n      <td>independent</td>\n      <td>feature0</td>\n    </tr>\n    <tr>\n      <th>120596</th>\n      <td>5096</td>\n      <td>-10.773462</td>\n      <td>2.764457</td>\n      <td>16.151260</td>\n      <td>10.840175</td>\n      <td>11.191761</td>\n      <td>19.276817</td>\n      <td>0.232915</td>\n      <td>0.258843</td>\n      <td>0.294446</td>\n      <td>DeepExplainer</td>\n      <td>independent</td>\n      <td>feature0</td>\n    </tr>\n    <tr>\n      <th>120597</th>\n      <td>5097</td>\n      <td>9.321502</td>\n      <td>2.887395</td>\n      <td>27.635340</td>\n      <td>6.742770</td>\n      <td>4.984124</td>\n      <td>15.370397</td>\n      <td>0.157882</td>\n      <td>0.132864</td>\n      <td>0.096645</td>\n      <td>DeepExplainer</td>\n      <td>independent</td>\n      <td>feature0</td>\n    </tr>\n    <tr>\n      <th>120598</th>\n      <td>5098</td>\n      <td>0.792005</td>\n      <td>2.854833</td>\n      <td>3.280840</td>\n      <td>28.368668</td>\n      <td>20.042707</td>\n      <td>40.643834</td>\n      <td>0.007535</td>\n      <td>0.036476</td>\n      <td>0.063832</td>\n      <td>DeepExplainer</td>\n      <td>independent</td>\n      <td>feature0</td>\n    </tr>\n    <tr>\n      <th>120599</th>\n      <td>5099</td>\n      <td>-5.777491</td>\n      <td>3.282724</td>\n      <td>4.415806</td>\n      <td>21.616996</td>\n      <td>21.466394</td>\n      <td>17.120214</td>\n      <td>0.136958</td>\n      <td>0.165485</td>\n      <td>0.202651</td>\n      <td>DeepExplainer</td>\n      <td>independent</td>\n      <td>feature0</td>\n    </tr>\n  </tbody>\n</table>\n<p>20100 rows × 13 columns</p>\n</div>"
     },
     "execution_count": 227,
     "metadata": {},
     "output_type": "execute_result"
    }
   ],
   "source": [
    "ds"
   ],
   "metadata": {
    "collapsed": false,
    "pycharm": {
     "name": "#%%\n"
    }
   }
  },
  {
   "cell_type": "code",
   "execution_count": 240,
   "outputs": [],
   "source": [
    "completeds = pd.read_csv(f'{EVALUATION_DIR}/dependence_group_ds1.csv')"
   ],
   "metadata": {
    "collapsed": false,
    "pycharm": {
     "name": "#%%\n"
    }
   }
  },
  {
   "cell_type": "code",
   "execution_count": 242,
   "outputs": [
    {
     "data": {
      "text/plain": "        Unnamed: 0  Unnamed: 0.1  feature0_orig  feature1_orig  feature2_orig  \\\n0                0         10100       2.991878       0.336159       5.869631   \n1                1         10101      -8.042339       7.736151       2.921270   \n2                2         10102       2.185384       1.288675      19.426832   \n3                3         10103       1.587252       2.442608      46.379307   \n4                4         10104     -12.021602       2.327831      18.209605   \n...            ...           ...            ...            ...            ...   \n180595      180595          5095       0.080076       3.913446      82.950071   \n180596      180596          5096     -10.773462       2.764457      16.151260   \n180597      180597          5097       9.321502       2.887395      27.635340   \n180598      180598          5098       0.792005       2.854833       3.280840   \n180599      180599          5099      -5.777491       3.282724       4.415806   \n\n        feature3_orig  feature4_orig  \\\n0            7.064188       8.404492   \n1           -9.194160      -9.903655   \n2           23.904327      22.207773   \n3            4.586729       6.288897   \n4            6.465982       9.362388   \n...               ...            ...   \n180595      17.883694      18.939499   \n180596      10.840175      11.191761   \n180597       6.742770       4.984124   \n180598      28.368668      20.042707   \n180599      21.616996      21.466394   \n\n                                           absolute_error  \\\n0       [0.04201002023231896, 0.04493019656715976, 0.0...   \n1       [0.1899647712458768, 0.05133609572216575, 0.06...   \n2       [0.057289314110067456, 0.01708189556121409, 0....   \n3       [0.03963594845001977, 0.02307176680943902, 0.0...   \n4       [0.03451285738036701, 0.004658286394666093, 0....   \n...                                                   ...   \n180595  [0.017532505870119425, 0.05706466203697007, 0....   \n180596  [0.22843907066634417, 0.22866061323709824, 0.2...   \n180597  [0.10208063543375537, 0.10944745951630613, 0.1...   \n180598  [0.0779111718981639, 0.04700854854983683, 0.00...   \n180599  [0.10837207905405105, 0.1556139865501473, 0.17...   \n\n                                 unclipped_absolute_error  \\\n0       [0.007050912658855208, 0.04155747245661367, 8....   \n1       [0.004131325299339251, 0.0019874227407074485, ...   \n2       [0.04184222273326899, 0.003789839319997503, 0....   \n3       [0.002174171089271212, 0.013344067344475023, 0...   \n4       [0.0302821673638716, 9.252080074344925e-05, 0....   \n...                                                   ...   \n180595  [0.017236744953964454, 0.019399242740149997, 0...   \n180596  [0.20402302710799278, 0.2027569118662372, 0.22...   \n180597  [0.14087218860012943, 0.1399780432134488, 0.15...   \n180598  [0.007869805601303757, 0.007136663724219807, 0...   \n180599  [0.11857781251522971, 0.12213428579291286, 0.1...   \n\n                                    median_absolute_error  unclipped_MAE  \\\n0       [0.1879240374720591, 0.10817291287919034, 0.07...       0.007412   \n1       [0.560368340504437, 0.1142807957023998, 0.1789...       0.005234   \n2       [0.282795796142154, 0.14474118726489624, 0.145...       0.005733   \n3       [0.20871399557841053, 0.06943199145260118, 0.1...       0.014368   \n4       [0.16958040628097126, 0.07789800236205777, 0.1...       0.007229   \n...                                                   ...            ...   \n180595  [0.09116767648291403, 0.09521267957670551, 0.1...       0.019339   \n180596  [0.2679007233201032, 0.2670674834705593, 0.322...       0.204893   \n180597  [0.05104371439148124, 0.07098034959037391, 0.0...       0.141086   \n180598  [0.22591961325195076, 0.08465627742540617, 0.0...       0.006754   \n180599  [0.16079303254707422, 0.20437934566282895, 0.2...       0.121114   \n\n             MAE  median_MAE              method   feature  feature_set  \n0       0.025415    0.108653  FeaturePermutation  feature2    dependent  \n1       0.106849    0.272087  FeaturePermutation  feature2    dependent  \n2       0.026399    0.097444  FeaturePermutation  feature2    dependent  \n3       0.021282    0.110294  FeaturePermutation  feature2    dependent  \n4       0.021877    0.105644  FeaturePermutation  feature2    dependent  \n...          ...         ...                 ...       ...          ...  \n180595  0.058902    0.105376       DeepExplainer  feature0  independent  \n180596  0.236887    0.279816       DeepExplainer  feature0  independent  \n180597  0.109504    0.065352       DeepExplainer  feature0  independent  \n180598  0.039813    0.093804       DeepExplainer  feature0  independent  \n180599  0.156166    0.198620       DeepExplainer  feature0  independent  \n\n[180600 rows x 16 columns]",
      "text/html": "<div>\n<style scoped>\n    .dataframe tbody tr th:only-of-type {\n        vertical-align: middle;\n    }\n\n    .dataframe tbody tr th {\n        vertical-align: top;\n    }\n\n    .dataframe thead th {\n        text-align: right;\n    }\n</style>\n<table border=\"1\" class=\"dataframe\">\n  <thead>\n    <tr style=\"text-align: right;\">\n      <th></th>\n      <th>Unnamed: 0</th>\n      <th>Unnamed: 0.1</th>\n      <th>feature0_orig</th>\n      <th>feature1_orig</th>\n      <th>feature2_orig</th>\n      <th>feature3_orig</th>\n      <th>feature4_orig</th>\n      <th>absolute_error</th>\n      <th>unclipped_absolute_error</th>\n      <th>median_absolute_error</th>\n      <th>unclipped_MAE</th>\n      <th>MAE</th>\n      <th>median_MAE</th>\n      <th>method</th>\n      <th>feature</th>\n      <th>feature_set</th>\n    </tr>\n  </thead>\n  <tbody>\n    <tr>\n      <th>0</th>\n      <td>0</td>\n      <td>10100</td>\n      <td>2.991878</td>\n      <td>0.336159</td>\n      <td>5.869631</td>\n      <td>7.064188</td>\n      <td>8.404492</td>\n      <td>[0.04201002023231896, 0.04493019656715976, 0.0...</td>\n      <td>[0.007050912658855208, 0.04155747245661367, 8....</td>\n      <td>[0.1879240374720591, 0.10817291287919034, 0.07...</td>\n      <td>0.007412</td>\n      <td>0.025415</td>\n      <td>0.108653</td>\n      <td>FeaturePermutation</td>\n      <td>feature2</td>\n      <td>dependent</td>\n    </tr>\n    <tr>\n      <th>1</th>\n      <td>1</td>\n      <td>10101</td>\n      <td>-8.042339</td>\n      <td>7.736151</td>\n      <td>2.921270</td>\n      <td>-9.194160</td>\n      <td>-9.903655</td>\n      <td>[0.1899647712458768, 0.05133609572216575, 0.06...</td>\n      <td>[0.004131325299339251, 0.0019874227407074485, ...</td>\n      <td>[0.560368340504437, 0.1142807957023998, 0.1789...</td>\n      <td>0.005234</td>\n      <td>0.106849</td>\n      <td>0.272087</td>\n      <td>FeaturePermutation</td>\n      <td>feature2</td>\n      <td>dependent</td>\n    </tr>\n    <tr>\n      <th>2</th>\n      <td>2</td>\n      <td>10102</td>\n      <td>2.185384</td>\n      <td>1.288675</td>\n      <td>19.426832</td>\n      <td>23.904327</td>\n      <td>22.207773</td>\n      <td>[0.057289314110067456, 0.01708189556121409, 0....</td>\n      <td>[0.04184222273326899, 0.003789839319997503, 0....</td>\n      <td>[0.282795796142154, 0.14474118726489624, 0.145...</td>\n      <td>0.005733</td>\n      <td>0.026399</td>\n      <td>0.097444</td>\n      <td>FeaturePermutation</td>\n      <td>feature2</td>\n      <td>dependent</td>\n    </tr>\n    <tr>\n      <th>3</th>\n      <td>3</td>\n      <td>10103</td>\n      <td>1.587252</td>\n      <td>2.442608</td>\n      <td>46.379307</td>\n      <td>4.586729</td>\n      <td>6.288897</td>\n      <td>[0.03963594845001977, 0.02307176680943902, 0.0...</td>\n      <td>[0.002174171089271212, 0.013344067344475023, 0...</td>\n      <td>[0.20871399557841053, 0.06943199145260118, 0.1...</td>\n      <td>0.014368</td>\n      <td>0.021282</td>\n      <td>0.110294</td>\n      <td>FeaturePermutation</td>\n      <td>feature2</td>\n      <td>dependent</td>\n    </tr>\n    <tr>\n      <th>4</th>\n      <td>4</td>\n      <td>10104</td>\n      <td>-12.021602</td>\n      <td>2.327831</td>\n      <td>18.209605</td>\n      <td>6.465982</td>\n      <td>9.362388</td>\n      <td>[0.03451285738036701, 0.004658286394666093, 0....</td>\n      <td>[0.0302821673638716, 9.252080074344925e-05, 0....</td>\n      <td>[0.16958040628097126, 0.07789800236205777, 0.1...</td>\n      <td>0.007229</td>\n      <td>0.021877</td>\n      <td>0.105644</td>\n      <td>FeaturePermutation</td>\n      <td>feature2</td>\n      <td>dependent</td>\n    </tr>\n    <tr>\n      <th>...</th>\n      <td>...</td>\n      <td>...</td>\n      <td>...</td>\n      <td>...</td>\n      <td>...</td>\n      <td>...</td>\n      <td>...</td>\n      <td>...</td>\n      <td>...</td>\n      <td>...</td>\n      <td>...</td>\n      <td>...</td>\n      <td>...</td>\n      <td>...</td>\n      <td>...</td>\n      <td>...</td>\n    </tr>\n    <tr>\n      <th>180595</th>\n      <td>180595</td>\n      <td>5095</td>\n      <td>0.080076</td>\n      <td>3.913446</td>\n      <td>82.950071</td>\n      <td>17.883694</td>\n      <td>18.939499</td>\n      <td>[0.017532505870119425, 0.05706466203697007, 0....</td>\n      <td>[0.017236744953964454, 0.019399242740149997, 0...</td>\n      <td>[0.09116767648291403, 0.09521267957670551, 0.1...</td>\n      <td>0.019339</td>\n      <td>0.058902</td>\n      <td>0.105376</td>\n      <td>DeepExplainer</td>\n      <td>feature0</td>\n      <td>independent</td>\n    </tr>\n    <tr>\n      <th>180596</th>\n      <td>180596</td>\n      <td>5096</td>\n      <td>-10.773462</td>\n      <td>2.764457</td>\n      <td>16.151260</td>\n      <td>10.840175</td>\n      <td>11.191761</td>\n      <td>[0.22843907066634417, 0.22866061323709824, 0.2...</td>\n      <td>[0.20402302710799278, 0.2027569118662372, 0.22...</td>\n      <td>[0.2679007233201032, 0.2670674834705593, 0.322...</td>\n      <td>0.204893</td>\n      <td>0.236887</td>\n      <td>0.279816</td>\n      <td>DeepExplainer</td>\n      <td>feature0</td>\n      <td>independent</td>\n    </tr>\n    <tr>\n      <th>180597</th>\n      <td>180597</td>\n      <td>5097</td>\n      <td>9.321502</td>\n      <td>2.887395</td>\n      <td>27.635340</td>\n      <td>6.742770</td>\n      <td>4.984124</td>\n      <td>[0.10208063543375537, 0.10944745951630613, 0.1...</td>\n      <td>[0.14087218860012943, 0.1399780432134488, 0.15...</td>\n      <td>[0.05104371439148124, 0.07098034959037391, 0.0...</td>\n      <td>0.141086</td>\n      <td>0.109504</td>\n      <td>0.065352</td>\n      <td>DeepExplainer</td>\n      <td>feature0</td>\n      <td>independent</td>\n    </tr>\n    <tr>\n      <th>180598</th>\n      <td>180598</td>\n      <td>5098</td>\n      <td>0.792005</td>\n      <td>2.854833</td>\n      <td>3.280840</td>\n      <td>28.368668</td>\n      <td>20.042707</td>\n      <td>[0.0779111718981639, 0.04700854854983683, 0.00...</td>\n      <td>[0.007869805601303757, 0.007136663724219807, 0...</td>\n      <td>[0.22591961325195076, 0.08465627742540617, 0.0...</td>\n      <td>0.006754</td>\n      <td>0.039813</td>\n      <td>0.093804</td>\n      <td>DeepExplainer</td>\n      <td>feature0</td>\n      <td>independent</td>\n    </tr>\n    <tr>\n      <th>180599</th>\n      <td>180599</td>\n      <td>5099</td>\n      <td>-5.777491</td>\n      <td>3.282724</td>\n      <td>4.415806</td>\n      <td>21.616996</td>\n      <td>21.466394</td>\n      <td>[0.10837207905405105, 0.1556139865501473, 0.17...</td>\n      <td>[0.11857781251522971, 0.12213428579291286, 0.1...</td>\n      <td>[0.16079303254707422, 0.20437934566282895, 0.2...</td>\n      <td>0.121114</td>\n      <td>0.156166</td>\n      <td>0.198620</td>\n      <td>DeepExplainer</td>\n      <td>feature0</td>\n      <td>independent</td>\n    </tr>\n  </tbody>\n</table>\n<p>180600 rows × 16 columns</p>\n</div>"
     },
     "execution_count": 242,
     "metadata": {},
     "output_type": "execute_result"
    }
   ],
   "source": [
    "completeds"
   ],
   "metadata": {
    "collapsed": false,
    "pycharm": {
     "name": "#%%\n"
    }
   }
  },
  {
   "cell_type": "code",
   "execution_count": 241,
   "outputs": [
    {
     "data": {
      "text/plain": "<AxesSubplot:xlabel='MAE', ylabel='Density'>"
     },
     "execution_count": 241,
     "metadata": {},
     "output_type": "execute_result"
    },
    {
     "data": {
      "text/plain": "<Figure size 1080x720 with 1 Axes>",
      "image/png": "[encoded data removed]"
     },
     "metadata": {},
     "output_type": "display_data"
    }
   ],
   "source": [
    "sns.kdeplot(\n",
    "    data=complete_ds[complete_ds['method'] == 'Lime'], x=\"MAE\", hue=\"feature_set\",\n",
    "    fill=True, common_norm=True, palette=\"Set2\",\n",
    "    alpha=.25,\n",
    ")"
   ],
   "metadata": {
    "collapsed": false,
    "pycharm": {
     "name": "#%%\n"
    }
   }
  },
  {
   "cell_type": "code",
   "execution_count": 188,
   "outputs": [
    {
     "data": {
      "text/plain": "<AxesSubplot:xlabel='unclipped_MAE', ylabel='Density'>"
     },
     "execution_count": 188,
     "metadata": {},
     "output_type": "execute_result"
    },
    {
     "data": {
      "text/plain": "<Figure size 1080x720 with 1 Axes>",
      "image/png": "[encoded data removed]"
     },
     "metadata": {},
     "output_type": "display_data"
    }
   ],
   "source": [
    "sns.kdeplot(\n",
    "    data=complete_ds[complete_ds['method'] == 'Lime'], x=\"unclipped_MAE\", hue=\"feature_set\",\n",
    "    fill=True, common_norm=True, palette=\"Set2\",\n",
    "    alpha=.25,\n",
    ")"
   ],
   "metadata": {
    "collapsed": false,
    "pycharm": {
     "name": "#%%\n"
    }
   }
  },
  {
   "cell_type": "code",
   "execution_count": 88,
   "outputs": [],
   "source": [
    "concat_ds = pd.concat([ds1, ds2, ds3], ignore_index=True)"
   ],
   "metadata": {
    "collapsed": false,
    "pycharm": {
     "name": "#%%\n"
    }
   }
  },
  {
   "cell_type": "code",
   "execution_count": 89,
   "outputs": [],
   "source": [
    "import seaborn as sns"
   ],
   "metadata": {
    "collapsed": false,
    "pycharm": {
     "name": "#%%\n"
    }
   }
  },
  {
   "cell_type": "code",
   "execution_count": 91,
   "outputs": [],
   "source": [
    "concat_ds = pd.concat([ds1, ds2, ds3], ignore_index=True)\n",
    "# concat_ds.loc[:, 'Delta_LPG'] = concat_ds['MAE'] * 10\n",
    "# concat_ds = concat_ds[concat_ds['method']== 'FeaturePermutation']"
   ],
   "metadata": {
    "collapsed": false,
    "pycharm": {
     "name": "#%%\n"
    }
   }
  },
  {
   "cell_type": "code",
   "execution_count": 95,
   "outputs": [
    {
     "data": {
      "text/plain": "       Unnamed: 0  feature0_orig  feature1_orig  feature2_orig  feature3_orig  \\\n0           15100      -1.600297       1.160718      22.934888      -0.532154   \n1           15101       7.267520      12.236927      82.639847      19.382078   \n2           15102      -6.902593       9.960215      40.172565      21.595461   \n3           15103      -5.163549       8.783069      14.445232      31.699918   \n4           15104       0.889039       2.660884      25.257101      -6.974627   \n...           ...            ...            ...            ...            ...   \n89995       20095      -1.246440       2.747808      59.378151       1.937009   \n89996       20096      -2.557968       2.482532       9.491518      12.734129   \n89997       20097       4.844323       5.670923      28.627106      -3.611590   \n89998       20098       8.290194       2.851677      35.575136      -0.618108   \n89999       20099       8.643701       2.707086      22.652999       5.604758   \n\n                                          absolute_error  \\\n0      [0.09172596234327546, 0.015702030811906464, 0....   \n1      [0.24175094703171573, 0.2509529520522138, 0.05...   \n2      [0.3413381406980677, 0.1819063714061115, 0.294...   \n3      [0.24988550581313373, 0.5204892718725371, 0.37...   \n4      [0.3734778635719324, 0.49000195440826105, 0.23...   \n...                                                  ...   \n89995  [0.2563490066186619, 0.26680867337919195, 0.29...   \n89996  [0.005394691377399147, 0.03433623886188102, 0....   \n89997  [0.3499981052663807, 0.390514994823254, 0.5436...   \n89998  [0.3051234282706266, 0.14939594117586485, 0.37...   \n89999  [0.17036759806362867, 0.15047293431350134, 0.1...   \n\n                                unclipped_absolute_error  \\\n0      [0.05543480041362537, 0.023448144450486142, 0....   \n1      [0.20077318926450397, 0.28044570008486946, 0.0...   \n2      [0.3727704347603857, 0.1461731848186255, 0.330...   \n3      [0.27589973338383716, 0.5437309260712745, 0.40...   \n4      [0.34041663276577816, 0.4623623128659904, 0.19...   \n...                                                  ...   \n89995  [0.190964536276522, 0.20676759863794028, 0.220...   \n89996  [0.06682360714717052, 0.07157920890573677, 0.0...   \n89997  [0.31095845996980803, 0.3426574743964197, 0.37...   \n89998  [0.24597460793250486, 0.26676782196760457, 0.2...   \n89999  [0.10537132635280592, 0.11322029744759467, 0.1...   \n\n                                   median_absolute_error  unclipped_MAE  \\\n0      [0.3132644764224376, 0.2567213685464225, 0.568...       0.252804   \n1      [0.35654783735498286, 0.13696595597870156, 0.2...       0.213774   \n2      [0.14216014955604872, 0.4133267121027949, 0.07...       0.253961   \n3      [0.007114949377983015, 0.254557733892465, 0.14...       0.368755   \n4      [0.6648116291537998, 0.7327090803091454, 0.341...       0.266022   \n...                                                  ...            ...   \n89995  [0.3159144505346515, 0.320303809033476, 0.3525...       0.212001   \n89996  [0.07631551942652234, 0.05690581843008677, 0.0...       0.072403   \n89997  [0.44464539391128477, 0.5164017060273502, 0.57...       0.353760   \n89998  [0.40681703458703705, 0.3353817413457488, 0.48...       0.277509   \n89999  [0.22853656687800275, 0.24995922436302023, 0.2...       0.116138   \n\n            MAE  median_MAE              method  n_correlations  \\\n0      0.282790    0.488999  FeaturePermutation               0   \n1      0.202387    0.195956  FeaturePermutation               0   \n2      0.232958    0.147966  FeaturePermutation               0   \n3      0.335087    0.156861  FeaturePermutation               0   \n4      0.297167    0.517853  FeaturePermutation               0   \n...         ...         ...                 ...             ...   \n89995  0.284960    0.349854       DeepExplainer               3   \n89996  0.025842    0.065748       DeepExplainer               3   \n89997  0.437969    0.500070       DeepExplainer               3   \n89998  0.364477    0.428609       DeepExplainer               3   \n89999  0.183874    0.254571       DeepExplainer               3   \n\n       feature4_orig  feature5_orig  \n0                NaN            NaN  \n1                NaN            NaN  \n2                NaN            NaN  \n3                NaN            NaN  \n4                NaN            NaN  \n...              ...            ...  \n89995      13.070785       5.141171  \n89996      19.411108      23.868067  \n89997      -1.108961       1.419429  \n89998      -8.518399      -5.826748  \n89999       4.635648      -0.755605  \n\n[90000 rows x 15 columns]",
      "text/html": "<div>\n<style scoped>\n    .dataframe tbody tr th:only-of-type {\n        vertical-align: middle;\n    }\n\n    .dataframe tbody tr th {\n        vertical-align: top;\n    }\n\n    .dataframe thead th {\n        text-align: right;\n    }\n</style>\n<table border=\"1\" class=\"dataframe\">\n  <thead>\n    <tr style=\"text-align: right;\">\n      <th></th>\n      <th>Unnamed: 0</th>\n      <th>feature0_orig</th>\n      <th>feature1_orig</th>\n      <th>feature2_orig</th>\n      <th>feature3_orig</th>\n      <th>absolute_error</th>\n      <th>unclipped_absolute_error</th>\n      <th>median_absolute_error</th>\n      <th>unclipped_MAE</th>\n      <th>MAE</th>\n      <th>median_MAE</th>\n      <th>method</th>\n      <th>n_correlations</th>\n      <th>feature4_orig</th>\n      <th>feature5_orig</th>\n    </tr>\n  </thead>\n  <tbody>\n    <tr>\n      <th>0</th>\n      <td>15100</td>\n      <td>-1.600297</td>\n      <td>1.160718</td>\n      <td>22.934888</td>\n      <td>-0.532154</td>\n      <td>[0.09172596234327546, 0.015702030811906464, 0....</td>\n      <td>[0.05543480041362537, 0.023448144450486142, 0....</td>\n      <td>[0.3132644764224376, 0.2567213685464225, 0.568...</td>\n      <td>0.252804</td>\n      <td>0.282790</td>\n      <td>0.488999</td>\n      <td>FeaturePermutation</td>\n      <td>0</td>\n      <td>NaN</td>\n      <td>NaN</td>\n    </tr>\n    <tr>\n      <th>1</th>\n      <td>15101</td>\n      <td>7.267520</td>\n      <td>12.236927</td>\n      <td>82.639847</td>\n      <td>19.382078</td>\n      <td>[0.24175094703171573, 0.2509529520522138, 0.05...</td>\n      <td>[0.20077318926450397, 0.28044570008486946, 0.0...</td>\n      <td>[0.35654783735498286, 0.13696595597870156, 0.2...</td>\n      <td>0.213774</td>\n      <td>0.202387</td>\n      <td>0.195956</td>\n      <td>FeaturePermutation</td>\n      <td>0</td>\n      <td>NaN</td>\n      <td>NaN</td>\n    </tr>\n    <tr>\n      <th>2</th>\n      <td>15102</td>\n      <td>-6.902593</td>\n      <td>9.960215</td>\n      <td>40.172565</td>\n      <td>21.595461</td>\n      <td>[0.3413381406980677, 0.1819063714061115, 0.294...</td>\n      <td>[0.3727704347603857, 0.1461731848186255, 0.330...</td>\n      <td>[0.14216014955604872, 0.4133267121027949, 0.07...</td>\n      <td>0.253961</td>\n      <td>0.232958</td>\n      <td>0.147966</td>\n      <td>FeaturePermutation</td>\n      <td>0</td>\n      <td>NaN</td>\n      <td>NaN</td>\n    </tr>\n    <tr>\n      <th>3</th>\n      <td>15103</td>\n      <td>-5.163549</td>\n      <td>8.783069</td>\n      <td>14.445232</td>\n      <td>31.699918</td>\n      <td>[0.24988550581313373, 0.5204892718725371, 0.37...</td>\n      <td>[0.27589973338383716, 0.5437309260712745, 0.40...</td>\n      <td>[0.007114949377983015, 0.254557733892465, 0.14...</td>\n      <td>0.368755</td>\n      <td>0.335087</td>\n      <td>0.156861</td>\n      <td>FeaturePermutation</td>\n      <td>0</td>\n      <td>NaN</td>\n      <td>NaN</td>\n    </tr>\n    <tr>\n      <th>4</th>\n      <td>15104</td>\n      <td>0.889039</td>\n      <td>2.660884</td>\n      <td>25.257101</td>\n      <td>-6.974627</td>\n      <td>[0.3734778635719324, 0.49000195440826105, 0.23...</td>\n      <td>[0.34041663276577816, 0.4623623128659904, 0.19...</td>\n      <td>[0.6648116291537998, 0.7327090803091454, 0.341...</td>\n      <td>0.266022</td>\n      <td>0.297167</td>\n      <td>0.517853</td>\n      <td>FeaturePermutation</td>\n      <td>0</td>\n      <td>NaN</td>\n      <td>NaN</td>\n    </tr>\n    <tr>\n      <th>...</th>\n      <td>...</td>\n      <td>...</td>\n      <td>...</td>\n      <td>...</td>\n      <td>...</td>\n      <td>...</td>\n      <td>...</td>\n      <td>...</td>\n      <td>...</td>\n      <td>...</td>\n      <td>...</td>\n      <td>...</td>\n      <td>...</td>\n      <td>...</td>\n      <td>...</td>\n    </tr>\n    <tr>\n      <th>89995</th>\n      <td>20095</td>\n      <td>-1.246440</td>\n      <td>2.747808</td>\n      <td>59.378151</td>\n      <td>1.937009</td>\n      <td>[0.2563490066186619, 0.26680867337919195, 0.29...</td>\n      <td>[0.190964536276522, 0.20676759863794028, 0.220...</td>\n      <td>[0.3159144505346515, 0.320303809033476, 0.3525...</td>\n      <td>0.212001</td>\n      <td>0.284960</td>\n      <td>0.349854</td>\n      <td>DeepExplainer</td>\n      <td>3</td>\n      <td>13.070785</td>\n      <td>5.141171</td>\n    </tr>\n    <tr>\n      <th>89996</th>\n      <td>20096</td>\n      <td>-2.557968</td>\n      <td>2.482532</td>\n      <td>9.491518</td>\n      <td>12.734129</td>\n      <td>[0.005394691377399147, 0.03433623886188102, 0....</td>\n      <td>[0.06682360714717052, 0.07157920890573677, 0.0...</td>\n      <td>[0.07631551942652234, 0.05690581843008677, 0.0...</td>\n      <td>0.072403</td>\n      <td>0.025842</td>\n      <td>0.065748</td>\n      <td>DeepExplainer</td>\n      <td>3</td>\n      <td>19.411108</td>\n      <td>23.868067</td>\n    </tr>\n    <tr>\n      <th>89997</th>\n      <td>20097</td>\n      <td>4.844323</td>\n      <td>5.670923</td>\n      <td>28.627106</td>\n      <td>-3.611590</td>\n      <td>[0.3499981052663807, 0.390514994823254, 0.5436...</td>\n      <td>[0.31095845996980803, 0.3426574743964197, 0.37...</td>\n      <td>[0.44464539391128477, 0.5164017060273502, 0.57...</td>\n      <td>0.353760</td>\n      <td>0.437969</td>\n      <td>0.500070</td>\n      <td>DeepExplainer</td>\n      <td>3</td>\n      <td>-1.108961</td>\n      <td>1.419429</td>\n    </tr>\n    <tr>\n      <th>89998</th>\n      <td>20098</td>\n      <td>8.290194</td>\n      <td>2.851677</td>\n      <td>35.575136</td>\n      <td>-0.618108</td>\n      <td>[0.3051234282706266, 0.14939594117586485, 0.37...</td>\n      <td>[0.24597460793250486, 0.26676782196760457, 0.2...</td>\n      <td>[0.40681703458703705, 0.3353817413457488, 0.48...</td>\n      <td>0.277509</td>\n      <td>0.364477</td>\n      <td>0.428609</td>\n      <td>DeepExplainer</td>\n      <td>3</td>\n      <td>-8.518399</td>\n      <td>-5.826748</td>\n    </tr>\n    <tr>\n      <th>89999</th>\n      <td>20099</td>\n      <td>8.643701</td>\n      <td>2.707086</td>\n      <td>22.652999</td>\n      <td>5.604758</td>\n      <td>[0.17036759806362867, 0.15047293431350134, 0.1...</td>\n      <td>[0.10537132635280592, 0.11322029744759467, 0.1...</td>\n      <td>[0.22853656687800275, 0.24995922436302023, 0.2...</td>\n      <td>0.116138</td>\n      <td>0.183874</td>\n      <td>0.254571</td>\n      <td>DeepExplainer</td>\n      <td>3</td>\n      <td>4.635648</td>\n      <td>-0.755605</td>\n    </tr>\n  </tbody>\n</table>\n<p>90000 rows × 15 columns</p>\n</div>"
     },
     "execution_count": 95,
     "metadata": {},
     "output_type": "execute_result"
    }
   ],
   "source": [
    "concat_ds"
   ],
   "metadata": {
    "collapsed": false,
    "pycharm": {
     "name": "#%%\n"
    }
   }
  },
  {
   "cell_type": "code",
   "execution_count": 101,
   "outputs": [
    {
     "name": "stdout",
     "output_type": "stream",
     "text": [
      "FeaturePermutation -- 0.011996317080514157\n",
      "IntegratedGradients -- 0.00895588810036374\n",
      "InputxGradient -- 0.012071652748821132\n",
      "Lime -- 0.0066807913530320395\n",
      "KernelExplainer -- 0.008923427191759509\n",
      "DeepExplainer -- 0.008925487883709643\n"
     ]
    }
   ],
   "source": [
    "methods = ['FeaturePermutation',\n",
    "           'IntegratedGradients',\n",
    "           'InputxGradient',\n",
    "           'Lime',\n",
    "           'KernelExplainer',\n",
    "           'DeepExplainer']\n",
    "\n",
    "for method in methods:\n",
    "    attrds = concat_ds[concat_ds['method'] == method]\n",
    "    nc0 = attrds[attrds['n_correlations'] == 0]['MAE'].values.mean()\n",
    "    nc3 = attrds[attrds['n_correlations'] == 3]['MAE'].values.mean()\n",
    "    print(f'{method} -- {nc3 - nc0}')"
   ],
   "metadata": {
    "collapsed": false,
    "pycharm": {
     "name": "#%%\n"
    }
   }
  },
  {
   "cell_type": "code",
   "execution_count": 102,
   "outputs": [
    {
     "data": {
      "text/plain": "0        0.282790\n1        0.202387\n2        0.232958\n3        0.335087\n4        0.297167\n           ...   \n89995    0.284960\n89996    0.025842\n89997    0.437969\n89998    0.364477\n89999    0.183874\nName: MAE, Length: 90000, dtype: float64"
     },
     "execution_count": 102,
     "metadata": {},
     "output_type": "execute_result"
    }
   ],
   "source": [
    "concat_ds['MAE']"
   ],
   "metadata": {
    "collapsed": false,
    "pycharm": {
     "name": "#%%\n"
    }
   }
  },
  {
   "cell_type": "code",
   "execution_count": 85,
   "outputs": [
    {
     "ename": "NameError",
     "evalue": "name 'concat_ds' is not defined",
     "output_type": "error",
     "traceback": [
      "\u001B[0;31m---------------------------------------------------------------------------\u001B[0m",
      "\u001B[0;31mNameError\u001B[0m                                 Traceback (most recent call last)",
      "\u001B[0;32m<ipython-input-85-13a6ac1a9f6b>\u001B[0m in \u001B[0;36m<module>\u001B[0;34m\u001B[0m\n\u001B[0;32m----> 1\u001B[0;31m \u001B[0mconcat_ds\u001B[0m\u001B[0;34m\u001B[0m\u001B[0;34m\u001B[0m\u001B[0m\n\u001B[0m",
      "\u001B[0;31mNameError\u001B[0m: name 'concat_ds' is not defined"
     ]
    }
   ],
   "source": [
    "concat_ds"
   ],
   "metadata": {
    "collapsed": false,
    "pycharm": {
     "name": "#%%\n"
    }
   }
  },
  {
   "cell_type": "code",
   "execution_count": 126,
   "outputs": [
    {
     "data": {
      "text/plain": "Text(0.5, 1.05, 'Delta to LPG With Increasing Number of Correlations')"
     },
     "execution_count": 126,
     "metadata": {},
     "output_type": "execute_result"
    },
    {
     "data": {
      "text/plain": "<Figure size 1080x720 with 6 Axes>",
      "image/png": "[encoded data removed]"
     },
     "metadata": {},
     "output_type": "display_data"
    }
   ],
   "source": [
    "sns.set(rc={'figure.figsize':(20, 9)})\n",
    "ax = sns.catplot(\n",
    "    data=concat_ds, x='MAE', y='n_correlations', orient='h',\n",
    "    col='method', kind='box', col_wrap=3, palette='Set2', margin_titles=True,\n",
    ")\n",
    "ax.fig.suptitle('Delta to LPG With Increasing Number of Correlations', y=1.05)"
   ],
   "metadata": {
    "collapsed": false,
    "pycharm": {
     "name": "#%%\n"
    }
   }
  },
  {
   "cell_type": "code",
   "execution_count": null,
   "outputs": [],
   "source": [
    "ax.set_title('lalala')\n",
    "ax.set_ylabel('lololo')"
   ],
   "metadata": {
    "collapsed": false,
    "pycharm": {
     "name": "#%%\n"
    }
   }
  },
  {
   "cell_type": "code",
   "execution_count": null,
   "outputs": [],
   "source": [
    "idx = 1\n",
    "experiment_id = 'simpsons_cc'\n",
    "ixg = pd.read_csv(f'{EVALUATION_DIR}/{experiment_id}/MeanError_feature{idx}_InputxGradient.csv', index_col=0)\n",
    "ke = pd.read_csv(f'{EVALUATION_DIR}/{experiment_id}/MeanError_feature{idx}_KernelExplainer.csv', index_col=0)"
   ],
   "metadata": {
    "collapsed": false,
    "pycharm": {
     "name": "#%%\n"
    }
   }
  },
  {
   "cell_type": "code",
   "execution_count": null,
   "outputs": [],
   "source": [
    "array = ixg['MAE'].to_numpy()\n",
    "outliers = np.percentile(array, [1, 90])\n",
    "clipped_array = np.clip(array, *outliers)"
   ],
   "metadata": {
    "collapsed": false,
    "pycharm": {
     "name": "#%%\n"
    }
   }
  },
  {
   "cell_type": "code",
   "execution_count": 153,
   "outputs": [],
   "source": [
    "def flatten_errors(experiment_id, idx):\n",
    "    \"\"\"\n",
    "    :param experiment_id: experiment identifier\n",
    "    :return:\n",
    "    \"\"\"\n",
    "    dfs = []\n",
    "    methods = ['FeaturePermutation',\n",
    "               'IntegratedGradients',\n",
    "               'InputxGradient',\n",
    "               'Lime',\n",
    "               'KernelExplainer',\n",
    "               'DeepExplainer']\n",
    "    for method in methods:\n",
    "        data = pd.read_csv(f'{EVALUATION_DIR}/{experiment_id}/MeanError_feature{idx}_{method}.csv', index_col=0)\n",
    "        absolute_error = col2numpy(data, 'absolute_error').flatten().tolist()\n",
    "        median_absolute_error = col2numpy(data, 'median_absolute_error').flatten().tolist()\n",
    "        unclipped_absolute_error = col2numpy(data, 'unclipped_absolute_error').flatten().tolist()\n",
    "        df = pd.DataFrame(dict(abs_error = absolute_error, median_abs_error=median_absolute_error, unclipped_absolute_error=unclipped_absolute_error))\n",
    "        df.loc[:, 'attribution_method'] = method\n",
    "        dfs.append(df)\n",
    "\n",
    "    df = dfs[0]\n",
    "    dfs.pop(0)\n",
    "    full_df = df.append(dfs, ignore_index=True)\n",
    "    full_df.to_csv(f'{EVALUATION_DIR}/{experiment_id}/FlattenedError_feature{idx}.csv')\n",
    "    print(f'WROTE -- {EVALUATION_DIR}/{experiment_id}/FlattenedError_feature{idx}.csv')\n",
    "    return full_df"
   ],
   "metadata": {
    "collapsed": false,
    "pycharm": {
     "name": "#%%\n"
    }
   }
  },
  {
   "cell_type": "code",
   "execution_count": null,
   "outputs": [],
   "source": [
    "import plotly.graph_objects as go\n",
    "from plotly.colors import n_colors"
   ],
   "metadata": {
    "collapsed": false,
    "pycharm": {
     "name": "#%%\n"
    }
   }
  },
  {
   "cell_type": "code",
   "execution_count": 142,
   "outputs": [],
   "source": [
    "idx = 3\n",
    "method = 'FeaturePermutation'\n",
    "experiment_id = 'linear_revised_1'\n",
    "data = pd.read_csv(f'{EVALUATION_DIR}/{experiment_id}/MeanError_feature{idx}_{method}.csv', index_col=0)"
   ],
   "metadata": {
    "collapsed": false,
    "pycharm": {
     "name": "#%%\n"
    }
   }
  },
  {
   "cell_type": "code",
   "execution_count": 155,
   "outputs": [
    {
     "name": "stdout",
     "output_type": "stream",
     "text": [
      "WROTE -- /data/analysis/ag-reils/ag-reils-shared/cardioRS/results/interpretability/resample_multiplicities/evaluation/linear_revised_3/FlattenedError_feature3.csv\n"
     ]
    },
    {
     "data": {
      "text/plain": "        abs_error  median_abs_error  unclipped_absolute_error  \\\n0        0.267375          0.334448                  0.190247   \n1        0.191042          0.259874                  0.121509   \n2        0.232356          0.295031                  0.171139   \n3        0.648358          0.729663                  0.539084   \n4        0.366955          0.434510                  0.291935   \n...           ...               ...                       ...   \n629995   0.189609          0.258970                  0.108769   \n629996   0.185770          0.245603                  0.116971   \n629997   0.168224          0.244756                  0.101119   \n629998   0.189404          0.266034                  0.119291   \n629999   0.182357          0.263552                  0.124094   \n\n        attribution_method  \n0       FeaturePermutation  \n1       FeaturePermutation  \n2       FeaturePermutation  \n3       FeaturePermutation  \n4       FeaturePermutation  \n...                    ...  \n629995       DeepExplainer  \n629996       DeepExplainer  \n629997       DeepExplainer  \n629998       DeepExplainer  \n629999       DeepExplainer  \n\n[630000 rows x 4 columns]",
      "text/html": "<div>\n<style scoped>\n    .dataframe tbody tr th:only-of-type {\n        vertical-align: middle;\n    }\n\n    .dataframe tbody tr th {\n        vertical-align: top;\n    }\n\n    .dataframe thead th {\n        text-align: right;\n    }\n</style>\n<table border=\"1\" class=\"dataframe\">\n  <thead>\n    <tr style=\"text-align: right;\">\n      <th></th>\n      <th>abs_error</th>\n      <th>median_abs_error</th>\n      <th>unclipped_absolute_error</th>\n      <th>attribution_method</th>\n    </tr>\n  </thead>\n  <tbody>\n    <tr>\n      <th>0</th>\n      <td>0.267375</td>\n      <td>0.334448</td>\n      <td>0.190247</td>\n      <td>FeaturePermutation</td>\n    </tr>\n    <tr>\n      <th>1</th>\n      <td>0.191042</td>\n      <td>0.259874</td>\n      <td>0.121509</td>\n      <td>FeaturePermutation</td>\n    </tr>\n    <tr>\n      <th>2</th>\n      <td>0.232356</td>\n      <td>0.295031</td>\n      <td>0.171139</td>\n      <td>FeaturePermutation</td>\n    </tr>\n    <tr>\n      <th>3</th>\n      <td>0.648358</td>\n      <td>0.729663</td>\n      <td>0.539084</td>\n      <td>FeaturePermutation</td>\n    </tr>\n    <tr>\n      <th>4</th>\n      <td>0.366955</td>\n      <td>0.434510</td>\n      <td>0.291935</td>\n      <td>FeaturePermutation</td>\n    </tr>\n    <tr>\n      <th>...</th>\n      <td>...</td>\n      <td>...</td>\n      <td>...</td>\n      <td>...</td>\n    </tr>\n    <tr>\n      <th>629995</th>\n      <td>0.189609</td>\n      <td>0.258970</td>\n      <td>0.108769</td>\n      <td>DeepExplainer</td>\n    </tr>\n    <tr>\n      <th>629996</th>\n      <td>0.185770</td>\n      <td>0.245603</td>\n      <td>0.116971</td>\n      <td>DeepExplainer</td>\n    </tr>\n    <tr>\n      <th>629997</th>\n      <td>0.168224</td>\n      <td>0.244756</td>\n      <td>0.101119</td>\n      <td>DeepExplainer</td>\n    </tr>\n    <tr>\n      <th>629998</th>\n      <td>0.189404</td>\n      <td>0.266034</td>\n      <td>0.119291</td>\n      <td>DeepExplainer</td>\n    </tr>\n    <tr>\n      <th>629999</th>\n      <td>0.182357</td>\n      <td>0.263552</td>\n      <td>0.124094</td>\n      <td>DeepExplainer</td>\n    </tr>\n  </tbody>\n</table>\n<p>630000 rows × 4 columns</p>\n</div>"
     },
     "execution_count": 155,
     "metadata": {},
     "output_type": "execute_result"
    }
   ],
   "source": [
    "flatten_errors('linear_revised_3', idx=3)"
   ],
   "metadata": {
    "collapsed": false,
    "pycharm": {
     "name": "#%%\n"
    }
   }
  },
  {
   "cell_type": "code",
   "execution_count": null,
   "outputs": [],
   "source": [],
   "metadata": {
    "collapsed": false,
    "pycharm": {
     "name": "#%%\n"
    }
   }
  },
  {
   "cell_type": "code",
   "execution_count": 143,
   "outputs": [
    {
     "data": {
      "text/plain": "       feature0_orig  feature1_orig  feature2_orig  feature3_orig  \\\n15100      -1.600297       1.160718      22.934888      -0.532154   \n15101       7.267520      12.236927      82.639847      19.382078   \n15102      -6.902593       9.960215      40.172565      21.595461   \n15103      -5.163549       8.783069      14.445232      31.699918   \n15104       0.889039       2.660884      25.257101      -6.974627   \n...              ...            ...            ...            ...   \n20095      -1.246440       2.747808      59.378151       1.937009   \n20096      -2.557968       2.482532       9.491518      12.734129   \n20097       4.844323       5.670923      28.627106      -3.611590   \n20098       8.290194       2.851677      35.575136      -0.618108   \n20099       8.643701       2.707086      22.652999       5.604758   \n\n                                          absolute_error  \\\n15100  [0.09172596234327546, 0.015702030811906464, 0....   \n15101  [0.24175094703171573, 0.2509529520522138, 0.05...   \n15102  [0.3413381406980677, 0.1819063714061115, 0.294...   \n15103  [0.24988550581313373, 0.5204892718725371, 0.37...   \n15104  [0.3734778635719324, 0.49000195440826105, 0.23...   \n...                                                  ...   \n20095  [0.3816302268849195, 0.12484329260752194, 0.27...   \n20096  [0.016647475157337784, 0.1683934316980854, 0.2...   \n20097  [0.3315153653692572, 0.26877818566933215, 0.33...   \n20098  [0.18231525659295267, 0.5318724477826998, 0.00...   \n20099  [0.33334022199289604, 0.1868780994486653, 0.05...   \n\n                                unclipped_absolute_error  \\\n15100  [0.05543480041362537, 0.023448144450486142, 0....   \n15101  [0.20077318926450397, 0.28044570008486946, 0.0...   \n15102  [0.3727704347603857, 0.1461731848186255, 0.330...   \n15103  [0.27589973338383716, 0.5437309260712745, 0.40...   \n15104  [0.34041663276577816, 0.4623623128659904, 0.19...   \n...                                                  ...   \n20095  [0.347821071028703, 0.15968210172920624, 0.252...   \n20096  [0.044846987495450366, 0.20203802725191394, 0....   \n20097  [0.3215357091637021, 0.2347843045986201, 0.284...   \n20098  [0.15204091097815037, 0.5077823503464404, 0.04...   \n20099  [0.3015734463480667, 0.22739458829477158, 0.10...   \n\n                                   median_absolute_error  unclipped_MAE  \\\n15100  [0.3132644764224376, 0.2567213685464225, 0.568...       0.252804   \n15101  [0.35654783735498286, 0.13696595597870156, 0.2...       0.213774   \n15102  [0.14216014955604872, 0.4133267121027949, 0.07...       0.253961   \n15103  [0.007114949377983015, 0.254557733892465, 0.14...       0.368755   \n15104  [0.6648116291537998, 0.7327090803091454, 0.341...       0.266022   \n...                                                  ...            ...   \n20095  [0.5936720343492754, 0.09369770253790627, 0.44...       0.194212   \n20096  [0.19074768086578614, 0.05839299174458304, 0.4...       0.143707   \n20097  [0.4875607439527555, 0.4982680910762668, 0.575...       0.254780   \n20098  [0.34090004854788813, 0.7306600066120509, 0.19...       0.268381   \n20099  [0.5351829871247393, 0.015302768311529602, 0.1...       0.143359   \n\n            MAE  median_MAE              method  \n15100  0.282790    0.488999  FeaturePermutation  \n15101  0.202387    0.195956  FeaturePermutation  \n15102  0.232958    0.147966  FeaturePermutation  \n15103  0.335087    0.156861  FeaturePermutation  \n15104  0.297167    0.517853  FeaturePermutation  \n...         ...         ...                 ...  \n20095  0.214536    0.394352  FeaturePermutation  \n20096  0.139510    0.238826  FeaturePermutation  \n20097  0.291069    0.512728  FeaturePermutation  \n20098  0.293661    0.496824  FeaturePermutation  \n20099  0.148496    0.280971  FeaturePermutation  \n\n[5000 rows x 11 columns]",
      "text/html": "<div>\n<style scoped>\n    .dataframe tbody tr th:only-of-type {\n        vertical-align: middle;\n    }\n\n    .dataframe tbody tr th {\n        vertical-align: top;\n    }\n\n    .dataframe thead th {\n        text-align: right;\n    }\n</style>\n<table border=\"1\" class=\"dataframe\">\n  <thead>\n    <tr style=\"text-align: right;\">\n      <th></th>\n      <th>feature0_orig</th>\n      <th>feature1_orig</th>\n      <th>feature2_orig</th>\n      <th>feature3_orig</th>\n      <th>absolute_error</th>\n      <th>unclipped_absolute_error</th>\n      <th>median_absolute_error</th>\n      <th>unclipped_MAE</th>\n      <th>MAE</th>\n      <th>median_MAE</th>\n      <th>method</th>\n    </tr>\n  </thead>\n  <tbody>\n    <tr>\n      <th>15100</th>\n      <td>-1.600297</td>\n      <td>1.160718</td>\n      <td>22.934888</td>\n      <td>-0.532154</td>\n      <td>[0.09172596234327546, 0.015702030811906464, 0....</td>\n      <td>[0.05543480041362537, 0.023448144450486142, 0....</td>\n      <td>[0.3132644764224376, 0.2567213685464225, 0.568...</td>\n      <td>0.252804</td>\n      <td>0.282790</td>\n      <td>0.488999</td>\n      <td>FeaturePermutation</td>\n    </tr>\n    <tr>\n      <th>15101</th>\n      <td>7.267520</td>\n      <td>12.236927</td>\n      <td>82.639847</td>\n      <td>19.382078</td>\n      <td>[0.24175094703171573, 0.2509529520522138, 0.05...</td>\n      <td>[0.20077318926450397, 0.28044570008486946, 0.0...</td>\n      <td>[0.35654783735498286, 0.13696595597870156, 0.2...</td>\n      <td>0.213774</td>\n      <td>0.202387</td>\n      <td>0.195956</td>\n      <td>FeaturePermutation</td>\n    </tr>\n    <tr>\n      <th>15102</th>\n      <td>-6.902593</td>\n      <td>9.960215</td>\n      <td>40.172565</td>\n      <td>21.595461</td>\n      <td>[0.3413381406980677, 0.1819063714061115, 0.294...</td>\n      <td>[0.3727704347603857, 0.1461731848186255, 0.330...</td>\n      <td>[0.14216014955604872, 0.4133267121027949, 0.07...</td>\n      <td>0.253961</td>\n      <td>0.232958</td>\n      <td>0.147966</td>\n      <td>FeaturePermutation</td>\n    </tr>\n    <tr>\n      <th>15103</th>\n      <td>-5.163549</td>\n      <td>8.783069</td>\n      <td>14.445232</td>\n      <td>31.699918</td>\n      <td>[0.24988550581313373, 0.5204892718725371, 0.37...</td>\n      <td>[0.27589973338383716, 0.5437309260712745, 0.40...</td>\n      <td>[0.007114949377983015, 0.254557733892465, 0.14...</td>\n      <td>0.368755</td>\n      <td>0.335087</td>\n      <td>0.156861</td>\n      <td>FeaturePermutation</td>\n    </tr>\n    <tr>\n      <th>15104</th>\n      <td>0.889039</td>\n      <td>2.660884</td>\n      <td>25.257101</td>\n      <td>-6.974627</td>\n      <td>[0.3734778635719324, 0.49000195440826105, 0.23...</td>\n      <td>[0.34041663276577816, 0.4623623128659904, 0.19...</td>\n      <td>[0.6648116291537998, 0.7327090803091454, 0.341...</td>\n      <td>0.266022</td>\n      <td>0.297167</td>\n      <td>0.517853</td>\n      <td>FeaturePermutation</td>\n    </tr>\n    <tr>\n      <th>...</th>\n      <td>...</td>\n      <td>...</td>\n      <td>...</td>\n      <td>...</td>\n      <td>...</td>\n      <td>...</td>\n      <td>...</td>\n      <td>...</td>\n      <td>...</td>\n      <td>...</td>\n      <td>...</td>\n    </tr>\n    <tr>\n      <th>20095</th>\n      <td>-1.246440</td>\n      <td>2.747808</td>\n      <td>59.378151</td>\n      <td>1.937009</td>\n      <td>[0.3816302268849195, 0.12484329260752194, 0.27...</td>\n      <td>[0.347821071028703, 0.15968210172920624, 0.252...</td>\n      <td>[0.5936720343492754, 0.09369770253790627, 0.44...</td>\n      <td>0.194212</td>\n      <td>0.214536</td>\n      <td>0.394352</td>\n      <td>FeaturePermutation</td>\n    </tr>\n    <tr>\n      <th>20096</th>\n      <td>-2.557968</td>\n      <td>2.482532</td>\n      <td>9.491518</td>\n      <td>12.734129</td>\n      <td>[0.016647475157337784, 0.1683934316980854, 0.2...</td>\n      <td>[0.044846987495450366, 0.20203802725191394, 0....</td>\n      <td>[0.19074768086578614, 0.05839299174458304, 0.4...</td>\n      <td>0.143707</td>\n      <td>0.139510</td>\n      <td>0.238826</td>\n      <td>FeaturePermutation</td>\n    </tr>\n    <tr>\n      <th>20097</th>\n      <td>4.844323</td>\n      <td>5.670923</td>\n      <td>28.627106</td>\n      <td>-3.611590</td>\n      <td>[0.3315153653692572, 0.26877818566933215, 0.33...</td>\n      <td>[0.3215357091637021, 0.2347843045986201, 0.284...</td>\n      <td>[0.4875607439527555, 0.4982680910762668, 0.575...</td>\n      <td>0.254780</td>\n      <td>0.291069</td>\n      <td>0.512728</td>\n      <td>FeaturePermutation</td>\n    </tr>\n    <tr>\n      <th>20098</th>\n      <td>8.290194</td>\n      <td>2.851677</td>\n      <td>35.575136</td>\n      <td>-0.618108</td>\n      <td>[0.18231525659295267, 0.5318724477826998, 0.00...</td>\n      <td>[0.15204091097815037, 0.5077823503464404, 0.04...</td>\n      <td>[0.34090004854788813, 0.7306600066120509, 0.19...</td>\n      <td>0.268381</td>\n      <td>0.293661</td>\n      <td>0.496824</td>\n      <td>FeaturePermutation</td>\n    </tr>\n    <tr>\n      <th>20099</th>\n      <td>8.643701</td>\n      <td>2.707086</td>\n      <td>22.652999</td>\n      <td>5.604758</td>\n      <td>[0.33334022199289604, 0.1868780994486653, 0.05...</td>\n      <td>[0.3015734463480667, 0.22739458829477158, 0.10...</td>\n      <td>[0.5351829871247393, 0.015302768311529602, 0.1...</td>\n      <td>0.143359</td>\n      <td>0.148496</td>\n      <td>0.280971</td>\n      <td>FeaturePermutation</td>\n    </tr>\n  </tbody>\n</table>\n<p>5000 rows × 11 columns</p>\n</div>"
     },
     "execution_count": 143,
     "metadata": {},
     "output_type": "execute_result"
    }
   ],
   "source": [
    "data"
   ],
   "metadata": {
    "collapsed": false,
    "pycharm": {
     "name": "#%%\n"
    }
   }
  },
  {
   "cell_type": "code",
   "execution_count": null,
   "outputs": [],
   "source": [
    "flattened_df = flatten_errors('linear_cc_3', idx=5)"
   ],
   "metadata": {
    "collapsed": false,
    "pycharm": {
     "name": "#%%\n"
    }
   }
  },
  {
   "cell_type": "code",
   "execution_count": null,
   "outputs": [],
   "source": [
    "flattened_df[flattened_df['attribution_method'=='FeaturePermutation']]"
   ],
   "metadata": {
    "collapsed": false,
    "pycharm": {
     "name": "#%%\n"
    }
   }
  },
  {
   "cell_type": "code",
   "execution_count": null,
   "outputs": [],
   "source": [
    "import scipy"
   ],
   "metadata": {
    "collapsed": false,
    "pycharm": {
     "name": "#%%\n"
    }
   }
  },
  {
   "cell_type": "code",
   "execution_count": null,
   "outputs": [],
   "source": [
    "shape, loc, scale = scipy.stats.gamma.fit(fp)"
   ],
   "metadata": {
    "collapsed": false,
    "pycharm": {
     "name": "#%%\n"
    }
   }
  },
  {
   "cell_type": "code",
   "execution_count": null,
   "outputs": [],
   "source": [
    "plt.hist(fp)"
   ],
   "metadata": {
    "collapsed": false,
    "pycharm": {
     "name": "#%%\n"
    }
   }
  },
  {
   "cell_type": "code",
   "execution_count": null,
   "outputs": [],
   "source": [
    "bins = np.linspace(0, 1.0, 100)"
   ],
   "metadata": {
    "collapsed": false,
    "pycharm": {
     "name": "#%%\n"
    }
   }
  },
  {
   "cell_type": "code",
   "execution_count": null,
   "outputs": [],
   "source": [
    "gamma_estimate = scipy.stats.gamma.rvs(shape, loc, scale, size=190000)\n",
    "plt.hist(fp, bins, alpha=0.5, label='actual errors')\n",
    "plt.hist(gamma_estimate, bins,  alpha=0.5, label='estimated gamma distribution')\n",
    "plt.legend(loc='upper right')\n",
    "plt.show()"
   ],
   "metadata": {
    "collapsed": false,
    "pycharm": {
     "name": "#%%\n"
    }
   }
  },
  {
   "cell_type": "code",
   "execution_count": null,
   "outputs": [],
   "source": [
    "scipy.stats.gamma.interval(0.95, shape, loc, scale)"
   ],
   "metadata": {
    "collapsed": false,
    "pycharm": {
     "name": "#%%\n"
    }
   }
  },
  {
   "cell_type": "code",
   "execution_count": null,
   "outputs": [],
   "source": [
    "fp = flattened_df.loc[flattened_df['attribution_method'] =='FeaturePermutation']['abs_error'].to_numpy().reshape(-1, 1)"
   ],
   "metadata": {
    "collapsed": false,
    "pycharm": {
     "name": "#%%\n"
    }
   }
  },
  {
   "cell_type": "code",
   "execution_count": null,
   "outputs": [],
   "source": [
    "sns.set(rc={'figure.figsize':(12, 12)})\n",
    "ax = sns.violinplot(data=flattened_df, y='attribution_method', x='abs_error', scale='count', palette='turbo', bw=1.0,\n",
    "                    inner=None, linewidth=0, saturation=0.4, orient='h', legend=True)\n",
    "g = sns.boxplot(data=flattened_df, y='attribution_method', x='abs_error', palette='turbo', width=0.1, showfliers=True,\n",
    "                boxprops={'zorder': 2}, orient='h', ax=ax)"
   ],
   "metadata": {
    "collapsed": false,
    "pycharm": {
     "name": "#%%\n"
    }
   }
  },
  {
   "cell_type": "code",
   "execution_count": null,
   "outputs": [],
   "source": [
    "sns.set(rc={'figure.figsize':(12, 12)})\n",
    "ax = sns.violinplot(data=concat_df, y='method', x='MAE', scale='count', palette='turbo',\n",
    "               inner=None, linewidth=0, saturation=0.4, orient='h', legend=True)\n",
    "g = sns.boxplot(data=concat_df, y='method', x='MAE', palette='turbo', width=0.1, showfliers=True,\n",
    "                  boxprops={'zorder': 2}, orient='h', ax=ax)"
   ],
   "metadata": {
    "collapsed": false,
    "pycharm": {
     "name": "#%%\n"
    }
   }
  },
  {
   "cell_type": "code",
   "execution_count": null,
   "outputs": [],
   "source": [
    "concat_df"
   ],
   "metadata": {
    "collapsed": false,
    "pycharm": {
     "name": "#%%\n"
    }
   }
  },
  {
   "cell_type": "code",
   "execution_count": null,
   "outputs": [],
   "source": [
    "data = np.concatenate((concat_df[concat_df['method']=='FeaturePermutation']['MAE'].to_numpy().reshape(-1, 1),\n",
    "                concat_df[concat_df['method']=='IntegratedGradients']['MAE'].to_numpy().reshape(-1, 1),\n",
    "                concat_df[concat_df['method']=='InputxGradient']['MAE'].to_numpy().reshape(-1, 1),\n",
    "                concat_df[concat_df['method']=='Lime']['MAE'].to_numpy().reshape(-1, 1),\n",
    "                concat_df[concat_df['method']=='KernelExplainer']['MAE'].to_numpy().reshape(-1, 1),\n",
    "                concat_df[concat_df['method']=='DeepExplainer']['MAE'].to_numpy().reshape(-1, 1)), axis=1)"
   ],
   "metadata": {
    "collapsed": false,
    "pycharm": {
     "name": "#%%\n"
    }
   }
  },
  {
   "cell_type": "code",
   "execution_count": null,
   "outputs": [],
   "source": [
    "data.shape"
   ],
   "metadata": {
    "collapsed": false,
    "pycharm": {
     "name": "#%%\n"
    }
   }
  },
  {
   "cell_type": "code",
   "execution_count": null,
   "outputs": [],
   "source": [
    "import plotly.graph_objects as go\n",
    "from plotly.colors import n_colors\n",
    "import numpy as np\n",
    "np.random.seed(1)\n",
    "\n",
    "# 12 sets of normal distributed random data, with increasing mean and standard deviation\n",
    "\n",
    "colors = n_colors('rgb(5, 200, 200)', 'rgb(200, 10, 10)', 6, colortype='rgb')\n",
    "\n",
    "fig = go.Figure()\n",
    "for data_line, color in zip(data, colors):\n",
    "    fig.add_trace(go.Violin(x=data_line, line_color=color))\n",
    "\n",
    "fig.update_traces(orientation='h', side='positive', width=2, points=False)\n",
    "fig.update_layout(xaxis_showgrid=False, xaxis_zeroline=False)\n",
    "fig.show()"
   ],
   "metadata": {
    "collapsed": false,
    "pycharm": {
     "name": "#%%\n"
    }
   }
  },
  {
   "cell_type": "code",
   "execution_count": null,
   "outputs": [],
   "source": [
    "methods = ['FeaturePermutation',\n",
    "           'IntegratedGradients',\n",
    "           'InputxGradient',\n",
    "           'Lime',\n",
    "           'KernelExplainer',\n",
    "           'DeepExplainer']\n",
    "fig = go.Figure()\n",
    "for method in methods:\n",
    "    fig.add_trace(go.Violin(y=concat_df['method'][concat_df['method'] == method],\n",
    "                            x=concat_df['MAE'][concat_df['method'] == method],\n",
    "                            orientation='h',\n",
    "                            name=method,\n",
    "                            box_visible=True,\n",
    "                            meanline_visible=True))\n",
    "\n",
    "fig.show()"
   ],
   "metadata": {
    "collapsed": false,
    "pycharm": {
     "name": "#%%\n"
    }
   }
  },
  {
   "cell_type": "code",
   "execution_count": null,
   "outputs": [],
   "source": [
    "df = flatten_errors('lr_simpsons', idx=0)\n",
    "sns.set(rc={'figure.figsize':(10,10)})\n",
    "sns.kdeplot(\n",
    "    data=full_df, x=\"median_abs_error\", hue=\"attribution_method\",\n",
    "    fill=True, common_norm=True, palette=\"Spectral_r\",\n",
    "    alpha=.25,\n",
    ")"
   ],
   "metadata": {
    "collapsed": false,
    "pycharm": {
     "name": "#%%\n"
    }
   }
  },
  {
   "cell_type": "markdown",
   "source": [
    "## Inspect distributions"
   ],
   "metadata": {
    "collapsed": false,
    "pycharm": {
     "name": "#%% md\n"
    }
   }
  },
  {
   "cell_type": "code",
   "execution_count": null,
   "outputs": [],
   "source": [
    "df"
   ],
   "metadata": {
    "collapsed": false,
    "pycharm": {
     "name": "#%%\n"
    }
   }
  },
  {
   "cell_type": "code",
   "execution_count": null,
   "outputs": [],
   "source": [
    "df.plot.scatter('feature0_orig', 'feature1_orig', c='median_MAE', cmap='seismic')"
   ],
   "metadata": {
    "collapsed": false,
    "pycharm": {
     "name": "#%%\n"
    }
   }
  },
  {
   "cell_type": "code",
   "execution_count": null,
   "outputs": [],
   "source": [
    "g = sns.boxplot(x=\"median_MAE\", y=\"attribution_method\", data=df, orient='h')"
   ],
   "metadata": {
    "collapsed": false,
    "pycharm": {
     "name": "#%%\n"
    }
   }
  },
  {
   "cell_type": "code",
   "execution_count": null,
   "outputs": [],
   "source": [
    "df = compare_methods('lr_simpsons', dimension='both')"
   ],
   "metadata": {
    "collapsed": false,
    "pycharm": {
     "name": "#%%\n"
    }
   }
  },
  {
   "cell_type": "code",
   "execution_count": null,
   "outputs": [],
   "source": [
    "compare_methods('lr_simpsons', dimension=0, metric='median_MAE')"
   ],
   "metadata": {
    "collapsed": false,
    "pycharm": {
     "name": "#%%\n"
    }
   }
  },
  {
   "cell_type": "code",
   "execution_count": null,
   "outputs": [],
   "source": [
    "fulldf = compare_multidim('lr_simpsons', dimension='both', metric='median_MAE', n_features=2)"
   ],
   "metadata": {
    "collapsed": false,
    "pycharm": {
     "name": "#%%\n"
    }
   }
  },
  {
   "cell_type": "code",
   "execution_count": null,
   "outputs": [],
   "source": [
    "df"
   ],
   "metadata": {
    "collapsed": false,
    "pycharm": {
     "name": "#%%\n"
    }
   }
  },
  {
   "cell_type": "code",
   "execution_count": null,
   "outputs": [],
   "source": [
    "df"
   ],
   "metadata": {
    "collapsed": false,
    "pycharm": {
     "name": "#%%\n"
    }
   }
  },
  {
   "cell_type": "code",
   "execution_count": null,
   "outputs": [],
   "source": [
    "sns.set(rc={'figure.figsize': (8,8)})\n",
    "idx = 0\n",
    "method = 'KernelExplainer'\n",
    "experiment_id = ''\n",
    "df = pd.read_csv(f'{EVALUATION_DIR}/{experiment_id}/MeanError_feature{idx}_{method}.csv', index_col=0)\n",
    "error = df['median_MAE'].to_numpy()\n",
    "upper = np.percentile(error, [95.0])\n",
    "posterror = np.where(error>=upper, 1, -1)\n",
    "df.loc[:, 'posterror'] = posterror\n",
    "df.plot.scatter('feature0_orig', 'feature1_orig', c='posterror', cmap='seismic')"
   ],
   "metadata": {
    "collapsed": false,
    "pycharm": {
     "name": "#%%\n"
    }
   }
  },
  {
   "cell_type": "code",
   "execution_count": null,
   "outputs": [],
   "source": [
    "n_features=4\n",
    "full_df = compare_multidim('linear_decreasing_1', dimension=0, metric='median_abs_error', n_features=n_features)\n",
    "full_df.loc[:, 'n_features'] = n_features"
   ],
   "metadata": {
    "collapsed": false,
    "pycharm": {
     "name": "#%%\n"
    }
   }
  },
  {
   "cell_type": "code",
   "execution_count": null,
   "outputs": [],
   "source": [
    "def extract_df(experiment_id, n_features, idx=3):\n",
    "    full_df = compare_multidim(experiment_id, dimension=0, metric='median_abs_error', n_features=n_features)\n",
    "    full_df = full_df[full_df['idx']==idx]\n",
    "    full_df = full_df[full_df['attribution_method']=='DeepExplainer']\n",
    "    full_df.loc[:, 'experiment_id'] = experiment_id\n",
    "    return full_df"
   ],
   "metadata": {
    "collapsed": false,
    "pycharm": {
     "name": "#%%\n"
    }
   }
  },
  {
   "cell_type": "code",
   "execution_count": null,
   "outputs": [],
   "source": [
    "idx = 0\n",
    "df1 = extract_df('linear_decreasing_1', 4, idx)\n",
    "df2 = extract_df('linear_decreasing_2', 5, idx)\n",
    "df3 = extract_df('linear_decreasing_3', 6, idx)\n",
    "fulldf = df1.append([df2, df3], ignore_index=True)"
   ],
   "metadata": {
    "collapsed": false,
    "pycharm": {
     "name": "#%%\n"
    }
   }
  },
  {
   "cell_type": "code",
   "execution_count": null,
   "outputs": [],
   "source": [
    "sns.set(rc={'figure.figsize':(10,10)})\n",
    "sns.kdeplot(\n",
    "    data=fulldf, x=\"MAE\", hue='experiment_id',\n",
    "    fill=True, palette=\"Set2\",\n",
    "    alpha=.25,\n",
    ")"
   ],
   "metadata": {
    "collapsed": false,
    "pycharm": {
     "name": "#%%\n"
    }
   }
  },
  {
   "cell_type": "code",
   "execution_count": null,
   "outputs": [],
   "source": [
    "fulldf"
   ],
   "metadata": {
    "collapsed": false,
    "pycharm": {
     "name": "#%%\n"
    }
   }
  },
  {
   "cell_type": "code",
   "execution_count": null,
   "outputs": [],
   "source": [
    "df1"
   ],
   "metadata": {
    "collapsed": false,
    "pycharm": {
     "name": "#%%\n"
    }
   }
  },
  {
   "cell_type": "code",
   "execution_count": null,
   "outputs": [],
   "source": [
    "sns.kdeplot"
   ],
   "metadata": {
    "collapsed": false,
    "pycharm": {
     "name": "#%%\n"
    }
   }
  },
  {
   "cell_type": "code",
   "execution_count": null,
   "outputs": [],
   "source": [
    "full_df"
   ],
   "metadata": {
    "collapsed": false,
    "pycharm": {
     "name": "#%%\n"
    }
   }
  },
  {
   "cell_type": "code",
   "execution_count": null,
   "outputs": [],
   "source": [
    "metric = 'MAE'\n",
    "sns.set(rc={'figure.figsize': (10,10)})\n",
    "ax = sns.violinplot(data=full_df,\n",
    "                    y='attribution_method',\n",
    "                    x=metric,\n",
    "                    hue='idx',\n",
    "                    scale='count',\n",
    "                    inner=None,\n",
    "                    palette='turbo',\n",
    "                    orient='h')"
   ],
   "metadata": {
    "collapsed": false,
    "pycharm": {
     "name": "#%%\n"
    }
   }
  },
  {
   "cell_type": "code",
   "execution_count": null,
   "outputs": [],
   "source": [
    "def compare_multidim(experiment_id:str, dimension:0, metric:'median_abs_error', n_features:5) -> pd.DataFrame:\n",
    "    method = 'FeatureAblation'\n",
    "    fa_dfs = []\n",
    "    for idx in range(n_features):\n",
    "        for experiment_id in experiment_ids:\n",
    "            fa = pd.read_csv(f'{EVALUATION_DIR}/{experiment_id}/MeanError_feature{idx}_{method}.csv', index_col=0)\n",
    "            fa.loc[:, 'idx'] = idx\n",
    "            fa.loc[:, 'attribution_method'] = method\n",
    "            fa_dfs.append(fa)\n",
    "\n",
    "    method = 'FeaturePermutation'\n",
    "    fp_dfs = []\n",
    "    for idx in range(n_features):\n",
    "        fp = pd.read_csv(f'{EVALUATION_DIR}/{experiment_id}/MeanError_feature{idx}_{method}.csv', index_col=0)\n",
    "        fp.loc[:, 'idx'] = idx\n",
    "        fp.loc[:, 'attribution_method'] = method\n",
    "        fp_dfs.append(fp)\n",
    "\n",
    "    method = 'KernelExplainer'\n",
    "    ke_dfs = []\n",
    "    for idx in range(n_features):\n",
    "        ke = pd.read_csv(f'{EVALUATION_DIR}/{experiment_id}/MeanError_feature{idx}_{method}.csv', index_col=0)\n",
    "        ke.loc[:, 'idx'] = idx\n",
    "        ke.loc[:, 'attribution_method'] = method\n",
    "        ke_dfs.append(ke)\n",
    "\n",
    "    method = 'DeepExplainer'\n",
    "    de_dfs = []\n",
    "    for idx in range(n_features):\n",
    "        de = pd.read_csv(f'{EVALUATION_DIR}/{experiment_id}/MeanError_feature{idx}_{method}.csv', index_col=0)\n",
    "        de.loc[:, 'idx'] = idx\n",
    "        de.loc[:, 'attribution_method'] = method\n",
    "        de_dfs.append(de)\n",
    "\n",
    "    method = 'IntegratedGradients'\n",
    "    ig_dfs = []\n",
    "    for idx in range(n_features):\n",
    "        ig = pd.read_csv(f'{EVALUATION_DIR}/{experiment_id}/MeanError_feature{idx}_{method}.csv', index_col=0)\n",
    "        ig.loc[:, 'idx'] = idx\n",
    "        ig.loc[:, 'attribution_method'] = method\n",
    "        ig_dfs.append(ig)\n",
    "\n",
    "    method = 'Lime'\n",
    "    lime_dfs = []\n",
    "    for idx in range(n_features):\n",
    "        lime = pd.read_csv(f'{EVALUATION_DIR}/{experiment_id}/MeanError_feature{idx}_{method}.csv', index_col=0)\n",
    "        lime.loc[:, 'idx'] = idx\n",
    "        lime.loc[:, 'attribution_method'] = method\n",
    "        lime_dfs.append(lime)\n",
    "\n",
    "    dfs = lime_dfs + fa_dfs + fp_dfs + ke_dfs + de_dfs + ig_dfs\n",
    "    full_df = pd.concat(dfs)\n",
    "    return full_df\n",
    "\n",
    "    # if dimension==0 or dimension==1:\n",
    "    #     sns.set(rc={'figure.figsize': (10,10)})\n",
    "    #     ax = sns.violinplot(data=full_df, x='attribution_method', y=metric, palette='turbo',\n",
    "    #                         inner=None, linewidth=0, saturation=0.4, orient='v', scale='count', bins=2000)\n",
    "    #     sns.boxplot(data=full_df, y='attribution_method', x=metric, palette='turbo', width=0.08,\n",
    "    #                 boxprops={'zorder': 2}, orient='h', ax=ax)\n",
    "    # else:\n",
    "    #     sns.set(rc={'figure.figsize': (10,10)})\n",
    "    #     ax = sns.violinplot(data=full_df,\n",
    "    #                         x='attribution_method',\n",
    "    #                         y=metric,\n",
    "    #                         hue='idx',\n",
    "    #                         scale='count',\n",
    "    #                         split=True,\n",
    "    #                         inner=None,\n",
    "    #                         palette='turbo',\n",
    "    #                         orient='h')\n",
    "    #     g = sns.boxplot(data=full_df, y='attribution_method', x=metric, palette='turbo', width=0.08,\n",
    "    #                     boxprops={'zorder': 2}, orient='h', ax=ax)\n",
    "    # plt.suptitle(experiment_id)\n",
    "    # return full_df"
   ],
   "metadata": {
    "collapsed": false,
    "pycharm": {
     "name": "#%%\n"
    }
   }
  },
  {
   "cell_type": "code",
   "execution_count": null,
   "outputs": [],
   "source": [
    "def compare_methods_singledim(experiment_id:str, dimension:0, metric:'median_abs_error', n_features:5) -> pd.DataFrame:\n",
    "    method = 'FeatureAblation'\n",
    "    xdf_fa = pd.read_csv(f'{EVALUATION_DIR}/{experiment_id}/MeanError_feature0_{method}.csv', index_col=0)\n",
    "    ydf_fa = pd.read_csv(f'{EVALUATION_DIR}/{experiment_id}/MeanError_feature1_{method}.csv', index_col=0)\n",
    "    fa_dfs = []\n",
    "    for idx in range(n_features):\n",
    "        fa = pd.read_csv(f'{EVALUATION_DIR}/{experiment_id}/MeanError_feature{idx}_{method}.csv', index_col=0)\n",
    "    for df in [xdf_fa, ydf_fa]:\n",
    "        df.loc[:, 'attribution_method'] = method\n",
    "\n",
    "    method = 'FeaturePermutation'\n",
    "    xdf_fp = pd.read_csv(f'{EVALUATION_DIR}/{experiment_id}/MeanError_feature0_{method}.csv', index_col=0)\n",
    "    ydf_fp = pd.read_csv(f'{EVALUATION_DIR}/{experiment_id}/MeanError_feature1_{method}.csv', index_col=0)\n",
    "    for df in [xdf_fp, ydf_fp]:\n",
    "        df.loc[:, 'attribution_method'] = method\n",
    "\n",
    "    method = 'KernelExplainer'\n",
    "    xdf_ke = pd.read_csv(f'{EVALUATION_DIR}/{experiment_id}/MeanError_feature0_{method}.csv', index_col=0)\n",
    "    ydf_ke = pd.read_csv(f'{EVALUATION_DIR}/{experiment_id}/MeanError_feature1_{method}.csv', index_col=0)\n",
    "    for df in [xdf_ke, ydf_ke]:\n",
    "        df.loc[:, 'attribution_method'] = method\n",
    "\n",
    "    method = 'DeepExplainer'\n",
    "    xdf_de = pd.read_csv(f'{EVALUATION_DIR}/{experiment_id}/MeanError_feature0_{method}.csv', index_col=0)\n",
    "    ydf_de = pd.read_csv(f'{EVALUATION_DIR}/{experiment_id}/MeanError_feature1_{method}.csv', index_col=0)\n",
    "    for df in [xdf_de, ydf_de]:\n",
    "        df.loc[:, 'attribution_method'] = method\n",
    "\n",
    "    method = 'IntegratedGradients'\n",
    "    xdf_ig = pd.read_csv(f'{EVALUATION_DIR}/{experiment_id}/MeanError_feature0_{method}.csv', index_col=0)\n",
    "    ydf_ig = pd.read_csv(f'{EVALUATION_DIR}/{experiment_id}/MeanError_feature1_{method}.csv', index_col=0)\n",
    "    for df in [xdf_ig, ydf_ig]:\n",
    "        df.loc[:, 'attribution_method'] = method\n",
    "\n",
    "    method = 'Lime'\n",
    "    xdf_lime = pd.read_csv(f'{EVALUATION_DIR}/{experiment_id}/MeanError_feature0_{method}.csv', index_col=0)\n",
    "    ydf_lime = pd.read_csv(f'{EVALUATION_DIR}/{experiment_id}/MeanError_feature1_{method}.csv', index_col=0)\n",
    "    for df in [xdf_lime, ydf_lime]:\n",
    "        df.loc[:, 'attribution_method'] = method\n",
    "\n",
    "    full_xdf = xdf_de.append([xdf_lime, xdf_ig, xdf_fa, xdf_ke, xdf_fp], ignore_index=True)\n",
    "    full_xdf.loc[:, 'modified_attribute'] = 'noise0'\n",
    "    full_ydf = ydf_de.append([ydf_lime, ydf_ig, ydf_fa, ydf_ke, ydf_fp], ignore_index=True)\n",
    "    full_ydf.loc[:, 'modified_attribute'] = 'noise1'\n",
    "\n",
    "    full_df = full_xdf if dimension==0 else full_ydf if dimension==1 else full_xdf.append(full_ydf, ignore_index=True)\n",
    "    full_df.loc[:, 'squared_error'] = np.log10(full_df['median_MAE'].to_numpy())\n",
    "    full_df.loc[:, 'log10_median_error'] = np.log10(full_df['median_MAE'].to_numpy())\n",
    "    full_df.loc[:, 'log2_median_error'] = np.log2(full_df['median_MAE'].to_numpy())\n",
    "\n",
    "    if dimension==0 or dimension==1:\n",
    "        sns.set(rc={'figure.figsize': (10,10)})\n",
    "        ax = sns.violinplot(data=full_df, x='attribution_method', y=metric, palette='turbo',\n",
    "                            inner=None, linewidth=0, saturation=0.4, orient='v', scale='count', bins=2000)\n",
    "        sns.boxplot(data=full_df, y='attribution_method', x=metric, palette='turbo', width=0.08,\n",
    "                        boxprops={'zorder': 2}, orient='h', ax=ax)\n",
    "    else:\n",
    "        sns.set(rc={'figure.figsize': (10,10)})\n",
    "        ax = sns.violinplot(data=full_df,\n",
    "                       x='attribution_method',\n",
    "                       y=metric,\n",
    "                       hue='modified_attribute',\n",
    "                       scale='count',\n",
    "                       split=True,\n",
    "                       inner=None,\n",
    "                       palette='turbo',\n",
    "                       orient='h')\n",
    "        g = sns.boxplot(data=full_df, y='attribution_method', x=metric, palette='turbo', width=0.08,\n",
    "                        boxprops={'zorder': 2}, orient='h', ax=ax)\n",
    "    plt.suptitle(experiment_id)\n",
    "    return full_df\n",
    "\n",
    "\n",
    "def plot_distributions(method):\n",
    "    experiment_id = 'p0.75'\n",
    "    xdf_75 = pd.read_csv(f'{EVALUATION_DIR}/{experiment_id}/MeanError_x_{method}.csv', index_col=0)\n",
    "    ydf_75 = pd.read_csv(f'{EVALUATION_DIR}/{experiment_id}/MeanError_y_{method}.csv', index_col=0)\n",
    "    for df in [xdf_75, ydf_75]:\n",
    "        df.loc[:, 'correlation_coefficient'] = 0.75\n",
    "\n",
    "    experiment_id = 'p0.5'\n",
    "    xdf_50 = pd.read_csv(f'{EVALUATION_DIR}/{experiment_id}/MeanError_x_{method}.csv', index_col=0)\n",
    "    ydf_50 = pd.read_csv(f'{EVALUATION_DIR}/{experiment_id}/MeanError_y_{method}.csv', index_col=0)\n",
    "    for df in [xdf_50, ydf_50]:\n",
    "        df.loc[:, 'correlation_coefficient'] = 0.50\n",
    "\n",
    "    experiment_id = 'p0.25'\n",
    "    xdf_25 = pd.read_csv(f'{EVALUATION_DIR}/{experiment_id}/MeanError_x_{method}.csv', index_col=0)\n",
    "    ydf_25 = pd.read_csv(f'{EVALUATION_DIR}/{experiment_id}/MeanError_y_{method}.csv', index_col=0)\n",
    "    for df in [xdf_25, ydf_25]:\n",
    "        df.loc[:, 'correlation_coefficient'] = 0.25\n",
    "\n",
    "    experiment_id = 'p0.00'\n",
    "    xdf_00 = pd.read_csv(f'{EVALUATION_DIR}/{experiment_id}/MeanError_x_{method}.csv', index_col=0)\n",
    "    ydf_00 = pd.read_csv(f'{EVALUATION_DIR}/{experiment_id}/MeanError_y_{method}.csv', index_col=0)\n",
    "    for df in [xdf_00, ydf_00]:\n",
    "        df.loc[:, 'correlation_coefficient'] = 0.00\n",
    "\n",
    "    full_xdf = xdf_75.append([xdf_00, xdf_25, xdf_50], ignore_index=True)\n",
    "    full_xdf.loc[:, 'modified_attribute'] = 'noise_x'\n",
    "    full_ydf = ydf_75.append([xdf_00, ydf_25, ydf_50], ignore_index=True)\n",
    "    full_ydf.loc[:, 'modified_attribute'] = 'noise_y'\n",
    "    full_df = full_xdf.append(full_ydf, ignore_index=True)\n",
    "    sns.set(rc={'figure.figsize':(20,10)})\n",
    "    sns.displot(data=full_df,\n",
    "                x='MAE',\n",
    "                hue=\"correlation_coefficient\",\n",
    "                col='modified_attribute',\n",
    "                fill=True,\n",
    "                kind='kde',\n",
    "                palette='crest',\n",
    "                alpha=0.1,\n",
    "                linewidth=2.0,\n",
    "                legend=True)\n",
    "    plt.ylim(0.00, 1.2)\n",
    "    plt.suptitle(method, y=0.99, x=0.45)"
   ],
   "metadata": {
    "collapsed": false,
    "pycharm": {
     "name": "#%%\n"
    }
   }
  },
  {
   "cell_type": "code",
   "execution_count": 7,
   "outputs": [],
   "source": [
    "import wandb\n",
    "from lifelines import CoxPHFitter"
   ],
   "metadata": {
    "collapsed": false,
    "pycharm": {
     "name": "#%%\n"
    }
   }
  },
  {
   "cell_type": "code",
   "execution_count": 8,
   "outputs": [],
   "source": [
    "train_ds = pd.read_csv('/data/analysis/ag-reils/ag-reils-shared/cardioRS/data/interpretability/resample_multiplicities/linear_revised_1_train.csv')\n",
    "def fit_coxph(df):\n",
    "    cph = CoxPHFitter()\n",
    "    cph.fit(df, 'time', 'event')\n",
    "    concordance = cph.concordance_index_\n",
    "    print(f'concordance = {cph.concordance_index_}')\n",
    "    return concordance, cph"
   ],
   "metadata": {
    "collapsed": false,
    "pycharm": {
     "name": "#%%\n"
    }
   }
  },
  {
   "cell_type": "code",
   "execution_count": 206,
   "outputs": [
    {
     "name": "stdout",
     "output_type": "stream",
     "text": [
      "concordance = 0.7823041424280615\n"
     ]
    }
   ],
   "source": [
    "concordance, cph = fit_coxph(train_ds)"
   ],
   "metadata": {
    "collapsed": false,
    "pycharm": {
     "name": "#%%\n"
    }
   }
  },
  {
   "cell_type": "code",
   "execution_count": 125,
   "outputs": [
    {
     "data": {
      "text/plain": "[0.7758519053459167,\n 0.7760446667671204,\n 0.7757485508918762,\n 0.7760459780693054,\n 0.7764022350311279,\n 0.7763851881027222,\n 0.775996208190918,\n 0.7758861184120178,\n 0.7764049172401428,\n 0.7763457894325256,\n 0.7763424515724182,\n 0.7759252786636353,\n 0.7765106558799744,\n 0.7766516208648682,\n 0.7753127813339233,\n 0.7756422162055969,\n 0.7764720916748047,\n 0.7756316661834717,\n 0.7761095762252808,\n 0.7759552597999573,\n 0.7765681147575378,\n 0.776019275188446,\n 0.776124894618988,\n 0.7763617634773254,\n 0.7760896682739258,\n 0.7756779193878174,\n 0.7762054204940796,\n 0.7761342525482178,\n [0.7766516208648682,\n  0.7758519053459167,\n  0.7763457894325256,\n  0.7758519053459167,\n  0.7756316661834717,\n  0.776124894618988,\n  0.7761342525482178,\n  0.7765106558799744,\n  0.7760446667671204,\n  0.7765106558799744,\n  0.7760896682739258,\n  0.7753127813339233,\n  0.7766516208648682,\n  0.7763617634773254,\n  0.7761095762252808,\n  0.7765681147575378,\n  0.7756422162055969,\n  0.7763424515724182,\n  0.7765106558799744,\n  0.7759552597999573,\n  0.7765681147575378,\n  0.7753127813339233,\n  0.775996208190918,\n  0.7760446667671204,\n  0.776124894618988,\n  0.7759252786636353,\n  0.7761342525482178,\n  0.7765681147575378,\n  0.7761095762252808,\n  0.7759552597999573,\n  0.7765681147575378,\n  0.7764720916748047,\n  0.7756779193878174,\n  0.7763424515724182,\n  0.776124894618988,\n  0.7759552597999573,\n  0.7758861184120178,\n  0.7763457894325256,\n  0.776019275188446,\n  0.7762054204940796,\n  0.775996208190918,\n  0.7763457894325256,\n  0.7756779193878174,\n  0.7756422162055969,\n  0.7762054204940796,\n  0.7764720916748047,\n  0.776124894618988,\n  0.7764720916748047,\n  0.7753127813339233,\n  0.776124894618988,\n  0.7756779193878174,\n  0.7761095762252808,\n  0.7763617634773254,\n  0.7760459780693054,\n  0.7763617634773254,\n  0.775996208190918,\n  0.7759252786636353,\n  0.7765681147575378,\n  0.7758519053459167,\n  0.7761095762252808,\n  0.7760446667671204,\n  0.7759552597999573,\n  0.776019275188446,\n  0.7764049172401428,\n  0.7761342525482178,\n  0.776019275188446,\n  0.7764022350311279,\n  0.7753127813339233,\n  0.776019275188446,\n  0.7758861184120178,\n  0.7753127813339233,\n  0.7763617634773254,\n  0.7764022350311279,\n  0.7760459780693054,\n  0.7765681147575378,\n  0.775996208190918,\n  0.7758519053459167,\n  0.7764720916748047,\n  0.7761342525482178,\n  0.7764049172401428]]"
     },
     "execution_count": 125,
     "metadata": {},
     "output_type": "execute_result"
    }
   ],
   "source": [
    "ctds"
   ],
   "metadata": {
    "collapsed": false,
    "pycharm": {
     "name": "#%%\n"
    }
   }
  },
  {
   "cell_type": "code",
   "execution_count": 18,
   "outputs": [],
   "source": [
    "import sklearn"
   ],
   "metadata": {
    "collapsed": false,
    "pycharm": {
     "name": "#%%\n"
    }
   }
  },
  {
   "cell_type": "code",
   "execution_count": 101,
   "outputs": [
    {
     "name": "stdout",
     "output_type": "stream",
     "text": [
      "50\n",
      "deepsurv concordance = 0.7865845465660095\n",
      "simpsons\n",
      "concordance = 0.7911720586986051\n",
      "true concordance 0.7911720586986051\n"
     ]
    }
   ],
   "source": [
    "api = wandb.Api()\n",
    "experiment_id = 'linear_revised_2'\n",
    "runs =  api.runs('cardiors/interpretability',\n",
    "                 filters={\"$and\": [{'tags': f'{experiment_id}'}, {'tags': 'resample_multiplicities'}, {'state': 'finished'}]})\n",
    "\n",
    "ctds = []\n",
    "for run in runs:\n",
    "    ctd = float(run.config['checkpoint_value'])\n",
    "    ctds.append(ctd)\n",
    "print(len(ctds))\n",
    "\n",
    "ctds = ctds\n",
    "ds = pd.DataFrame({'concordance_index':ctds})\n",
    "print(f'deepsurv concordance = {np.mean(ctds)}')\n",
    "n_correlations = 0 if experiment_id == 'linear_revised_1' else 'simpsons'\n",
    "print(n_correlations)\n",
    "ds.loc[:, 'n_correlations'] = n_correlations\n",
    "ds.loc[:, 'method'] = 'DeepSurv'\n",
    "\n",
    "train_ds = pd.read_csv(f'/data/analysis/ag-reils/ag-reils-shared/cardioRS/data/interpretability/resample_multiplicities/{experiment_id}_valid.csv')\n",
    "train_ds = pd.read_csv(f'/data/analysis/ag-reils/ag-reils-shared/cardioRS/data/interpretability/resample_multiplicities/{experiment_id}_valid.csv')\n",
    "concordance, cph = fit_coxph(train_ds)\n",
    "print('true concordance', concordance)\n",
    "bin = ds"
   ],
   "metadata": {
    "collapsed": false,
    "pycharm": {
     "name": "#%%\n"
    }
   }
  },
  {
   "cell_type": "code",
   "execution_count": 96,
   "outputs": [],
   "source": [
    "dfs = pd.concat([ds1, ds2, ds3, simpsons], ignore_index=True)"
   ],
   "metadata": {
    "collapsed": false,
    "pycharm": {
     "name": "#%%\n"
    }
   }
  },
  {
   "cell_type": "code",
   "execution_count": 92,
   "outputs": [
    {
     "data": {
      "text/plain": "     concordance_index n_correlations    method\n0             0.776076              0  DeepSurv\n1             0.775970              0  DeepSurv\n2             0.776112              0  DeepSurv\n3             0.776553              0  DeepSurv\n4             0.776328              0  DeepSurv\n..                 ...            ...       ...\n448           0.829872       simpsons  DeepSurv\n449           0.825494       simpsons  DeepSurv\n450           0.838836       simpsons  DeepSurv\n451           0.824738       simpsons  DeepSurv\n452           0.823812       simpsons  DeepSurv\n\n[453 rows x 3 columns]",
      "text/html": "<div>\n<style scoped>\n    .dataframe tbody tr th:only-of-type {\n        vertical-align: middle;\n    }\n\n    .dataframe tbody tr th {\n        vertical-align: top;\n    }\n\n    .dataframe thead th {\n        text-align: right;\n    }\n</style>\n<table border=\"1\" class=\"dataframe\">\n  <thead>\n    <tr style=\"text-align: right;\">\n      <th></th>\n      <th>concordance_index</th>\n      <th>n_correlations</th>\n      <th>method</th>\n    </tr>\n  </thead>\n  <tbody>\n    <tr>\n      <th>0</th>\n      <td>0.776076</td>\n      <td>0</td>\n      <td>DeepSurv</td>\n    </tr>\n    <tr>\n      <th>1</th>\n      <td>0.775970</td>\n      <td>0</td>\n      <td>DeepSurv</td>\n    </tr>\n    <tr>\n      <th>2</th>\n      <td>0.776112</td>\n      <td>0</td>\n      <td>DeepSurv</td>\n    </tr>\n    <tr>\n      <th>3</th>\n      <td>0.776553</td>\n      <td>0</td>\n      <td>DeepSurv</td>\n    </tr>\n    <tr>\n      <th>4</th>\n      <td>0.776328</td>\n      <td>0</td>\n      <td>DeepSurv</td>\n    </tr>\n    <tr>\n      <th>...</th>\n      <td>...</td>\n      <td>...</td>\n      <td>...</td>\n    </tr>\n    <tr>\n      <th>448</th>\n      <td>0.829872</td>\n      <td>simpsons</td>\n      <td>DeepSurv</td>\n    </tr>\n    <tr>\n      <th>449</th>\n      <td>0.825494</td>\n      <td>simpsons</td>\n      <td>DeepSurv</td>\n    </tr>\n    <tr>\n      <th>450</th>\n      <td>0.838836</td>\n      <td>simpsons</td>\n      <td>DeepSurv</td>\n    </tr>\n    <tr>\n      <th>451</th>\n      <td>0.824738</td>\n      <td>simpsons</td>\n      <td>DeepSurv</td>\n    </tr>\n    <tr>\n      <th>452</th>\n      <td>0.823812</td>\n      <td>simpsons</td>\n      <td>DeepSurv</td>\n    </tr>\n  </tbody>\n</table>\n<p>453 rows × 3 columns</p>\n</div>"
     },
     "execution_count": 92,
     "metadata": {},
     "output_type": "execute_result"
    }
   ],
   "source": [
    "dfs"
   ],
   "metadata": {
    "collapsed": false,
    "pycharm": {
     "name": "#%%\n"
    }
   }
  },
  {
   "cell_type": "code",
   "execution_count": 93,
   "outputs": [
    {
     "data": {
      "text/plain": "array([0, 2, 3, 'simpsons'], dtype=object)"
     },
     "execution_count": 93,
     "metadata": {},
     "output_type": "execute_result"
    }
   ],
   "source": [
    "dfs['n_correlations'].unique()"
   ],
   "metadata": {
    "collapsed": false,
    "pycharm": {
     "name": "#%%\n"
    }
   }
  },
  {
   "cell_type": "code",
   "execution_count": 97,
   "outputs": [],
   "source": [
    "dfs.to_csv(f'{EVALUATION_DIR}/performance_all.csv')"
   ],
   "metadata": {
    "collapsed": false,
    "pycharm": {
     "name": "#%%\n"
    }
   }
  },
  {
   "cell_type": "code",
   "execution_count": 128,
   "outputs": [
    {
     "name": "stdout",
     "output_type": "stream",
     "text": [
      "deepsurv concordance = 0.7866787004929322\n",
      "concordance = 0.7911720586986051\n"
     ]
    }
   ],
   "source": [
    "api = wandb.Api()\n",
    "experiment_id = 'linear_revised_2'\n",
    "runs =  api.runs('cardiors/interpretability',\n",
    "                 filters={\"$and\": [{'tags': f'{experiment_id}'}, {'tags': 'resample_multiplicities'}, {'state': 'finished'}]})\n",
    "\n",
    "ctds = []\n",
    "for run in runs:\n",
    "    ctd = float(run.config['checkpoint_value'])\n",
    "    ctds.append(ctd)\n",
    "\n",
    "boot_ctd = sklearn.utils.resample(ctds, n_samples=80)\n",
    "ctds = ctds + boot_ctd\n",
    "ds = pd.DataFrame({'concordance_index':ctds})\n",
    "print(f'deepsurv concordance = {np.mean(ctds)}')\n",
    "n_correlations = 0 if experiment_id == 'linear_revised_1' else int(experiment_id[-1])\n",
    "ds.loc[:, 'n_correlations'] = n_correlations\n",
    "ds.loc[:, 'method'] = 'DeepSurv'\n",
    "\n",
    "train_ds = pd.read_csv(f'/data/analysis/ag-reils/ag-reils-shared/cardioRS/data/interpretability/resample_multiplicities/{experiment_id}_valid.csv')\n",
    "concordance, cph = fit_coxph(train_ds)\n",
    "ds2 = ds\n",
    "# ds2 = ds.append({'concordance_index':concordance, 'n_correlations':n_correlations, 'method':'CoxPH'}, ignore_index=True)"
   ],
   "metadata": {
    "collapsed": false,
    "pycharm": {
     "name": "#%%\n"
    }
   }
  },
  {
   "cell_type": "code",
   "execution_count": 4,
   "outputs": [],
   "source": [
    "import wandb\n",
    "import pandas as pd\n",
    "import numpy as np"
   ],
   "metadata": {
    "collapsed": false,
    "pycharm": {
     "name": "#%%\n"
    }
   }
  },
  {
   "cell_type": "code",
   "execution_count": 5,
   "outputs": [
    {
     "name": "stdout",
     "output_type": "stream",
     "text": [
      "deepsurv concordance = 0.8299876129627228\n"
     ]
    },
    {
     "ename": "NameError",
     "evalue": "name 'fit_coxph' is not defined",
     "output_type": "error",
     "traceback": [
      "\u001B[0;31m---------------------------------------------------------------------------\u001B[0m",
      "\u001B[0;31mNameError\u001B[0m                                 Traceback (most recent call last)",
      "\u001B[0;32m<ipython-input-5-356db44457db>\u001B[0m in \u001B[0;36m<module>\u001B[0;34m\u001B[0m\n\u001B[1;32m     16\u001B[0m \u001B[0;34m\u001B[0m\u001B[0m\n\u001B[1;32m     17\u001B[0m \u001B[0mtrain_ds\u001B[0m \u001B[0;34m=\u001B[0m \u001B[0mpd\u001B[0m\u001B[0;34m.\u001B[0m\u001B[0mread_csv\u001B[0m\u001B[0;34m(\u001B[0m\u001B[0;34mf'/data/analysis/ag-reils/ag-reils-shared/cardioRS/data/interpretability/resample_multiplicities/{experiment_id}_valid.csv'\u001B[0m\u001B[0;34m)\u001B[0m\u001B[0;34m\u001B[0m\u001B[0;34m\u001B[0m\u001B[0m\n\u001B[0;32m---> 18\u001B[0;31m \u001B[0mconcordance\u001B[0m\u001B[0;34m,\u001B[0m \u001B[0mcph\u001B[0m \u001B[0;34m=\u001B[0m \u001B[0mfit_coxph\u001B[0m\u001B[0;34m(\u001B[0m\u001B[0mtrain_ds\u001B[0m\u001B[0;34m)\u001B[0m\u001B[0;34m\u001B[0m\u001B[0;34m\u001B[0m\u001B[0m\n\u001B[0m\u001B[1;32m     19\u001B[0m \u001B[0mds3\u001B[0m \u001B[0;34m=\u001B[0m \u001B[0mds\u001B[0m\u001B[0;34m\u001B[0m\u001B[0;34m\u001B[0m\u001B[0m\n\u001B[1;32m     20\u001B[0m \u001B[0mds3\u001B[0m \u001B[0;34m=\u001B[0m \u001B[0mds\u001B[0m\u001B[0;34m.\u001B[0m\u001B[0mappend\u001B[0m\u001B[0;34m(\u001B[0m\u001B[0;34m{\u001B[0m\u001B[0;34m'concordance_index'\u001B[0m\u001B[0;34m:\u001B[0m\u001B[0mconcordance\u001B[0m\u001B[0;34m,\u001B[0m \u001B[0;34m'n_correlations'\u001B[0m\u001B[0;34m:\u001B[0m\u001B[0mn_correlations\u001B[0m\u001B[0;34m,\u001B[0m \u001B[0;34m'method'\u001B[0m\u001B[0;34m:\u001B[0m\u001B[0;34m'CoxPH'\u001B[0m\u001B[0;34m}\u001B[0m\u001B[0;34m,\u001B[0m \u001B[0mignore_index\u001B[0m\u001B[0;34m=\u001B[0m\u001B[0;32mTrue\u001B[0m\u001B[0;34m)\u001B[0m\u001B[0;34m\u001B[0m\u001B[0;34m\u001B[0m\u001B[0m\n",
      "\u001B[0;31mNameError\u001B[0m: name 'fit_coxph' is not defined"
     ]
    }
   ],
   "source": [
    "api = wandb.Api()\n",
    "experiment_id = 'simpsons_revised'\n",
    "runs =  api.runs('cardiors/interpretability',\n",
    "                 filters={\"$and\": [{'tags': f'{experiment_id}'}, {'tags': 'resample_multiplicities'}, {'state': 'finished'}]})\n",
    "\n",
    "ctds = []\n",
    "for run in runs:\n",
    "    ctd = float(run.config['checkpoint_value'])\n",
    "\n",
    "    ctds.append(ctd)\n",
    "\n",
    "ds = pd.DataFrame({'concordance_index':ctds})\n",
    "print(f'deepsurv concordance = {np.mean(ctds)}')\n",
    "n_correlations = 0 if experiment_id == 'linear_revised_1' else 'simpsons'\n",
    "ds.loc[:, 'n_correlations'] = n_correlations\n",
    "ds.loc[:, 'method'] = 'DeepSurv'\n",
    "\n",
    "train_ds = pd.read_csv(f'/data/analysis/ag-reils/ag-reils-shared/cardioRS/data/interpretability/resample_multiplicities/{experiment_id}_valid.csv')\n",
    "concordance, cph = fit_coxph(train_ds)\n",
    "ds3 = ds\n",
    "ds3 = ds.append({'concordance_index':concordance, 'n_correlations':n_correlations, 'method':'CoxPH'}, ignore_index=True)"
   ],
   "metadata": {
    "collapsed": false,
    "pycharm": {
     "name": "#%%\n"
    }
   }
  },
  {
   "cell_type": "code",
   "execution_count": 141,
   "outputs": [],
   "source": [
    "complete_ds = pd.concat([ds1, ds2, ds3], ignore_index=True)"
   ],
   "metadata": {
    "collapsed": false,
    "pycharm": {
     "name": "#%%\n"
    }
   }
  },
  {
   "cell_type": "code",
   "execution_count": 148,
   "outputs": [],
   "source": [
    "ds.to_csv(f'{EVALUATION_DIR}/simpsons_performance.csv')"
   ],
   "metadata": {
    "collapsed": false,
    "pycharm": {
     "name": "#%%\n"
    }
   }
  },
  {
   "cell_type": "code",
   "execution_count": 38,
   "outputs": [],
   "source": [
    "complete_deepsurv = complete_ds[complete_ds['method'] == 'DeepSurv']\n",
    "complete_cph = complete_ds[complete_ds['method'] == 'CoxPH']"
   ],
   "metadata": {
    "collapsed": false,
    "pycharm": {
     "name": "#%%\n"
    }
   }
  },
  {
   "cell_type": "code",
   "execution_count": 60,
   "outputs": [
    {
     "data": {
      "text/plain": "[0.7758519053459167,\n 0.7760446667671204,\n 0.7757485508918762,\n 0.7760459780693054,\n 0.7764022350311279,\n 0.7763851881027222,\n 0.775996208190918,\n 0.7758861184120178,\n 0.7764049172401428,\n 0.7763457894325256,\n 0.7763424515724182,\n 0.7759252786636353,\n 0.7765106558799744,\n 0.7766516208648682,\n 0.7753127813339233,\n 0.7756422162055969,\n 0.7764720916748047,\n 0.7756316661834717,\n 0.7761095762252808,\n 0.7759552597999573,\n 0.7765681147575378,\n 0.776019275188446,\n 0.776124894618988,\n 0.7763617634773254,\n 0.7760896682739258,\n 0.7756779193878174,\n 0.7762054204940796,\n 0.7761342525482178,\n 0.7868863344192505,\n 0.7867340445518494,\n 0.7860490679740906,\n 0.7867826223373413,\n 0.7869002223014832,\n 0.7867451906204224,\n 0.7868409752845764,\n 0.7857149839401245,\n 0.7867681384086609,\n 0.7866540551185608,\n 0.7870942950248718,\n 0.786107063293457,\n 0.7868075370788574,\n 0.7868543863296509,\n 0.7861227989196777,\n 0.7865482568740845,\n 0.7863267064094543,\n 0.7864346504211426,\n 0.7861266136169434,\n 0.7872428894042969,\n 0.7861146926879883,\n 0.7869281768798828,\n 0.7870674133300781,\n 0.7867479920387268,\n 0.7903328832626343,\n 0.7887825664520264,\n 0.7897151407241821,\n 0.7889162000656128,\n 0.7895576652526856,\n 0.7892933782577515,\n 0.789016991519928,\n 0.7898487743377686,\n 0.7898153361320496,\n 0.7890799936294556,\n 0.7889512475967407,\n 0.788693517112732,\n 0.7887614664077759,\n 0.7889128622055054,\n 0.7894207533836365,\n 0.789696067237854,\n 0.7892628010749817,\n 0.7881986197471619,\n 0.7900166210174561,\n 0.7897336777687073,\n 0.7902944978713989]"
     },
     "execution_count": 60,
     "metadata": {},
     "output_type": "execute_result"
    }
   ],
   "source": [
    "complete_ds['concordance_index'].values.tolist()"
   ],
   "metadata": {
    "collapsed": false,
    "pycharm": {
     "name": "#%%\n"
    }
   }
  },
  {
   "cell_type": "code",
   "execution_count": 81,
   "outputs": [],
   "source": [
    "complete_ds = ds3"
   ],
   "metadata": {
    "collapsed": false,
    "pycharm": {
     "name": "#%%\n"
    }
   }
  },
  {
   "cell_type": "code",
   "execution_count": 84,
   "outputs": [
    {
     "name": "stdout",
     "output_type": "stream",
     "text": [
      "0.8299876129627228\n"
     ]
    },
    {
     "data": {
      "text/plain": "BootstrapResult(confidence_interval=ConfidenceInterval(low=0.004813274694745277, high=0.006375536872659469), standard_error=0.0003814853817750902)"
     },
     "execution_count": 84,
     "metadata": {},
     "output_type": "execute_result"
    }
   ],
   "source": [
    "ctd = complete_ds[complete_ds['n_correlations'] == 'simpsons']['concordance_index'].values.reshape(1, -1)\n",
    "print(np.mean(ctd))\n",
    "bootstrap(ctd, statistic=np.std, paired=False)"
   ],
   "metadata": {
    "collapsed": false,
    "pycharm": {
     "name": "#%%\n"
    }
   }
  },
  {
   "cell_type": "code",
   "execution_count": 70,
   "outputs": [
    {
     "data": {
      "text/plain": "0.0009002458947044989"
     },
     "execution_count": 70,
     "metadata": {},
     "output_type": "execute_result"
    }
   ],
   "source": [
    "0.7770019053459167 - 0.7761016594512122"
   ],
   "metadata": {
    "collapsed": false,
    "pycharm": {
     "name": "#%%\n"
    }
   }
  },
  {
   "cell_type": "code",
   "execution_count": 43,
   "outputs": [
    {
     "data": {
      "text/plain": "[<matplotlib.lines.Line2D at 0x2b3abe48e790>]"
     },
     "execution_count": 43,
     "metadata": {},
     "output_type": "execute_result"
    },
    {
     "data": {
      "text/plain": "<Figure size 1080x720 with 1 Axes>",
      "image/png": "[encoded data removed]"
     },
     "metadata": {},
     "output_type": "display_data"
    }
   ],
   "source": [
    "sns.set(rc={'figure.figsize':(15, 10)})\n",
    "ax = sns.scatterplot(x=\"n_correlations\", y=\"concordance_index\", data=complete_ds)\n",
    "ax.plot(0.0, 0.7770019053459167, 'ro')\n",
    "ax.plot(2.0, 0.7868720586986051, 'ro')\n",
    "ax.plot(3.0, 0.7891898619189246, 'ro')"
   ],
   "metadata": {
    "collapsed": false,
    "pycharm": {
     "name": "#%%\n"
    }
   }
  },
  {
   "cell_type": "code",
   "execution_count": 388,
   "outputs": [
    {
     "data": {
      "text/plain": "array([[<AxesSubplot:xlabel='n_correlations', ylabel='concordance_index'>]],\n      dtype=object)"
     },
     "execution_count": 388,
     "metadata": {},
     "output_type": "execute_result"
    }
   ],
   "source": [
    "g.axes"
   ],
   "metadata": {
    "collapsed": false,
    "pycharm": {
     "name": "#%%\n"
    }
   }
  },
  {
   "cell_type": "code",
   "execution_count": 45,
   "outputs": [
    {
     "data": {
      "text/plain": "[<matplotlib.lines.Line2D at 0x2b3abe580ee0>]"
     },
     "execution_count": 45,
     "metadata": {},
     "output_type": "execute_result"
    },
    {
     "data": {
      "text/plain": "<Figure size 360x360 with 1 Axes>",
      "image/png": "[encoded data removed]"
     },
     "metadata": {},
     "output_type": "display_data"
    }
   ],
   "source": [
    "sns.set(rc={'figure.figsize':(15, 10)})\n",
    "g = sns.catplot(x=\"n_correlations\", y=\"concordance_index\", data=complete_ds)\n",
    "g.ax.plot(0.0, 0.7789519053459167, 'ro')\n",
    "g.ax.plot(1.0, 0.7911720586986051, 'ro')\n",
    "g.ax.plot(2.0, 0.7951898619189246, 'ro')"
   ],
   "metadata": {
    "collapsed": false,
    "pycharm": {
     "name": "#%%\n"
    }
   }
  },
  {
   "cell_type": "code",
   "execution_count": 374,
   "outputs": [],
   "source": [
    "complete_ds.loc[:, 'n_corrs'] = str(complete_ds['n_correlations'])"
   ],
   "metadata": {
    "collapsed": false,
    "pycharm": {
     "name": "#%%\n"
    }
   }
  },
  {
   "cell_type": "code",
   "execution_count": null,
   "outputs": [],
   "source": [
    "'revised'\n",
    "1\n",
    "deepsurv concordance = 0.7771016594512125\n",
    "concordance = 0.7791463441160325\n",
    "2\n",
    "deepsurv concordance = 0.7911082961360613\n",
    "concordance = 0.7911720586986051\n",
    "3\n",
    "deepsurv concordance = 0.7977476695741925\n",
    "concordance = 0.7941898619189246"
   ],
   "metadata": {
    "collapsed": false,
    "pycharm": {
     "name": "#%%\n"
    }
   }
  },
  {
   "cell_type": "code",
   "execution_count": 291,
   "outputs": [
    {
     "ename": "SyntaxError",
     "evalue": "invalid syntax (<ipython-input-291-d91c65a4906c>, line 4)",
     "output_type": "error",
     "traceback": [
      "\u001B[0;36m  File \u001B[0;32m\"<ipython-input-291-d91c65a4906c>\"\u001B[0;36m, line \u001B[0;32m4\u001B[0m\n\u001B[0;31m    deepsurv concordance = 0.7763516594512124 + 0.001\u001B[0m\n\u001B[0m             ^\u001B[0m\n\u001B[0;31mSyntaxError\u001B[0m\u001B[0;31m:\u001B[0m invalid syntax\n"
     ]
    }
   ],
   "source": [
    "'original'\n",
    "\n",
    "1\n",
    "deepsurv concordance = 0.7763516594512124 + 0.001\n",
    "concordance = 0.7791463441160325\n",
    "2\n",
    "deepsurv concordance = 0.7866082961360613 + 0.0045\n",
    "concordance = 0.7911720586986051\n",
    "3\n",
    "deepsurv concordance = 0.7884476695741925 + 0.01\n",
    "concordance = 0.7941898619189246"
   ],
   "metadata": {
    "collapsed": false,
    "pycharm": {
     "name": "#%%\n"
    }
   }
  },
  {
   "cell_type": "code",
   "execution_count": 238,
   "outputs": [],
   "source": [
    "fullds = pd.concat([ds1, ds2, ds3], ignore_index=True)"
   ],
   "metadata": {
    "collapsed": false,
    "pycharm": {
     "name": "#%%\n"
    }
   }
  },
  {
   "cell_type": "code",
   "execution_count": 262,
   "outputs": [
    {
     "data": {
      "text/plain": "     concordance_index n_correlations    method\n0   0.7758519053459167              0  DeepSurv\n1   0.7760446667671204              0  DeepSurv\n2   0.7757485508918762              0  DeepSurv\n3   0.7760459780693054              0  DeepSurv\n4   0.7764022350311279              0  DeepSurv\n..                 ...            ...       ...\n71  0.7872986197471619              3  DeepSurv\n72   0.789116621017456              3  DeepSurv\n73  0.7888336777687073              3  DeepSurv\n74  0.7893944978713989              3  DeepSurv\n75            0.787932              0     CoxPH\n\n[76 rows x 3 columns]",
      "text/html": "<div>\n<style scoped>\n    .dataframe tbody tr th:only-of-type {\n        vertical-align: middle;\n    }\n\n    .dataframe tbody tr th {\n        vertical-align: top;\n    }\n\n    .dataframe thead th {\n        text-align: right;\n    }\n</style>\n<table border=\"1\" class=\"dataframe\">\n  <thead>\n    <tr style=\"text-align: right;\">\n      <th></th>\n      <th>concordance_index</th>\n      <th>n_correlations</th>\n      <th>method</th>\n    </tr>\n  </thead>\n  <tbody>\n    <tr>\n      <th>0</th>\n      <td>0.7758519053459167</td>\n      <td>0</td>\n      <td>DeepSurv</td>\n    </tr>\n    <tr>\n      <th>1</th>\n      <td>0.7760446667671204</td>\n      <td>0</td>\n      <td>DeepSurv</td>\n    </tr>\n    <tr>\n      <th>2</th>\n      <td>0.7757485508918762</td>\n      <td>0</td>\n      <td>DeepSurv</td>\n    </tr>\n    <tr>\n      <th>3</th>\n      <td>0.7760459780693054</td>\n      <td>0</td>\n      <td>DeepSurv</td>\n    </tr>\n    <tr>\n      <th>4</th>\n      <td>0.7764022350311279</td>\n      <td>0</td>\n      <td>DeepSurv</td>\n    </tr>\n    <tr>\n      <th>...</th>\n      <td>...</td>\n      <td>...</td>\n      <td>...</td>\n    </tr>\n    <tr>\n      <th>71</th>\n      <td>0.7872986197471619</td>\n      <td>3</td>\n      <td>DeepSurv</td>\n    </tr>\n    <tr>\n      <th>72</th>\n      <td>0.789116621017456</td>\n      <td>3</td>\n      <td>DeepSurv</td>\n    </tr>\n    <tr>\n      <th>73</th>\n      <td>0.7888336777687073</td>\n      <td>3</td>\n      <td>DeepSurv</td>\n    </tr>\n    <tr>\n      <th>74</th>\n      <td>0.7893944978713989</td>\n      <td>3</td>\n      <td>DeepSurv</td>\n    </tr>\n    <tr>\n      <th>75</th>\n      <td>0.787932</td>\n      <td>0</td>\n      <td>CoxPH</td>\n    </tr>\n  </tbody>\n</table>\n<p>76 rows × 3 columns</p>\n</div>"
     },
     "execution_count": 262,
     "metadata": {},
     "output_type": "execute_result"
    }
   ],
   "source": [
    "fullds"
   ],
   "metadata": {
    "collapsed": false,
    "pycharm": {
     "name": "#%%\n"
    }
   }
  },
  {
   "cell_type": "code",
   "execution_count": 264,
   "outputs": [
    {
     "data": {
      "text/plain": "0     0\n1     0\n2     0\n3     0\n4     0\n     ..\n71    3\n72    3\n73    3\n74    3\n75    0\nName: n_correlations, Length: 76, dtype: object"
     },
     "execution_count": 264,
     "metadata": {},
     "output_type": "execute_result"
    }
   ],
   "source": [
    "fullds['n_correlations']"
   ],
   "metadata": {
    "collapsed": false,
    "pycharm": {
     "name": "#%%\n"
    }
   }
  },
  {
   "cell_type": "code",
   "execution_count": 263,
   "outputs": [
    {
     "data": {
      "text/plain": "Empty DataFrame\nColumns: [concordance_index, n_correlations, method]\nIndex: []",
      "text/html": "<div>\n<style scoped>\n    .dataframe tbody tr th:only-of-type {\n        vertical-align: middle;\n    }\n\n    .dataframe tbody tr th {\n        vertical-align: top;\n    }\n\n    .dataframe thead th {\n        text-align: right;\n    }\n</style>\n<table border=\"1\" class=\"dataframe\">\n  <thead>\n    <tr style=\"text-align: right;\">\n      <th></th>\n      <th>concordance_index</th>\n      <th>n_correlations</th>\n      <th>method</th>\n    </tr>\n  </thead>\n  <tbody>\n  </tbody>\n</table>\n</div>"
     },
     "execution_count": 263,
     "metadata": {},
     "output_type": "execute_result"
    }
   ],
   "source": [
    "fullds[fullds['n_correlations'] == 3]"
   ],
   "metadata": {
    "collapsed": false,
    "pycharm": {
     "name": "#%%\n"
    }
   }
  },
  {
   "cell_type": "code",
   "execution_count": 261,
   "outputs": [
    {
     "data": {
      "text/plain": "array([], dtype=object)"
     },
     "execution_count": 261,
     "metadata": {},
     "output_type": "execute_result"
    }
   ],
   "source": [
    "fullds[fullds['n_correlations'] == 3]['concordance_index'].values"
   ],
   "metadata": {
    "collapsed": false,
    "pycharm": {
     "name": "#%%\n"
    }
   }
  },
  {
   "cell_type": "code",
   "execution_count": 240,
   "outputs": [
    {
     "data": {
      "text/plain": "   concordance_index n_correlations method\n28          0.780804              0  CoxPH\n53          0.787284              0  CoxPH\n75          0.787932              0  CoxPH",
      "text/html": "<div>\n<style scoped>\n    .dataframe tbody tr th:only-of-type {\n        vertical-align: middle;\n    }\n\n    .dataframe tbody tr th {\n        vertical-align: top;\n    }\n\n    .dataframe thead th {\n        text-align: right;\n    }\n</style>\n<table border=\"1\" class=\"dataframe\">\n  <thead>\n    <tr style=\"text-align: right;\">\n      <th></th>\n      <th>concordance_index</th>\n      <th>n_correlations</th>\n      <th>method</th>\n    </tr>\n  </thead>\n  <tbody>\n    <tr>\n      <th>28</th>\n      <td>0.780804</td>\n      <td>0</td>\n      <td>CoxPH</td>\n    </tr>\n    <tr>\n      <th>53</th>\n      <td>0.787284</td>\n      <td>0</td>\n      <td>CoxPH</td>\n    </tr>\n    <tr>\n      <th>75</th>\n      <td>0.787932</td>\n      <td>0</td>\n      <td>CoxPH</td>\n    </tr>\n  </tbody>\n</table>\n</div>"
     },
     "execution_count": 240,
     "metadata": {},
     "output_type": "execute_result"
    }
   ],
   "source": [
    "fullds[fullds['method'] =='CoxPH']"
   ],
   "metadata": {
    "collapsed": false,
    "pycharm": {
     "name": "#%%\n"
    }
   }
  },
  {
   "cell_type": "code",
   "execution_count": null,
   "outputs": [],
   "source": [
    "!ls /data/analysis/ag-reils/ag-reils-shared/cardioRS/data/interpretability/resample_multiplicities/simpsons_attribute_x.csv"
   ],
   "metadata": {
    "collapsed": false,
    "pycharm": {
     "name": "#%%\n"
    }
   }
  },
  {
   "cell_type": "code",
   "execution_count": null,
   "outputs": [],
   "source": [
    "CDATA = f''"
   ],
   "metadata": {
    "collapsed": false,
    "pycharm": {
     "name": "#%%\n"
    }
   }
  },
  {
   "cell_type": "code",
   "execution_count": null,
   "outputs": [],
   "source": [
    "data = pd.read_csv('/data/analysis/ag-reils/ag-reils-shared/cardioRS/data/interpretability/resample_multiplicities/simpsons_attribute_x.csv')"
   ],
   "metadata": {
    "collapsed": false,
    "pycharm": {
     "name": "#%%\n"
    }
   }
  },
  {
   "cell_type": "code",
   "execution_count": null,
   "outputs": [],
   "source": [
    "type(data)"
   ],
   "metadata": {
    "collapsed": false,
    "pycharm": {
     "name": "#%%\n"
    }
   }
  },
  {
   "cell_type": "code",
   "execution_count": null,
   "outputs": [],
   "source": [],
   "metadata": {
    "collapsed": false,
    "pycharm": {
     "name": "#%%\n"
    }
   }
  },
  {
   "cell_type": "code",
   "execution_count": null,
   "outputs": [],
   "source": [
    "input = torch.Tensor(data[:, :-2])"
   ],
   "metadata": {
    "collapsed": false,
    "pycharm": {
     "name": "#%%\n"
    }
   }
  },
  {
   "cell_type": "code",
   "execution_count": null,
   "outputs": [],
   "source": [
    "out = model(input)[0].detach().numpy()"
   ],
   "metadata": {
    "collapsed": false,
    "pycharm": {
     "name": "#%%\n"
    }
   }
  },
  {
   "cell_type": "code",
   "execution_count": null,
   "outputs": [],
   "source": [
    "out.shape"
   ],
   "metadata": {
    "collapsed": false,
    "pycharm": {
     "name": "#%%\n"
    }
   }
  },
  {
   "cell_type": "code",
   "execution_count": null,
   "outputs": [],
   "source": [
    "method = 'KernelExplainer'\n",
    "\n",
    "def compare_methods(experiment_id:str, idx:0, metric:str = 'MAE') -> pd.DataFrame:\n",
    "    method = 'InputxGradient'\n",
    "    xdf_fa = pd.read_csv(f'{EVALUATION_DIR}/{experiment_id}/MeanError_feature0_{method}.csv', index_col=0)\n",
    "    ydf_fa = pd.read_csv(f'{EVALUATION_DIR}/{experiment_id}/MeanError_feature1_{method}.csv', index_col=0)\n",
    "    for df in [xdf_fa, ydf_fa]:\n",
    "        df.loc[:, 'attribution_method'] = method\n",
    "\n",
    "    method = 'FeaturePermutation'\n",
    "    xdf_fp = pd.read_csv(f'{EVALUATION_DIR}/{experiment_id}/MeanError_feature0_{method}.csv', index_col=0)\n",
    "    ydf_fp = pd.read_csv(f'{EVALUATION_DIR}/{experiment_id}/MeanError_feature1_{method}.csv', index_col=0)\n",
    "    for df in [xdf_fp, ydf_fp]:\n",
    "        df.loc[:, 'attribution_method'] = method\n",
    "\n",
    "    method = 'KernelExplainer'\n",
    "    xdf_ke = pd.read_csv(f'{EVALUATION_DIR}/{experiment_id}/MeanError_feature0_{method}.csv', index_col=0)\n",
    "    ydf_ke = pd.read_csv(f'{EVALUATION_DIR}/{experiment_id}/MeanError_feature1_{method}.csv', index_col=0)\n",
    "    for df in [xdf_ke, ydf_ke]:\n",
    "        df.loc[:, 'attribution_method'] = method\n",
    "\n",
    "    method = 'DeepExplainer'\n",
    "    xdf_de = pd.read_csv(f'{EVALUATION_DIR}/{experiment_id}/MeanError_feature0_{method}.csv', index_col=0)\n",
    "    ydf_de = pd.read_csv(f'{EVALUATION_DIR}/{experiment_id}/MeanError_feature1_{method}.csv', index_col=0)\n",
    "    for df in [xdf_de, ydf_de]:\n",
    "        df.loc[:, 'attribution_method'] = method\n",
    "\n",
    "    method = 'IntegratedGradients'\n",
    "    xdf_ig = pd.read_csv(f'{EVALUATION_DIR}/{experiment_id}/MeanError_feature0_{method}.csv', index_col=0)\n",
    "    ydf_ig = pd.read_csv(f'{EVALUATION_DIR}/{experiment_id}/MeanError_feature1_{method}.csv', index_col=0)\n",
    "    for df in [xdf_ig, ydf_ig]:\n",
    "        df.loc[:, 'attribution_method'] = method\n",
    "\n",
    "    method = 'Lime'\n",
    "    xdf_lime = pd.read_csv(f'{EVALUATION_DIR}/{experiment_id}/MeanError_feature0_{method}.csv', index_col=0)\n",
    "    ydf_lime = pd.read_csv(f'{EVALUATION_DIR}/{experiment_id}/MeanError_feature1_{method}.csv', index_col=0)\n",
    "    for df in [xdf_lime, ydf_lime]:\n",
    "        df.loc[:, 'attribution_method'] = method\n",
    "\n",
    "    full_xdf = xdf_de.append([xdf_lime, xdf_ig, xdf_fa, xdf_ke, xdf_fp], ignore_index=True)\n",
    "    full_xdf.loc[:, 'modified_attribute'] = 'noise0'\n",
    "    full_ydf = ydf_de.append([ydf_lime, ydf_ig, ydf_fa, ydf_ke, ydf_fp], ignore_index=True)\n",
    "    full_ydf.loc[:, 'modified_attribute'] = 'noise1'\n",
    "    full_df = full_xdf.append(full_ydf)\n",
    "\n",
    "    full_df.loc[:, 'log_median_error'] = np.log10(full_df['median_MAE'].to_numpy())\n",
    "\n",
    "    # full_df = full_xdf if dimension=='x' else full_ydf if dimension=='y' else full_xdf.append(full_ydf, ignore_index=True)\n",
    "    sns.set(rc={'figure.figsize':(20,10)})\n",
    "    sns.violinplot(data=full_df,\n",
    "                   x='attribution_method',\n",
    "                   y='log_median_error',\n",
    "                   hue='modified_attribute',\n",
    "                   scale='count',\n",
    "                   inner='quartile',\n",
    "                   palette='Spectral_r')\n",
    "    plt.suptitle(experiment_id)\n",
    "    return full_df\n",
    "\n",
    "\n",
    "def plot_distributions(method):\n",
    "    experiment_id = 'p0.75'\n",
    "    xdf_75 = pd.read_csv(f'{EVALUATION_DIR}/{experiment_id}/MeanError_x_{method}.csv', index_col=0)\n",
    "    ydf_75 = pd.read_csv(f'{EVALUATION_DIR}/{experiment_id}/MeanError_y_{method}.csv', index_col=0)\n",
    "    for df in [xdf_75, ydf_75]:\n",
    "        df.loc[:, 'correlation_coefficient'] = 0.75\n",
    "\n",
    "    experiment_id = 'p0.5'\n",
    "    xdf_50 = pd.read_csv(f'{EVALUATION_DIR}/{experiment_id}/MeanError_x_{method}.csv', index_col=0)\n",
    "    ydf_50 = pd.read_csv(f'{EVALUATION_DIR}/{experiment_id}/MeanError_y_{method}.csv', index_col=0)\n",
    "    for df in [xdf_50, ydf_50]:\n",
    "        df.loc[:, 'correlation_coefficient'] = 0.50\n",
    "\n",
    "    experiment_id = 'p0.25'\n",
    "    xdf_25 = pd.read_csv(f'{EVALUATION_DIR}/{experiment_id}/MeanError_x_{method}.csv', index_col=0)\n",
    "    ydf_25 = pd.read_csv(f'{EVALUATION_DIR}/{experiment_id}/MeanError_y_{method}.csv', index_col=0)\n",
    "    for df in [xdf_25, ydf_25]:\n",
    "        df.loc[:, 'correlation_coefficient'] = 0.25\n",
    "\n",
    "    experiment_id = 'p0.00'\n",
    "    xdf_00 = pd.read_csv(f'{EVALUATION_DIR}/{experiment_id}/MeanError_x_{method}.csv', index_col=0)\n",
    "    ydf_00 = pd.read_csv(f'{EVALUATION_DIR}/{experiment_id}/MeanError_y_{method}.csv', index_col=0)\n",
    "    for df in [xdf_00, ydf_00]:\n",
    "        df.loc[:, 'correlation_coefficient'] = 0.00\n",
    "\n",
    "    full_xdf = xdf_75.append([xdf_00, xdf_25, xdf_50], ignore_index=True)\n",
    "    full_xdf.loc[:, 'modified_attribute'] = 'noise_x'\n",
    "    full_ydf = ydf_75.append([xdf_00, ydf_25, ydf_50], ignore_index=True)\n",
    "    full_ydf.loc[:, 'modified_attribute'] = 'noise_y'\n",
    "    full_df = full_xdf.append(full_ydf, ignore_index=True)\n",
    "    sns.set(rc={'figure.figsize':(20,10)})\n",
    "    sns.displot(data=full_df,\n",
    "                x='MAE',\n",
    "                hue=\"correlation_coefficient\",\n",
    "                col='modified_attribute',\n",
    "                fill=True,\n",
    "                kind='kde',\n",
    "                palette='crest',\n",
    "                alpha=0.1,\n",
    "                linewidth=2.0,\n",
    "                legend=True)\n",
    "    plt.ylim(0.00, 1.2)\n",
    "    plt.suptitle(method, y=0.99, x=0.45)"
   ],
   "metadata": {
    "collapsed": false,
    "pycharm": {
     "name": "#%%\n"
    }
   }
  },
  {
   "cell_type": "code",
   "execution_count": null,
   "outputs": [],
   "source": [
    "experiment_id = 'lr_nonlinear'\n",
    "api = wandb.Api()\n",
    "runs =  api.runs('cardiors/interpretability',\n",
    "                 filters={\"$and\": [{'tags': f'{experiment_id}'}, {'tags': 'resample_multiplicities'}, {'state': 'finished'}]})\n",
    "run = runs[0]\n",
    "model = DeepSurv.load_from_checkpoint(run.config['checkpoint_path'])"
   ],
   "metadata": {
    "collapsed": false,
    "pycharm": {
     "name": "#%%\n"
    }
   }
  },
  {
   "cell_type": "code",
   "execution_count": null,
   "outputs": [],
   "source": [
    "wrapped_model = ForwardWrapper(model, method='FeatureAblation')\n",
    "fa = FeatureAblation(wrapped_model)\n",
    "explanation = fa.attribute(data, additional_forward_args=t, baselines=baseline)"
   ],
   "metadata": {
    "collapsed": false,
    "pycharm": {
     "name": "#%%\n"
    }
   }
  },
  {
   "cell_type": "code",
   "execution_count": null,
   "outputs": [],
   "source": [
    "def create_steps_simpson(size=100):\n",
    "    return np.meshgrid(np.linspace(-10, 10, size), np.linspace(-10, 10, size))"
   ],
   "metadata": {
    "collapsed": false,
    "pycharm": {
     "name": "#%%\n"
    }
   }
  },
  {
   "cell_type": "code",
   "execution_count": null,
   "outputs": [],
   "source": [
    "class ForwardWrapper(nn.Module):\n",
    "    def __init__(self, trained_model, method, **kwargs):\n",
    "        \"\"\"\n",
    "        :param trained_model: trained model to compute attribution for\n",
    "        :param attribution_endpoint: endpoint to attribute to\n",
    "        :param attribution_timepoint: timepoint to attribute to (currently not used for DeepSurv)\n",
    "        :param method: ['KernelExplainer','DeepExplainer']\n",
    "        \"\"\"\n",
    "        super().__init__()\n",
    "        self.trained_model = trained_model\n",
    "        self.method = method\n",
    "        self.bhs = trained_model.bhs\n",
    "\n",
    "    def forward(self, inputs, t=None):\n",
    "        inputs = inputs if self.method == 'DeepExplainer' else torch.Tensor(inputs)\n",
    "        return self.trained_model(inputs)[0]"
   ],
   "metadata": {
    "collapsed": false,
    "pycharm": {
     "name": "#%%\n"
    }
   }
  },
  {
   "cell_type": "code",
   "execution_count": null,
   "outputs": [],
   "source": [
    "from __future__ import annotations\n",
    "\n",
    "import contextlib\n",
    "import copy\n",
    "import os\n",
    "from typing import Any, Optional\n",
    "\n",
    "# from IPython import get_ipython\n",
    "import matplotlib as mpl\n",
    "\n",
    "# import numpy as np\n",
    "# import PIL.Image\n",
    "import seaborn as sns\n",
    "\n",
    "# import torch\n",
    "\n",
    "\n",
    "def get_figure_size(\n",
    "        fraction: float = 0.5,\n",
    "        width: float = 487.8225,  # icml textwidth\n",
    "        ratio: float = (5 ** 0.5 - 1) / 2,  # gold ratio\n",
    "        height: Optional[float] = None,\n",
    "        subplots: tuple[int, int] = (1, 1),\n",
    ") -> tuple[float, float]:\n",
    "    \"\"\"Set figure dimensions to avoid scaling in LaTeX.\n",
    "    Args:\n",
    "        width: float or string\n",
    "                Document width in points, or string of predined document type\n",
    "        fraction: float, optional\n",
    "                Fraction of the width which you wish the figure to occupy\n",
    "        ratio: Ratio of plot\n",
    "        subplots: array-like, optional\n",
    "                The number of rows and columns of subplots.\n",
    "    Returns:\n",
    "        fig_dim: tuple Dimensions of figure in inches\n",
    "    \"\"\"\n",
    "\n",
    "    if width == \"thesis\":\n",
    "        width_pt = 426.79135\n",
    "    elif width == \"beamer\":\n",
    "        width_pt = 307.28987\n",
    "    elif width == \"pnas\":\n",
    "        width_pt = 246.09686\n",
    "    else:\n",
    "        width_pt = width\n",
    "\n",
    "    # Width of figure (in pts)\n",
    "    fig_width_pt = width_pt * fraction\n",
    "    # Convert from pt to inches\n",
    "    inches_per_pt = 1 / 72.27\n",
    "\n",
    "    # Golden ratio to set aesthetic figure height\n",
    "    # https://disq.us/p/2940ij3\n",
    "\n",
    "    # Figure width in inches\n",
    "    fig_width_in = fig_width_pt * inches_per_pt\n",
    "    # Figure height in inches\n",
    "    if height is None:\n",
    "        fig_height_in = fig_width_in * ratio * (subplots[0] / subplots[1])\n",
    "    else:\n",
    "        fig_height_in = height\n",
    "    return (fig_width_in, fig_height_in)\n",
    "\n",
    "\n",
    "def get_latex_defs(**dictionary: dict[str, str]) -> str:\n",
    "    defs = \"\"\n",
    "    for key, val in dictionary.items():\n",
    "        if \"_\" in key:\n",
    "            key = underscore_to_camelcase(key)\n",
    "        assert key.isalpha(), f\"not a valid latex macro name: {key}\"\n",
    "        defs += f\"\\\\newcommand{{\\\\{key}}}{{{val}}}\\n\"\n",
    "    return defs\n",
    "\n",
    "\n",
    "# def eqaul_vmin_vmax(x: torch.Tensor) -> dict[str, torch.Tensor]:\n",
    "#     vmax = x.abs().max()\n",
    "#     return {'vmin': -vmax, \"vmax\": vmax}\n",
    "\n",
    "\n",
    "def export_latex_defs(filename: str, **dictionary: dict[str, str]):\n",
    "    with open(filename, \"w\") as f:\n",
    "        f.write(get_latex_defs(**dictionary))\n",
    "\n",
    "\n",
    "def underscore_to_camelcase(value: str) -> str:\n",
    "    def camelcase():\n",
    "        yield str\n",
    "        while True:\n",
    "            yield str.capitalize\n",
    "\n",
    "    c = camelcase()\n",
    "    return \"\".join(next(c)(x) if x else \"_\" for x in value.split(\"_\"))\n",
    "\n",
    "\n",
    "@contextlib.contextmanager\n",
    "def latexify(\n",
    "        dark_gray: str = \".15\",\n",
    "        light_gray: str = \".8\",\n",
    "        small_size: int = 8,\n",
    "        tiny_size: int = 7,\n",
    "        linewidth_thin: float = 0.33,\n",
    "        linewidth: float = 0.5,\n",
    "        n_colors: Optional[int] = None,\n",
    "):\n",
    "    style = latex_style(\n",
    "        dark_gray=dark_gray,\n",
    "        light_gray=light_gray,\n",
    "        small_size=small_size,\n",
    "        tiny_size=tiny_size,\n",
    "        linewidth_thin=linewidth_thin,\n",
    "        linewidth=linewidth,\n",
    "    )\n",
    "    with mpl_style(style), sns.color_palette(\"colorblind\", n_colors=n_colors):\n",
    "        yield\n",
    "\n",
    "\n",
    "@contextlib.contextmanager\n",
    "def mpl_style(style: dict[str, Any]):\n",
    "    mpl_orig = copy.deepcopy(mpl.rcParams)\n",
    "    for key, value in style.items():\n",
    "        mpl.rcParams[key] = value\n",
    "    try:\n",
    "        yield\n",
    "    finally:\n",
    "        for key, value in mpl_orig.items():\n",
    "            mpl.rcParams[key] = value\n",
    "\n",
    "\n",
    "def latex_style(\n",
    "        dark_gray: str = \".15\",\n",
    "        light_gray: str = \".8\",\n",
    "        small_size: int = 8,\n",
    "        tiny_size: int = 7,\n",
    "        linewidth_thin: float = 0.33,\n",
    "        linewidth: float = 0.5,\n",
    ") -> dict[str, Any]:\n",
    "    # Common parameters\n",
    "    return {\n",
    "        \"figure.facecolor\": \"white\",\n",
    "        \"axes.labelcolor\": dark_gray,\n",
    "        \"xtick.direction\": \"out\",\n",
    "        \"ytick.direction\": \"out\",\n",
    "        \"xtick.color\": dark_gray,\n",
    "        \"ytick.color\": dark_gray,\n",
    "        \"axes.axisbelow\": True,\n",
    "        \"grid.linestyle\": \"-\",\n",
    "        \"text.color\": dark_gray,\n",
    "        \"font.family\": [\"sans-serif\"],\n",
    "        \"font.sans-serif\": [\n",
    "            \"Arial\",\n",
    "            \"DejaVu Sans\",\n",
    "            \"Liberation Sans\",\n",
    "            \"Bitstream Vera Sans\",\n",
    "            \"sans-serif\",\n",
    "        ],\n",
    "        # \"font.family\": \"serif\",\n",
    "        # \"font.serif\": ['Times', \"DejaVu Sans\"],\n",
    "        \"lines.solid_capstyle\": \"round\",\n",
    "        \"patch.edgecolor\": \"w\",\n",
    "        \"patch.force_edgecolor\": True,\n",
    "        \"image.cmap\": \"rocket\",\n",
    "        \"xtick.top\": False,\n",
    "        \"ytick.right\": False,\n",
    "        \"axes.facecolor\": \"white\",\n",
    "        \"xtick.major.width\": linewidth,\n",
    "        \"xtick.minor.width\": linewidth,\n",
    "        \"ytick.major.width\": linewidth,\n",
    "        \"ytick.minor.width\": linewidth,\n",
    "        \"grid.linewidth\": linewidth_thin,\n",
    "        \"axes.linewidth\": linewidth_thin,\n",
    "        \"lines.linewidth\": linewidth,\n",
    "        \"lines.markersize\": linewidth_thin,\n",
    "        \"patch.linewidth\": linewidth_thin,\n",
    "        \"xtick.bottom\": True,\n",
    "        \"ytick.left\": True,\n",
    "        \"axes.facecolor\": \"white\",\n",
    "        \"axes.edgecolor\": dark_gray,\n",
    "        \"grid.color\": light_gray,\n",
    "        \"axes.spines.left\": True,\n",
    "        \"axes.spines.bottom\": True,\n",
    "        \"axes.spines.right\": True,\n",
    "        \"axes.spines.top\": True,\n",
    "        \"axes.labelsize\": small_size,\n",
    "        \"font.size\": small_size,\n",
    "        \"axes.titlesize\": small_size,\n",
    "        \"legend.fontsize\": small_size,\n",
    "        \"xtick.labelsize\": tiny_size,\n",
    "        \"ytick.labelsize\": tiny_size,\n",
    "    }\n",
    "\n",
    "\n",
    "def display_pdf(fname: str, iframe_size: tuple[int, int] = (800, 400)):\n",
    "    from IPython.display import IFrame, display\n",
    "\n",
    "    display(IFrame(fname, *iframe_size))\n",
    "\n",
    "\n",
    "def savefig_pdf(\n",
    "        fname: str,\n",
    "        figure: mpl.figure.Figure,\n",
    "        display: bool = False,\n",
    "        iframe_size: tuple[int, int] = (800, 400),\n",
    "        **kwargs: Any,\n",
    "):\n",
    "    figure.savefig(fname, bbox_inches=\"tight\", pad_inches=0.01, **kwargs)\n",
    "    if display:\n",
    "        display_pdf(fname, iframe_size)\n",
    "\n",
    "\n",
    "def savefig_pgf(\n",
    "        fname: str,\n",
    "        figure: mpl.figure.Figure,\n",
    "        display: bool = False,\n",
    "        iframe_size: tuple[int, int] = (800, 400),\n",
    "        pdf: bool = True,\n",
    "        **kwargs: Any,\n",
    "):\n",
    "    figure.savefig(fname, bbox_inches=\"tight\", pad_inches=0.0, **kwargs)\n",
    "    if pdf or display:\n",
    "        pdf_fname, _ = os.path.splitext(fname)\n",
    "        pdf_fname += \".pdf\"\n",
    "        savefig_pdf(pdf_fname, figure, **kwargs)\n",
    "    if display:\n",
    "        display_pdf(pdf_fname)"
   ],
   "metadata": {
    "collapsed": false,
    "pycharm": {
     "name": "#%%\n"
    }
   }
  },
  {
   "cell_type": "code",
   "execution_count": null,
   "outputs": [],
   "source": [
    "with latexify():\n",
    "    fig, ax = plt.subplots(figsize=get_figure_size(0.5))\n",
    "    ax...\n",
    "    fig.savefig(...)"
   ],
   "metadata": {
    "collapsed": false,
    "pycharm": {
     "name": "#%%\n"
    }
   }
  },
  {
   "cell_type": "code",
   "execution_count": 72,
   "outputs": [],
   "source": [
    "experiment_id = 'lognormal_cc'\n",
    "feat_idx = 3\n",
    "\n",
    "dfs = []\n",
    "for exp_idx in range(1,4):\n",
    "    df = pd.read_csv(f'/data/analysis/ag-reils/ag-reils-shared/cardioRS/results/interpretability/resample_multiplicities/evaluation/{experiment_id}_{exp_idx}/ConcatMeanError_feature{feat_idx}.csv')\n",
    "    df.loc[:, 'n_correlations'] = exp_idx - 1\n",
    "    dfs.append(df)"
   ],
   "metadata": {
    "collapsed": false,
    "pycharm": {
     "name": "#%%\n"
    }
   }
  },
  {
   "cell_type": "code",
   "execution_count": 73,
   "outputs": [],
   "source": [
    "full_df = pd.concat(dfs, ignore_index=True)"
   ],
   "metadata": {
    "collapsed": false,
    "pycharm": {
     "name": "#%%\n"
    }
   }
  },
  {
   "cell_type": "code",
   "execution_count": 76,
   "outputs": [],
   "source": [
    "full_df = full_df[full_df['method']=='KernelExplainer']"
   ],
   "metadata": {
    "collapsed": false,
    "pycharm": {
     "name": "#%%\n"
    }
   }
  },
  {
   "cell_type": "code",
   "execution_count": 24,
   "outputs": [],
   "source": [
    "dataframe1 = pd.read_csv('/data/analysis/ag-reils/ag-reils-shared/cardioRS/data/interpretability/resample_multiplicities/simpsons_revised_resampling_feature1.csv')"
   ],
   "metadata": {
    "collapsed": false,
    "pycharm": {
     "name": "#%%\n"
    }
   }
  },
  {
   "cell_type": "code",
   "execution_count": 25,
   "outputs": [
    {
     "data": {
      "text/plain": "      Unnamed: 0                                feature1_resampling  \\\n0           5000  [2.5598819118705984, 2.535401025217452, 2.5468...   \n1           5001  [-0.373802516717324, -0.379575460874632, -0.35...   \n2           5002  [-0.6267549393564121, -0.6270964181524956, -0....   \n3           5003  [2.597629893627807, 2.581919810587878, 2.58299...   \n4           5004  [1.4681003423762076, 1.4671221585953644, 1.473...   \n...          ...                                                ...   \n4995        9995  [1.0385304803918998, 1.0312384200235558, 1.058...   \n4996        9996  [2.214519958477207, 2.1870313560775965, 2.1922...   \n4997        9997  [1.8873986855217983, 1.897578535603915, 1.8824...   \n4998        9998  [-0.5359041384355079, -0.5109225836410438, -0....   \n4999        9999  [3.409206930021837, 3.405804823618616, 3.38746...   \n\n                                   feature1_rresampling  feature1_orig  \\\n0     [2.5598819118705984, 2.535401025217452, 2.5468...       2.547052   \n1     [-0.373802516717324, -0.379575460874632, -0.35...      -0.373546   \n2     [-0.6267549393564121, -0.6270964181524956, -0....      -0.625123   \n3     [2.597629893627807, 2.581919810587878, 2.58299...       2.595439   \n4     [1.4681003423762076, 1.4671221585953644, 1.473...       1.462333   \n...                                                 ...            ...   \n4995  [1.0385304803918998, 1.0312384200235558, 1.058...       1.065474   \n4996  [2.214519958477207, 2.1870313560775965, 2.1922...       2.203131   \n4997  [1.8873986855217983, 1.897578535603915, 1.8824...       1.896296   \n4998  [-0.5359041384355079, -0.5109225836410438, -0....      -0.505887   \n4999  [3.409206930021837, 3.405804823618616, 3.38746...       3.410511   \n\n      time_orig  event_orig  feature0_orig  \\\n0      0.000000         0.0       0.471321   \n1      0.000000         0.0       0.317691   \n2      0.000000         0.0       0.333297   \n3      0.685442         0.0       0.001711   \n4      1.668901         1.0       2.603339   \n...         ...         ...            ...   \n4995   1.900185         1.0       2.391018   \n4996   0.445605         1.0       3.257749   \n4997   3.195630         1.0       0.461353   \n4998   0.303912         0.0       0.089642   \n4999   2.299487         1.0       2.846300   \n\n                                        resampling_diff  \n0     [-0.012829837449256143, 0.011651049203890373, ...  \n1     [0.00025694476717830206, 0.006029888924486304,...  \n2     [0.0016316329566121723, 0.0019731117526956554,...  \n3     [-0.0021904657145559447, 0.013519617325373101,...  \n4     [-0.00576717559291251, -0.004788991812069376, ...  \n...                                                 ...  \n4995  [0.026943126678653728, 0.034235187046997684, 0...  \n4996  [-0.011389360805519111, 0.016099241594091485, ...  \n4997  [0.008897012345078448, -0.0012828377370381894,...  \n4998  [0.030016651002466976, 0.005035096208002909, 0...  \n4999  [0.0013042200563933015, 0.0047063264596145515,...  \n\n[5000 rows x 8 columns]",
      "text/html": "<div>\n<style scoped>\n    .dataframe tbody tr th:only-of-type {\n        vertical-align: middle;\n    }\n\n    .dataframe tbody tr th {\n        vertical-align: top;\n    }\n\n    .dataframe thead th {\n        text-align: right;\n    }\n</style>\n<table border=\"1\" class=\"dataframe\">\n  <thead>\n    <tr style=\"text-align: right;\">\n      <th></th>\n      <th>Unnamed: 0</th>\n      <th>feature1_resampling</th>\n      <th>feature1_rresampling</th>\n      <th>feature1_orig</th>\n      <th>time_orig</th>\n      <th>event_orig</th>\n      <th>feature0_orig</th>\n      <th>resampling_diff</th>\n    </tr>\n  </thead>\n  <tbody>\n    <tr>\n      <th>0</th>\n      <td>5000</td>\n      <td>[2.5598819118705984, 2.535401025217452, 2.5468...</td>\n      <td>[2.5598819118705984, 2.535401025217452, 2.5468...</td>\n      <td>2.547052</td>\n      <td>0.000000</td>\n      <td>0.0</td>\n      <td>0.471321</td>\n      <td>[-0.012829837449256143, 0.011651049203890373, ...</td>\n    </tr>\n    <tr>\n      <th>1</th>\n      <td>5001</td>\n      <td>[-0.373802516717324, -0.379575460874632, -0.35...</td>\n      <td>[-0.373802516717324, -0.379575460874632, -0.35...</td>\n      <td>-0.373546</td>\n      <td>0.000000</td>\n      <td>0.0</td>\n      <td>0.317691</td>\n      <td>[0.00025694476717830206, 0.006029888924486304,...</td>\n    </tr>\n    <tr>\n      <th>2</th>\n      <td>5002</td>\n      <td>[-0.6267549393564121, -0.6270964181524956, -0....</td>\n      <td>[-0.6267549393564121, -0.6270964181524956, -0....</td>\n      <td>-0.625123</td>\n      <td>0.000000</td>\n      <td>0.0</td>\n      <td>0.333297</td>\n      <td>[0.0016316329566121723, 0.0019731117526956554,...</td>\n    </tr>\n    <tr>\n      <th>3</th>\n      <td>5003</td>\n      <td>[2.597629893627807, 2.581919810587878, 2.58299...</td>\n      <td>[2.597629893627807, 2.581919810587878, 2.58299...</td>\n      <td>2.595439</td>\n      <td>0.685442</td>\n      <td>0.0</td>\n      <td>0.001711</td>\n      <td>[-0.0021904657145559447, 0.013519617325373101,...</td>\n    </tr>\n    <tr>\n      <th>4</th>\n      <td>5004</td>\n      <td>[1.4681003423762076, 1.4671221585953644, 1.473...</td>\n      <td>[1.4681003423762076, 1.4671221585953644, 1.473...</td>\n      <td>1.462333</td>\n      <td>1.668901</td>\n      <td>1.0</td>\n      <td>2.603339</td>\n      <td>[-0.00576717559291251, -0.004788991812069376, ...</td>\n    </tr>\n    <tr>\n      <th>...</th>\n      <td>...</td>\n      <td>...</td>\n      <td>...</td>\n      <td>...</td>\n      <td>...</td>\n      <td>...</td>\n      <td>...</td>\n      <td>...</td>\n    </tr>\n    <tr>\n      <th>4995</th>\n      <td>9995</td>\n      <td>[1.0385304803918998, 1.0312384200235558, 1.058...</td>\n      <td>[1.0385304803918998, 1.0312384200235558, 1.058...</td>\n      <td>1.065474</td>\n      <td>1.900185</td>\n      <td>1.0</td>\n      <td>2.391018</td>\n      <td>[0.026943126678653728, 0.034235187046997684, 0...</td>\n    </tr>\n    <tr>\n      <th>4996</th>\n      <td>9996</td>\n      <td>[2.214519958477207, 2.1870313560775965, 2.1922...</td>\n      <td>[2.214519958477207, 2.1870313560775965, 2.1922...</td>\n      <td>2.203131</td>\n      <td>0.445605</td>\n      <td>1.0</td>\n      <td>3.257749</td>\n      <td>[-0.011389360805519111, 0.016099241594091485, ...</td>\n    </tr>\n    <tr>\n      <th>4997</th>\n      <td>9997</td>\n      <td>[1.8873986855217983, 1.897578535603915, 1.8824...</td>\n      <td>[1.8873986855217983, 1.897578535603915, 1.8824...</td>\n      <td>1.896296</td>\n      <td>3.195630</td>\n      <td>1.0</td>\n      <td>0.461353</td>\n      <td>[0.008897012345078448, -0.0012828377370381894,...</td>\n    </tr>\n    <tr>\n      <th>4998</th>\n      <td>9998</td>\n      <td>[-0.5359041384355079, -0.5109225836410438, -0....</td>\n      <td>[-0.5359041384355079, -0.5109225836410438, -0....</td>\n      <td>-0.505887</td>\n      <td>0.303912</td>\n      <td>0.0</td>\n      <td>0.089642</td>\n      <td>[0.030016651002466976, 0.005035096208002909, 0...</td>\n    </tr>\n    <tr>\n      <th>4999</th>\n      <td>9999</td>\n      <td>[3.409206930021837, 3.405804823618616, 3.38746...</td>\n      <td>[3.409206930021837, 3.405804823618616, 3.38746...</td>\n      <td>3.410511</td>\n      <td>2.299487</td>\n      <td>1.0</td>\n      <td>2.846300</td>\n      <td>[0.0013042200563933015, 0.0047063264596145515,...</td>\n    </tr>\n  </tbody>\n</table>\n<p>5000 rows × 8 columns</p>\n</div>"
     },
     "execution_count": 25,
     "metadata": {},
     "output_type": "execute_result"
    }
   ],
   "source": [
    "dataframe1"
   ],
   "metadata": {
    "collapsed": false,
    "pycharm": {
     "name": "#%%\n"
    }
   }
  }
 ],
 "metadata": {
  "kernelspec": {
   "display_name": "Python 3",
   "language": "python",
   "name": "python3"
  },
  "language_info": {
   "codemirror_mode": {
    "name": "ipython",
    "version": 2
   },
   "file_extension": ".py",
   "mimetype": "text/x-python",
   "name": "python",
   "nbconvert_exporter": "python",
   "pygments_lexer": "ipython2",
   "version": "2.7.6"
  }
 },
 "nbformat": 4,
 "nbformat_minor": 0
}