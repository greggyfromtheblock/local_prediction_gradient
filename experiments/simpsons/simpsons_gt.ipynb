{
 "cells": [
  {
   "cell_type": "code",
   "execution_count": 71,
   "metadata": {
    "collapsed": true
   },
   "outputs": [
    {
     "name": "stdout",
     "output_type": "stream",
     "text": [
      "The autoreload extension is already loaded. To reload it, use:\n",
      "  %reload_ext autoreload\n"
     ]
    }
   ],
   "source": [
    "%load_ext autoreload\n",
    "%autoreload 2"
   ]
  },
  {
   "cell_type": "code",
   "execution_count": 72,
   "outputs": [],
   "source": [
    "import sys\n",
    "sys.path.append('/home/ruyogagp/medical_interpretability')\n",
    "\n",
    "import numpy as np\n",
    "import networkx as nx\n",
    "import matplotlib.pyplot as plt\n",
    "from cga import cga\n",
    "import pandas as pd\n",
    "import neptune.new as neptune\n",
    "import wandb\n",
    "import pytorch_lightning as pl\n",
    "import torch.nn as nn\n",
    "import torch\n",
    "from sklearn.preprocessing import StandardScaler, MinMaxScaler\n",
    "\n",
    "from captum.attr import *\n",
    "from captum.metrics import *\n",
    "from captum._utils.models.linear_model import SkLearnLinearRegression\n",
    "import shap_fork as shap"
   ],
   "metadata": {
    "collapsed": false,
    "pycharm": {
     "name": "#%%\n"
    }
   }
  },
  {
   "cell_type": "code",
   "execution_count": null,
   "outputs": [],
   "source": [
    "from riskiano.datamodules.simulations import *"
   ],
   "metadata": {
    "collapsed": false,
    "pycharm": {
     "name": "#%%\n"
    }
   }
  },
  {
   "cell_type": "code",
   "execution_count": null,
   "outputs": [],
   "source": [
    "from source.tasks import DeepSurv\n",
    "from source.wrappers import ForwardWrapper"
   ],
   "metadata": {
    "collapsed": false,
    "pycharm": {
     "name": "#%%\n"
    }
   }
  },
  {
   "cell_type": "markdown",
   "source": [
    "## Helper Functions"
   ],
   "metadata": {
    "collapsed": false,
    "pycharm": {
     "name": "#%% md\n"
    }
   }
  },
  {
   "cell_type": "code",
   "source": [
    "def load_details(name, project='simpsons'):\n",
    "    dirpath = '/data/analysis/ag-reils/ag-reils-shared/cardioRS/data/interpretability/simpson' if project=='simpsons' else '/data/analysis/ag-reils/ag-reils-shared/cardioRS/data/interpretability/correlation'\n",
    "    train = pd.read_csv(f'{dirpath}/{name}_train_details.csv')\n",
    "    valid = pd.read_csv(f'{dirpath}/{name}_valid_details.csv')\n",
    "    return train, valid\n",
    "\n",
    "def df2csv(\n",
    "        df: pd.DataFrame,\n",
    "        name: str,\n",
    "        output_dir: str,\n",
    "):\n",
    "    \"\"\"\n",
    "    Writes csv given a dataframe + name\n",
    "    \"\"\"\n",
    "    train, valid = train_test_split(df, test_size=0.3)\n",
    "    train.to_csv(\n",
    "        f\"{output_dir}/{name}_train_details.csv\",\n",
    "        index=False,\n",
    "    )\n",
    "    valid.to_csv(\n",
    "        f\"{output_dir}/{name}_valid_details.csv\",\n",
    "        index=False,\n",
    "    )\n",
    "\n",
    "    train_df = train.loc[:, ['x_orig', 'y_orig', 'time', 'event']]\n",
    "    valid_df = valid.loc[:, ['x_orig', 'y_orig', 'time', 'event']]\n",
    "    train_df.to_csv(\n",
    "        f\"{output_dir}/{name}_train.csv\",\n",
    "        index=False,\n",
    "    )\n",
    "    valid_df.to_csv(\n",
    "        f\"{output_dir}/{name}_valid.csv\",\n",
    "        index=False,\n",
    "    )"
   ],
   "metadata": {
    "collapsed": false,
    "pycharm": {
     "name": "#%%\n"
    }
   },
   "execution_count": 5,
   "outputs": []
  },
  {
   "cell_type": "markdown",
   "source": [
    "# Load model"
   ],
   "metadata": {
    "collapsed": false,
    "pycharm": {
     "name": "#%% md\n"
    }
   }
  },
  {
   "cell_type": "code",
   "execution_count": 6,
   "outputs": [],
   "source": [
    "api_token=\"eyJhcGlfYWRkcmVzcyI6Imh0dHBzOi8vYXBwLm5lcHR1bmUuYWkiLCJhcGlfdXJsIjoiaHR0cHM6Ly9hcHAubmVwdHVuZS5haSIsImFwaV9rZXkiOiIyZjE2YmMwMy1lMGFhLTQyMjQtYWVmYi00ZGFiOTI3MDViYmYifQ==\""
   ],
   "metadata": {
    "collapsed": false,
    "pycharm": {
     "name": "#%%\n"
    }
   }
  },
  {
   "cell_type": "code",
   "execution_count": 7,
   "outputs": [
    {
     "ename": "ModuleNotFoundError",
     "evalue": "No module named 'riskiano.source.modules.general'",
     "output_type": "error",
     "traceback": [
      "\u001B[0;31m---------------------------------------------------------------------------\u001B[0m",
      "\u001B[0;31mModuleNotFoundError\u001B[0m                       Traceback (most recent call last)",
      "\u001B[0;32m~/tempfiles/ipykernel_24248/1984490863.py\u001B[0m in \u001B[0;36m<module>\u001B[0;34m\u001B[0m\n\u001B[1;32m     18\u001B[0m \u001B[0;34m\u001B[0m\u001B[0m\n\u001B[1;32m     19\u001B[0m \u001B[0mmodel\u001B[0m \u001B[0;34m=\u001B[0m \u001B[0mDeepSurv\u001B[0m\u001B[0;34m\u001B[0m\u001B[0;34m\u001B[0m\u001B[0m\n\u001B[0;32m---> 20\u001B[0;31m \u001B[0mtrained_model\u001B[0m \u001B[0;34m=\u001B[0m \u001B[0mmodel\u001B[0m\u001B[0;34m.\u001B[0m\u001B[0mload_from_checkpoint\u001B[0m\u001B[0;34m(\u001B[0m\u001B[0mcpt\u001B[0m\u001B[0;34m)\u001B[0m\u001B[0;34m\u001B[0m\u001B[0;34m\u001B[0m\u001B[0m\n\u001B[0m\u001B[1;32m     21\u001B[0m \u001B[0mtrained_model\u001B[0m\u001B[0;34m.\u001B[0m\u001B[0meval\u001B[0m\u001B[0;34m(\u001B[0m\u001B[0;34m)\u001B[0m\u001B[0;34m\u001B[0m\u001B[0;34m\u001B[0m\u001B[0m\n\u001B[1;32m     22\u001B[0m \u001B[0;34m\u001B[0m\u001B[0m\n",
      "\u001B[0;32m~/miniconda/envs/my_anaconda_dont/lib/python3.9/site-packages/pytorch_lightning/core/saving.py\u001B[0m in \u001B[0;36mload_from_checkpoint\u001B[0;34m(cls, checkpoint_path, map_location, hparams_file, strict, **kwargs)\u001B[0m\n\u001B[1;32m    129\u001B[0m             \u001B[0mcheckpoint\u001B[0m \u001B[0;34m=\u001B[0m \u001B[0mpl_load\u001B[0m\u001B[0;34m(\u001B[0m\u001B[0mcheckpoint_path\u001B[0m\u001B[0;34m,\u001B[0m \u001B[0mmap_location\u001B[0m\u001B[0;34m=\u001B[0m\u001B[0mmap_location\u001B[0m\u001B[0;34m)\u001B[0m\u001B[0;34m\u001B[0m\u001B[0;34m\u001B[0m\u001B[0m\n\u001B[1;32m    130\u001B[0m         \u001B[0;32melse\u001B[0m\u001B[0;34m:\u001B[0m\u001B[0;34m\u001B[0m\u001B[0;34m\u001B[0m\u001B[0m\n\u001B[0;32m--> 131\u001B[0;31m             \u001B[0mcheckpoint\u001B[0m \u001B[0;34m=\u001B[0m \u001B[0mpl_load\u001B[0m\u001B[0;34m(\u001B[0m\u001B[0mcheckpoint_path\u001B[0m\u001B[0;34m,\u001B[0m \u001B[0mmap_location\u001B[0m\u001B[0;34m=\u001B[0m\u001B[0;32mlambda\u001B[0m \u001B[0mstorage\u001B[0m\u001B[0;34m,\u001B[0m \u001B[0mloc\u001B[0m\u001B[0;34m:\u001B[0m \u001B[0mstorage\u001B[0m\u001B[0;34m)\u001B[0m\u001B[0;34m\u001B[0m\u001B[0;34m\u001B[0m\u001B[0m\n\u001B[0m\u001B[1;32m    132\u001B[0m \u001B[0;34m\u001B[0m\u001B[0m\n\u001B[1;32m    133\u001B[0m         \u001B[0;32mif\u001B[0m \u001B[0mhparams_file\u001B[0m \u001B[0;32mis\u001B[0m \u001B[0;32mnot\u001B[0m \u001B[0;32mNone\u001B[0m\u001B[0;34m:\u001B[0m\u001B[0;34m\u001B[0m\u001B[0;34m\u001B[0m\u001B[0m\n",
      "\u001B[0;32m~/miniconda/envs/my_anaconda_dont/lib/python3.9/site-packages/pytorch_lightning/utilities/cloud_io.py\u001B[0m in \u001B[0;36mload\u001B[0;34m(path_or_url, map_location)\u001B[0m\n\u001B[1;32m     31\u001B[0m     \u001B[0mfs\u001B[0m \u001B[0;34m=\u001B[0m \u001B[0mget_filesystem\u001B[0m\u001B[0;34m(\u001B[0m\u001B[0mpath_or_url\u001B[0m\u001B[0;34m)\u001B[0m\u001B[0;34m\u001B[0m\u001B[0;34m\u001B[0m\u001B[0m\n\u001B[1;32m     32\u001B[0m     \u001B[0;32mwith\u001B[0m \u001B[0mfs\u001B[0m\u001B[0;34m.\u001B[0m\u001B[0mopen\u001B[0m\u001B[0;34m(\u001B[0m\u001B[0mpath_or_url\u001B[0m\u001B[0;34m,\u001B[0m \u001B[0;34m\"rb\"\u001B[0m\u001B[0;34m)\u001B[0m \u001B[0;32mas\u001B[0m \u001B[0mf\u001B[0m\u001B[0;34m:\u001B[0m\u001B[0;34m\u001B[0m\u001B[0;34m\u001B[0m\u001B[0m\n\u001B[0;32m---> 33\u001B[0;31m         \u001B[0;32mreturn\u001B[0m \u001B[0mtorch\u001B[0m\u001B[0;34m.\u001B[0m\u001B[0mload\u001B[0m\u001B[0;34m(\u001B[0m\u001B[0mf\u001B[0m\u001B[0;34m,\u001B[0m \u001B[0mmap_location\u001B[0m\u001B[0;34m=\u001B[0m\u001B[0mmap_location\u001B[0m\u001B[0;34m)\u001B[0m\u001B[0;34m\u001B[0m\u001B[0;34m\u001B[0m\u001B[0m\n\u001B[0m\u001B[1;32m     34\u001B[0m \u001B[0;34m\u001B[0m\u001B[0m\n\u001B[1;32m     35\u001B[0m \u001B[0;34m\u001B[0m\u001B[0m\n",
      "\u001B[0;32m~/miniconda/envs/my_anaconda_dont/lib/python3.9/site-packages/torch/serialization.py\u001B[0m in \u001B[0;36mload\u001B[0;34m(f, map_location, pickle_module, **pickle_load_args)\u001B[0m\n\u001B[1;32m    605\u001B[0m                     \u001B[0mopened_file\u001B[0m\u001B[0;34m.\u001B[0m\u001B[0mseek\u001B[0m\u001B[0;34m(\u001B[0m\u001B[0morig_position\u001B[0m\u001B[0;34m)\u001B[0m\u001B[0;34m\u001B[0m\u001B[0;34m\u001B[0m\u001B[0m\n\u001B[1;32m    606\u001B[0m                     \u001B[0;32mreturn\u001B[0m \u001B[0mtorch\u001B[0m\u001B[0;34m.\u001B[0m\u001B[0mjit\u001B[0m\u001B[0;34m.\u001B[0m\u001B[0mload\u001B[0m\u001B[0;34m(\u001B[0m\u001B[0mopened_file\u001B[0m\u001B[0;34m)\u001B[0m\u001B[0;34m\u001B[0m\u001B[0;34m\u001B[0m\u001B[0m\n\u001B[0;32m--> 607\u001B[0;31m                 \u001B[0;32mreturn\u001B[0m \u001B[0m_load\u001B[0m\u001B[0;34m(\u001B[0m\u001B[0mopened_zipfile\u001B[0m\u001B[0;34m,\u001B[0m \u001B[0mmap_location\u001B[0m\u001B[0;34m,\u001B[0m \u001B[0mpickle_module\u001B[0m\u001B[0;34m,\u001B[0m \u001B[0;34m**\u001B[0m\u001B[0mpickle_load_args\u001B[0m\u001B[0;34m)\u001B[0m\u001B[0;34m\u001B[0m\u001B[0;34m\u001B[0m\u001B[0m\n\u001B[0m\u001B[1;32m    608\u001B[0m         \u001B[0;32mreturn\u001B[0m \u001B[0m_legacy_load\u001B[0m\u001B[0;34m(\u001B[0m\u001B[0mopened_file\u001B[0m\u001B[0;34m,\u001B[0m \u001B[0mmap_location\u001B[0m\u001B[0;34m,\u001B[0m \u001B[0mpickle_module\u001B[0m\u001B[0;34m,\u001B[0m \u001B[0;34m**\u001B[0m\u001B[0mpickle_load_args\u001B[0m\u001B[0;34m)\u001B[0m\u001B[0;34m\u001B[0m\u001B[0;34m\u001B[0m\u001B[0m\n\u001B[1;32m    609\u001B[0m \u001B[0;34m\u001B[0m\u001B[0m\n",
      "\u001B[0;32m~/miniconda/envs/my_anaconda_dont/lib/python3.9/site-packages/torch/serialization.py\u001B[0m in \u001B[0;36m_load\u001B[0;34m(zip_file, map_location, pickle_module, pickle_file, **pickle_load_args)\u001B[0m\n\u001B[1;32m    880\u001B[0m     \u001B[0munpickler\u001B[0m \u001B[0;34m=\u001B[0m \u001B[0mUnpicklerWrapper\u001B[0m\u001B[0;34m(\u001B[0m\u001B[0mdata_file\u001B[0m\u001B[0;34m,\u001B[0m \u001B[0;34m**\u001B[0m\u001B[0mpickle_load_args\u001B[0m\u001B[0;34m)\u001B[0m\u001B[0;34m\u001B[0m\u001B[0;34m\u001B[0m\u001B[0m\n\u001B[1;32m    881\u001B[0m     \u001B[0munpickler\u001B[0m\u001B[0;34m.\u001B[0m\u001B[0mpersistent_load\u001B[0m \u001B[0;34m=\u001B[0m \u001B[0mpersistent_load\u001B[0m\u001B[0;34m\u001B[0m\u001B[0;34m\u001B[0m\u001B[0m\n\u001B[0;32m--> 882\u001B[0;31m     \u001B[0mresult\u001B[0m \u001B[0;34m=\u001B[0m \u001B[0munpickler\u001B[0m\u001B[0;34m.\u001B[0m\u001B[0mload\u001B[0m\u001B[0;34m(\u001B[0m\u001B[0;34m)\u001B[0m\u001B[0;34m\u001B[0m\u001B[0;34m\u001B[0m\u001B[0m\n\u001B[0m\u001B[1;32m    883\u001B[0m \u001B[0;34m\u001B[0m\u001B[0m\n\u001B[1;32m    884\u001B[0m     \u001B[0mtorch\u001B[0m\u001B[0;34m.\u001B[0m\u001B[0m_utils\u001B[0m\u001B[0;34m.\u001B[0m\u001B[0m_validate_loaded_sparse_tensors\u001B[0m\u001B[0;34m(\u001B[0m\u001B[0;34m)\u001B[0m\u001B[0;34m\u001B[0m\u001B[0;34m\u001B[0m\u001B[0m\n",
      "\u001B[0;32m~/miniconda/envs/my_anaconda_dont/lib/python3.9/site-packages/torch/serialization.py\u001B[0m in \u001B[0;36mfind_class\u001B[0;34m(self, mod_name, name)\u001B[0m\n\u001B[1;32m    873\u001B[0m         \u001B[0;32mdef\u001B[0m \u001B[0mfind_class\u001B[0m\u001B[0;34m(\u001B[0m\u001B[0mself\u001B[0m\u001B[0;34m,\u001B[0m \u001B[0mmod_name\u001B[0m\u001B[0;34m,\u001B[0m \u001B[0mname\u001B[0m\u001B[0;34m)\u001B[0m\u001B[0;34m:\u001B[0m\u001B[0;34m\u001B[0m\u001B[0;34m\u001B[0m\u001B[0m\n\u001B[1;32m    874\u001B[0m             \u001B[0mmod_name\u001B[0m \u001B[0;34m=\u001B[0m \u001B[0mload_module_mapping\u001B[0m\u001B[0;34m.\u001B[0m\u001B[0mget\u001B[0m\u001B[0;34m(\u001B[0m\u001B[0mmod_name\u001B[0m\u001B[0;34m,\u001B[0m \u001B[0mmod_name\u001B[0m\u001B[0;34m)\u001B[0m\u001B[0;34m\u001B[0m\u001B[0;34m\u001B[0m\u001B[0m\n\u001B[0;32m--> 875\u001B[0;31m             \u001B[0;32mreturn\u001B[0m \u001B[0msuper\u001B[0m\u001B[0;34m(\u001B[0m\u001B[0;34m)\u001B[0m\u001B[0;34m.\u001B[0m\u001B[0mfind_class\u001B[0m\u001B[0;34m(\u001B[0m\u001B[0mmod_name\u001B[0m\u001B[0;34m,\u001B[0m \u001B[0mname\u001B[0m\u001B[0;34m)\u001B[0m\u001B[0;34m\u001B[0m\u001B[0;34m\u001B[0m\u001B[0m\n\u001B[0m\u001B[1;32m    876\u001B[0m \u001B[0;34m\u001B[0m\u001B[0m\n\u001B[1;32m    877\u001B[0m     \u001B[0;31m# Load the data (which may in turn use `persistent_load` to load tensors)\u001B[0m\u001B[0;34m\u001B[0m\u001B[0;34m\u001B[0m\u001B[0m\n",
      "\u001B[0;31mModuleNotFoundError\u001B[0m: No module named 'riskiano.source.modules.general'"
     ]
    }
   ],
   "source": [
    "%%capture\n",
    "run_id = 'IN-7973'\n",
    "run = neptune.init(api_token=api_token,\n",
    "                   project=\"Cardiors/interpretability\",\n",
    "                   run=run_id)\n",
    "FLAGS = run['parameters'].fetch()\n",
    "cpt = run['checkpoint_path'].fetch()\n",
    "params = run['parameters'].fetch()\n",
    "concordance = run['checkpoint_value'].fetch()\n",
    "metric = run['checkpoint_metric'].fetch()\n",
    "run.stop()\n",
    "\n",
    "datamodule = SyntheticDatamodule\n",
    "datamodule = datamodule(csv_id='simpsons_resampling',\n",
    "                        dirpath='/data/analysis/ag-reils/ag-reils-shared/cardioRS/data/interpretability/simpson/',\n",
    "                        batch_size=1024)\n",
    "datamodule.prepare_data()\n",
    "datamodule.setup()\n",
    "\n",
    "model = DeepSurv\n",
    "trained_model = model.load_from_checkpoint(cpt)\n",
    "trained_model.eval()\n",
    "\n",
    "valid_batch_size = len(datamodule.valid_ds)\n",
    "valid_loader = trained_model.ext_dataloader(datamodule.valid_ds, batch_size=valid_batch_size,\n",
    "                                            num_workers=8, shuffle=False, drop_last=False)\n",
    "valid_batch = next(iter(valid_loader))\n",
    "valid_data, *_ = trained_model.unpack_batch(valid_batch)\n",
    "\n",
    "train_batch_size = len(datamodule.train_ds)\n",
    "train_loader = trained_model.ext_dataloader(datamodule.train_ds, batch_size=train_batch_size, num_workers=8, shuffle=False, drop_last=False)\n",
    "train_batch = next(iter(train_loader))\n",
    "train_data, *_ = trained_model.unpack_batch(train_batch)"
   ],
   "metadata": {
    "collapsed": false,
    "pycharm": {
     "name": "#%%\n"
    }
   }
  },
  {
   "cell_type": "code",
   "execution_count": null,
   "outputs": [],
   "source": [
    "# Perturbation function\n",
    "def perturb_fn(inputs):\n",
    "    noise = torch.tensor(np.random.normal(0, 0.002, inputs.shape)).float()\n",
    "    return noise, inputs - noise\n",
    "\n",
    "# Set baseline\n",
    "zero_baseline = torch.zeros(valid_data.shape[0], valid_data.shape[1])\n",
    "average = torch.mean(valid_data)\n",
    "average_baseline = torch.empty(valid_data.shape[0], valid_data.shape[1]).fill_(average)\n",
    "\n",
    "# Evaluation time\n",
    "t = torch.tensor([datamodule.eval_timepoint])\n",
    "\n",
    "def plot_attribution(out, title, normalize_colors=True):\n",
    "    out = out[0] if isinstance(out, list) else out\n",
    "    out = out if not isinstance(out, torch.Tensor) else out.detach()\n",
    "    out_tensor = torch.Tensor(out)\n",
    "    try:\n",
    "        out_mean = torch.mean(out_tensor, 1).numpy()\n",
    "    except:\n",
    "        out_mean = torch.mean(out_tensor, 0).numpy()\n",
    "\n",
    "    x = valid_data[:, 0]\n",
    "    y = valid_data[:, 1]\n",
    "\n",
    "    outdim0 = out[:, 0]\n",
    "    outdim1 = out[:, 1]\n",
    "    outdim2 = out_mean\n",
    "    max_val = np.amax(np.array([abs(outdim0).max(), abs(outdim1).max(), abs(outdim2).max()]))\n",
    "\n",
    "    fig, (ax0, ax1, ax2) =  plt.subplots(1, 3, figsize=(15,4.5))\n",
    "    if normalize_colors:\n",
    "        axes0 = ax0.scatter(x, y, c=outdim0,vmax=max_val, vmin=-max_val, cmap='bwr')\n",
    "        axes1 = ax1.scatter(x, y, c=outdim1, vmax=max_val, vmin=-max_val,  cmap='bwr')\n",
    "        axes2 = ax2.scatter(x, y, c=outdim2, vmax=max_val, vmin=-max_val,  cmap='bwr')\n",
    "    else:\n",
    "        axes0 = ax0.scatter(x, y, c=outdim0,  cmap='bwr')\n",
    "        axes1 = ax1.scatter(x, y, c=outdim1,  cmap='bwr')\n",
    "        axes2 = ax2.scatter(x, y, c=outdim2,  cmap='bwr')\n",
    "\n",
    "    ax0.title.set_text('x attribution')\n",
    "    ax1.title.set_text('y attribution')\n",
    "    ax2.title.set_text('mean attribution')\n",
    "\n",
    "    fig.subplots_adjust(right=0.8);\n",
    "    cbar_ax = fig.add_axes([0.85, 0.15, 0.05, 0.7]);\n",
    "    fig.colorbar(axes1, cax=cbar_ax);\n",
    "    plt.title(title);\n",
    "    return out_mean"
   ],
   "metadata": {
    "collapsed": false,
    "pycharm": {
     "name": "#%%\n"
    }
   }
  },
  {
   "cell_type": "code",
   "execution_count": null,
   "outputs": [],
   "source": [
    "train_details, valid_details = load_details(\"simpsons_resampling\", project='simpsons')\n",
    "\n",
    "valid_details.plot.scatter(\"x_orig\", \"y_orig\", c=\"hazzard_orig\",\n",
    "                           vmax=abs(valid_details[\"hazzard_orig\"].max()),\n",
    "                           vmin=-abs(valid_details[\"hazzard_orig\"].max()),\n",
    "                           cmap=\"seismic\", colorbar=True)\n",
    "valid_details.plot.scatter(\"x_do\", \"y_do\", c=\"hazzard_do\", cmap=\"seismic\")"
   ],
   "metadata": {
    "collapsed": false,
    "pycharm": {
     "name": "#%%\n"
    }
   }
  },
  {
   "cell_type": "markdown",
   "source": [
    "## Score diff function"
   ],
   "metadata": {
    "collapsed": false,
    "pycharm": {
     "name": "#%% md\n"
    }
   }
  },
  {
   "cell_type": "code",
   "execution_count": null,
   "outputs": [],
   "source": [
    "def output_diff(model, df: pd.DataFrame):\n",
    "    \"\"\"\n",
    "    Calculates the difference between model output with original vs resampled inputs\n",
    "    :param model: model to do inferences on\n",
    "    :param df: dataframe with the column x/y orign and x/y do\n",
    "    :return: model output difference\n",
    "    \"\"\"\n",
    "    xy_orig = df[['x_orig', 'y_orig']].rename(\n",
    "        {'x_orig': 'x', 'y_orig': 'y'})\n",
    "    xy_do = df[['x_do', 'y_do']].rename(\n",
    "        {'x_do': 'x', 'y_do': 'y'})\n",
    "    xy_orig = xy_orig.to_numpy(dtype='float32')\n",
    "    xy_do = xy_do.to_numpy(dtype='float32')\n",
    "\n",
    "    orig_vals = model(torch.from_numpy(xy_orig))\n",
    "    do_vals = model(torch.from_numpy(xy_do))\n",
    "\n",
    "    orig_vals = orig_vals if not isinstance(orig_vals, tuple) else orig_vals[0]\n",
    "    do_vals = do_vals if not isinstance(do_vals, tuple) else do_vals[0]\n",
    "\n",
    "    with torch.no_grad():\n",
    "        diff = torch.sub(orig_vals, do_vals)\n",
    "    return diff.detach().numpy()\n",
    "\n",
    "def clip_outliers(xdf, ydf, attr_x, attr_y, attr_name):\n",
    "    \"\"\"\n",
    "    Clip the outliers and computes the attribution error\n",
    "    \"\"\"\n",
    "    # For the changed x\n",
    "    outliers = np.percentile(xdf['change_slope_model'], [0.5, 99.5])\n",
    "    clipped_array = np.clip(xdf.change_slope_model.to_numpy(), *outliers)\n",
    "    xdf.loc[:,'change_slope_model_norm'] = clipped_array / abs(clipped_array).max()\n",
    "\n",
    "    outliers = np.percentile(ydf['change_slope_model'], [0.5, 99.5])\n",
    "    clipped_array = np.clip(ydf.change_slope_model.to_numpy(), *outliers)\n",
    "    ydf.loc[:,'chan  ge_slope_model_norm_y'] = clipped_array / abs(clipped_array).max()\n",
    "\n",
    "    attr_x = attr_x[:, 0].detach().numpy() if isinstance(attr_x, torch.Tensor) else attr_x[:, 0]\n",
    "    attr_y = attr_y[:, 1].detach().numpy() if isinstance(attr_y, torch.Tensor) else attr_y[:, 1]\n",
    "\n",
    "    outliers = np.percentile(attr_x, [0.5, 99.5])\n",
    "    clipped_array = np.clip(attr_x, *outliers)\n",
    "    xdf.loc[:, f'{attr_name}_dim0'] = attr_x\n",
    "    xdf.loc[:, f'{attr_name}_norm'] = clipped_array / abs(clipped_array).max()\n",
    "\n",
    "    outliers = np.percentile(attr_y, [0.5, 99.5])\n",
    "    clipped_array = np.clip(attr_y, *outliers)\n",
    "    ydf.loc[:, f'{attr_name}_dim1'] = attr_y\n",
    "    ydf.loc[:, f'{attr_name}_norm_y'] = clipped_array / abs(clipped_array).max()\n",
    "\n",
    "def run_attribution(method, input_x, input_y, baseline=None):\n",
    "    \"\"\"\n",
    "    :param method: initiated explanation method\n",
    "    :param input_x: input for dimension x\n",
    "    :param input_y: input for dimension y\n",
    "    :param baseline: baseline to use, currently only works with captum stuff\n",
    "    :return: attribution for dimension x and dimension y\n",
    "    \"\"\"\n",
    "    if isinstance(method, shap.KernelExplainer) :\n",
    "        attr_x = method.shap_values(input_x.values)[0].astype('float32')\n",
    "        attr_y = method.shap_values(input_y.values)[0].astype('float32')\n",
    "    elif isinstance(method, shap.DeepExplainer):\n",
    "        attr_x = method.shap_values(torch.Tensor(input_x.values), baseline).astype('float32')\n",
    "        attr_y = method.shap_values(torch.Tensor(input_y.values), baseline).astype('float32')\n",
    "    else:\n",
    "        try:\n",
    "            attr_x = method(torch.Tensor(input_x.values), baselines=baseline)\n",
    "            attr_y = method(torch.Tensor(input_y.values), baselines=baseline)\n",
    "        except TypeError:\n",
    "            attr_x = method(torch.Tensor(input_x.values))\n",
    "            attr_y = method(torch.Tensor(input_y.values))\n",
    "    return attr_x, attr_y\n",
    "\n",
    "#TODO: finish this\n",
    "def get_attribution(path):\n",
    "    attribution = np.genfromtxt(path, delimiter=',')\n",
    "    return attribution\n",
    "\n",
    "\n",
    "def change_slope(df, attr_method, attr_name, baseline=None):\n",
    "    \"\"\"\n",
    "    Calculates change slope of model with respect to attributions\n",
    "    :param df: dataframe with resampled features\n",
    "    :param attribution: attribution method\n",
    "    :param attr_name: name of the attribution method (to be used to name the dataframe column)\n",
    "    :return:\n",
    "    \"\"\"\n",
    "    df.loc[:, 'model_diff'] = np.zeros(len(df))\n",
    "    df.loc[:, 'resampling_diff'] = np.zeros(len(df))\n",
    "\n",
    "    for attr in pd.unique(df.modified_attribute):\n",
    "        idx = df.modified_attribute == attr\n",
    "        df.loc[idx, 'model_diff'] = output_diff(trained_model, df=df[idx])\n",
    "        df.loc[idx, 'resampling_diff'] = df[idx][attr + '_orig'] - df[idx][attr + '_do']\n",
    "\n",
    "    df.loc[:, 'change_slope_model'] = df.model_diff / df.resampling_diff\n",
    "    xdf = df.loc[valid_details['modified_attribute'] == 'noise_x']\n",
    "    ydf = df.loc[valid_details['modified_attribute'] == 'noise_y']\n",
    "    input_xdf = pd.DataFrame(dict(x_orig=xdf.x_orig, y_orig=xdf.y_orig))\n",
    "    input_ydf = pd.DataFrame(dict(x_orig=ydf.x_orig, y_orig=ydf.y_orig))\n",
    "    # get attributions\n",
    "    attr_x, attr_y = run_attribution(attr_method, input_xdf, input_ydf, baseline=baseline)\n",
    "\n",
    "    xdf.loc[:, f'{attr_name}'] = list(attr_x.detach().numpy()) if isinstance(attr_x, torch.Tensor) else list(attr_x)\n",
    "    ydf.loc[:, f'{attr_name}_y'] = list(attr_y.detach().numpy()) if isinstance(attr_y, torch.Tensor) else list(attr_y)\n",
    "    clip_outliers(xdf, ydf, attr_x, attr_y, attr_name)\n",
    "\n",
    "    xdf.loc[:, f'{attr_name}_error_abs'] = abs(xdf.loc[:,f'{attr_name}_norm'] - xdf.loc[:,'change_slope_model_norm'])\n",
    "    xdf.loc[:, f'{attr_name}_error'] = xdf.loc[:,f'{attr_name}_norm'] - xdf.loc[:,'change_slope_model_norm']\n",
    "    ydf.loc[:, f'{attr_name}_error_y_abs'] = abs(ydf.loc[:,f'{attr_name}_norm_y'] - ydf.loc[:,'change_slope_model_norm_y'])\n",
    "    ydf.loc[:, f'{attr_name}_error_y'] = ydf.loc[:,f'{attr_name}_norm_y'] - ydf.loc[:,'change_slope_model_norm_y']\n",
    "\n",
    "    xdf.plot.scatter('x_orig', 'y_orig', c=f'{attr_name}_error_abs', cmap='PuBu', vmax = 1.0, vmin=0.0)\n",
    "    ydf.plot.scatter('x_orig', 'y_orig', c=f'{attr_name}_error_y_abs', cmap='PuBu', vmax = 1.0, vmin=0.0)\n",
    "    print(f'average {attr_name} x dim error =', xdf[f'{attr_name}_error_abs'].mean())\n",
    "    print(f'average {attr_name} y dim error =', ydf[f'{attr_name}_error_y_abs'].mean())\n",
    "\n",
    "    return xdf, ydf"
   ],
   "metadata": {
    "collapsed": false,
    "pycharm": {
     "name": "#%%\n"
    }
   }
  },
  {
   "cell_type": "markdown",
   "source": [
    "## Calculate Attribution Errors"
   ],
   "metadata": {
    "collapsed": false,
    "pycharm": {
     "name": "#%% md\n"
    }
   }
  },
  {
   "cell_type": "code",
   "execution_count": null,
   "outputs": [],
   "source": [
    "zero_baseline = torch.zeros(*valid_data.shape)\n",
    "forward_wrapper = ForwardWrapper(trained_model, method='FeaturePermutation')\n",
    "fa = FeatureAblation(forward_wrapper)\n",
    "fp = FeaturePermutation(forward_wrapper)\n",
    "ixg = InputXGradient(forward_wrapper)\n",
    "svs = ShapleyValueSampling(forward_wrapper)\n",
    "saliency = Saliency(forward_wrapper)"
   ],
   "metadata": {
    "collapsed": false,
    "pycharm": {
     "name": "#%%\n"
    }
   }
  },
  {
   "cell_type": "markdown",
   "source": [
    "### Baselines + Shap wrappers"
   ],
   "metadata": {
    "collapsed": false,
    "pycharm": {
     "name": "#%% md\n"
    }
   }
  },
  {
   "cell_type": "code",
   "execution_count": null,
   "outputs": [],
   "source": [
    "zero_baseline = torch.zeros(1, valid_data.shape[1])\n",
    "ones_baseline = torch.ones(1, valid_data.shape[1])\n",
    "train_sampling_baseline = shap.sample(train_data, 100)\n",
    "train_kmeans_baseline = shap.kmeans(train_data, 100)\n",
    "mean_baseline = torch.full_like(zero_baseline, torch.mean(valid_data))\n",
    "\n",
    "forward_wrapper_kernel = ForwardWrapper(trained_model, method='KernelExplainer')\n",
    "forward_wrapper_deep = ForwardWrapper(trained_model, method='DeepExplainer')"
   ],
   "metadata": {
    "collapsed": false,
    "pycharm": {
     "name": "#%%\n"
    }
   }
  },
  {
   "cell_type": "markdown",
   "source": [
    "## KernelExplainer"
   ],
   "metadata": {
    "collapsed": false,
    "pycharm": {
     "name": "#%% md\n"
    }
   }
  },
  {
   "cell_type": "code",
   "execution_count": null,
   "outputs": [],
   "source": [
    "# mean baseline\n",
    "kernel_explainer_mean = shap.KernelExplainer(forward_wrapper_kernel, mean_baseline)\n",
    "train_details, valid_details = load_details('simpsons_resampling')\n",
    "xdf, ydf, df = change_slope(valid_details, kernel_explainer_mean, 'KernelExplainer_mean')"
   ],
   "metadata": {
    "collapsed": false,
    "pycharm": {
     "name": "#%%\n"
    }
   }
  },
  {
   "cell_type": "code",
   "execution_count": null,
   "outputs": [],
   "source": [
    "# sampled train loader baseline\n",
    "kernel_explainer_train = shap.KernelExplainer(forward_wrapper_kernel, train_sampling_baseline)\n",
    "train_details, valid_details = load_details('simpsons_resampling')\n",
    "xdf, ydf, df = change_slope(valid_details, kernel_explainer_train, 'KernelExplainer_sampled')"
   ],
   "metadata": {
    "collapsed": false,
    "pycharm": {
     "name": "#%%\n"
    }
   }
  },
  {
   "cell_type": "code",
   "execution_count": null,
   "outputs": [],
   "source": [
    "# kmeans clustered baseline\n",
    "kernel_explainer_train = shap.KernelExplainer(forward_wrapper_kernel, train_kmeans_baseline)\n",
    "train_details, valid_details = load_details('simpsons_resampling')\n",
    "xdf, ydf, df = change_slope(valid_details, kernel_explainer_train, 'KernelExplainer_kmeans')"
   ],
   "metadata": {
    "collapsed": false,
    "pycharm": {
     "name": "#%%\n"
    }
   }
  },
  {
   "cell_type": "code",
   "execution_count": null,
   "outputs": [],
   "source": [
    "# zero baseline\n",
    "deep_explainer_zero = shap.DeepExplainer(forward_wrapper_deep, zero_baseline)\n",
    "train_details, valid_details = load_details(\"simpsons_resampling\")\n",
    "xdf, ydf, df = change_slope(valid_details, deep_explainer_zero, 'DeepExplainer', baseline=zero_baseline)"
   ],
   "metadata": {
    "collapsed": false,
    "pycharm": {
     "name": "#%%\n"
    }
   }
  },
  {
   "cell_type": "markdown",
   "source": [
    "## DeepExplainer"
   ],
   "metadata": {
    "collapsed": false,
    "pycharm": {
     "name": "#%% md\n"
    }
   }
  },
  {
   "cell_type": "code",
   "execution_count": null,
   "outputs": [],
   "source": [
    "# baseline from train_data - this is for 100 samples\n",
    "kmeans_baseline = torch.Tensor(shap.kmeans(train_data, 100).data)\n",
    "deep_explainer_sampling = shap.DeepExplainer(forward_wrapper_deep, kmeans_baseline)\n",
    "train_details, valid_details = load_details(\"simpsons_resampling\")\n",
    "xdf, ydf, df = change_slope(valid_details, deep_explainer_sampling, 'DeepExplainer_kmeans')"
   ],
   "metadata": {
    "collapsed": false,
    "pycharm": {
     "name": "#%%\n"
    }
   }
  },
  {
   "cell_type": "code",
   "execution_count": null,
   "outputs": [],
   "source": [
    "# train baseline (sampling) - this is for 1000 samples\n",
    "sampling_baseline = shap.sample(train_data, 100)\n",
    "deep_explainer_sampling = shap.DeepExplainer(forward_wrapper_deep, sampling_baseline)\n",
    "train_details, valid_details = load_details(\"simpsons_resampling\")\n",
    "xdf, ydf, df = change_slope(valid_details, deep_explainer_sampling, 'DeepExplainer_sampling')"
   ],
   "metadata": {
    "collapsed": false,
    "pycharm": {
     "name": "#%%\n"
    }
   }
  },
  {
   "cell_type": "markdown",
   "source": [
    "## Captum Stuff"
   ],
   "metadata": {
    "collapsed": false,
    "pycharm": {
     "name": "#%% md\n"
    }
   }
  },
  {
   "cell_type": "code",
   "execution_count": null,
   "outputs": [],
   "source": [
    "train_details, valid_details = load_details(\"simpsons_resampling\")\n",
    "xdf, ydf, df = change_slope(valid_details, fa.attribute, 'FeatureAblation', baseline=zero_baseline)"
   ],
   "metadata": {
    "collapsed": false,
    "pycharm": {
     "name": "#%%\n"
    }
   }
  },
  {
   "cell_type": "code",
   "execution_count": null,
   "outputs": [],
   "source": [
    "train_details, valid_details = load_details(\"simpsons_resampling\")\n",
    "xdf, ydf, df = change_slope(valid_details, fp.attribute, 'FeaturePermutation')"
   ],
   "metadata": {
    "collapsed": false,
    "pycharm": {
     "name": "#%%\n"
    }
   }
  },
  {
   "cell_type": "code",
   "execution_count": null,
   "outputs": [],
   "source": [
    "train_details, valid_details = load_details(\"simpsons_resampling\")\n",
    "xdf, ydf, df = change_slope(valid_details, svs.attribute, 'ShapleyValueSampling')"
   ],
   "metadata": {
    "collapsed": false,
    "pycharm": {
     "name": "#%%\n"
    }
   }
  },
  {
   "cell_type": "markdown",
   "source": [
    "## Correlation Case"
   ],
   "metadata": {
    "collapsed": false,
    "pycharm": {
     "name": "#%% md\n"
    }
   }
  },
  {
   "cell_type": "code",
   "execution_count": 8,
   "outputs": [],
   "source": [
    "import wandb\n",
    "api = wandb.Api()"
   ],
   "metadata": {
    "collapsed": false,
    "pycharm": {
     "name": "#%%\n"
    }
   }
  },
  {
   "cell_type": "code",
   "execution_count": 9,
   "outputs": [],
   "source": [
    "# correlation case p=-0.62\n",
    "run = api.run(\"cardiors/uncategorized/24ci3yhi\")"
   ],
   "metadata": {
    "collapsed": false,
    "pycharm": {
     "name": "#%%\n"
    }
   }
  },
  {
   "cell_type": "code",
   "execution_count": 10,
   "outputs": [],
   "source": [
    "cpt = run.config['checkpoint_path']\n",
    "FLAGS = run.config['_content']\n",
    "datamodule_kwargs = eval(FLAGS['experiment'])['datamodule_kwargs']"
   ],
   "metadata": {
    "collapsed": false,
    "pycharm": {
     "name": "#%%\n"
    }
   }
  },
  {
   "cell_type": "code",
   "execution_count": 11,
   "outputs": [],
   "source": [
    "%%capture\n",
    "datamodule = SyntheticDatamodule\n",
    "datamodule = datamodule(csv_id=datamodule_kwargs['csv_id'],\n",
    "                        dirpath=datamodule_kwargs['dirpath'],\n",
    "                        batch_size=1024)\n",
    "datamodule.prepare_data()\n",
    "datamodule.setup()\n",
    "\n",
    "model = DeepSurv\n",
    "trained_model = model.load_from_checkpoint(cpt)\n",
    "trained_model.eval()\n",
    "\n",
    "valid_batch_size = len(datamodule.valid_ds)\n",
    "valid_loader = trained_model.ext_dataloader(datamodule.valid_ds, batch_size=valid_batch_size,\n",
    "                                            num_workers=8, shuffle=False, drop_last=False)\n",
    "valid_batch = next(iter(valid_loader))\n",
    "valid_data, *_ = trained_model.unpack_batch(valid_batch)\n",
    "\n",
    "train_batch_size = len(datamodule.train_ds)\n",
    "train_loader = trained_model.ext_dataloader(datamodule.train_ds, batch_size=train_batch_size, num_workers=8, shuffle=False, drop_last=False)\n",
    "train_batch = next(iter(train_loader))\n",
    "train_data, *_ = trained_model.unpack_batch(train_batch)"
   ],
   "metadata": {
    "collapsed": false,
    "pycharm": {
     "name": "#%%\n"
    }
   }
  },
  {
   "cell_type": "code",
   "execution_count": 12,
   "outputs": [
    {
     "data": {
      "text/plain": "<AxesSubplot:xlabel='x_do', ylabel='correlate_do'>"
     },
     "execution_count": 12,
     "metadata": {},
     "output_type": "execute_result"
    },
    {
     "data": {
      "text/plain": "<Figure size 432x288 with 2 Axes>",
      "image/png": "[encoded data removed]"
     },
     "metadata": {
      "needs_background": "light"
     },
     "output_type": "display_data"
    },
    {
     "data": {
      "text/plain": "<Figure size 432x288 with 2 Axes>",
      "image/png": "[encoded data removed]"
     },
     "metadata": {
      "needs_background": "light"
     },
     "output_type": "display_data"
    }
   ],
   "source": [
    "train_details, valid_details = load_details(datamodule_kwargs['csv_id'], project='correlations')\n",
    "\n",
    "valid_details.plot.scatter(\"x_orig\", \"correlate_orig\", c=\"hazard_orig\",\n",
    "                           vmax=abs(valid_details[\"hazard_orig\"].max()),\n",
    "                           vmin=-abs(valid_details[\"hazard_orig\"].max()),\n",
    "                           cmap=\"seismic\", colorbar=True)\n",
    "valid_details.plot.scatter(\"x_do\", \"correlate_do\", c=\"hazard_do\", cmap=\"seismic\")"
   ],
   "metadata": {
    "collapsed": false,
    "pycharm": {
     "name": "#%%\n"
    }
   }
  },
  {
   "cell_type": "code",
   "execution_count": null,
   "outputs": [],
   "source": [
    "valid_details"
   ],
   "metadata": {
    "collapsed": false,
    "pycharm": {
     "name": "#%%\n"
    }
   }
  },
  {
   "cell_type": "markdown",
   "source": [
    "## Initiate Wrappers"
   ],
   "metadata": {
    "collapsed": false,
    "pycharm": {
     "name": "#%% md\n"
    }
   }
  },
  {
   "cell_type": "code",
   "execution_count": 13,
   "outputs": [],
   "source": [
    "forward_wrapper = ForwardWrapper(trained_model, method='FeaturePermutation')\n",
    "fa = FeatureAblation(forward_wrapper)\n",
    "fp = FeaturePermutation(forward_wrapper)\n",
    "ixg = InputXGradient(forward_wrapper)\n",
    "svs = ShapleyValueSampling(forward_wrapper)\n",
    "saliency = Saliency(forward_wrapper)\n",
    "forward_wrapper_kernel = ForwardWrapper(trained_model, method='KernelExplainer')\n",
    "forward_wrapper_deep = ForwardWrapper(trained_model, method='DeepExplainer')\n",
    "\n",
    "# Baselines\n",
    "zero_baseline = torch.zeros(1, valid_data.shape[1])\n",
    "ones_baseline = torch.ones(1, valid_data.shape[1])\n",
    "train_sampling_baseline = shap.sample(train_data, 100)\n",
    "train_kmeans_baseline = shap.kmeans(train_data, 100)\n",
    "mean_baseline = torch.full_like(zero_baseline, torch.mean(valid_data))"
   ],
   "metadata": {
    "collapsed": false,
    "pycharm": {
     "name": "#%%\n"
    }
   }
  },
  {
   "cell_type": "code",
   "execution_count": 14,
   "outputs": [
    {
     "ename": "NameError",
     "evalue": "name 'change_slope' is not defined",
     "output_type": "error",
     "traceback": [
      "\u001B[0;31m---------------------------------------------------------------------------\u001B[0m",
      "\u001B[0;31mNameError\u001B[0m                                 Traceback (most recent call last)",
      "\u001B[0;32m~/tempfiles/ipykernel_24248/1306088603.py\u001B[0m in \u001B[0;36m<module>\u001B[0;34m\u001B[0m\n\u001B[1;32m      3\u001B[0m \u001B[0mvalid_details\u001B[0m\u001B[0;34m.\u001B[0m\u001B[0mrename\u001B[0m\u001B[0;34m(\u001B[0m\u001B[0mcolumns\u001B[0m\u001B[0;34m=\u001B[0m\u001B[0;34m{\u001B[0m\u001B[0;34m'correlate_orig'\u001B[0m\u001B[0;34m:\u001B[0m \u001B[0;34m'y_orig'\u001B[0m\u001B[0;34m,\u001B[0m \u001B[0;34m'correlate_do'\u001B[0m\u001B[0;34m:\u001B[0m \u001B[0;34m'y_do'\u001B[0m\u001B[0;34m}\u001B[0m\u001B[0;34m,\u001B[0m \u001B[0minplace\u001B[0m\u001B[0;34m=\u001B[0m\u001B[0;32mTrue\u001B[0m\u001B[0;34m)\u001B[0m\u001B[0;34m\u001B[0m\u001B[0;34m\u001B[0m\u001B[0m\n\u001B[1;32m      4\u001B[0m \u001B[0;34m\u001B[0m\u001B[0m\n\u001B[0;32m----> 5\u001B[0;31m \u001B[0mxdf\u001B[0m\u001B[0;34m,\u001B[0m \u001B[0mydf\u001B[0m \u001B[0;34m=\u001B[0m \u001B[0mchange_slope\u001B[0m\u001B[0;34m(\u001B[0m\u001B[0mvalid_details\u001B[0m\u001B[0;34m,\u001B[0m \u001B[0mfa\u001B[0m\u001B[0;34m.\u001B[0m\u001B[0mattribute\u001B[0m\u001B[0;34m,\u001B[0m \u001B[0;34m'FeatureAblation'\u001B[0m\u001B[0;34m,\u001B[0m \u001B[0mbaseline\u001B[0m\u001B[0;34m=\u001B[0m\u001B[0mzero_baseline\u001B[0m\u001B[0;34m)\u001B[0m\u001B[0;34m\u001B[0m\u001B[0;34m\u001B[0m\u001B[0m\n\u001B[0m",
      "\u001B[0;31mNameError\u001B[0m: name 'change_slope' is not defined"
     ]
    }
   ],
   "source": [
    "train_details, valid_details = load_details(datamodule_kwargs['csv_id'], project='correlations')\n",
    "train_details.rename(columns={'correlate_orig': 'y_orig', 'correlate_do': 'y_do'}, inplace=True)\n",
    "valid_details.rename(columns={'correlate_orig': 'y_orig', 'correlate_do': 'y_do'}, inplace=True)\n",
    "\n",
    "xdf, ydf = change_slope(valid_details, fa.attribute, 'FeatureAblation', baseline=zero_baseline)"
   ],
   "metadata": {
    "collapsed": false,
    "pycharm": {
     "name": "#%%\n"
    }
   }
  },
  {
   "cell_type": "code",
   "execution_count": null,
   "outputs": [],
   "source": [
    "# mean baseline\n",
    "kernel_explainer_mean = shap.KernelExplainer(forward_wrapper_kernel, mean_baseline)\n",
    "train_details, valid_details = load_details(datamodule_kwargs['csv_id'], project='correlations')\n",
    "train_details.rename(columns={'correlate_orig': 'y_orig', 'correlate_do': 'y_do'}, inplace=True)\n",
    "valid_details.rename(columns={'correlate_orig': 'y_orig', 'correlate_do': 'y_do'}, inplace=True)\n",
    "xdf, ydf = change_slope(valid_details, kernel_explainer_mean, 'KernelExplainer_mean')"
   ],
   "metadata": {
    "collapsed": false,
    "pycharm": {
     "name": "#%%\n"
    }
   }
  },
  {
   "cell_type": "code",
   "execution_count": null,
   "outputs": [],
   "source": [
    "diff = abs(xdf['FeatureAblation_dim0'] - xdf['change_slope_model'])"
   ],
   "metadata": {
    "collapsed": false,
    "pycharm": {
     "name": "#%%\n"
    }
   }
  },
  {
   "cell_type": "code",
   "execution_count": null,
   "outputs": [],
   "source": [
    "outliers = np.percentile(diff, [0.5, 99.5])\n",
    "clipped_array = np.clip(diff, *outliers)\n",
    "clipped_array.plot.hist(bins=100)"
   ],
   "metadata": {
    "collapsed": false,
    "pycharm": {
     "name": "#%%\n"
    }
   }
  },
  {
   "cell_type": "code",
   "execution_count": null,
   "outputs": [],
   "source": [
    "xdf['change_slope_model_norm'].hist(bins=100)"
   ],
   "metadata": {
    "collapsed": false,
    "pycharm": {
     "name": "#%%\n"
    }
   }
  },
  {
   "cell_type": "code",
   "execution_count": null,
   "outputs": [],
   "source": [
    "xdf.columns"
   ],
   "metadata": {
    "collapsed": false,
    "pycharm": {
     "name": "#%%\n"
    }
   }
  },
  {
   "cell_type": "code",
   "execution_count": null,
   "outputs": [],
   "source": [
    "svs = xdf['ShapleyValueSampling'].to_numpy()"
   ],
   "metadata": {
    "collapsed": false,
    "pycharm": {
     "name": "#%%\n"
    }
   }
  },
  {
   "cell_type": "code",
   "execution_count": null,
   "outputs": [],
   "source": [
    "outliers = np.percentile(xdf['change_slope_model'], [0.5, 99.5])\n",
    "clipped_array = np.clip(xdf.change_slope_model.to_numpy(), *outliers)"
   ],
   "metadata": {
    "collapsed": false,
    "pycharm": {
     "name": "#%%\n"
    }
   }
  },
  {
   "cell_type": "code",
   "execution_count": null,
   "outputs": [],
   "source": [
    "xdf['ShapleyValueSampling']"
   ],
   "metadata": {
    "collapsed": false,
    "pycharm": {
     "name": "#%%\n"
    }
   }
  },
  {
   "cell_type": "code",
   "execution_count": null,
   "outputs": [],
   "source": [
    "pd.Series(clipped_array).plot.hist(bins=1000)"
   ],
   "metadata": {
    "collapsed": false,
    "pycharm": {
     "name": "#%%\n"
    }
   }
  },
  {
   "cell_type": "code",
   "execution_count": null,
   "outputs": [],
   "source": [
    "change_slope = xdf['change_slope_model']"
   ],
   "metadata": {
    "collapsed": false,
    "pycharm": {
     "name": "#%%\n"
    }
   }
  },
  {
   "cell_type": "code",
   "execution_count": null,
   "outputs": [],
   "source": [
    "train_details, valid_details = load_details(datamodule_kwargs['csv_id'], project='correlations')\n",
    "train_details.rename(columns={'correlate_orig': 'y_orig', 'correlate_do': 'y_do'}, inplace=True)\n",
    "valid_details.rename(columns={'correlate_orig': 'y_orig', 'correlate_do': 'y_do'}, inplace=True)\n",
    "\n",
    "xdf, ydf = change_slope(valid_details, svs.attribute, 'ShapleyValueSampling', baseline=zero_baseline)"
   ],
   "metadata": {
    "collapsed": false,
    "pycharm": {
     "name": "#%%\n"
    }
   }
  },
  {
   "cell_type": "code",
   "execution_count": null,
   "outputs": [],
   "source": [
    "xdf.plot.scatter('x_orig', 'hazard_orig', c='y_orig', cmap='seismic')\n",
    "ydf.plot.scatter('y_orig', 'hazard_orig', c='x_orig', cmap='seismic')"
   ],
   "metadata": {
    "collapsed": false,
    "pycharm": {
     "name": "#%%\n"
    }
   }
  },
  {
   "cell_type": "code",
   "execution_count": null,
   "outputs": [],
   "source": [
    "train_details, valid_details = load_details(datamodule_kwargs['csv_id'], project='correlations')\n",
    "\n",
    "valid_details.plot.scatter(\"x_orig\", \"correlate_orig\", c=\"hazard_orig\",\n",
    "                           vmax=abs(valid_details[\"hazard_orig\"].max()),\n",
    "                           vmin=-abs(valid_details[\"hazard_orig\"].max()),\n",
    "                           cmap=\"seismic\", colorbar=True)\n",
    "valid_details.plot.scatter(\"x_do\", \"correlate_do\", c=\"hazard_do\", cmap=\"seismic\")"
   ],
   "metadata": {
    "collapsed": false,
    "pycharm": {
     "name": "#%%\n"
    }
   }
  },
  {
   "cell_type": "code",
   "execution_count": null,
   "outputs": [],
   "source": [
    "xdf.change_slope_model_norm.plot.hist(bins=100)"
   ],
   "metadata": {
    "collapsed": false,
    "pycharm": {
     "name": "#%%\n"
    }
   }
  },
  {
   "cell_type": "code",
   "execution_count": null,
   "outputs": [],
   "source": [
    "xdf.columns"
   ],
   "metadata": {
    "collapsed": false,
    "pycharm": {
     "name": "#%%\n"
    }
   }
  },
  {
   "cell_type": "code",
   "execution_count": null,
   "outputs": [],
   "source": [
    "xdf.ShapleyValueSampling_mean_norm.plot.hist(bins=100)"
   ],
   "metadata": {
    "collapsed": false,
    "pycharm": {
     "name": "#%%\n"
    }
   }
  },
  {
   "cell_type": "code",
   "execution_count": 1,
   "outputs": [],
   "source": [
    "import wandb"
   ],
   "metadata": {
    "collapsed": false,
    "pycharm": {
     "name": "#%%\n"
    }
   }
  },
  {
   "cell_type": "code",
   "execution_count": 2,
   "outputs": [],
   "source": [
    "api = wandb.Api()\n",
    "runs = api.runs('cardiors/interpretability')"
   ],
   "metadata": {
    "collapsed": false,
    "pycharm": {
     "name": "#%%\n"
    }
   }
  },
  {
   "cell_type": "code",
   "execution_count": 36,
   "outputs": [
    {
     "data": {
      "text/plain": "['correlation_case', 'correlation_p-0.62']"
     },
     "execution_count": 36,
     "metadata": {},
     "output_type": "execute_result"
    }
   ],
   "source": [
    "run.tags"
   ],
   "metadata": {
    "collapsed": false,
    "pycharm": {
     "name": "#%%\n"
    }
   }
  },
  {
   "cell_type": "code",
   "execution_count": 37,
   "outputs": [],
   "source": [
    "# collect valid runs (correct tag + finished)\n",
    "valid_runs = []\n",
    "experiment_id = 'correlation_p-0.62'\n",
    "tags = ['correlation_case', 'correlation_p-0.62']\n",
    "for run in runs:\n",
    "    if run.state == \"finished\" and experiment_id in tags:\n",
    "        valid_runs.append(run)"
   ],
   "metadata": {
    "collapsed": false,
    "pycharm": {
     "name": "#%%\n"
    }
   }
  },
  {
   "cell_type": "code",
   "execution_count": 38,
   "outputs": [],
   "source": [
    "attribution_names = [\"FeaturePermutation\",\n",
    "                     \"FeatureAblation\",\n",
    "                     \"KernelExplainer\",\n",
    "                     \"DeepExplainer\",\n",
    "                     \"ShapleyValueSampling\",\n",
    "                     \"IntegratedGradients\",\n",
    "                     \"InputxGradient\",\n",
    "                     \"Lime\",\n",
    "                     \"Saliency\"]"
   ],
   "metadata": {
    "collapsed": false,
    "pycharm": {
     "name": "#%%\n"
    }
   }
  },
  {
   "cell_type": "code",
   "execution_count": 43,
   "outputs": [],
   "source": [
    "path = valid_runs[0].config['Lime_path']"
   ],
   "metadata": {
    "collapsed": false,
    "pycharm": {
     "name": "#%%\n"
    }
   }
  },
  {
   "cell_type": "code",
   "execution_count": 46,
   "outputs": [],
   "source": [
    "path = '/data/analysis/ag-reils/ag-reils-shared/cardioRS/results/interpretability/correlation_case/correlation_p-0.62/Lime0.csv'\n",
    "attribution = np.genfromtxt(path, delimiter=',')"
   ],
   "metadata": {
    "collapsed": false,
    "pycharm": {
     "name": "#%%\n"
    }
   }
  },
  {
   "cell_type": "code",
   "execution_count": 47,
   "outputs": [
    {
     "data": {
      "text/plain": "(1200, 2)"
     },
     "execution_count": 47,
     "metadata": {},
     "output_type": "execute_result"
    }
   ],
   "source": [
    "attribution.shape"
   ],
   "metadata": {
    "collapsed": false,
    "pycharm": {
     "name": "#%%\n"
    }
   }
  },
  {
   "cell_type": "code",
   "execution_count": 49,
   "outputs": [
    {
     "data": {
      "text/plain": "(1200, 2)"
     },
     "execution_count": 49,
     "metadata": {},
     "output_type": "execute_result"
    }
   ],
   "source": [
    "attribution.shape"
   ],
   "metadata": {
    "collapsed": false,
    "pycharm": {
     "name": "#%%\n"
    }
   }
  },
  {
   "cell_type": "code",
   "execution_count": 86,
   "outputs": [],
   "source": [
    "Datamodule = SyntheticDatamodule"
   ],
   "metadata": {
    "collapsed": false,
    "pycharm": {
     "name": "#%%\n"
    }
   }
  },
  {
   "cell_type": "code",
   "execution_count": 87,
   "outputs": [
    {
     "name": "stdout",
     "output_type": "stream",
     "text": [
      "$umthin\n"
     ]
    },
    {
     "name": "stderr",
     "output_type": "stream",
     "text": [
      "\n",
      "A value is trying to be set on a copy of a slice from a DataFrame.\n",
      "Try using .loc[row_indexer,col_indexer] = value instead\n",
      "\n",
      "See the caveats in the documentation: https://pandas.pydata.org/pandas-docs/stable/user_guide/indexing.html#returning-a-view-versus-a-copy\n",
      "\n",
      "A value is trying to be set on a copy of a slice from a DataFrame.\n",
      "Try using .loc[row_indexer,col_indexer] = value instead\n",
      "\n",
      "See the caveats in the documentation: https://pandas.pydata.org/pandas-docs/stable/user_guide/indexing.html#returning-a-view-versus-a-copy\n"
     ]
    }
   ],
   "source": [
    "datamodule = Datamodule(csv_id='-0.62',\n",
    "                        dirpath='/data/analysis/ag-reils/ag-reils-shared/cardioRS/data/interpretability/correlation/',\n",
    "                        batch_size=512)\n",
    "datamodule.prepare_data()\n",
    "datamodule.setup()"
   ],
   "metadata": {
    "collapsed": false,
    "pycharm": {
     "name": "#%%\n"
    }
   }
  },
  {
   "cell_type": "code",
   "execution_count": 88,
   "outputs": [
    {
     "data": {
      "text/plain": "12003"
     },
     "execution_count": 88,
     "metadata": {},
     "output_type": "execute_result"
    }
   ],
   "source": [
    "len(datamodule.valid_ds)"
   ],
   "metadata": {
    "collapsed": false,
    "pycharm": {
     "name": "#%%\n"
    }
   }
  },
  {
   "cell_type": "code",
   "execution_count": 81,
   "outputs": [
    {
     "data": {
      "text/plain": "              x         y      time  event\n0     -0.294555  0.825592  0.599814    1.0\n1      1.363036 -2.180831  0.000000    0.0\n2     -0.898894  2.030000  0.262575    0.0\n3      0.669717 -2.208389  0.993962    1.0\n4     -1.382226  1.729402  0.725052    1.0\n...         ...       ...       ...    ...\n28002  0.990386 -1.202905  0.829562    1.0\n28003 -0.199830  0.619280  0.878318    1.0\n28004  0.213648 -0.459574  0.652178    1.0\n28005  0.641503 -0.281710  0.000000    0.0\n28006  0.039809  0.948288  0.573467    1.0\n\n[28007 rows x 4 columns]",
      "text/html": "<div>\n<style scoped>\n    .dataframe tbody tr th:only-of-type {\n        vertical-align: middle;\n    }\n\n    .dataframe tbody tr th {\n        vertical-align: top;\n    }\n\n    .dataframe thead th {\n        text-align: right;\n    }\n</style>\n<table border=\"1\" class=\"dataframe\">\n  <thead>\n    <tr style=\"text-align: right;\">\n      <th></th>\n      <th>x</th>\n      <th>y</th>\n      <th>time</th>\n      <th>event</th>\n    </tr>\n  </thead>\n  <tbody>\n    <tr>\n      <th>0</th>\n      <td>-0.294555</td>\n      <td>0.825592</td>\n      <td>0.599814</td>\n      <td>1.0</td>\n    </tr>\n    <tr>\n      <th>1</th>\n      <td>1.363036</td>\n      <td>-2.180831</td>\n      <td>0.000000</td>\n      <td>0.0</td>\n    </tr>\n    <tr>\n      <th>2</th>\n      <td>-0.898894</td>\n      <td>2.030000</td>\n      <td>0.262575</td>\n      <td>0.0</td>\n    </tr>\n    <tr>\n      <th>3</th>\n      <td>0.669717</td>\n      <td>-2.208389</td>\n      <td>0.993962</td>\n      <td>1.0</td>\n    </tr>\n    <tr>\n      <th>4</th>\n      <td>-1.382226</td>\n      <td>1.729402</td>\n      <td>0.725052</td>\n      <td>1.0</td>\n    </tr>\n    <tr>\n      <th>...</th>\n      <td>...</td>\n      <td>...</td>\n      <td>...</td>\n      <td>...</td>\n    </tr>\n    <tr>\n      <th>28002</th>\n      <td>0.990386</td>\n      <td>-1.202905</td>\n      <td>0.829562</td>\n      <td>1.0</td>\n    </tr>\n    <tr>\n      <th>28003</th>\n      <td>-0.199830</td>\n      <td>0.619280</td>\n      <td>0.878318</td>\n      <td>1.0</td>\n    </tr>\n    <tr>\n      <th>28004</th>\n      <td>0.213648</td>\n      <td>-0.459574</td>\n      <td>0.652178</td>\n      <td>1.0</td>\n    </tr>\n    <tr>\n      <th>28005</th>\n      <td>0.641503</td>\n      <td>-0.281710</td>\n      <td>0.000000</td>\n      <td>0.0</td>\n    </tr>\n    <tr>\n      <th>28006</th>\n      <td>0.039809</td>\n      <td>0.948288</td>\n      <td>0.573467</td>\n      <td>1.0</td>\n    </tr>\n  </tbody>\n</table>\n<p>28007 rows × 4 columns</p>\n</div>"
     },
     "execution_count": 81,
     "metadata": {},
     "output_type": "execute_result"
    }
   ],
   "source": [
    "dirpath='/data/analysis/ag-reils/ag-reils-shared/cardioRS/data/interpretability/correlation/'\n",
    "csv_id='-0.62'\n",
    "path = f'{dirpath}{csv_id}_train.csv'\n",
    "pd.read_csv(path)"
   ],
   "metadata": {
    "collapsed": false,
    "pycharm": {
     "name": "#%%\n"
    }
   }
  }
 ],
 "metadata": {
  "kernelspec": {
   "display_name": "Python 3",
   "language": "python",
   "name": "python3"
  },
  "language_info": {
   "codemirror_mode": {
    "name": "ipython",
    "version": 2
   },
   "file_extension": ".py",
   "mimetype": "text/x-python",
   "name": "python",
   "nbconvert_exporter": "python",
   "pygments_lexer": "ipython2",
   "version": "2.7.6"
  }
 },
 "nbformat": 4,
 "nbformat_minor": 0
}