{
 "cells": [
  {
   "cell_type": "code",
   "execution_count": 1,
   "metadata": {
    "collapsed": true,
    "pycharm": {
     "name": "#%%\n"
    }
   },
   "outputs": [],
   "source": [
    "import pandas as pd\n",
    "import numpy as np\n",
    "import os"
   ]
  },
  {
   "cell_type": "markdown",
   "source": [
    "## HELPFUL FUNCTIONS"
   ],
   "metadata": {
    "collapsed": false,
    "pycharm": {
     "name": "#%% md\n"
    }
   }
  },
  {
   "cell_type": "code",
   "execution_count": 3,
   "outputs": [],
   "source": [
    "RESULTS_DIR = '/data/analysis/ag-reils/ag-reils-shared/cardioRS/results/interpretability/resample_multiplicities'\n",
    "DATA_DIR = '/data/analysis/ag-reils/ag-reils-shared/cardioRS/data/interpretability/resample_multiplicities'\n",
    "EVALUATION_DIR = '/data/analysis/ag-reils/ag-reils-shared/cardioRS/results/interpretability/resample_multiplicities/evaluation'\n",
    "\n",
    "def col2numpy(df, colname):\n",
    "    \"\"\"\n",
    "    convert a dataframe column to a numpy array\n",
    "    :param df: dataframe\n",
    "    :param colname: column name to convert to numpy array\n",
    "    :return:\n",
    "    \"\"\"\n",
    "    vals = df.loc[:, colname].values.tolist()\n",
    "    vals_numpy = np.array([np.array(eval(row)) for row in vals])\n",
    "    return vals_numpy"
   ],
   "metadata": {
    "collapsed": false,
    "pycharm": {
     "name": "#%%\n"
    }
   }
  },
  {
   "cell_type": "code",
   "execution_count": 4,
   "outputs": [],
   "source": [
    "experiment_id = 'simpsons'"
   ],
   "metadata": {
    "collapsed": false,
    "pycharm": {
     "name": "#%%\n"
    }
   }
  },
  {
   "cell_type": "code",
   "execution_count": null,
   "outputs": [],
   "source": [
    "method = 'FeaturePermutation'\n",
    "xdf_fp = pd.read_csv(f'{EVALUATION_DIR}/{experiment_id}/FullMeanError_x_{method}.csv', index_col=0)\n",
    "ydf_fp = pd.read_csv(f'{EVALUATION_DIR}/{experiment_id}/FullMeanError_y_{method}.csv', index_col=0)\n",
    "for df in [xdf_fp, ydf_fp]:\n",
    "    df.loc[:, 'attribution_method'] = method"
   ],
   "metadata": {
    "collapsed": false,
    "pycharm": {
     "name": "#%%\n"
    }
   }
  },
  {
   "cell_type": "code",
   "execution_count": null,
   "outputs": [],
   "source": [
    "methods = ['FeatureAblation',\n",
    "           'FeaturePermutation',\n",
    "           'IntegratedGradients',\n",
    "           'Lime',\n",
    "           'KernelExplainer',\n",
    "           'DeepExplainer']"
   ],
   "metadata": {
    "collapsed": false,
    "pycharm": {
     "name": "#%%\n"
    }
   }
  },
  {
   "cell_type": "code",
   "execution_count": null,
   "outputs": [],
   "source": [
    "len(methods)"
   ],
   "metadata": {
    "collapsed": false,
    "pycharm": {
     "name": "#%%\n"
    }
   }
  },
  {
   "cell_type": "code",
   "execution_count": null,
   "outputs": [],
   "source": [
    "experiment_id = 'p0.75'\n",
    "dfs = []\n",
    "\n",
    "for method in methods:\n",
    "    xdata = pd.read_csv(f'{EVALUATION_DIR}/{experiment_id}/FullMeanError_x_{method}.csv', index_col=0)\n",
    "    absolute_error = col2numpy(xdata, 'absolute_error').flatten().tolist()\n",
    "    median_absolute_error = col2numpy(xdata, 'median_absolute_error').flatten().tolist()\n",
    "    squared_error = col2numpy(xdata, 'squared_error').flatten().tolist()\n",
    "    median_squared_error = col2numpy(xdata, 'median_squared_error').flatten().tolist()\n",
    "    df = pd.DataFrame(dict(abs_error = absolute_error, median_abs_error=median_absolute_error, squared_error=squared_error, median_squared_error=median_squared_error))\n",
    "    df.loc[:, 'attribution_method'] = method\n",
    "    df.loc[:, 'modified_attribute'] = 'noise_x'\n",
    "    dfs.append(df)\n",
    "\n",
    "    ydata = pd.read_csv(f'{EVALUATION_DIR}/{experiment_id}/FullMeanError_y_{method}.csv', index_col=0)\n",
    "    absolute_error = col2numpy(ydata, 'absolute_error').flatten().tolist()\n",
    "    median_absolute_error = col2numpy(ydata, 'median_absolute_error').flatten().tolist()\n",
    "    squared_error = col2numpy(ydata, 'squared_error').flatten().tolist()\n",
    "    median_squared_error = col2numpy(ydata, 'median_squared_error').flatten().tolist()\n",
    "    df = pd.DataFrame(dict(abs_error = absolute_error, median_abs_error=median_absolute_error, squared_error=squared_error, median_squared_error=median_squared_error))\n",
    "    df.loc[:, 'attribution_method'] = method\n",
    "    df.loc[:, 'modified_attribute'] = 'noise_y'\n",
    "    dfs.append(df)\n",
    "\n",
    "df = dfs[0]\n",
    "dfs.pop(0)\n",
    "full_df = df.append(dfs, ignore_index=True)"
   ],
   "metadata": {
    "collapsed": false,
    "pycharm": {
     "name": "#%%\n"
    }
   }
  },
  {
   "cell_type": "code",
   "execution_count": 163,
   "outputs": [
    {
     "data": {
      "text/plain": "         abs_error  median_abs_error  squared_error  median_squared_error  \\\n0         0.060589          0.393133       0.003671              0.154553   \n1         0.079855          0.435194       0.006377              0.189394   \n2         0.004367          0.036846       0.000019              0.001358   \n3         0.070910          0.431774       0.005028              0.186429   \n4         0.058443          0.381950       0.003416              0.145886   \n...            ...               ...            ...                   ...   \n3454195   0.212149          0.725996       0.045007              0.045007   \n3454196   0.228355          0.831473       0.052146              0.052146   \n3454197   0.297294          1.057357       0.088384              0.088384   \n3454198   0.298171          0.976447       0.088906              0.088906   \n3454199   0.295152          0.856393       0.087115              0.087115   \n\n        attribution_method modified_attribute  \n0          FeatureAblation            noise_x  \n1          FeatureAblation            noise_x  \n2          FeatureAblation            noise_x  \n3          FeatureAblation            noise_x  \n4          FeatureAblation            noise_x  \n...                    ...                ...  \n3454195      DeepExplainer            noise_y  \n3454196      DeepExplainer            noise_y  \n3454197      DeepExplainer            noise_y  \n3454198      DeepExplainer            noise_y  \n3454199      DeepExplainer            noise_y  \n\n[3454200 rows x 6 columns]",
      "text/html": "<div>\n<style scoped>\n    .dataframe tbody tr th:only-of-type {\n        vertical-align: middle;\n    }\n\n    .dataframe tbody tr th {\n        vertical-align: top;\n    }\n\n    .dataframe thead th {\n        text-align: right;\n    }\n</style>\n<table border=\"1\" class=\"dataframe\">\n  <thead>\n    <tr style=\"text-align: right;\">\n      <th></th>\n      <th>abs_error</th>\n      <th>median_abs_error</th>\n      <th>squared_error</th>\n      <th>median_squared_error</th>\n      <th>attribution_method</th>\n      <th>modified_attribute</th>\n    </tr>\n  </thead>\n  <tbody>\n    <tr>\n      <th>0</th>\n      <td>0.060589</td>\n      <td>0.393133</td>\n      <td>0.003671</td>\n      <td>0.154553</td>\n      <td>FeatureAblation</td>\n      <td>noise_x</td>\n    </tr>\n    <tr>\n      <th>1</th>\n      <td>0.079855</td>\n      <td>0.435194</td>\n      <td>0.006377</td>\n      <td>0.189394</td>\n      <td>FeatureAblation</td>\n      <td>noise_x</td>\n    </tr>\n    <tr>\n      <th>2</th>\n      <td>0.004367</td>\n      <td>0.036846</td>\n      <td>0.000019</td>\n      <td>0.001358</td>\n      <td>FeatureAblation</td>\n      <td>noise_x</td>\n    </tr>\n    <tr>\n      <th>3</th>\n      <td>0.070910</td>\n      <td>0.431774</td>\n      <td>0.005028</td>\n      <td>0.186429</td>\n      <td>FeatureAblation</td>\n      <td>noise_x</td>\n    </tr>\n    <tr>\n      <th>4</th>\n      <td>0.058443</td>\n      <td>0.381950</td>\n      <td>0.003416</td>\n      <td>0.145886</td>\n      <td>FeatureAblation</td>\n      <td>noise_x</td>\n    </tr>\n    <tr>\n      <th>...</th>\n      <td>...</td>\n      <td>...</td>\n      <td>...</td>\n      <td>...</td>\n      <td>...</td>\n      <td>...</td>\n    </tr>\n    <tr>\n      <th>3454195</th>\n      <td>0.212149</td>\n      <td>0.725996</td>\n      <td>0.045007</td>\n      <td>0.045007</td>\n      <td>DeepExplainer</td>\n      <td>noise_y</td>\n    </tr>\n    <tr>\n      <th>3454196</th>\n      <td>0.228355</td>\n      <td>0.831473</td>\n      <td>0.052146</td>\n      <td>0.052146</td>\n      <td>DeepExplainer</td>\n      <td>noise_y</td>\n    </tr>\n    <tr>\n      <th>3454197</th>\n      <td>0.297294</td>\n      <td>1.057357</td>\n      <td>0.088384</td>\n      <td>0.088384</td>\n      <td>DeepExplainer</td>\n      <td>noise_y</td>\n    </tr>\n    <tr>\n      <th>3454198</th>\n      <td>0.298171</td>\n      <td>0.976447</td>\n      <td>0.088906</td>\n      <td>0.088906</td>\n      <td>DeepExplainer</td>\n      <td>noise_y</td>\n    </tr>\n    <tr>\n      <th>3454199</th>\n      <td>0.295152</td>\n      <td>0.856393</td>\n      <td>0.087115</td>\n      <td>0.087115</td>\n      <td>DeepExplainer</td>\n      <td>noise_y</td>\n    </tr>\n  </tbody>\n</table>\n<p>3454200 rows × 6 columns</p>\n</div>"
     },
     "execution_count": 163,
     "metadata": {},
     "output_type": "execute_result"
    }
   ],
   "source": [
    "full_df"
   ],
   "metadata": {
    "collapsed": false,
    "pycharm": {
     "name": "#%%\n"
    }
   }
  },
  {
   "cell_type": "code",
   "execution_count": 165,
   "outputs": [
    {
     "data": {
      "text/plain": "Text(0.5, 0.98, 'p0.75')"
     },
     "execution_count": 165,
     "metadata": {},
     "output_type": "execute_result"
    },
    {
     "data": {
      "text/plain": "<Figure size 1440x720 with 1 Axes>",
      "image/png": "[encoded data removed]"
     },
     "metadata": {},
     "output_type": "display_data"
    }
   ],
   "source": [
    "sns.set(rc={'figure.figsize':(20,10)})\n",
    "sns.violinplot(data=full_df,\n",
    "               x='attribution_method',\n",
    "               y='abs_error',\n",
    "               gridsize=100,\n",
    "               split=True,\n",
    "               scale='count',\n",
    "               cut=-1,\n",
    "               hue='modified_attribute',\n",
    "               inner='quartile',\n",
    "               palette='crest')\n",
    "plt.suptitle(experiment_id)"
   ],
   "metadata": {
    "collapsed": false,
    "pycharm": {
     "name": "#%%\n"
    }
   }
  },
  {
   "cell_type": "code",
   "execution_count": 5,
   "outputs": [],
   "source": [
    "import seaborn as sns\n",
    "import matplotlib.pyplot as plt"
   ],
   "metadata": {
    "collapsed": false,
    "pycharm": {
     "name": "#%%\n"
    }
   }
  },
  {
   "cell_type": "code",
   "execution_count": null,
   "outputs": [],
   "source": [
    "import joypy"
   ],
   "metadata": {
    "collapsed": false,
    "pycharm": {
     "name": "#%%\n"
    }
   }
  },
  {
   "cell_type": "code",
   "execution_count": null,
   "outputs": [],
   "source": [
    "labels = [x for x in list(full_df.attribution_method.unique())]"
   ],
   "metadata": {
    "collapsed": false,
    "pycharm": {
     "name": "#%%\n"
    }
   }
  },
  {
   "cell_type": "code",
   "execution_count": null,
   "outputs": [],
   "source": [
    "labels"
   ],
   "metadata": {
    "collapsed": false,
    "pycharm": {
     "name": "#%%\n"
    }
   }
  },
  {
   "cell_type": "code",
   "execution_count": null,
   "outputs": [],
   "source": [
    "full_df"
   ],
   "metadata": {
    "collapsed": false,
    "pycharm": {
     "name": "#%%\n"
    }
   }
  },
  {
   "cell_type": "code",
   "execution_count": null,
   "outputs": [],
   "source": [
    "g = sns.displot(\n",
    "    data=full_df, y=\"median_abs_error\", col=\"attribution_method\",\n",
    "    kind=\"kde\", height=4, aspect=.7,\n",
    ")"
   ],
   "metadata": {
    "collapsed": false,
    "pycharm": {
     "name": "#%%\n"
    }
   }
  },
  {
   "cell_type": "code",
   "execution_count": null,
   "outputs": [],
   "source": [
    "full_df"
   ],
   "metadata": {
    "collapsed": false,
    "pycharm": {
     "name": "#%%\n"
    }
   }
  },
  {
   "cell_type": "code",
   "execution_count": null,
   "outputs": [],
   "source": [
    "np.square(-0.8345182571778358)"
   ],
   "metadata": {
    "collapsed": false,
    "pycharm": {
     "name": "#%%\n"
    }
   }
  },
  {
   "cell_type": "code",
   "execution_count": null,
   "outputs": [],
   "source": [
    "np.log10(0.14638)"
   ],
   "metadata": {
    "collapsed": false,
    "pycharm": {
     "name": "#%%\n"
    }
   }
  },
  {
   "cell_type": "code",
   "execution_count": null,
   "outputs": [],
   "source": [
    "full_df.loc[:, 'log10_abs'] = np.log10(full_df.abs_error)"
   ],
   "metadata": {
    "collapsed": false,
    "pycharm": {
     "name": "#%%\n"
    }
   }
  },
  {
   "cell_type": "code",
   "execution_count": null,
   "outputs": [],
   "source": [
    "full_df"
   ],
   "metadata": {
    "collapsed": false,
    "pycharm": {
     "name": "#%%\n"
    }
   }
  },
  {
   "cell_type": "code",
   "execution_count": null,
   "outputs": [],
   "source": [
    "sns.set(rc={'figure.figsize':(20,10)})\n",
    "sns.violinplot(data=full_df,\n",
    "               x='attribution_method',\n",
    "               y='squared_error',\n",
    "               gridsize=100,\n",
    "               split=True,\n",
    "               scale='count',\n",
    "               cut=-1,\n",
    "               hue='modified_attribute',\n",
    "               inner='quartile',\n",
    "               palette='crest')\n",
    "plt.suptitle(experiment_id)"
   ],
   "metadata": {
    "collapsed": false,
    "pycharm": {
     "name": "#%%\n"
    }
   }
  },
  {
   "cell_type": "code",
   "execution_count": 170,
   "outputs": [],
   "source": [
    "x = np.zeros((10, 100))"
   ],
   "metadata": {
    "collapsed": false,
    "pycharm": {
     "name": "#%%\n"
    }
   }
  },
  {
   "cell_type": "code",
   "execution_count": 171,
   "outputs": [
    {
     "data": {
      "text/plain": "(10, 100)"
     },
     "execution_count": 171,
     "metadata": {},
     "output_type": "execute_result"
    }
   ],
   "source": [
    "x.shape"
   ],
   "metadata": {
    "collapsed": false,
    "pycharm": {
     "name": "#%%\n"
    }
   }
  },
  {
   "cell_type": "code",
   "execution_count": 177,
   "outputs": [],
   "source": [
    "b = np.random.normal(size=x.shape)"
   ],
   "metadata": {
    "collapsed": false,
    "pycharm": {
     "name": "#%%\n"
    }
   }
  },
  {
   "cell_type": "code",
   "execution_count": 166,
   "outputs": [
    {
     "data": {
      "text/plain": "<AxesSubplot:xlabel='median_abs_error', ylabel='Density'>"
     },
     "execution_count": 166,
     "metadata": {},
     "output_type": "execute_result"
    },
    {
     "data": {
      "text/plain": "<Figure size 2880x720 with 1 Axes>",
      "image/png": "[encoded data removed]"
     },
     "metadata": {},
     "output_type": "display_data"
    }
   ],
   "source": [
    "sns.set(rc={'figure.figsize':(40,10)})\n",
    "sns.kdeplot(\n",
    "    data=full_df, x=\"median_abs_error\", hue=\"attribution_method\",\n",
    "    fill=True, common_norm=True, palette=\"crest\",\n",
    "    alpha=.25, log_scale=10,\n",
    ")"
   ],
   "metadata": {
    "collapsed": false,
    "pycharm": {
     "name": "#%%\n"
    }
   }
  },
  {
   "cell_type": "code",
   "execution_count": 6,
   "outputs": [],
   "source": [
    "import sys\n",
    "sys.path.append('/home/ruyogagp/medical_interpretability')\n",
    "import numpy as np\n",
    "import networkx as nx\n",
    "import matplotlib.pyplot as plt\n",
    "from cga import cga\n",
    "import pandas as pd\n",
    "import neptune.new as neptune\n",
    "import wandb\n",
    "import pytorch_lightning as pl\n",
    "import torch.nn as nn\n",
    "import torch\n",
    "from sklearn.preprocessing import StandardScaler, MinMaxScaler\n",
    "from source.tasks import DeepSurv\n",
    "\n",
    "from captum.attr import *\n",
    "from captum.metrics import *\n",
    "from captum._utils.models.linear_model import SkLearnLinearRegression\n",
    "from source.wrappers import ForwardWrapper\n",
    "import os\n",
    "import seaborn as sns"
   ],
   "metadata": {
    "collapsed": false,
    "pycharm": {
     "name": "#%%\n"
    }
   }
  },
  {
   "cell_type": "code",
   "execution_count": 8,
   "outputs": [],
   "source": [
    "# TODO: this works if the second tag is the experiment identifier\n",
    "def load_details(run):\n",
    "    dir = '/data/analysis/ag-reils/ag-reils-shared/cardioRS/data/interpretability/resample_multiplicities'\n",
    "    try:\n",
    "        path = f'{dir}/{run.tags[0]}_attribute_details.csv'\n",
    "        details_df = pd.read_csv(path)\n",
    "    except FileNotFoundError:\n",
    "        path = f'{dir}/{run.tags[1]}_attribute_details.csv'\n",
    "        details_df = pd.read_csv(path)\n",
    "    print(f'reading {path}')\n",
    "    return details_df, path\n",
    "\n",
    "def output_diff(model, orig_features, resampled_features):\n",
    "    orig_output, *_ = model(orig_features)\n",
    "    resampled_output, *_ = model(resampled_features)\n",
    "    with torch.no_grad():\n",
    "        diff = torch.sub(orig_output, resampled_output)\n",
    "    return diff.detach().numpy()\n",
    "\n",
    "# CREATE TUPLES FOR MODEL DIFF\n",
    "\n",
    "def col2numpy(df, colname):\n",
    "    \"\"\"\n",
    "    convert a dataframe column to a numpy array\n",
    "    :param df: dataframe\n",
    "    :param colname: column name to convert to numpy array\n",
    "    :return:\n",
    "    \"\"\"\n",
    "    vals = df.loc[:, colname].values.tolist()\n",
    "    vals_numpy = np.array([np.array(eval(row)) for row in vals])\n",
    "    return vals_numpy\n",
    "\n",
    "def clip_norm2d(array, tail):\n",
    "    \"\"\"\n",
    "    clips and normalizes the array to the range of [-1, 1]\n",
    "    :param array: array to be normalized\n",
    "    :return: normalized array\n",
    "    \"\"\"\n",
    "    array_norm = np.zeros((array.shape))\n",
    "    c_array = np.zeros((array.shape))\n",
    "    for i in range(array.shape[0]):\n",
    "        column = array[i, :]\n",
    "        outliers = np.percentile(column, [tail, 100-tail])\n",
    "        clipped_array = np.clip(column, *outliers)\n",
    "        col_norm = clipped_array / abs(clipped_array).max()\n",
    "        #TODO: !!!!!FIX THIS!!!!\n",
    "        array_norm[i, :] = col_norm\n",
    "        c_array[i, :] = clipped_array\n",
    "    return  array_norm, c_array\n",
    "\n",
    "def clip_norm1d(array, tail):\n",
    "    \"\"\"\n",
    "    clips and normalizes the array to the range of [-1, 1]\n",
    "    :param array:  array to be normalized\n",
    "    :return: normalized array\n",
    "    \"\"\"\n",
    "    outliers = np.percentile(array, [tail, 100-tail])\n",
    "    clipped_array = np.clip(array, *outliers)\n",
    "    array_norm = clipped_array / abs(clipped_array).max()\n",
    "    return array_norm, clipped_array\n",
    "\n",
    "def load_attributions(run, method, n_features=5):\n",
    "    attribution_list = [np.genfromtxt(run.config[f'{method}_feature{idx}_path'], delimiter=',') for idx in range(n_features)]\n",
    "    return attribution_list\n",
    "\n",
    "def reject_outliers(data, m = 150.0):\n",
    "    d = np.abs(data - np.median(data))\n",
    "    mdev = np.median(d)\n",
    "    s = d/mdev if mdev else 0.\n",
    "    max = data[s<m].max()\n",
    "    min = data[s<m].min()\n",
    "    out = np.where(s<m, data, np.where(data>0, max, min))\n",
    "    return out\n",
    "\n",
    "def clip2d(array):\n",
    "    clipped_array = np.zeros((array.shape))\n",
    "    for i in range(array.shape[0]):\n",
    "        clipped_array[i, :] = reject_outliers(array[i, :])\n",
    "    return clipped_array"
   ],
   "metadata": {
    "collapsed": false,
    "pycharm": {
     "name": "#%%\n"
    }
   }
  },
  {
   "cell_type": "code",
   "execution_count": 10,
   "outputs": [],
   "source": [
    "def calculate_change_slope(experiment_id, n_features=5):\n",
    "    \"\"\"\n",
    "    Calculates change slope for each run\n",
    "    :param experiment_id: experiment identifier\n",
    "    :return: None -> saves the change slope per run\n",
    "    \"\"\"\n",
    "    api = wandb.Api()\n",
    "    runs =  api.runs('cardiors/interpretability',\n",
    "                     filters={\"$and\": [{'tags': f'{experiment_id}'}, {'tags': 'resample_multiplicities'}, {'state': 'finished'}]})\n",
    "    print(len(runs))\n",
    "    for run in runs:\n",
    "        for idx in range(n_features):\n",
    "            resampling_df = pd.read_csv(f'/data/analysis/ag-reils/ag-reils-shared/cardioRS/data/interpretability/resample_multiplicities/{experiment_id}_resampling_feature{idx}.csv', index_col=0)\n",
    "            print(f'read /data/analysis/ag-reils/ag-reils-shared/cardioRS/data/interpretability/resample_multiplicities/{experiment_id}_resampling_feature{idx}.csv')\n",
    "            intervention_df = pd.read_csv(f'/data/analysis/ag-reils/ag-reils-shared/cardioRS/data/interpretability/resample_multiplicities/{experiment_id}_attribute_details.csv')\n",
    "            intervention_df = intervention_df[intervention_df['modified_attribute']==f'noise{idx}']\n",
    "            model = DeepSurv.load_from_checkpoint(run.config['checkpoint_path'])\n",
    "\n",
    "            # create orig and resampling tensors\n",
    "            orig_features = [f'feature{idx}_orig' for idx in range(n_features)]\n",
    "            orig_tensor = torch.Tensor(resampling_df[orig_features].to_numpy(dtype='float64'))\n",
    "            resamp_tensors = []\n",
    "            resamp_vals = col2numpy(resampling_df, f'feature{idx}_resampling')\n",
    "            for i_intervention in range(100):\n",
    "                resamp_features = [f'feature{n}_intervention{i_intervention}' for n in range(n_features)]\n",
    "                resamp_tensors.append(torch.Tensor(intervention_df.loc[:, resamp_features].to_numpy(dtype='float64')))\n",
    "\n",
    "            # calculate model outputs\n",
    "            orig_output = model(orig_tensor)[0].detach().numpy()\n",
    "            resamp_outputs = None\n",
    "            for i in range(resamp_vals.shape[1]):\n",
    "                resamp_output = model(resamp_tensors[i])[0].detach().numpy()\n",
    "                resamp_outputs = resamp_output if resamp_outputs is None else np.concatenate((resamp_outputs, resamp_output), axis=1)\n",
    "\n",
    "\n",
    "            # calculate change_slope\n",
    "            model_diff = np.subtract(orig_output, resamp_outputs)\n",
    "            resampling_diff = col2numpy(resampling_df, 'resampling_diff')\n",
    "            change_slope = np.true_divide(model_diff, resampling_diff)\n",
    "            clipped_mean_cs = np.mean(clip2d(change_slope), axis=1)\n",
    "            mean_cs = np.mean(change_slope, axis=1)\n",
    "            median_cs = np.median(change_slope, axis=1)\n",
    "\n",
    "\n",
    "            # save values in dataframe\n",
    "            resampling_df.loc[:, 'model_diff'] = model_diff.tolist()\n",
    "            resampling_df.loc[:, 'change_slope'] = change_slope.tolist()\n",
    "            resampling_df.loc[:, 'mean_cs'] = mean_cs\n",
    "            resampling_df.loc[:, 'clipped_mean_cs'] = clipped_mean_cs\n",
    "            resampling_df.loc[:, 'median_cs'] = median_cs\n",
    "            methods = ['FeatureAblation',\n",
    "                       'FeaturePermutation',\n",
    "                       'IntegratedGradients',\n",
    "                       'Lime',\n",
    "                       'KernelExplainer',\n",
    "                       'DeepExplainer',\n",
    "                       'ShapleyValueSampling']\n",
    "\n",
    "\n",
    "            for method in methods:\n",
    "                attribution_list = load_attributions(run, method, n_features=n_features)\n",
    "                resampling_df.loc[:, f'{method}_feature{idx}'] = attribution_list[idx].tolist()\n",
    "\n",
    "            # Save dataframes\n",
    "            EVALUATION_DIR = '/data/analysis/ag-reils/ag-reils-shared/cardioRS/results/interpretability/resample_multiplicities/evaluation'\n",
    "            if not os.path.exists(f'{EVALUATION_DIR}/{experiment_id}'):\n",
    "                os.mkdir(f'{EVALUATION_DIR}/{experiment_id}')\n",
    "\n",
    "            if not os.path.exists(f'{EVALUATION_DIR}/{experiment_id}/change_slope'):\n",
    "                os.mkdir(f'{EVALUATION_DIR}/{experiment_id}/change_slope')\n",
    "\n",
    "            # bit sus but it works\n",
    "            seed = int(run.config['Lime_feature0_path'].split('_')[-1][:-4])\n",
    "\n",
    "            resampling_df.to_csv(f'{EVALUATION_DIR}/{experiment_id}/change_slope/feature{idx}_{seed}.csv')\n",
    "            print(f'Wrote {EVALUATION_DIR}/{experiment_id}/change_slope/feature{idx}_{seed}.csv')"
   ],
   "metadata": {
    "collapsed": false,
    "pycharm": {
     "name": "#%%\n"
    }
   }
  },
  {
   "cell_type": "code",
   "execution_count": 11,
   "outputs": [
    {
     "name": "stdout",
     "output_type": "stream",
     "text": [
      "12\n",
      "read /data/analysis/ag-reils/ag-reils-shared/cardioRS/data/interpretability/resample_multiplicities/linear_decreasing_2_resampling_feature0.csv\n",
      "Wrote /data/analysis/ag-reils/ag-reils-shared/cardioRS/results/interpretability/resample_multiplicities/evaluation/linear_decreasing_2/change_slope/feature0_266.csv\n",
      "read /data/analysis/ag-reils/ag-reils-shared/cardioRS/data/interpretability/resample_multiplicities/linear_decreasing_2_resampling_feature1.csv\n",
      "Wrote /data/analysis/ag-reils/ag-reils-shared/cardioRS/results/interpretability/resample_multiplicities/evaluation/linear_decreasing_2/change_slope/feature1_266.csv\n",
      "read /data/analysis/ag-reils/ag-reils-shared/cardioRS/data/interpretability/resample_multiplicities/linear_decreasing_2_resampling_feature2.csv\n",
      "Wrote /data/analysis/ag-reils/ag-reils-shared/cardioRS/results/interpretability/resample_multiplicities/evaluation/linear_decreasing_2/change_slope/feature2_266.csv\n",
      "read /data/analysis/ag-reils/ag-reils-shared/cardioRS/data/interpretability/resample_multiplicities/linear_decreasing_2_resampling_feature3.csv\n",
      "Wrote /data/analysis/ag-reils/ag-reils-shared/cardioRS/results/interpretability/resample_multiplicities/evaluation/linear_decreasing_2/change_slope/feature3_266.csv\n",
      "read /data/analysis/ag-reils/ag-reils-shared/cardioRS/data/interpretability/resample_multiplicities/linear_decreasing_2_resampling_feature4.csv\n",
      "Wrote /data/analysis/ag-reils/ag-reils-shared/cardioRS/results/interpretability/resample_multiplicities/evaluation/linear_decreasing_2/change_slope/feature4_266.csv\n",
      "read /data/analysis/ag-reils/ag-reils-shared/cardioRS/data/interpretability/resample_multiplicities/linear_decreasing_2_resampling_feature0.csv\n",
      "Wrote /data/analysis/ag-reils/ag-reils-shared/cardioRS/results/interpretability/resample_multiplicities/evaluation/linear_decreasing_2/change_slope/feature0_255.csv\n",
      "read /data/analysis/ag-reils/ag-reils-shared/cardioRS/data/interpretability/resample_multiplicities/linear_decreasing_2_resampling_feature1.csv\n",
      "Wrote /data/analysis/ag-reils/ag-reils-shared/cardioRS/results/interpretability/resample_multiplicities/evaluation/linear_decreasing_2/change_slope/feature1_255.csv\n",
      "read /data/analysis/ag-reils/ag-reils-shared/cardioRS/data/interpretability/resample_multiplicities/linear_decreasing_2_resampling_feature2.csv\n",
      "Wrote /data/analysis/ag-reils/ag-reils-shared/cardioRS/results/interpretability/resample_multiplicities/evaluation/linear_decreasing_2/change_slope/feature2_255.csv\n",
      "read /data/analysis/ag-reils/ag-reils-shared/cardioRS/data/interpretability/resample_multiplicities/linear_decreasing_2_resampling_feature3.csv\n",
      "Wrote /data/analysis/ag-reils/ag-reils-shared/cardioRS/results/interpretability/resample_multiplicities/evaluation/linear_decreasing_2/change_slope/feature3_255.csv\n",
      "read /data/analysis/ag-reils/ag-reils-shared/cardioRS/data/interpretability/resample_multiplicities/linear_decreasing_2_resampling_feature4.csv\n",
      "Wrote /data/analysis/ag-reils/ag-reils-shared/cardioRS/results/interpretability/resample_multiplicities/evaluation/linear_decreasing_2/change_slope/feature4_255.csv\n",
      "read /data/analysis/ag-reils/ag-reils-shared/cardioRS/data/interpretability/resample_multiplicities/linear_decreasing_2_resampling_feature0.csv\n",
      "Wrote /data/analysis/ag-reils/ag-reils-shared/cardioRS/results/interpretability/resample_multiplicities/evaluation/linear_decreasing_2/change_slope/feature0_245.csv\n",
      "read /data/analysis/ag-reils/ag-reils-shared/cardioRS/data/interpretability/resample_multiplicities/linear_decreasing_2_resampling_feature1.csv\n",
      "Wrote /data/analysis/ag-reils/ag-reils-shared/cardioRS/results/interpretability/resample_multiplicities/evaluation/linear_decreasing_2/change_slope/feature1_245.csv\n",
      "read /data/analysis/ag-reils/ag-reils-shared/cardioRS/data/interpretability/resample_multiplicities/linear_decreasing_2_resampling_feature2.csv\n",
      "Wrote /data/analysis/ag-reils/ag-reils-shared/cardioRS/results/interpretability/resample_multiplicities/evaluation/linear_decreasing_2/change_slope/feature2_245.csv\n",
      "read /data/analysis/ag-reils/ag-reils-shared/cardioRS/data/interpretability/resample_multiplicities/linear_decreasing_2_resampling_feature3.csv\n",
      "Wrote /data/analysis/ag-reils/ag-reils-shared/cardioRS/results/interpretability/resample_multiplicities/evaluation/linear_decreasing_2/change_slope/feature3_245.csv\n",
      "read /data/analysis/ag-reils/ag-reils-shared/cardioRS/data/interpretability/resample_multiplicities/linear_decreasing_2_resampling_feature4.csv\n",
      "Wrote /data/analysis/ag-reils/ag-reils-shared/cardioRS/results/interpretability/resample_multiplicities/evaluation/linear_decreasing_2/change_slope/feature4_245.csv\n",
      "read /data/analysis/ag-reils/ag-reils-shared/cardioRS/data/interpretability/resample_multiplicities/linear_decreasing_2_resampling_feature0.csv\n",
      "Wrote /data/analysis/ag-reils/ag-reils-shared/cardioRS/results/interpretability/resample_multiplicities/evaluation/linear_decreasing_2/change_slope/feature0_236.csv\n",
      "read /data/analysis/ag-reils/ag-reils-shared/cardioRS/data/interpretability/resample_multiplicities/linear_decreasing_2_resampling_feature1.csv\n",
      "Wrote /data/analysis/ag-reils/ag-reils-shared/cardioRS/results/interpretability/resample_multiplicities/evaluation/linear_decreasing_2/change_slope/feature1_236.csv\n",
      "read /data/analysis/ag-reils/ag-reils-shared/cardioRS/data/interpretability/resample_multiplicities/linear_decreasing_2_resampling_feature2.csv\n",
      "Wrote /data/analysis/ag-reils/ag-reils-shared/cardioRS/results/interpretability/resample_multiplicities/evaluation/linear_decreasing_2/change_slope/feature2_236.csv\n",
      "read /data/analysis/ag-reils/ag-reils-shared/cardioRS/data/interpretability/resample_multiplicities/linear_decreasing_2_resampling_feature3.csv\n",
      "Wrote /data/analysis/ag-reils/ag-reils-shared/cardioRS/results/interpretability/resample_multiplicities/evaluation/linear_decreasing_2/change_slope/feature3_236.csv\n",
      "read /data/analysis/ag-reils/ag-reils-shared/cardioRS/data/interpretability/resample_multiplicities/linear_decreasing_2_resampling_feature4.csv\n",
      "Wrote /data/analysis/ag-reils/ag-reils-shared/cardioRS/results/interpretability/resample_multiplicities/evaluation/linear_decreasing_2/change_slope/feature4_236.csv\n",
      "read /data/analysis/ag-reils/ag-reils-shared/cardioRS/data/interpretability/resample_multiplicities/linear_decreasing_2_resampling_feature0.csv\n",
      "Wrote /data/analysis/ag-reils/ag-reils-shared/cardioRS/results/interpretability/resample_multiplicities/evaluation/linear_decreasing_2/change_slope/feature0_228.csv\n",
      "read /data/analysis/ag-reils/ag-reils-shared/cardioRS/data/interpretability/resample_multiplicities/linear_decreasing_2_resampling_feature1.csv\n",
      "Wrote /data/analysis/ag-reils/ag-reils-shared/cardioRS/results/interpretability/resample_multiplicities/evaluation/linear_decreasing_2/change_slope/feature1_228.csv\n",
      "read /data/analysis/ag-reils/ag-reils-shared/cardioRS/data/interpretability/resample_multiplicities/linear_decreasing_2_resampling_feature2.csv\n",
      "Wrote /data/analysis/ag-reils/ag-reils-shared/cardioRS/results/interpretability/resample_multiplicities/evaluation/linear_decreasing_2/change_slope/feature2_228.csv\n",
      "read /data/analysis/ag-reils/ag-reils-shared/cardioRS/data/interpretability/resample_multiplicities/linear_decreasing_2_resampling_feature3.csv\n",
      "Wrote /data/analysis/ag-reils/ag-reils-shared/cardioRS/results/interpretability/resample_multiplicities/evaluation/linear_decreasing_2/change_slope/feature3_228.csv\n",
      "read /data/analysis/ag-reils/ag-reils-shared/cardioRS/data/interpretability/resample_multiplicities/linear_decreasing_2_resampling_feature4.csv\n",
      "Wrote /data/analysis/ag-reils/ag-reils-shared/cardioRS/results/interpretability/resample_multiplicities/evaluation/linear_decreasing_2/change_slope/feature4_228.csv\n",
      "read /data/analysis/ag-reils/ag-reils-shared/cardioRS/data/interpretability/resample_multiplicities/linear_decreasing_2_resampling_feature0.csv\n",
      "Wrote /data/analysis/ag-reils/ag-reils-shared/cardioRS/results/interpretability/resample_multiplicities/evaluation/linear_decreasing_2/change_slope/feature0_221.csv\n",
      "read /data/analysis/ag-reils/ag-reils-shared/cardioRS/data/interpretability/resample_multiplicities/linear_decreasing_2_resampling_feature1.csv\n",
      "Wrote /data/analysis/ag-reils/ag-reils-shared/cardioRS/results/interpretability/resample_multiplicities/evaluation/linear_decreasing_2/change_slope/feature1_221.csv\n",
      "read /data/analysis/ag-reils/ag-reils-shared/cardioRS/data/interpretability/resample_multiplicities/linear_decreasing_2_resampling_feature2.csv\n",
      "Wrote /data/analysis/ag-reils/ag-reils-shared/cardioRS/results/interpretability/resample_multiplicities/evaluation/linear_decreasing_2/change_slope/feature2_221.csv\n",
      "read /data/analysis/ag-reils/ag-reils-shared/cardioRS/data/interpretability/resample_multiplicities/linear_decreasing_2_resampling_feature3.csv\n",
      "Wrote /data/analysis/ag-reils/ag-reils-shared/cardioRS/results/interpretability/resample_multiplicities/evaluation/linear_decreasing_2/change_slope/feature3_221.csv\n",
      "read /data/analysis/ag-reils/ag-reils-shared/cardioRS/data/interpretability/resample_multiplicities/linear_decreasing_2_resampling_feature4.csv\n",
      "Wrote /data/analysis/ag-reils/ag-reils-shared/cardioRS/results/interpretability/resample_multiplicities/evaluation/linear_decreasing_2/change_slope/feature4_221.csv\n",
      "read /data/analysis/ag-reils/ag-reils-shared/cardioRS/data/interpretability/resample_multiplicities/linear_decreasing_2_resampling_feature0.csv\n",
      "Wrote /data/analysis/ag-reils/ag-reils-shared/cardioRS/results/interpretability/resample_multiplicities/evaluation/linear_decreasing_2/change_slope/feature0_215.csv\n",
      "read /data/analysis/ag-reils/ag-reils-shared/cardioRS/data/interpretability/resample_multiplicities/linear_decreasing_2_resampling_feature1.csv\n",
      "Wrote /data/analysis/ag-reils/ag-reils-shared/cardioRS/results/interpretability/resample_multiplicities/evaluation/linear_decreasing_2/change_slope/feature1_215.csv\n",
      "read /data/analysis/ag-reils/ag-reils-shared/cardioRS/data/interpretability/resample_multiplicities/linear_decreasing_2_resampling_feature2.csv\n",
      "Wrote /data/analysis/ag-reils/ag-reils-shared/cardioRS/results/interpretability/resample_multiplicities/evaluation/linear_decreasing_2/change_slope/feature2_215.csv\n",
      "read /data/analysis/ag-reils/ag-reils-shared/cardioRS/data/interpretability/resample_multiplicities/linear_decreasing_2_resampling_feature3.csv\n",
      "Wrote /data/analysis/ag-reils/ag-reils-shared/cardioRS/results/interpretability/resample_multiplicities/evaluation/linear_decreasing_2/change_slope/feature3_215.csv\n",
      "read /data/analysis/ag-reils/ag-reils-shared/cardioRS/data/interpretability/resample_multiplicities/linear_decreasing_2_resampling_feature4.csv\n",
      "Wrote /data/analysis/ag-reils/ag-reils-shared/cardioRS/results/interpretability/resample_multiplicities/evaluation/linear_decreasing_2/change_slope/feature4_215.csv\n",
      "read /data/analysis/ag-reils/ag-reils-shared/cardioRS/data/interpretability/resample_multiplicities/linear_decreasing_2_resampling_feature0.csv\n",
      "Wrote /data/analysis/ag-reils/ag-reils-shared/cardioRS/results/interpretability/resample_multiplicities/evaluation/linear_decreasing_2/change_slope/feature0_210.csv\n",
      "read /data/analysis/ag-reils/ag-reils-shared/cardioRS/data/interpretability/resample_multiplicities/linear_decreasing_2_resampling_feature1.csv\n",
      "Wrote /data/analysis/ag-reils/ag-reils-shared/cardioRS/results/interpretability/resample_multiplicities/evaluation/linear_decreasing_2/change_slope/feature1_210.csv\n",
      "read /data/analysis/ag-reils/ag-reils-shared/cardioRS/data/interpretability/resample_multiplicities/linear_decreasing_2_resampling_feature2.csv\n",
      "Wrote /data/analysis/ag-reils/ag-reils-shared/cardioRS/results/interpretability/resample_multiplicities/evaluation/linear_decreasing_2/change_slope/feature2_210.csv\n",
      "read /data/analysis/ag-reils/ag-reils-shared/cardioRS/data/interpretability/resample_multiplicities/linear_decreasing_2_resampling_feature3.csv\n",
      "Wrote /data/analysis/ag-reils/ag-reils-shared/cardioRS/results/interpretability/resample_multiplicities/evaluation/linear_decreasing_2/change_slope/feature3_210.csv\n",
      "read /data/analysis/ag-reils/ag-reils-shared/cardioRS/data/interpretability/resample_multiplicities/linear_decreasing_2_resampling_feature4.csv\n",
      "Wrote /data/analysis/ag-reils/ag-reils-shared/cardioRS/results/interpretability/resample_multiplicities/evaluation/linear_decreasing_2/change_slope/feature4_210.csv\n",
      "read /data/analysis/ag-reils/ag-reils-shared/cardioRS/data/interpretability/resample_multiplicities/linear_decreasing_2_resampling_feature0.csv\n",
      "Wrote /data/analysis/ag-reils/ag-reils-shared/cardioRS/results/interpretability/resample_multiplicities/evaluation/linear_decreasing_2/change_slope/feature0_206.csv\n",
      "read /data/analysis/ag-reils/ag-reils-shared/cardioRS/data/interpretability/resample_multiplicities/linear_decreasing_2_resampling_feature1.csv\n",
      "Wrote /data/analysis/ag-reils/ag-reils-shared/cardioRS/results/interpretability/resample_multiplicities/evaluation/linear_decreasing_2/change_slope/feature1_206.csv\n",
      "read /data/analysis/ag-reils/ag-reils-shared/cardioRS/data/interpretability/resample_multiplicities/linear_decreasing_2_resampling_feature2.csv\n",
      "Wrote /data/analysis/ag-reils/ag-reils-shared/cardioRS/results/interpretability/resample_multiplicities/evaluation/linear_decreasing_2/change_slope/feature2_206.csv\n",
      "read /data/analysis/ag-reils/ag-reils-shared/cardioRS/data/interpretability/resample_multiplicities/linear_decreasing_2_resampling_feature3.csv\n",
      "Wrote /data/analysis/ag-reils/ag-reils-shared/cardioRS/results/interpretability/resample_multiplicities/evaluation/linear_decreasing_2/change_slope/feature3_206.csv\n",
      "read /data/analysis/ag-reils/ag-reils-shared/cardioRS/data/interpretability/resample_multiplicities/linear_decreasing_2_resampling_feature4.csv\n",
      "Wrote /data/analysis/ag-reils/ag-reils-shared/cardioRS/results/interpretability/resample_multiplicities/evaluation/linear_decreasing_2/change_slope/feature4_206.csv\n",
      "read /data/analysis/ag-reils/ag-reils-shared/cardioRS/data/interpretability/resample_multiplicities/linear_decreasing_2_resampling_feature0.csv\n",
      "Wrote /data/analysis/ag-reils/ag-reils-shared/cardioRS/results/interpretability/resample_multiplicities/evaluation/linear_decreasing_2/change_slope/feature0_203.csv\n",
      "read /data/analysis/ag-reils/ag-reils-shared/cardioRS/data/interpretability/resample_multiplicities/linear_decreasing_2_resampling_feature1.csv\n",
      "Wrote /data/analysis/ag-reils/ag-reils-shared/cardioRS/results/interpretability/resample_multiplicities/evaluation/linear_decreasing_2/change_slope/feature1_203.csv\n",
      "read /data/analysis/ag-reils/ag-reils-shared/cardioRS/data/interpretability/resample_multiplicities/linear_decreasing_2_resampling_feature2.csv\n",
      "Wrote /data/analysis/ag-reils/ag-reils-shared/cardioRS/results/interpretability/resample_multiplicities/evaluation/linear_decreasing_2/change_slope/feature2_203.csv\n",
      "read /data/analysis/ag-reils/ag-reils-shared/cardioRS/data/interpretability/resample_multiplicities/linear_decreasing_2_resampling_feature3.csv\n",
      "Wrote /data/analysis/ag-reils/ag-reils-shared/cardioRS/results/interpretability/resample_multiplicities/evaluation/linear_decreasing_2/change_slope/feature3_203.csv\n",
      "read /data/analysis/ag-reils/ag-reils-shared/cardioRS/data/interpretability/resample_multiplicities/linear_decreasing_2_resampling_feature4.csv\n",
      "Wrote /data/analysis/ag-reils/ag-reils-shared/cardioRS/results/interpretability/resample_multiplicities/evaluation/linear_decreasing_2/change_slope/feature4_203.csv\n",
      "read /data/analysis/ag-reils/ag-reils-shared/cardioRS/data/interpretability/resample_multiplicities/linear_decreasing_2_resampling_feature0.csv\n",
      "Wrote /data/analysis/ag-reils/ag-reils-shared/cardioRS/results/interpretability/resample_multiplicities/evaluation/linear_decreasing_2/change_slope/feature0_201.csv\n",
      "read /data/analysis/ag-reils/ag-reils-shared/cardioRS/data/interpretability/resample_multiplicities/linear_decreasing_2_resampling_feature1.csv\n",
      "Wrote /data/analysis/ag-reils/ag-reils-shared/cardioRS/results/interpretability/resample_multiplicities/evaluation/linear_decreasing_2/change_slope/feature1_201.csv\n",
      "read /data/analysis/ag-reils/ag-reils-shared/cardioRS/data/interpretability/resample_multiplicities/linear_decreasing_2_resampling_feature2.csv\n",
      "Wrote /data/analysis/ag-reils/ag-reils-shared/cardioRS/results/interpretability/resample_multiplicities/evaluation/linear_decreasing_2/change_slope/feature2_201.csv\n",
      "read /data/analysis/ag-reils/ag-reils-shared/cardioRS/data/interpretability/resample_multiplicities/linear_decreasing_2_resampling_feature3.csv\n",
      "Wrote /data/analysis/ag-reils/ag-reils-shared/cardioRS/results/interpretability/resample_multiplicities/evaluation/linear_decreasing_2/change_slope/feature3_201.csv\n",
      "read /data/analysis/ag-reils/ag-reils-shared/cardioRS/data/interpretability/resample_multiplicities/linear_decreasing_2_resampling_feature4.csv\n",
      "Wrote /data/analysis/ag-reils/ag-reils-shared/cardioRS/results/interpretability/resample_multiplicities/evaluation/linear_decreasing_2/change_slope/feature4_201.csv\n",
      "read /data/analysis/ag-reils/ag-reils-shared/cardioRS/data/interpretability/resample_multiplicities/linear_decreasing_2_resampling_feature0.csv\n",
      "Wrote /data/analysis/ag-reils/ag-reils-shared/cardioRS/results/interpretability/resample_multiplicities/evaluation/linear_decreasing_2/change_slope/feature0_200.csv\n",
      "read /data/analysis/ag-reils/ag-reils-shared/cardioRS/data/interpretability/resample_multiplicities/linear_decreasing_2_resampling_feature1.csv\n",
      "Wrote /data/analysis/ag-reils/ag-reils-shared/cardioRS/results/interpretability/resample_multiplicities/evaluation/linear_decreasing_2/change_slope/feature1_200.csv\n",
      "read /data/analysis/ag-reils/ag-reils-shared/cardioRS/data/interpretability/resample_multiplicities/linear_decreasing_2_resampling_feature2.csv\n",
      "Wrote /data/analysis/ag-reils/ag-reils-shared/cardioRS/results/interpretability/resample_multiplicities/evaluation/linear_decreasing_2/change_slope/feature2_200.csv\n",
      "read /data/analysis/ag-reils/ag-reils-shared/cardioRS/data/interpretability/resample_multiplicities/linear_decreasing_2_resampling_feature3.csv\n",
      "Wrote /data/analysis/ag-reils/ag-reils-shared/cardioRS/results/interpretability/resample_multiplicities/evaluation/linear_decreasing_2/change_slope/feature3_200.csv\n",
      "read /data/analysis/ag-reils/ag-reils-shared/cardioRS/data/interpretability/resample_multiplicities/linear_decreasing_2_resampling_feature4.csv\n",
      "Wrote /data/analysis/ag-reils/ag-reils-shared/cardioRS/results/interpretability/resample_multiplicities/evaluation/linear_decreasing_2/change_slope/feature4_200.csv\n"
     ]
    }
   ],
   "source": [
    "calculate_change_slope('linear_decreasing_2', n_features =5)"
   ],
   "metadata": {
    "collapsed": false,
    "pycharm": {
     "name": "#%%\n"
    }
   }
  },
  {
   "cell_type": "code",
   "execution_count": null,
   "outputs": [],
   "source": [
    "dfs.pop(0)\n",
    "len(dfs)"
   ],
   "metadata": {
    "collapsed": false,
    "pycharm": {
     "name": "#%%\n"
    }
   }
  },
  {
   "cell_type": "code",
   "execution_count": null,
   "outputs": [],
   "source": [
    "len(dfs)"
   ],
   "metadata": {
    "collapsed": false,
    "pycharm": {
     "name": "#%%\n"
    }
   }
  },
  {
   "cell_type": "code",
   "execution_count": null,
   "outputs": [],
   "source": [
    "dfs[0]"
   ],
   "metadata": {
    "collapsed": false,
    "pycharm": {
     "name": "#%%\n"
    }
   }
  },
  {
   "cell_type": "code",
   "execution_count": null,
   "outputs": [],
   "source": [
    "xdfs[2]"
   ],
   "metadata": {
    "collapsed": false,
    "pycharm": {
     "name": "#%%\n"
    }
   }
  },
  {
   "cell_type": "code",
   "execution_count": null,
   "outputs": [],
   "source": [
    "len(xdfs)"
   ],
   "metadata": {
    "collapsed": false,
    "pycharm": {
     "name": "#%%\n"
    }
   }
  },
  {
   "cell_type": "code",
   "execution_count": null,
   "outputs": [],
   "source": [
    "xdf = xdf[0].append()"
   ],
   "metadata": {
    "collapsed": false,
    "pycharm": {
     "name": "#%%\n"
    }
   }
  },
  {
   "cell_type": "code",
   "execution_count": null,
   "outputs": [],
   "source": [
    "xdf_fp = pd.DataFrame(dict(abs_error = absolute_error))\n",
    "xdf_fp.loc[:, 'attribution_method'] = method"
   ],
   "metadata": {
    "collapsed": false,
    "pycharm": {
     "name": "#%%\n"
    }
   }
  },
  {
   "cell_type": "code",
   "execution_count": null,
   "outputs": [],
   "source": [
    "xdf_fp"
   ],
   "metadata": {
    "collapsed": false,
    "pycharm": {
     "name": "#%%\n"
    }
   }
  },
  {
   "cell_type": "code",
   "execution_count": null,
   "outputs": [],
   "source": [
    "abs_error = absolute_error.flatten()"
   ],
   "metadata": {
    "collapsed": false,
    "pycharm": {
     "name": "#%%\n"
    }
   }
  },
  {
   "cell_type": "code",
   "execution_count": null,
   "outputs": [],
   "source": [
    "abs_error.tolist()"
   ],
   "metadata": {
    "collapsed": false,
    "pycharm": {
     "name": "#%%\n"
    }
   }
  },
  {
   "cell_type": "code",
   "execution_count": null,
   "outputs": [],
   "source": [
    "absolute_error.shape[]"
   ],
   "metadata": {
    "collapsed": false,
    "pycharm": {
     "name": "#%%\n"
    }
   }
  },
  {
   "cell_type": "code",
   "execution_count": null,
   "outputs": [],
   "source": [
    "absolute_error[0]"
   ],
   "metadata": {
    "collapsed": false,
    "pycharm": {
     "name": "#%%\n"
    }
   }
  },
  {
   "cell_type": "code",
   "execution_count": null,
   "outputs": [],
   "source": [
    "method = 'FeatureAblation'\n",
    "xdf_fa = pd.read_csv(f'{EVALUATION_DIR}/{experiment_id}/MedianMeanError_x_{method}.csv', index_col=0)\n",
    "ydf_fa = pd.read_csv(f'{EVALUATION_DIR}/{experiment_id}/MedianMeanError_y_{method}.csv', index_col=0)\n",
    "for df in [xdf_fa, ydf_fa]:\n",
    "    df.loc[:, 'attribution_method'] = method\n",
    "\n",
    "method = 'FeaturePermutation'\n",
    "xdf_fp = pd.read_csv(f'{EVALUATION_DIR}/{experiment_id}/MedianMeanError_x_{method}.csv', index_col=0)\n",
    "ydf_fp = pd.read_csv(f'{EVALUATION_DIR}/{experiment_id}/MedianMeanError_y_{method}.csv', index_col=0)\n",
    "for df in [xdf_fp, ydf_fp]:\n",
    "    df.loc[:, 'attribution_method'] = method\n",
    "\n",
    "method = 'KernelExplainer'\n",
    "xdf_ke = pd.read_csv(f'{EVALUATION_DIR}/{experiment_id}/MedianMeanError_x_{method}.csv', index_col=0)\n",
    "ydf_ke = pd.read_csv(f'{EVALUATION_DIR}/{experiment_id}/MedianMeanError_y_{method}.csv', index_col=0)\n",
    "for df in [xdf_ke, ydf_ke]:\n",
    "    df.loc[:, 'attribution_method'] = method\n",
    "\n",
    "method = 'DeepExplainer'\n",
    "xdf_de = pd.read_csv(f'{EVALUATION_DIR}/{experiment_id}/MedianMeanError_x_{method}.csv', index_col=0)\n",
    "ydf_de = pd.read_csv(f'{EVALUATION_DIR}/{experiment_id}/MedianMeanError_y_{method}.csv', index_col=0)\n",
    "for df in [xdf_de, ydf_de]:\n",
    "    df.loc[:, 'attribution_method'] = method\n",
    "\n",
    "method = 'IntegratedGradients'\n",
    "xdf_ig = pd.read_csv(f'{EVALUATION_DIR}/{experiment_id}/MedianMeanError_x_{method}.csv', index_col=0)\n",
    "ydf_ig = pd.read_csv(f'{EVALUATION_DIR}/{experiment_id}/MedianMeanError_y_{method}.csv', index_col=0)\n",
    "for df in [xdf_ig, ydf_ig]:\n",
    "    df.loc[:, 'attribution_method'] = method\n",
    "\n",
    "method = 'InputXGradient'\n",
    "xdf_ixg = pd.read_csv(f'{EVALUATION_DIR}/{experiment_id}/MedianMeanError_x_{method}.csv', index_col=0)\n",
    "ydf_ixg = pd.read_csv(f'{EVALUATION_DIR}/{experiment_id}/MedianMeanError_y_{method}.csv', index_col=0)\n",
    "for df in [xdf_ixg, ydf_ixg]:\n",
    "    df.loc[:, 'attribution_method'] = method\n",
    "\n",
    "method = 'Lime'\n",
    "xdf_lime = pd.read_csv(f'{EVALUATION_DIR}/{experiment_id}/MedianMeanError_x_{method}.csv', index_col=0)\n",
    "ydf_lime = pd.read_csv(f'{EVALUATION_DIR}/{experiment_id}/MedianMeanError_y_{method}.csv', index_col=0)\n",
    "for df in [xdf_lime, ydf_lime]:\n",
    "    df.loc[:, 'attribution_method'] = method\n",
    "\n",
    "full_xdf = xdf_de.append([xdf_lime, xdf_ixg, xdf_ig, xdf_fa, xdf_ke, ], ignore_index=True)\n",
    "full_xdf.loc[:, 'modified_attribute'] = 'noise_x'\n",
    "full_ydf = ydf_de.append([ydf_lime, ydf_ixg, ydf_ig, ydf_fa, ydf_ke, ], ignore_index=True)\n",
    "full_ydf.loc[:, 'modified_attribute'] = 'noise_y'\n",
    "full_df = full_xdf.append(full_ydf, ignore_index=True)\n",
    "\n",
    "full_df = full_xdf if dimension=='x' else full_ydf if dimension=='y' else full_xdf.append(full_ydf, ignore_index=True)\n",
    "sns.set(rc={'figure.figsize':(20,10)})\n",
    "sns.violinplot(data=full_df,\n",
    "               x='attribution_method',\n",
    "               y=metric,\n",
    "               split=True,\n",
    "               scale='count',\n",
    "               hue='modified_attribute',\n",
    "               inner='quartile',\n",
    "               palette='Spectral_r')\n",
    "plt.suptitle(experiment_id)\n",
    "return full_df"
   ],
   "metadata": {
    "collapsed": false,
    "pycharm": {
     "name": "#%%\n"
    }
   }
  }
 ],
 "metadata": {
  "kernelspec": {
   "display_name": "Python 3",
   "language": "python",
   "name": "python3"
  },
  "language_info": {
   "codemirror_mode": {
    "name": "ipython",
    "version": 2
   },
   "file_extension": ".py",
   "mimetype": "text/x-python",
   "name": "python",
   "nbconvert_exporter": "python",
   "pygments_lexer": "ipython2",
   "version": "2.7.6"
  }
 },
 "nbformat": 4,
 "nbformat_minor": 0
}