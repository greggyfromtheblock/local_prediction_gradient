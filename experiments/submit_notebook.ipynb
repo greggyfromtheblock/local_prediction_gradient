{
 "cells": [
  {
   "cell_type": "code",
   "execution_count": 13,
   "outputs": [],
   "source": [
    "import pandas as pd\n",
    "import os\n",
    "import datetime\n",
    "import subprocess\n",
    "import re\n",
    "from omegaconf import OmegaConf\n",
    "import pathlib"
   ],
   "metadata": {
    "collapsed": false,
    "pycharm": {
     "name": "#%%\n"
    }
   }
  },
  {
   "cell_type": "code",
   "execution_count": 14,
   "outputs": [],
   "source": [
    "USER = 'ruyogagp'\n",
    "\n",
    "TEMPLATE_YAML = 'riskiano/experiments/jakob/config_charite/MET_MTS_DeepSurv_HS_excl_CANCER.yaml' # template yaml to use\n",
    "TRAIN_SCRIPT = 'medical_interpretability/experiments/train.py'   # python train script to use\n",
    "EXPERIMENT_NAME = 'correlation_case_p-0.30'"
   ],
   "metadata": {
    "collapsed": false,
    "pycharm": {
     "name": "#%%\n"
    }
   }
  },
  {
   "cell_type": "code",
   "execution_count": 15,
   "outputs": [],
   "source": [
    "os.makedirs(f'/home/{USER}/tmp/{EXPERIMENT_NAME}/job_submissions', exist_ok=True)\n",
    "os.makedirs(f'/home/{USER}/tmp/{EXPERIMENT_NAME}/job_configs', exist_ok=True)"
   ],
   "metadata": {
    "collapsed": false,
    "pycharm": {
     "name": "#%%\n"
    }
   }
  },
  {
   "cell_type": "code",
   "execution_count": 16,
   "outputs": [],
   "source": [
    "def submit(path, job_name, job_script, time_stamp=None, gpu=False):\n",
    "    if not time_stamp:\n",
    "        time_stamp = datetime.datetime.now().strftime(\"%Y-%m-%d %H:%M:%S\")\n",
    "\n",
    "    script_path_long = f'./{job_name}_{time_stamp}.sh'\n",
    "\n",
    "    with open(script_path_long, 'w') as outfile: outfile.write(job_script)\n",
    "    script_path = f'./{job_name}.sh'\n",
    "    try:\n",
    "        os.unlink(script_path)\n",
    "    except FileNotFoundError: # because we cannot overwrite symlinks directly\n",
    "        pass\n",
    "    os.symlink(os.path.realpath(script_path_long), script_path)\n",
    "\n",
    "    print(job_script)\n",
    "    print('\\n\\nSubmission:\\n===========\\n')\n",
    "\n",
    "    mode = 'graphical' if gpu else 'normal'\n",
    "    sub_cmd = f'bsub -q {mode} -m \"eils-dgx1-02\" -gpu \"num=1:mode=shared\" < {script_path}'\n",
    "    print(sub_cmd)\n",
    "\n",
    "    ret = subprocess.run(sub_cmd, shell=True, cwd=os.getcwd(), stdout=subprocess.PIPE, stderr=subprocess.PIPE)\n",
    "    print(ret.stdout.decode())\n",
    "    print(ret.stderr.decode())\n",
    "\n",
    "    jobid = re.findall(r'<[0-9]+>', ret.stdout.decode())[0][1:-1]\n",
    "    return jobid"
   ],
   "metadata": {
    "collapsed": false,
    "pycharm": {
     "name": "#%%\n"
    }
   }
  },
  {
   "cell_type": "code",
   "execution_count": 17,
   "outputs": [],
   "source": [
    "def make_job_script(user, experiment_id, memory=20, walltime=10, cores=20):\n",
    "\n",
    "    job_script_str = f'''\n",
    "    #! /bin/sh\n",
    "    #BSUB -e /home/{user}/errors/job_%J.err\n",
    "    #BSUB -o /home/{user}/errors/job_%J.out\n",
    "    #BSUB -q \"graphical\"\n",
    "    #BSUB -R \"rusage[mem={memory * 1000}]\"\n",
    "    #BSUB -M {memory * 1000}\n",
    "    #BSUB -W {walltime}:00\n",
    "    #BSUB -n {cores}\n",
    "    #BSUB -J {experiment_id}\n",
    "\n",
    "    source /home/ruyogagp/miniconda/etc/profile.d/conda.sh\n",
    "    conda activate /data/analysis/ag-reils/ruyogagp/envs/new\n",
    "    cd /home/ruyogagp/medical_interpretability/\n",
    "\n",
    "    python -m experiments.train experiment_id={experiment_id}\n",
    "\n",
    "    '''\n",
    "    return job_script_str"
   ],
   "metadata": {
    "collapsed": false,
    "pycharm": {
     "name": "#%%\n"
    }
   }
  },
  {
   "cell_type": "code",
   "execution_count": 18,
   "outputs": [],
   "source": [
    "config = dict(config_dir='/home/ruyogagp/medical_interpretability/source/config',\n",
    "              config_name = 'interpretability',\n",
    "              job_name='correlation_case')"
   ],
   "metadata": {
    "collapsed": false,
    "pycharm": {
     "name": "#%%\n"
    }
   }
  },
  {
   "cell_type": "markdown",
   "source": [
    "## Run as group"
   ],
   "metadata": {
    "collapsed": false,
    "pycharm": {
     "name": "#%% md\n"
    }
   }
  },
  {
   "cell_type": "code",
   "execution_count": 19,
   "outputs": [
    {
     "name": "stdout",
     "output_type": "stream",
     "text": [
      "\n",
      "    #! /bin/sh\n",
      "    #BSUB -e /home/ruyogagp/errors/job_%J.err\n",
      "    #BSUB -o /home/ruyogagp/errors/job_%J.out\n",
      "    #BSUB -q \"graphical\"\n",
      "    #BSUB -R \"rusage[mem=20000]\"\n",
      "    #BSUB -M 20000\n",
      "    #BSUB -W 10:00\n",
      "    #BSUB -n 12\n",
      "    #BSUB -J linear_revised_1\n",
      "\n",
      "    source /home/ruyogagp/miniconda/etc/profile.d/conda.sh\n",
      "    conda activate /data/analysis/ag-reils/ruyogagp/envs/new\n",
      "    cd /home/ruyogagp/medical_interpretability/\n",
      "\n",
      "    python -m experiments.train experiment_id=linear_revised_1\n",
      "\n",
      "    \n",
      "\n",
      "\n",
      "Submission:\n",
      "===========\n",
      "\n",
      "bsub -q graphical -m \"eils-dgx1-02\" -gpu \"num=1:mode=shared\" < ./correlation_case.sh\n",
      "Job <531131> is submitted to queue <graphical>.\n",
      "\n",
      "\n",
      "\n",
      "    #! /bin/sh\n",
      "    #BSUB -e /home/ruyogagp/errors/job_%J.err\n",
      "    #BSUB -o /home/ruyogagp/errors/job_%J.out\n",
      "    #BSUB -q \"graphical\"\n",
      "    #BSUB -R \"rusage[mem=20000]\"\n",
      "    #BSUB -M 20000\n",
      "    #BSUB -W 10:00\n",
      "    #BSUB -n 12\n",
      "    #BSUB -J linear_revised_2\n",
      "\n",
      "    source /home/ruyogagp/miniconda/etc/profile.d/conda.sh\n",
      "    conda activate /data/analysis/ag-reils/ruyogagp/envs/new\n",
      "    cd /home/ruyogagp/medical_interpretability/\n",
      "\n",
      "    python -m experiments.train experiment_id=linear_revised_2\n",
      "\n",
      "    \n",
      "\n",
      "\n",
      "Submission:\n",
      "===========\n",
      "\n",
      "bsub -q graphical -m \"eils-dgx1-02\" -gpu \"num=1:mode=shared\" < ./correlation_case.sh\n",
      "Job <531132> is submitted to queue <graphical>.\n",
      "\n",
      "\n",
      "\n",
      "    #! /bin/sh\n",
      "    #BSUB -e /home/ruyogagp/errors/job_%J.err\n",
      "    #BSUB -o /home/ruyogagp/errors/job_%J.out\n",
      "    #BSUB -q \"graphical\"\n",
      "    #BSUB -R \"rusage[mem=20000]\"\n",
      "    #BSUB -M 20000\n",
      "    #BSUB -W 10:00\n",
      "    #BSUB -n 12\n",
      "    #BSUB -J linear_revised_3\n",
      "\n",
      "    source /home/ruyogagp/miniconda/etc/profile.d/conda.sh\n",
      "    conda activate /data/analysis/ag-reils/ruyogagp/envs/new\n",
      "    cd /home/ruyogagp/medical_interpretability/\n",
      "\n",
      "    python -m experiments.train experiment_id=linear_revised_3\n",
      "\n",
      "    \n",
      "\n",
      "\n",
      "Submission:\n",
      "===========\n",
      "\n",
      "bsub -q graphical -m \"eils-dgx1-02\" -gpu \"num=1:mode=shared\" < ./correlation_case.sh\n",
      "Job <531133> is submitted to queue <graphical>.\n",
      "\n",
      "\n"
     ]
    }
   ],
   "source": [
    "exp = 'linear_revised'\n",
    "experiment_ids = [f'{exp}_1', f'{exp}_2', f'{exp}_3']\n",
    "for experiment_id in experiment_ids:\n",
    "    job_script = make_job_script(user='ruyogagp', experiment_id=experiment_id, memory=20, walltime=10, cores=12)\n",
    "    jobid = submit(path=f\"job_submissions\",\n",
    "                   gpu=True,\n",
    "                   job_name=config[\"job_name\"],\n",
    "                   job_script=job_script)"
   ],
   "metadata": {
    "collapsed": false,
    "pycharm": {
     "name": "#%%\n"
    }
   }
  },
  {
   "cell_type": "markdown",
   "source": [
    "## Run single experiment"
   ],
   "metadata": {
    "collapsed": false,
    "pycharm": {
     "name": "#%% md\n"
    }
   }
  },
  {
   "cell_type": "code",
   "execution_count": 12,
   "outputs": [
    {
     "name": "stdout",
     "output_type": "stream",
     "text": [
      "\n",
      "    #! /bin/sh\n",
      "    #BSUB -e /home/ruyogagp/errors/job_%J.err\n",
      "    #BSUB -o /home/ruyogagp/errors/job_%J.out\n",
      "    #BSUB -q \"graphical\"\n",
      "    #BSUB -R \"rusage[mem=20000]\"\n",
      "    #BSUB -M 20000\n",
      "    #BSUB -W 10:00\n",
      "    #BSUB -n 12\n",
      "    #BSUB -J simpsons_revised\n",
      "\n",
      "    source /home/ruyogagp/miniconda/etc/profile.d/conda.sh\n",
      "    conda activate /data/analysis/ag-reils/ruyogagp/envs/new\n",
      "    cd /home/ruyogagp/medical_interpretability/\n",
      "\n",
      "    python -m experiments.train experiment_id=simpsons_revised\n",
      "\n",
      "    \n",
      "\n",
      "\n",
      "Submission:\n",
      "===========\n",
      "\n",
      "bsub -q graphical -m \"eils-dgx1-02\" -gpu \"num=1:mode=shared\" < ./correlation_case.sh\n",
      "Job <530126> is submitted to queue <graphical>.\n",
      "\n",
      "\n"
     ]
    }
   ],
   "source": [
    "experiment_id = 'simpsons_revised'\n",
    "job_script = make_job_script(user='ruyogagp', experiment_id=experiment_id, memory=20, walltime=10, cores=12)\n",
    "jobid = submit(path=f\"job_submissions\",\n",
    "               gpu=True,\n",
    "               job_name=config[\"job_name\"],\n",
    "               job_script=job_script)"
   ],
   "metadata": {
    "collapsed": false,
    "pycharm": {
     "name": "#%%\n"
    }
   }
  }
 ],
 "metadata": {
  "kernelspec": {
   "display_name": "Python 3",
   "language": "python",
   "name": "python3"
  },
  "language_info": {
   "codemirror_mode": {
    "name": "ipython",
    "version": 2
   },
   "file_extension": ".py",
   "mimetype": "text/x-python",
   "name": "python",
   "nbconvert_exporter": "python",
   "pygments_lexer": "ipython2",
   "version": "2.7.6"
  }
 },
 "nbformat": 4,
 "nbformat_minor": 0
}